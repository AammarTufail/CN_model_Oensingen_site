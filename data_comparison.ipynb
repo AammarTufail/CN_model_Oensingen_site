{
 "cells": [
  {
   "cell_type": "code",
   "execution_count": 5,
   "id": "720f3bf3",
   "metadata": {
    "vscode": {
     "languageId": "r"
    }
   },
   "outputs": [],
   "source": [
    "# Load packages without warnings and messages\n",
    "suppressPackageStartupMessages({\n",
    "  library(dplyr)\n",
    "  library(tidyr)\n",
    "  library(ggplot2)\n",
    "  library(patchwork)\n",
    "  library(cowplot)\n",
    "  library(visdat)\n",
    "  library(here)\n",
    "  library(lubridate)\n",
    "  library(readr)\n",
    "  library(naniar)\n",
    "  library(purrr)\n",
    "})"
   ]
  },
  {
   "cell_type": "code",
   "execution_count": 6,
   "id": "cd1c4a04",
   "metadata": {
    "vscode": {
     "languageId": "r"
    }
   },
   "outputs": [
    {
     "data": {
      "text/html": [
       "<style>\n",
       ".list-inline {list-style: none; margin:0; padding: 0}\n",
       ".list-inline>li {display: inline-block}\n",
       ".list-inline>li:not(:last-child)::after {content: \"\\00b7\"; padding: 0 .5ex}\n",
       "</style>\n",
       "<ol class=list-inline><li>'date'</li><li>'temp'</li><li>'vpd'</li><li>'ppfd'</li><li>'netrad'</li><li>'patm'</li><li>'snow'</li><li>'rain'</li><li>'tmin'</li><li>'tmax'</li><li>'vwind'</li><li>'fapar'</li><li>'lai'</li><li>'co2'</li><li>'ccov'</li><li>'gpp'</li><li>'le'</li><li>'nee'</li><li>'nee_qc'</li><li>'dno3'</li><li>'dnh4'</li><li>'fharv'</li><li>'cseed'</li><li>'nseed'</li></ol>\n"
      ],
      "text/latex": [
       "\\begin{enumerate*}\n",
       "\\item 'date'\n",
       "\\item 'temp'\n",
       "\\item 'vpd'\n",
       "\\item 'ppfd'\n",
       "\\item 'netrad'\n",
       "\\item 'patm'\n",
       "\\item 'snow'\n",
       "\\item 'rain'\n",
       "\\item 'tmin'\n",
       "\\item 'tmax'\n",
       "\\item 'vwind'\n",
       "\\item 'fapar'\n",
       "\\item 'lai'\n",
       "\\item 'co2'\n",
       "\\item 'ccov'\n",
       "\\item 'gpp'\n",
       "\\item 'le'\n",
       "\\item 'nee'\n",
       "\\item 'nee\\_qc'\n",
       "\\item 'dno3'\n",
       "\\item 'dnh4'\n",
       "\\item 'fharv'\n",
       "\\item 'cseed'\n",
       "\\item 'nseed'\n",
       "\\end{enumerate*}\n"
      ],
      "text/markdown": [
       "1. 'date'\n",
       "2. 'temp'\n",
       "3. 'vpd'\n",
       "4. 'ppfd'\n",
       "5. 'netrad'\n",
       "6. 'patm'\n",
       "7. 'snow'\n",
       "8. 'rain'\n",
       "9. 'tmin'\n",
       "10. 'tmax'\n",
       "11. 'vwind'\n",
       "12. 'fapar'\n",
       "13. 'lai'\n",
       "14. 'co2'\n",
       "15. 'ccov'\n",
       "16. 'gpp'\n",
       "17. 'le'\n",
       "18. 'nee'\n",
       "19. 'nee_qc'\n",
       "20. 'dno3'\n",
       "21. 'dnh4'\n",
       "22. 'fharv'\n",
       "23. 'cseed'\n",
       "24. 'nseed'\n",
       "\n",
       "\n"
      ],
      "text/plain": [
       " [1] \"date\"   \"temp\"   \"vpd\"    \"ppfd\"   \"netrad\" \"patm\"   \"snow\"   \"rain\"  \n",
       " [9] \"tmin\"   \"tmax\"   \"vwind\"  \"fapar\"  \"lai\"    \"co2\"    \"ccov\"   \"gpp\"   \n",
       "[17] \"le\"     \"nee\"    \"nee_qc\" \"dno3\"   \"dnh4\"   \"fharv\"  \"cseed\"  \"nseed\" "
      ]
     },
     "metadata": {},
     "output_type": "display_data"
    },
    {
     "name": "stdout",
     "output_type": "stream",
     "text": [
      "tibble [7,300 x 24] (S3: tbl_df/tbl/data.frame)\n",
      " $ date  : Date[1:7300], format: \"2004-01-01\" \"2004-01-02\" ...\n",
      " $ temp  : num [1:7300] -0.227 -0.499 -2.956 -4.209 -1.192 ...\n",
      " $ vpd   : num [1:7300] 5.3 1 10.6 58.5 25.8 14.4 20.6 5.5 43.4 90.1 ...\n",
      " $ ppfd  : num [1:7300] 6.59e-05 4.37e-05 4.26e-05 6.59e-05 5.37e-05 ...\n",
      " $ netrad: num [1:7300] 30.3 34.7 16.3 28.2 36.5 ...\n",
      " $ patm  : num [1:7300] 95825 95455 96232 96367 96710 ...\n",
      " $ snow  : num [1:7300] 0 0 0 0 0 0 0 0 0 0 ...\n",
      " $ rain  : num [1:7300] 1.85e-05 5.79e-06 0.00 0.00 0.00 ...\n",
      " $ tmin  : num [1:7300] -1.23 -2.06 -5.82 -10.45 -8.1 ...\n",
      " $ tmax  : num [1:7300] -0.01 -0.05 -2.19 -1.48 0.53 0.35 4.14 1 6.48 7.47 ...\n",
      " $ vwind : num [1:7300] 1.52 2.022 2.716 1.089 0.675 ...\n",
      " $ fapar : num [1:7300] 0.02 0.02 0.02 0.02 0.02 0.02 0.02 0.02 0.23 0.23 ...\n",
      " $ lai   : num [1:7300] 0 0 0 0 0 0 0 0 0.3 0.3 ...\n",
      " $ co2   : num [1:7300] 385 378 386 402 437 ...\n",
      " $ ccov  : num [1:7300] 0.951 0.951 0.951 0.951 0.951 ...\n",
      " $ gpp   : num [1:7300] 0.2188 0.1229 -0.0693 -0.2038 0.0421 ...\n",
      " $ le    : num [1:7300] 7.45 6.98 6.39 3.2 1.09 ...\n",
      " $ nee   : num [1:7300] 0.761 0.788 0.769 0.764 0.754 ...\n",
      " $ nee_qc: num [1:7300] 0.25 0.3333 0.9583 0.2083 0.0417 ...\n",
      " $ dno3  : num [1:7300] 0 0 0 0 0 0 0 0 0 0 ...\n",
      " $ dnh4  : num [1:7300] 3.76e-07 3.76e-07 3.76e-07 3.76e-07 3.76e-07 ...\n",
      " $ fharv : num [1:7300] 0 0 0 0 0 0 0 0 0 0 ...\n",
      " $ cseed : num [1:7300] 0 0 0 0 0 0 0 0 0 0 ...\n",
      " $ nseed : num [1:7300] 0 0 0 0 0 0 0 0 0 0 ...\n"
     ]
    }
   ],
   "source": [
    "# load drivers data\n",
    "drivers <- readRDS(here::here(\"data/CH-Oe2_2004-2023_final_ready_for_CNmodel_run_19082025.rds\"))\n",
    "colnames(drivers$forcing[[1]])\n",
    "str(drivers$forcing[[1]])"
   ]
  },
  {
   "cell_type": "code",
   "execution_count": 7,
   "id": "7c1704c8",
   "metadata": {
    "vscode": {
     "languageId": "r"
    }
   },
   "outputs": [
    {
     "data": {
      "text/html": [
       "<style>\n",
       ".list-inline {list-style: none; margin:0; padding: 0}\n",
       ".list-inline>li {display: inline-block}\n",
       ".list-inline>li:not(:last-child)::after {content: \"\\00b7\"; padding: 0 .5ex}\n",
       "</style>\n",
       "<ol class=list-inline><li>'date'</li><li>'temp'</li><li>'vpd'</li><li>'ppfd'</li><li>'netrad'</li><li>'patm'</li><li>'snow'</li><li>'rain'</li><li>'tmin'</li><li>'tmax'</li><li>'vwind'</li><li>'fapar'</li><li>'co2'</li><li>'ccov'</li><li>'gpp'</li><li>'gpp_qc'</li><li>'nee'</li><li>'nee_qc'</li><li>'le'</li><li>'le_qc'</li></ol>\n"
      ],
      "text/latex": [
       "\\begin{enumerate*}\n",
       "\\item 'date'\n",
       "\\item 'temp'\n",
       "\\item 'vpd'\n",
       "\\item 'ppfd'\n",
       "\\item 'netrad'\n",
       "\\item 'patm'\n",
       "\\item 'snow'\n",
       "\\item 'rain'\n",
       "\\item 'tmin'\n",
       "\\item 'tmax'\n",
       "\\item 'vwind'\n",
       "\\item 'fapar'\n",
       "\\item 'co2'\n",
       "\\item 'ccov'\n",
       "\\item 'gpp'\n",
       "\\item 'gpp\\_qc'\n",
       "\\item 'nee'\n",
       "\\item 'nee\\_qc'\n",
       "\\item 'le'\n",
       "\\item 'le\\_qc'\n",
       "\\end{enumerate*}\n"
      ],
      "text/markdown": [
       "1. 'date'\n",
       "2. 'temp'\n",
       "3. 'vpd'\n",
       "4. 'ppfd'\n",
       "5. 'netrad'\n",
       "6. 'patm'\n",
       "7. 'snow'\n",
       "8. 'rain'\n",
       "9. 'tmin'\n",
       "10. 'tmax'\n",
       "11. 'vwind'\n",
       "12. 'fapar'\n",
       "13. 'co2'\n",
       "14. 'ccov'\n",
       "15. 'gpp'\n",
       "16. 'gpp_qc'\n",
       "17. 'nee'\n",
       "18. 'nee_qc'\n",
       "19. 'le'\n",
       "20. 'le_qc'\n",
       "\n",
       "\n"
      ],
      "text/plain": [
       " [1] \"date\"   \"temp\"   \"vpd\"    \"ppfd\"   \"netrad\" \"patm\"   \"snow\"   \"rain\"  \n",
       " [9] \"tmin\"   \"tmax\"   \"vwind\"  \"fapar\"  \"co2\"    \"ccov\"   \"gpp\"    \"gpp_qc\"\n",
       "[17] \"nee\"    \"nee_qc\" \"le\"     \"le_qc\" "
      ]
     },
     "metadata": {},
     "output_type": "display_data"
    },
    {
     "name": "stdout",
     "output_type": "stream",
     "text": [
      "tibble [6,205 x 20] (S3: tbl_df/tbl/data.frame)\n",
      " $ date  : Date[1:6205], format: \"2004-01-01\" \"2004-01-02\" ...\n",
      " $ temp  : num [1:6205] -0.212 -0.561 -3.01 -3.709 -1.013 ...\n",
      " $ vpd   : num [1:6205] 9.29 27.48 36.61 64.88 33.27 ...\n",
      " $ ppfd  : num [1:6205] 1.44e-04 7.21e-05 1.26e-04 6.30e-05 1.01e-04 ...\n",
      " $ netrad: logi [1:6205] NA NA NA NA NA NA ...\n",
      " $ patm  : num [1:6205] 95774 95492 96239 96384 96726 ...\n",
      " $ snow  : num [1:6205] 0 0 0 0 0 0 0 0 0 0 ...\n",
      " $ rain  : num [1:6205] 1.85e-05 5.79e-06 0.00 0.00 0.00 ...\n",
      " $ tmin  : num [1:6205] -1.33 -2.06 -5.82 -10.45 -8.1 ...\n",
      " $ tmax  : num [1:6205] -0.00999 -0.04999 -2.19001 -1.47999 0.52999 ...\n",
      " $ vwind : num [1:6205] 1.426 2.022 2.716 1.089 0.675 ...\n",
      " $ fapar : num [1:6205] 0.447 0.447 0.448 0.448 0.448 ...\n",
      " $ co2   : num [1:6205] 378 378 378 378 378 ...\n",
      " $ ccov  : num [1:6205] 0.951 0.938 0.967 0.645 0.891 ...\n",
      " $ gpp   : num [1:6205] 0.2079 0.1185 -0.0668 -0.1964 0.0406 ...\n",
      " $ gpp_qc: num [1:6205] 0.25 0.3333 0.9583 0.2083 0.0208 ...\n",
      " $ nee   : num [1:6205] 0.733 0.759 0.741 0.741 0.737 ...\n",
      " $ nee_qc: num [1:6205] 0.25 0.3333 0.9583 0.2083 0.0208 ...\n",
      " $ le    : num [1:6205] 7.45 6.98 6.39 3.2 1.09 ...\n",
      " $ le_qc : num [1:6205] 0.562 0.312 1 0.958 1 ...\n"
     ]
    }
   ],
   "source": [
    "# check drivers consistency with FluxDataKit\n",
    "drivers_fdk <- read_rds(\"data/FLX_CH-Oe2_FLUXNET2015_FULLSET_2004-2023_1-3/rsofun_driver_data_v3.4.2.rds\")\n",
    "drivers_fdk <- drivers_fdk |> filter(sitename == \"CH-Oe2\")\n",
    "colnames(drivers_fdk$forcing[[1]])\n",
    "str(drivers_fdk$forcing[[1]])"
   ]
  },
  {
   "cell_type": "code",
   "execution_count": 8,
   "id": "93cb385f",
   "metadata": {
    "vscode": {
     "languageId": "r"
    }
   },
   "outputs": [
    {
     "name": "stderr",
     "output_type": "stream",
     "text": [
      "Warning message:\n",
      "\"\u001b[1m\u001b[22mRemoved 1095 rows containing missing values or values outside the scale range\n",
      "(`geom_point()`).\"\n",
      "Warning message:\n",
      "\"\u001b[1m\u001b[22mRemoved 1095 rows containing missing values or values outside the scale range\n",
      "(`geom_line()`).\"\n",
      "Warning message:\n",
      "\"\u001b[1m\u001b[22mRemoved 1095 rows containing missing values or values outside the scale range\n",
      "(`geom_point()`).\"\n",
      "Warning message:\n",
      "\"\u001b[1m\u001b[22mRemoved 1095 rows containing missing values or values outside the scale range\n",
      "(`geom_line()`).\"\n",
      "Warning message:\n",
      "\"\u001b[1m\u001b[22mRemoved 1095 rows containing missing values or values outside the scale range\n",
      "(`geom_point()`).\"\n",
      "Warning message:\n",
      "\"\u001b[1m\u001b[22mRemoved 1095 rows containing missing values or values outside the scale range\n",
      "(`geom_line()`).\"\n",
      "Warning message:\n",
      "\"\u001b[1m\u001b[22mRemoved 1095 rows containing missing values or values outside the scale range\n",
      "(`geom_point()`).\"\n",
      "Warning message:\n",
      "\"\u001b[1m\u001b[22mRemoved 1095 rows containing missing values or values outside the scale range\n",
      "(`geom_line()`).\"\n",
      "Warning message:\n",
      "\"\u001b[1m\u001b[22mRemoved 1095 rows containing missing values or values outside the scale range\n",
      "(`geom_point()`).\"\n",
      "Warning message:\n",
      "\"\u001b[1m\u001b[22mRemoved 1095 rows containing missing values or values outside the scale range\n",
      "(`geom_line()`).\"\n",
      "Warning message:\n",
      "\"\u001b[1m\u001b[22mRemoved 1095 rows containing missing values or values outside the scale range\n",
      "(`geom_point()`).\"\n",
      "Warning message:\n",
      "\"\u001b[1m\u001b[22mRemoved 1095 rows containing missing values or values outside the scale range\n",
      "(`geom_line()`).\"\n",
      "Warning message:\n",
      "\"\u001b[1m\u001b[22mRemoved 1095 rows containing missing values or values outside the scale range\n",
      "(`geom_point()`).\"\n",
      "Warning message:\n",
      "\"\u001b[1m\u001b[22mRemoved 1095 rows containing missing values or values outside the scale range\n",
      "(`geom_line()`).\"\n",
      "Warning message:\n",
      "\"\u001b[1m\u001b[22mRemoved 1095 rows containing missing values or values outside the scale range\n",
      "(`geom_point()`).\"\n",
      "Warning message:\n",
      "\"\u001b[1m\u001b[22mRemoved 1095 rows containing missing values or values outside the scale range\n",
      "(`geom_line()`).\"\n",
      "Warning message:\n",
      "\"\u001b[1m\u001b[22mRemoved 1095 rows containing missing values or values outside the scale range\n",
      "(`geom_point()`).\"\n",
      "Warning message:\n",
      "\"\u001b[1m\u001b[22mRemoved 1095 rows containing missing values or values outside the scale range\n",
      "(`geom_line()`).\"\n",
      "Warning message:\n",
      "\"\u001b[1m\u001b[22mRemoved 1095 rows containing missing values or values outside the scale range\n",
      "(`geom_point()`).\"\n",
      "Warning message:\n",
      "\"\u001b[1m\u001b[22mRemoved 1095 rows containing missing values or values outside the scale range\n",
      "(`geom_line()`).\"\n",
      "Warning message:\n",
      "\"\u001b[1m\u001b[22mRemoved 1095 rows containing missing values or values outside the scale range\n",
      "(`geom_point()`).\"\n",
      "Warning message:\n",
      "\"\u001b[1m\u001b[22mRemoved 1095 rows containing missing values or values outside the scale range\n",
      "(`geom_line()`).\"\n",
      "Warning message:\n",
      "\"\u001b[1m\u001b[22mRemoved 1095 rows containing missing values or values outside the scale range\n",
      "(`geom_point()`).\"\n",
      "Warning message:\n",
      "\"\u001b[1m\u001b[22mRemoved 1095 rows containing missing values or values outside the scale range\n",
      "(`geom_line()`).\"\n",
      "Warning message:\n",
      "\"\u001b[1m\u001b[22mRemoved 1095 rows containing missing values or values outside the scale range\n",
      "(`geom_point()`).\"\n",
      "Warning message:\n",
      "\"\u001b[1m\u001b[22mRemoved 1095 rows containing missing values or values outside the scale range\n",
      "(`geom_line()`).\"\n"
     ]
    },
    {
     "name": "stdout",
     "output_type": "stream",
     "text": [
      "All comparison plots saved in 'comparison_plots' directory\n"
     ]
    }
   ],
   "source": [
    "# Create directory if it doesn't exist\n",
    "if (!dir.exists(\"comparison_plots\")) dir.create(\"comparison_plots\")\n",
    "\n",
    "# Variables to plot\n",
    "variables <- c('temp', 'vpd', 'ppfd', 'patm', 'snow', 'rain', \n",
    "         'tmin', 'tmax', 'vwind', 'fapar', 'co2', 'ccov', 'nee')\n",
    "\n",
    "# Join datasets\n",
    "tmp <- drivers_fdk$forcing[[1]] |> \n",
    "  right_join(\n",
    "  drivers$forcing[[1]],\n",
    "  by = join_by(date),\n",
    "  suffix = c(\"_fdk\", \"_muh\")\n",
    "  )\n",
    "\n",
    "# Function to create and save scatter plot\n",
    "create_comparison_plot <- function(var_name, data, index) {\n",
    "  # Format index for filename (ensure 2 digits)\n",
    "  idx <- sprintf(\"%02d\", index)\n",
    "  \n",
    "  # Create scatter plot\n",
    "  p1 <- data |> \n",
    "  ggplot(aes_string(paste0(var_name, \"_fdk\"), paste0(var_name, \"_muh\"))) +\n",
    "  geom_point(alpha = 0.3) +\n",
    "  geom_abline(slope = 1, intercept = 0, linetype = \"dotted\") +\n",
    "  labs(title = paste(\"Comparison of\", var_name),\n",
    "     x = paste(var_name, \"FDK\"),\n",
    "     y = paste(var_name, \"MUH\"))\n",
    "  \n",
    "  # Create time series plot\n",
    "  p2 <- data |> \n",
    "  ggplot() +\n",
    "  geom_line(aes(date, !!sym(paste0(var_name, \"_muh\"))), color = \"red\") +\n",
    "  geom_line(aes(date, !!sym(paste0(var_name, \"_fdk\")))) +\n",
    "  labs(title = paste(\"Time series of\", var_name),\n",
    "     x = \"Date\", \n",
    "     y = var_name)\n",
    "  \n",
    "  # Combine plots\n",
    "  combined_plot <- p1 + p2 + plot_layout(ncol = 2)\n",
    "  \n",
    "  # Save plot\n",
    "  ggsave(paste0(\"comparison_plots/\", idx, \"_new_\", var_name, \".png\"), \n",
    "     combined_plot, \n",
    "     width = 10, height = 5)\n",
    "  \n",
    "  return(combined_plot)\n",
    "}\n",
    "\n",
    "# Create plots for all variables\n",
    "plots <- map2(variables, 1:length(variables), \n",
    "       ~create_comparison_plot(.x, tmp, .y))\n",
    "\n",
    "# Print message\n",
    "cat(\"All comparison plots saved in 'comparison_plots' directory\\n\")\n"
   ]
  }
 ],
 "metadata": {
  "kernelspec": {
   "display_name": "R",
   "language": "R",
   "name": "ir"
  },
  "language_info": {
   "codemirror_mode": "r",
   "file_extension": ".r",
   "mimetype": "text/x-r-source",
   "name": "R",
   "pygments_lexer": "r",
   "version": "4.4.3"
  }
 },
 "nbformat": 4,
 "nbformat_minor": 5
}
