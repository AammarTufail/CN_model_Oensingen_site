{
 "cells": [
  {
   "cell_type": "markdown",
   "id": "e5694567",
   "metadata": {},
   "source": [
    "# Final data preparation for CN model"
   ]
  },
  {
   "cell_type": "code",
   "execution_count": 264,
   "id": "e85f7153",
   "metadata": {
    "vscode": {
     "languageId": "r"
    }
   },
   "outputs": [],
   "source": [
    "# load required libraries\n",
    "library(dplyr)\n",
    "library(tidyr)\n",
    "library(ggplot2)\n",
    "library(lubridate)"
   ]
  },
  {
   "cell_type": "code",
   "execution_count": 265,
   "id": "efabe37a",
   "metadata": {
    "vscode": {
     "languageId": "r"
    }
   },
   "outputs": [
    {
     "data": {
      "text/html": [
       "<table class=\"dataframe\">\n",
       "<caption>A data.frame: 6 x 15</caption>\n",
       "<thead>\n",
       "\t<tr><th></th><th scope=col>date</th><th scope=col>temp</th><th scope=col>vpd</th><th scope=col>ppfd</th><th scope=col>netrad</th><th scope=col>patm</th><th scope=col>snow</th><th scope=col>rain</th><th scope=col>tmin</th><th scope=col>tmax</th><th scope=col>vwind</th><th scope=col>fapar</th><th scope=col>co2</th><th scope=col>ccov</th><th scope=col>nee</th></tr>\n",
       "\t<tr><th></th><th scope=col>&lt;date&gt;</th><th scope=col>&lt;lgl&gt;</th><th scope=col>&lt;lgl&gt;</th><th scope=col>&lt;lgl&gt;</th><th scope=col>&lt;lgl&gt;</th><th scope=col>&lt;lgl&gt;</th><th scope=col>&lt;lgl&gt;</th><th scope=col>&lt;lgl&gt;</th><th scope=col>&lt;lgl&gt;</th><th scope=col>&lt;lgl&gt;</th><th scope=col>&lt;lgl&gt;</th><th scope=col>&lt;lgl&gt;</th><th scope=col>&lt;lgl&gt;</th><th scope=col>&lt;lgl&gt;</th><th scope=col>&lt;lgl&gt;</th></tr>\n",
       "</thead>\n",
       "<tbody>\n",
       "\t<tr><th scope=row>1</th><td>2004-01-01</td><td>NA</td><td>NA</td><td>NA</td><td>NA</td><td>NA</td><td>NA</td><td>NA</td><td>NA</td><td>NA</td><td>NA</td><td>NA</td><td>NA</td><td>NA</td><td>NA</td></tr>\n",
       "\t<tr><th scope=row>2</th><td>2004-01-02</td><td>NA</td><td>NA</td><td>NA</td><td>NA</td><td>NA</td><td>NA</td><td>NA</td><td>NA</td><td>NA</td><td>NA</td><td>NA</td><td>NA</td><td>NA</td><td>NA</td></tr>\n",
       "\t<tr><th scope=row>3</th><td>2004-01-03</td><td>NA</td><td>NA</td><td>NA</td><td>NA</td><td>NA</td><td>NA</td><td>NA</td><td>NA</td><td>NA</td><td>NA</td><td>NA</td><td>NA</td><td>NA</td><td>NA</td></tr>\n",
       "\t<tr><th scope=row>4</th><td>2004-01-04</td><td>NA</td><td>NA</td><td>NA</td><td>NA</td><td>NA</td><td>NA</td><td>NA</td><td>NA</td><td>NA</td><td>NA</td><td>NA</td><td>NA</td><td>NA</td><td>NA</td></tr>\n",
       "\t<tr><th scope=row>5</th><td>2004-01-05</td><td>NA</td><td>NA</td><td>NA</td><td>NA</td><td>NA</td><td>NA</td><td>NA</td><td>NA</td><td>NA</td><td>NA</td><td>NA</td><td>NA</td><td>NA</td><td>NA</td></tr>\n",
       "\t<tr><th scope=row>6</th><td>2004-01-06</td><td>NA</td><td>NA</td><td>NA</td><td>NA</td><td>NA</td><td>NA</td><td>NA</td><td>NA</td><td>NA</td><td>NA</td><td>NA</td><td>NA</td><td>NA</td><td>NA</td></tr>\n",
       "</tbody>\n",
       "</table>\n"
      ],
      "text/latex": [
       "A data.frame: 6 x 15\n",
       "\\begin{tabular}{r|lllllllllllllll}\n",
       "  & date & temp & vpd & ppfd & netrad & patm & snow & rain & tmin & tmax & vwind & fapar & co2 & ccov & nee\\\\\n",
       "  & <date> & <lgl> & <lgl> & <lgl> & <lgl> & <lgl> & <lgl> & <lgl> & <lgl> & <lgl> & <lgl> & <lgl> & <lgl> & <lgl> & <lgl>\\\\\n",
       "\\hline\n",
       "\t1 & 2004-01-01 & NA & NA & NA & NA & NA & NA & NA & NA & NA & NA & NA & NA & NA & NA\\\\\n",
       "\t2 & 2004-01-02 & NA & NA & NA & NA & NA & NA & NA & NA & NA & NA & NA & NA & NA & NA\\\\\n",
       "\t3 & 2004-01-03 & NA & NA & NA & NA & NA & NA & NA & NA & NA & NA & NA & NA & NA & NA\\\\\n",
       "\t4 & 2004-01-04 & NA & NA & NA & NA & NA & NA & NA & NA & NA & NA & NA & NA & NA & NA\\\\\n",
       "\t5 & 2004-01-05 & NA & NA & NA & NA & NA & NA & NA & NA & NA & NA & NA & NA & NA & NA\\\\\n",
       "\t6 & 2004-01-06 & NA & NA & NA & NA & NA & NA & NA & NA & NA & NA & NA & NA & NA & NA\\\\\n",
       "\\end{tabular}\n"
      ],
      "text/markdown": [
       "\n",
       "A data.frame: 6 x 15\n",
       "\n",
       "| <!--/--> | date &lt;date&gt; | temp &lt;lgl&gt; | vpd &lt;lgl&gt; | ppfd &lt;lgl&gt; | netrad &lt;lgl&gt; | patm &lt;lgl&gt; | snow &lt;lgl&gt; | rain &lt;lgl&gt; | tmin &lt;lgl&gt; | tmax &lt;lgl&gt; | vwind &lt;lgl&gt; | fapar &lt;lgl&gt; | co2 &lt;lgl&gt; | ccov &lt;lgl&gt; | nee &lt;lgl&gt; |\n",
       "|---|---|---|---|---|---|---|---|---|---|---|---|---|---|---|---|\n",
       "| 1 | 2004-01-01 | NA | NA | NA | NA | NA | NA | NA | NA | NA | NA | NA | NA | NA | NA |\n",
       "| 2 | 2004-01-02 | NA | NA | NA | NA | NA | NA | NA | NA | NA | NA | NA | NA | NA | NA |\n",
       "| 3 | 2004-01-03 | NA | NA | NA | NA | NA | NA | NA | NA | NA | NA | NA | NA | NA | NA |\n",
       "| 4 | 2004-01-04 | NA | NA | NA | NA | NA | NA | NA | NA | NA | NA | NA | NA | NA | NA |\n",
       "| 5 | 2004-01-05 | NA | NA | NA | NA | NA | NA | NA | NA | NA | NA | NA | NA | NA | NA |\n",
       "| 6 | 2004-01-06 | NA | NA | NA | NA | NA | NA | NA | NA | NA | NA | NA | NA | NA | NA |\n",
       "\n"
      ],
      "text/plain": [
       "  date       temp vpd ppfd netrad patm snow rain tmin tmax vwind fapar co2 ccov\n",
       "1 2004-01-01 NA   NA  NA   NA     NA   NA   NA   NA   NA   NA    NA    NA  NA  \n",
       "2 2004-01-02 NA   NA  NA   NA     NA   NA   NA   NA   NA   NA    NA    NA  NA  \n",
       "3 2004-01-03 NA   NA  NA   NA     NA   NA   NA   NA   NA   NA    NA    NA  NA  \n",
       "4 2004-01-04 NA   NA  NA   NA     NA   NA   NA   NA   NA   NA    NA    NA  NA  \n",
       "5 2004-01-05 NA   NA  NA   NA     NA   NA   NA   NA   NA   NA    NA    NA  NA  \n",
       "6 2004-01-06 NA   NA  NA   NA     NA   NA   NA   NA   NA   NA    NA    NA  NA  \n",
       "  nee\n",
       "1 NA \n",
       "2 NA \n",
       "3 NA \n",
       "4 NA \n",
       "5 NA \n",
       "6 NA "
      ]
     },
     "metadata": {},
     "output_type": "display_data"
    }
   ],
   "source": [
    "# create a dataframe with the required columns: \n",
    "df <- data.frame(\n",
    "  date = seq(as.Date(\"2004-01-01\"), as.Date(\"2023-12-31\"), by = \"day\"),\n",
    "  temp = NA,\n",
    "  vpd = NA,\n",
    "  ppfd = NA,\n",
    "  netrad = NA,\n",
    "  patm = NA,\n",
    "  snow = NA,\n",
    "  rain = NA,\n",
    "  tmin = NA,\n",
    "  tmax = NA,\n",
    "  vwind = NA,\n",
    "  fapar = NA,\n",
    "  co2 = NA,\n",
    "  ccov = NA,\n",
    "  nee = NA\n",
    ")\n",
    "# print the head of the dataframe\n",
    "head(df)"
   ]
  },
  {
   "cell_type": "markdown",
   "id": "d048c5a8",
   "metadata": {},
   "source": [
    "## load specific csv files and extract required columns"
   ]
  },
  {
   "cell_type": "markdown",
   "id": "b0ce3a6e",
   "metadata": {},
   "source": [
    "### temp, tmin, tmax"
   ]
  },
  {
   "cell_type": "code",
   "execution_count": 266,
   "id": "475fd8c1",
   "metadata": {
    "vscode": {
     "languageId": "r"
    }
   },
   "outputs": [
    {
     "data": {
      "text/html": [
       "<table class=\"dataframe\">\n",
       "<caption>A data.frame: 6 x 7</caption>\n",
       "<thead>\n",
       "\t<tr><th></th><th scope=col>date</th><th scope=col>temp</th><th scope=col>temp_day</th><th scope=col>tmin</th><th scope=col>tmax</th><th scope=col>TA_F</th><th scope=col>TA_F_QC</th></tr>\n",
       "\t<tr><th></th><th scope=col>&lt;chr&gt;</th><th scope=col>&lt;dbl&gt;</th><th scope=col>&lt;dbl&gt;</th><th scope=col>&lt;dbl&gt;</th><th scope=col>&lt;dbl&gt;</th><th scope=col>&lt;dbl&gt;</th><th scope=col>&lt;dbl&gt;</th></tr>\n",
       "</thead>\n",
       "<tbody>\n",
       "\t<tr><th scope=row>1</th><td>2004-01-01</td><td>-0.389250</td><td>-0.2391667</td><td> -1.23</td><td>-0.01</td><td>-0.389</td><td>0.8125</td></tr>\n",
       "\t<tr><th scope=row>2</th><td>2004-01-02</td><td>-1.068542</td><td>-0.6558333</td><td> -2.06</td><td>-0.05</td><td>-1.069</td><td>1.0000</td></tr>\n",
       "\t<tr><th scope=row>3</th><td>2004-01-03</td><td>-3.388542</td><td>-3.0229167</td><td> -5.82</td><td>-2.19</td><td>-3.389</td><td>1.0000</td></tr>\n",
       "\t<tr><th scope=row>4</th><td>2004-01-04</td><td>-5.488958</td><td>-4.8404167</td><td>-10.45</td><td>-1.48</td><td>-5.489</td><td>1.0000</td></tr>\n",
       "\t<tr><th scope=row>5</th><td>2004-01-05</td><td>-2.451458</td><td>-1.5483333</td><td> -8.10</td><td> 0.53</td><td>-2.451</td><td>1.0000</td></tr>\n",
       "\t<tr><th scope=row>6</th><td>2004-01-06</td><td>-2.562083</td><td>-2.1308333</td><td> -7.24</td><td> 0.35</td><td>-2.562</td><td>1.0000</td></tr>\n",
       "</tbody>\n",
       "</table>\n"
      ],
      "text/latex": [
       "A data.frame: 6 x 7\n",
       "\\begin{tabular}{r|lllllll}\n",
       "  & date & temp & temp\\_day & tmin & tmax & TA\\_F & TA\\_F\\_QC\\\\\n",
       "  & <chr> & <dbl> & <dbl> & <dbl> & <dbl> & <dbl> & <dbl>\\\\\n",
       "\\hline\n",
       "\t1 & 2004-01-01 & -0.389250 & -0.2391667 &  -1.23 & -0.01 & -0.389 & 0.8125\\\\\n",
       "\t2 & 2004-01-02 & -1.068542 & -0.6558333 &  -2.06 & -0.05 & -1.069 & 1.0000\\\\\n",
       "\t3 & 2004-01-03 & -3.388542 & -3.0229167 &  -5.82 & -2.19 & -3.389 & 1.0000\\\\\n",
       "\t4 & 2004-01-04 & -5.488958 & -4.8404167 & -10.45 & -1.48 & -5.489 & 1.0000\\\\\n",
       "\t5 & 2004-01-05 & -2.451458 & -1.5483333 &  -8.10 &  0.53 & -2.451 & 1.0000\\\\\n",
       "\t6 & 2004-01-06 & -2.562083 & -2.1308333 &  -7.24 &  0.35 & -2.562 & 1.0000\\\\\n",
       "\\end{tabular}\n"
      ],
      "text/markdown": [
       "\n",
       "A data.frame: 6 x 7\n",
       "\n",
       "| <!--/--> | date &lt;chr&gt; | temp &lt;dbl&gt; | temp_day &lt;dbl&gt; | tmin &lt;dbl&gt; | tmax &lt;dbl&gt; | TA_F &lt;dbl&gt; | TA_F_QC &lt;dbl&gt; |\n",
       "|---|---|---|---|---|---|---|---|\n",
       "| 1 | 2004-01-01 | -0.389250 | -0.2391667 |  -1.23 | -0.01 | -0.389 | 0.8125 |\n",
       "| 2 | 2004-01-02 | -1.068542 | -0.6558333 |  -2.06 | -0.05 | -1.069 | 1.0000 |\n",
       "| 3 | 2004-01-03 | -3.388542 | -3.0229167 |  -5.82 | -2.19 | -3.389 | 1.0000 |\n",
       "| 4 | 2004-01-04 | -5.488958 | -4.8404167 | -10.45 | -1.48 | -5.489 | 1.0000 |\n",
       "| 5 | 2004-01-05 | -2.451458 | -1.5483333 |  -8.10 |  0.53 | -2.451 | 1.0000 |\n",
       "| 6 | 2004-01-06 | -2.562083 | -2.1308333 |  -7.24 |  0.35 | -2.562 | 1.0000 |\n",
       "\n"
      ],
      "text/plain": [
       "  date       temp      temp_day   tmin   tmax  TA_F   TA_F_QC\n",
       "1 2004-01-01 -0.389250 -0.2391667  -1.23 -0.01 -0.389 0.8125 \n",
       "2 2004-01-02 -1.068542 -0.6558333  -2.06 -0.05 -1.069 1.0000 \n",
       "3 2004-01-03 -3.388542 -3.0229167  -5.82 -2.19 -3.389 1.0000 \n",
       "4 2004-01-04 -5.488958 -4.8404167 -10.45 -1.48 -5.489 1.0000 \n",
       "5 2004-01-05 -2.451458 -1.5483333  -8.10  0.53 -2.451 1.0000 \n",
       "6 2004-01-06 -2.562083 -2.1308333  -7.24  0.35 -2.562 1.0000 "
      ]
     },
     "metadata": {},
     "output_type": "display_data"
    },
    {
     "data": {
      "text/html": [
       "<table class=\"dataframe\">\n",
       "<caption>A data.frame: 6 x 15</caption>\n",
       "<thead>\n",
       "\t<tr><th></th><th scope=col>date</th><th scope=col>temp</th><th scope=col>vpd</th><th scope=col>ppfd</th><th scope=col>netrad</th><th scope=col>patm</th><th scope=col>snow</th><th scope=col>rain</th><th scope=col>tmin</th><th scope=col>tmax</th><th scope=col>vwind</th><th scope=col>fapar</th><th scope=col>co2</th><th scope=col>ccov</th><th scope=col>nee</th></tr>\n",
       "\t<tr><th></th><th scope=col>&lt;date&gt;</th><th scope=col>&lt;dbl&gt;</th><th scope=col>&lt;lgl&gt;</th><th scope=col>&lt;lgl&gt;</th><th scope=col>&lt;lgl&gt;</th><th scope=col>&lt;lgl&gt;</th><th scope=col>&lt;lgl&gt;</th><th scope=col>&lt;lgl&gt;</th><th scope=col>&lt;dbl&gt;</th><th scope=col>&lt;dbl&gt;</th><th scope=col>&lt;lgl&gt;</th><th scope=col>&lt;lgl&gt;</th><th scope=col>&lt;lgl&gt;</th><th scope=col>&lt;lgl&gt;</th><th scope=col>&lt;lgl&gt;</th></tr>\n",
       "</thead>\n",
       "<tbody>\n",
       "\t<tr><th scope=row>1</th><td>2004-01-01</td><td>-0.389250</td><td>NA</td><td>NA</td><td>NA</td><td>NA</td><td>NA</td><td>NA</td><td> -1.23</td><td>-0.01</td><td>NA</td><td>NA</td><td>NA</td><td>NA</td><td>NA</td></tr>\n",
       "\t<tr><th scope=row>2</th><td>2004-01-02</td><td>-1.068542</td><td>NA</td><td>NA</td><td>NA</td><td>NA</td><td>NA</td><td>NA</td><td> -2.06</td><td>-0.05</td><td>NA</td><td>NA</td><td>NA</td><td>NA</td><td>NA</td></tr>\n",
       "\t<tr><th scope=row>3</th><td>2004-01-03</td><td>-3.388542</td><td>NA</td><td>NA</td><td>NA</td><td>NA</td><td>NA</td><td>NA</td><td> -5.82</td><td>-2.19</td><td>NA</td><td>NA</td><td>NA</td><td>NA</td><td>NA</td></tr>\n",
       "\t<tr><th scope=row>4</th><td>2004-01-04</td><td>-5.488958</td><td>NA</td><td>NA</td><td>NA</td><td>NA</td><td>NA</td><td>NA</td><td>-10.45</td><td>-1.48</td><td>NA</td><td>NA</td><td>NA</td><td>NA</td><td>NA</td></tr>\n",
       "\t<tr><th scope=row>5</th><td>2004-01-05</td><td>-2.451458</td><td>NA</td><td>NA</td><td>NA</td><td>NA</td><td>NA</td><td>NA</td><td> -8.10</td><td> 0.53</td><td>NA</td><td>NA</td><td>NA</td><td>NA</td><td>NA</td></tr>\n",
       "\t<tr><th scope=row>6</th><td>2004-01-06</td><td>-2.562083</td><td>NA</td><td>NA</td><td>NA</td><td>NA</td><td>NA</td><td>NA</td><td> -7.24</td><td> 0.35</td><td>NA</td><td>NA</td><td>NA</td><td>NA</td><td>NA</td></tr>\n",
       "</tbody>\n",
       "</table>\n"
      ],
      "text/latex": [
       "A data.frame: 6 x 15\n",
       "\\begin{tabular}{r|lllllllllllllll}\n",
       "  & date & temp & vpd & ppfd & netrad & patm & snow & rain & tmin & tmax & vwind & fapar & co2 & ccov & nee\\\\\n",
       "  & <date> & <dbl> & <lgl> & <lgl> & <lgl> & <lgl> & <lgl> & <lgl> & <dbl> & <dbl> & <lgl> & <lgl> & <lgl> & <lgl> & <lgl>\\\\\n",
       "\\hline\n",
       "\t1 & 2004-01-01 & -0.389250 & NA & NA & NA & NA & NA & NA &  -1.23 & -0.01 & NA & NA & NA & NA & NA\\\\\n",
       "\t2 & 2004-01-02 & -1.068542 & NA & NA & NA & NA & NA & NA &  -2.06 & -0.05 & NA & NA & NA & NA & NA\\\\\n",
       "\t3 & 2004-01-03 & -3.388542 & NA & NA & NA & NA & NA & NA &  -5.82 & -2.19 & NA & NA & NA & NA & NA\\\\\n",
       "\t4 & 2004-01-04 & -5.488958 & NA & NA & NA & NA & NA & NA & -10.45 & -1.48 & NA & NA & NA & NA & NA\\\\\n",
       "\t5 & 2004-01-05 & -2.451458 & NA & NA & NA & NA & NA & NA &  -8.10 &  0.53 & NA & NA & NA & NA & NA\\\\\n",
       "\t6 & 2004-01-06 & -2.562083 & NA & NA & NA & NA & NA & NA &  -7.24 &  0.35 & NA & NA & NA & NA & NA\\\\\n",
       "\\end{tabular}\n"
      ],
      "text/markdown": [
       "\n",
       "A data.frame: 6 x 15\n",
       "\n",
       "| <!--/--> | date &lt;date&gt; | temp &lt;dbl&gt; | vpd &lt;lgl&gt; | ppfd &lt;lgl&gt; | netrad &lt;lgl&gt; | patm &lt;lgl&gt; | snow &lt;lgl&gt; | rain &lt;lgl&gt; | tmin &lt;dbl&gt; | tmax &lt;dbl&gt; | vwind &lt;lgl&gt; | fapar &lt;lgl&gt; | co2 &lt;lgl&gt; | ccov &lt;lgl&gt; | nee &lt;lgl&gt; |\n",
       "|---|---|---|---|---|---|---|---|---|---|---|---|---|---|---|---|\n",
       "| 1 | 2004-01-01 | -0.389250 | NA | NA | NA | NA | NA | NA |  -1.23 | -0.01 | NA | NA | NA | NA | NA |\n",
       "| 2 | 2004-01-02 | -1.068542 | NA | NA | NA | NA | NA | NA |  -2.06 | -0.05 | NA | NA | NA | NA | NA |\n",
       "| 3 | 2004-01-03 | -3.388542 | NA | NA | NA | NA | NA | NA |  -5.82 | -2.19 | NA | NA | NA | NA | NA |\n",
       "| 4 | 2004-01-04 | -5.488958 | NA | NA | NA | NA | NA | NA | -10.45 | -1.48 | NA | NA | NA | NA | NA |\n",
       "| 5 | 2004-01-05 | -2.451458 | NA | NA | NA | NA | NA | NA |  -8.10 |  0.53 | NA | NA | NA | NA | NA |\n",
       "| 6 | 2004-01-06 | -2.562083 | NA | NA | NA | NA | NA | NA |  -7.24 |  0.35 | NA | NA | NA | NA | NA |\n",
       "\n"
      ],
      "text/plain": [
       "  date       temp      vpd ppfd netrad patm snow rain tmin   tmax  vwind fapar\n",
       "1 2004-01-01 -0.389250 NA  NA   NA     NA   NA   NA    -1.23 -0.01 NA    NA   \n",
       "2 2004-01-02 -1.068542 NA  NA   NA     NA   NA   NA    -2.06 -0.05 NA    NA   \n",
       "3 2004-01-03 -3.388542 NA  NA   NA     NA   NA   NA    -5.82 -2.19 NA    NA   \n",
       "4 2004-01-04 -5.488958 NA  NA   NA     NA   NA   NA   -10.45 -1.48 NA    NA   \n",
       "5 2004-01-05 -2.451458 NA  NA   NA     NA   NA   NA    -8.10  0.53 NA    NA   \n",
       "6 2004-01-06 -2.562083 NA  NA   NA     NA   NA   NA    -7.24  0.35 NA    NA   \n",
       "  co2 ccov nee\n",
       "1 NA  NA   NA \n",
       "2 NA  NA   NA \n",
       "3 NA  NA   NA \n",
       "4 NA  NA   NA \n",
       "5 NA  NA   NA \n",
       "6 NA  NA   NA "
      ]
     },
     "metadata": {},
     "output_type": "display_data"
    }
   ],
   "source": [
    "# read temp, tmin and tmax data\n",
    "temp_data <- read.csv(\"../data/01_data_prep/01_temp_tmin_tmax.csv\")\n",
    "# print the head of the temp_data\n",
    "head(temp_data)\n",
    "# convert date column to Date type\n",
    "temp_data$date <- as.Date(temp_data$date)\n",
    "\n",
    "# update the existing columns in df with values from temp_data\n",
    "df <- df %>% \n",
    "    left_join(temp_data %>% select(date, temp, tmin, tmax), by = \"date\", suffix = c(\"\", \"_new\")) %>%\n",
    "    mutate(\n",
    "        temp = temp_new,\n",
    "        tmin = tmin_new,\n",
    "        tmax = tmax_new\n",
    "    ) %>%\n",
    "    select(-temp_new, -tmin_new, -tmax_new)\n",
    "# print the head of the df\n",
    "head(df)"
   ]
  },
  {
   "cell_type": "markdown",
   "id": "98456371",
   "metadata": {},
   "source": [
    "### vwind"
   ]
  },
  {
   "cell_type": "code",
   "execution_count": 267,
   "id": "40a94d59",
   "metadata": {
    "vscode": {
     "languageId": "r"
    }
   },
   "outputs": [
    {
     "data": {
      "text/html": [
       "<table class=\"dataframe\">\n",
       "<caption>A data.frame: 6 x 2</caption>\n",
       "<thead>\n",
       "\t<tr><th></th><th scope=col>date</th><th scope=col>wind_velocity_ms</th></tr>\n",
       "\t<tr><th></th><th scope=col>&lt;chr&gt;</th><th scope=col>&lt;dbl&gt;</th></tr>\n",
       "</thead>\n",
       "<tbody>\n",
       "\t<tr><th scope=row>1</th><td>2004-01-01</td><td>1.520</td></tr>\n",
       "\t<tr><th scope=row>2</th><td>2004-01-02</td><td>2.022</td></tr>\n",
       "\t<tr><th scope=row>3</th><td>2004-01-03</td><td>2.716</td></tr>\n",
       "\t<tr><th scope=row>4</th><td>2004-01-04</td><td>1.089</td></tr>\n",
       "\t<tr><th scope=row>5</th><td>2004-01-05</td><td>0.675</td></tr>\n",
       "\t<tr><th scope=row>6</th><td>2004-01-06</td><td>0.701</td></tr>\n",
       "</tbody>\n",
       "</table>\n"
      ],
      "text/latex": [
       "A data.frame: 6 x 2\n",
       "\\begin{tabular}{r|ll}\n",
       "  & date & wind\\_velocity\\_ms\\\\\n",
       "  & <chr> & <dbl>\\\\\n",
       "\\hline\n",
       "\t1 & 2004-01-01 & 1.520\\\\\n",
       "\t2 & 2004-01-02 & 2.022\\\\\n",
       "\t3 & 2004-01-03 & 2.716\\\\\n",
       "\t4 & 2004-01-04 & 1.089\\\\\n",
       "\t5 & 2004-01-05 & 0.675\\\\\n",
       "\t6 & 2004-01-06 & 0.701\\\\\n",
       "\\end{tabular}\n"
      ],
      "text/markdown": [
       "\n",
       "A data.frame: 6 x 2\n",
       "\n",
       "| <!--/--> | date &lt;chr&gt; | wind_velocity_ms &lt;dbl&gt; |\n",
       "|---|---|---|\n",
       "| 1 | 2004-01-01 | 1.520 |\n",
       "| 2 | 2004-01-02 | 2.022 |\n",
       "| 3 | 2004-01-03 | 2.716 |\n",
       "| 4 | 2004-01-04 | 1.089 |\n",
       "| 5 | 2004-01-05 | 0.675 |\n",
       "| 6 | 2004-01-06 | 0.701 |\n",
       "\n"
      ],
      "text/plain": [
       "  date       wind_velocity_ms\n",
       "1 2004-01-01 1.520           \n",
       "2 2004-01-02 2.022           \n",
       "3 2004-01-03 2.716           \n",
       "4 2004-01-04 1.089           \n",
       "5 2004-01-05 0.675           \n",
       "6 2004-01-06 0.701           "
      ]
     },
     "metadata": {},
     "output_type": "display_data"
    },
    {
     "data": {
      "text/html": [
       "<table class=\"dataframe\">\n",
       "<caption>A data.frame: 6 x 15</caption>\n",
       "<thead>\n",
       "\t<tr><th></th><th scope=col>date</th><th scope=col>temp</th><th scope=col>vpd</th><th scope=col>ppfd</th><th scope=col>netrad</th><th scope=col>patm</th><th scope=col>snow</th><th scope=col>rain</th><th scope=col>tmin</th><th scope=col>tmax</th><th scope=col>vwind</th><th scope=col>fapar</th><th scope=col>co2</th><th scope=col>ccov</th><th scope=col>nee</th></tr>\n",
       "\t<tr><th></th><th scope=col>&lt;date&gt;</th><th scope=col>&lt;dbl&gt;</th><th scope=col>&lt;lgl&gt;</th><th scope=col>&lt;lgl&gt;</th><th scope=col>&lt;lgl&gt;</th><th scope=col>&lt;lgl&gt;</th><th scope=col>&lt;lgl&gt;</th><th scope=col>&lt;lgl&gt;</th><th scope=col>&lt;dbl&gt;</th><th scope=col>&lt;dbl&gt;</th><th scope=col>&lt;dbl&gt;</th><th scope=col>&lt;lgl&gt;</th><th scope=col>&lt;lgl&gt;</th><th scope=col>&lt;lgl&gt;</th><th scope=col>&lt;lgl&gt;</th></tr>\n",
       "</thead>\n",
       "<tbody>\n",
       "\t<tr><th scope=row>1</th><td>2004-01-01</td><td>-0.389250</td><td>NA</td><td>NA</td><td>NA</td><td>NA</td><td>NA</td><td>NA</td><td> -1.23</td><td>-0.01</td><td>1.520</td><td>NA</td><td>NA</td><td>NA</td><td>NA</td></tr>\n",
       "\t<tr><th scope=row>2</th><td>2004-01-02</td><td>-1.068542</td><td>NA</td><td>NA</td><td>NA</td><td>NA</td><td>NA</td><td>NA</td><td> -2.06</td><td>-0.05</td><td>2.022</td><td>NA</td><td>NA</td><td>NA</td><td>NA</td></tr>\n",
       "\t<tr><th scope=row>3</th><td>2004-01-03</td><td>-3.388542</td><td>NA</td><td>NA</td><td>NA</td><td>NA</td><td>NA</td><td>NA</td><td> -5.82</td><td>-2.19</td><td>2.716</td><td>NA</td><td>NA</td><td>NA</td><td>NA</td></tr>\n",
       "\t<tr><th scope=row>4</th><td>2004-01-04</td><td>-5.488958</td><td>NA</td><td>NA</td><td>NA</td><td>NA</td><td>NA</td><td>NA</td><td>-10.45</td><td>-1.48</td><td>1.089</td><td>NA</td><td>NA</td><td>NA</td><td>NA</td></tr>\n",
       "\t<tr><th scope=row>5</th><td>2004-01-05</td><td>-2.451458</td><td>NA</td><td>NA</td><td>NA</td><td>NA</td><td>NA</td><td>NA</td><td> -8.10</td><td> 0.53</td><td>0.675</td><td>NA</td><td>NA</td><td>NA</td><td>NA</td></tr>\n",
       "\t<tr><th scope=row>6</th><td>2004-01-06</td><td>-2.562083</td><td>NA</td><td>NA</td><td>NA</td><td>NA</td><td>NA</td><td>NA</td><td> -7.24</td><td> 0.35</td><td>0.701</td><td>NA</td><td>NA</td><td>NA</td><td>NA</td></tr>\n",
       "</tbody>\n",
       "</table>\n"
      ],
      "text/latex": [
       "A data.frame: 6 x 15\n",
       "\\begin{tabular}{r|lllllllllllllll}\n",
       "  & date & temp & vpd & ppfd & netrad & patm & snow & rain & tmin & tmax & vwind & fapar & co2 & ccov & nee\\\\\n",
       "  & <date> & <dbl> & <lgl> & <lgl> & <lgl> & <lgl> & <lgl> & <lgl> & <dbl> & <dbl> & <dbl> & <lgl> & <lgl> & <lgl> & <lgl>\\\\\n",
       "\\hline\n",
       "\t1 & 2004-01-01 & -0.389250 & NA & NA & NA & NA & NA & NA &  -1.23 & -0.01 & 1.520 & NA & NA & NA & NA\\\\\n",
       "\t2 & 2004-01-02 & -1.068542 & NA & NA & NA & NA & NA & NA &  -2.06 & -0.05 & 2.022 & NA & NA & NA & NA\\\\\n",
       "\t3 & 2004-01-03 & -3.388542 & NA & NA & NA & NA & NA & NA &  -5.82 & -2.19 & 2.716 & NA & NA & NA & NA\\\\\n",
       "\t4 & 2004-01-04 & -5.488958 & NA & NA & NA & NA & NA & NA & -10.45 & -1.48 & 1.089 & NA & NA & NA & NA\\\\\n",
       "\t5 & 2004-01-05 & -2.451458 & NA & NA & NA & NA & NA & NA &  -8.10 &  0.53 & 0.675 & NA & NA & NA & NA\\\\\n",
       "\t6 & 2004-01-06 & -2.562083 & NA & NA & NA & NA & NA & NA &  -7.24 &  0.35 & 0.701 & NA & NA & NA & NA\\\\\n",
       "\\end{tabular}\n"
      ],
      "text/markdown": [
       "\n",
       "A data.frame: 6 x 15\n",
       "\n",
       "| <!--/--> | date &lt;date&gt; | temp &lt;dbl&gt; | vpd &lt;lgl&gt; | ppfd &lt;lgl&gt; | netrad &lt;lgl&gt; | patm &lt;lgl&gt; | snow &lt;lgl&gt; | rain &lt;lgl&gt; | tmin &lt;dbl&gt; | tmax &lt;dbl&gt; | vwind &lt;dbl&gt; | fapar &lt;lgl&gt; | co2 &lt;lgl&gt; | ccov &lt;lgl&gt; | nee &lt;lgl&gt; |\n",
       "|---|---|---|---|---|---|---|---|---|---|---|---|---|---|---|---|\n",
       "| 1 | 2004-01-01 | -0.389250 | NA | NA | NA | NA | NA | NA |  -1.23 | -0.01 | 1.520 | NA | NA | NA | NA |\n",
       "| 2 | 2004-01-02 | -1.068542 | NA | NA | NA | NA | NA | NA |  -2.06 | -0.05 | 2.022 | NA | NA | NA | NA |\n",
       "| 3 | 2004-01-03 | -3.388542 | NA | NA | NA | NA | NA | NA |  -5.82 | -2.19 | 2.716 | NA | NA | NA | NA |\n",
       "| 4 | 2004-01-04 | -5.488958 | NA | NA | NA | NA | NA | NA | -10.45 | -1.48 | 1.089 | NA | NA | NA | NA |\n",
       "| 5 | 2004-01-05 | -2.451458 | NA | NA | NA | NA | NA | NA |  -8.10 |  0.53 | 0.675 | NA | NA | NA | NA |\n",
       "| 6 | 2004-01-06 | -2.562083 | NA | NA | NA | NA | NA | NA |  -7.24 |  0.35 | 0.701 | NA | NA | NA | NA |\n",
       "\n"
      ],
      "text/plain": [
       "  date       temp      vpd ppfd netrad patm snow rain tmin   tmax  vwind fapar\n",
       "1 2004-01-01 -0.389250 NA  NA   NA     NA   NA   NA    -1.23 -0.01 1.520 NA   \n",
       "2 2004-01-02 -1.068542 NA  NA   NA     NA   NA   NA    -2.06 -0.05 2.022 NA   \n",
       "3 2004-01-03 -3.388542 NA  NA   NA     NA   NA   NA    -5.82 -2.19 2.716 NA   \n",
       "4 2004-01-04 -5.488958 NA  NA   NA     NA   NA   NA   -10.45 -1.48 1.089 NA   \n",
       "5 2004-01-05 -2.451458 NA  NA   NA     NA   NA   NA    -8.10  0.53 0.675 NA   \n",
       "6 2004-01-06 -2.562083 NA  NA   NA     NA   NA   NA    -7.24  0.35 0.701 NA   \n",
       "  co2 ccov nee\n",
       "1 NA  NA   NA \n",
       "2 NA  NA   NA \n",
       "3 NA  NA   NA \n",
       "4 NA  NA   NA \n",
       "5 NA  NA   NA \n",
       "6 NA  NA   NA "
      ]
     },
     "metadata": {},
     "output_type": "display_data"
    }
   ],
   "source": [
    "# read the vwind data\n",
    "vwind_data <- read.csv(\"../data/01_data_prep/01a_vwind.csv\")\n",
    "# print the head of the vwind_data\n",
    "head(vwind_data)\n",
    "# convert date column to Date type\n",
    "vwind_data$date <- as.Date(vwind_data$date)\n",
    "\n",
    "# update the existing columns in df with values from vwind_data\n",
    "df <- df %>% \n",
    "    left_join(vwind_data %>% select(date, wind_velocity_ms), by = \"date\", suffix = c(\"\", \"_new\")) %>%\n",
    "    mutate(vwind = wind_velocity_ms) %>%\n",
    "    select(-wind_velocity_ms)\n",
    "# print the head of the df\n",
    "head(df)"
   ]
  },
  {
   "cell_type": "markdown",
   "id": "632768c5",
   "metadata": {},
   "source": [
    "### vpd"
   ]
  },
  {
   "cell_type": "code",
   "execution_count": 268,
   "id": "91209105",
   "metadata": {
    "vscode": {
     "languageId": "r"
    }
   },
   "outputs": [
    {
     "data": {
      "text/html": [
       "<table class=\"dataframe\">\n",
       "<caption>A data.frame: 6 x 5</caption>\n",
       "<thead>\n",
       "\t<tr><th></th><th scope=col>date</th><th scope=col>vpd_day</th><th scope=col>vpd_night</th><th scope=col>vpd_24h</th><th scope=col>vpd_daily_flux</th></tr>\n",
       "\t<tr><th></th><th scope=col>&lt;chr&gt;</th><th scope=col>&lt;dbl&gt;</th><th scope=col>&lt;dbl&gt;</th><th scope=col>&lt;dbl&gt;</th><th scope=col>&lt;dbl&gt;</th></tr>\n",
       "</thead>\n",
       "<tbody>\n",
       "\t<tr><th scope=row>1</th><td>2004-01-01</td><td>0.0651250</td><td>0.04004167</td><td>0.05258333</td><td>0.053</td></tr>\n",
       "\t<tr><th scope=row>2</th><td>2004-01-02</td><td>0.0000000</td><td>0.02091667</td><td>0.01045833</td><td>0.010</td></tr>\n",
       "\t<tr><th scope=row>3</th><td>2004-01-03</td><td>0.0708750</td><td>0.14075000</td><td>0.10581250</td><td>0.106</td></tr>\n",
       "\t<tr><th scope=row>4</th><td>2004-01-04</td><td>0.7600417</td><td>0.41058333</td><td>0.58531250</td><td>0.585</td></tr>\n",
       "\t<tr><th scope=row>5</th><td>2004-01-05</td><td>0.2392917</td><td>0.27658333</td><td>0.25793750</td><td>0.258</td></tr>\n",
       "\t<tr><th scope=row>6</th><td>2004-01-06</td><td>0.2383750</td><td>0.05025000</td><td>0.14431250</td><td>0.144</td></tr>\n",
       "</tbody>\n",
       "</table>\n"
      ],
      "text/latex": [
       "A data.frame: 6 x 5\n",
       "\\begin{tabular}{r|lllll}\n",
       "  & date & vpd\\_day & vpd\\_night & vpd\\_24h & vpd\\_daily\\_flux\\\\\n",
       "  & <chr> & <dbl> & <dbl> & <dbl> & <dbl>\\\\\n",
       "\\hline\n",
       "\t1 & 2004-01-01 & 0.0651250 & 0.04004167 & 0.05258333 & 0.053\\\\\n",
       "\t2 & 2004-01-02 & 0.0000000 & 0.02091667 & 0.01045833 & 0.010\\\\\n",
       "\t3 & 2004-01-03 & 0.0708750 & 0.14075000 & 0.10581250 & 0.106\\\\\n",
       "\t4 & 2004-01-04 & 0.7600417 & 0.41058333 & 0.58531250 & 0.585\\\\\n",
       "\t5 & 2004-01-05 & 0.2392917 & 0.27658333 & 0.25793750 & 0.258\\\\\n",
       "\t6 & 2004-01-06 & 0.2383750 & 0.05025000 & 0.14431250 & 0.144\\\\\n",
       "\\end{tabular}\n"
      ],
      "text/markdown": [
       "\n",
       "A data.frame: 6 x 5\n",
       "\n",
       "| <!--/--> | date &lt;chr&gt; | vpd_day &lt;dbl&gt; | vpd_night &lt;dbl&gt; | vpd_24h &lt;dbl&gt; | vpd_daily_flux &lt;dbl&gt; |\n",
       "|---|---|---|---|---|---|\n",
       "| 1 | 2004-01-01 | 0.0651250 | 0.04004167 | 0.05258333 | 0.053 |\n",
       "| 2 | 2004-01-02 | 0.0000000 | 0.02091667 | 0.01045833 | 0.010 |\n",
       "| 3 | 2004-01-03 | 0.0708750 | 0.14075000 | 0.10581250 | 0.106 |\n",
       "| 4 | 2004-01-04 | 0.7600417 | 0.41058333 | 0.58531250 | 0.585 |\n",
       "| 5 | 2004-01-05 | 0.2392917 | 0.27658333 | 0.25793750 | 0.258 |\n",
       "| 6 | 2004-01-06 | 0.2383750 | 0.05025000 | 0.14431250 | 0.144 |\n",
       "\n"
      ],
      "text/plain": [
       "  date       vpd_day   vpd_night  vpd_24h    vpd_daily_flux\n",
       "1 2004-01-01 0.0651250 0.04004167 0.05258333 0.053         \n",
       "2 2004-01-02 0.0000000 0.02091667 0.01045833 0.010         \n",
       "3 2004-01-03 0.0708750 0.14075000 0.10581250 0.106         \n",
       "4 2004-01-04 0.7600417 0.41058333 0.58531250 0.585         \n",
       "5 2004-01-05 0.2392917 0.27658333 0.25793750 0.258         \n",
       "6 2004-01-06 0.2383750 0.05025000 0.14431250 0.144         "
      ]
     },
     "metadata": {},
     "output_type": "display_data"
    },
    {
     "data": {
      "text/html": [
       "<table class=\"dataframe\">\n",
       "<caption>A data.frame: 6 x 15</caption>\n",
       "<thead>\n",
       "\t<tr><th></th><th scope=col>date</th><th scope=col>temp</th><th scope=col>vpd</th><th scope=col>ppfd</th><th scope=col>netrad</th><th scope=col>patm</th><th scope=col>snow</th><th scope=col>rain</th><th scope=col>tmin</th><th scope=col>tmax</th><th scope=col>vwind</th><th scope=col>fapar</th><th scope=col>co2</th><th scope=col>ccov</th><th scope=col>nee</th></tr>\n",
       "\t<tr><th></th><th scope=col>&lt;date&gt;</th><th scope=col>&lt;dbl&gt;</th><th scope=col>&lt;dbl&gt;</th><th scope=col>&lt;lgl&gt;</th><th scope=col>&lt;lgl&gt;</th><th scope=col>&lt;lgl&gt;</th><th scope=col>&lt;lgl&gt;</th><th scope=col>&lt;lgl&gt;</th><th scope=col>&lt;dbl&gt;</th><th scope=col>&lt;dbl&gt;</th><th scope=col>&lt;dbl&gt;</th><th scope=col>&lt;lgl&gt;</th><th scope=col>&lt;lgl&gt;</th><th scope=col>&lt;lgl&gt;</th><th scope=col>&lt;lgl&gt;</th></tr>\n",
       "</thead>\n",
       "<tbody>\n",
       "\t<tr><th scope=row>1</th><td>2004-01-01</td><td>-0.389250</td><td>0.0651250</td><td>NA</td><td>NA</td><td>NA</td><td>NA</td><td>NA</td><td> -1.23</td><td>-0.01</td><td>1.520</td><td>NA</td><td>NA</td><td>NA</td><td>NA</td></tr>\n",
       "\t<tr><th scope=row>2</th><td>2004-01-02</td><td>-1.068542</td><td>0.0000000</td><td>NA</td><td>NA</td><td>NA</td><td>NA</td><td>NA</td><td> -2.06</td><td>-0.05</td><td>2.022</td><td>NA</td><td>NA</td><td>NA</td><td>NA</td></tr>\n",
       "\t<tr><th scope=row>3</th><td>2004-01-03</td><td>-3.388542</td><td>0.0708750</td><td>NA</td><td>NA</td><td>NA</td><td>NA</td><td>NA</td><td> -5.82</td><td>-2.19</td><td>2.716</td><td>NA</td><td>NA</td><td>NA</td><td>NA</td></tr>\n",
       "\t<tr><th scope=row>4</th><td>2004-01-04</td><td>-5.488958</td><td>0.7600417</td><td>NA</td><td>NA</td><td>NA</td><td>NA</td><td>NA</td><td>-10.45</td><td>-1.48</td><td>1.089</td><td>NA</td><td>NA</td><td>NA</td><td>NA</td></tr>\n",
       "\t<tr><th scope=row>5</th><td>2004-01-05</td><td>-2.451458</td><td>0.2392917</td><td>NA</td><td>NA</td><td>NA</td><td>NA</td><td>NA</td><td> -8.10</td><td> 0.53</td><td>0.675</td><td>NA</td><td>NA</td><td>NA</td><td>NA</td></tr>\n",
       "\t<tr><th scope=row>6</th><td>2004-01-06</td><td>-2.562083</td><td>0.2383750</td><td>NA</td><td>NA</td><td>NA</td><td>NA</td><td>NA</td><td> -7.24</td><td> 0.35</td><td>0.701</td><td>NA</td><td>NA</td><td>NA</td><td>NA</td></tr>\n",
       "</tbody>\n",
       "</table>\n"
      ],
      "text/latex": [
       "A data.frame: 6 x 15\n",
       "\\begin{tabular}{r|lllllllllllllll}\n",
       "  & date & temp & vpd & ppfd & netrad & patm & snow & rain & tmin & tmax & vwind & fapar & co2 & ccov & nee\\\\\n",
       "  & <date> & <dbl> & <dbl> & <lgl> & <lgl> & <lgl> & <lgl> & <lgl> & <dbl> & <dbl> & <dbl> & <lgl> & <lgl> & <lgl> & <lgl>\\\\\n",
       "\\hline\n",
       "\t1 & 2004-01-01 & -0.389250 & 0.0651250 & NA & NA & NA & NA & NA &  -1.23 & -0.01 & 1.520 & NA & NA & NA & NA\\\\\n",
       "\t2 & 2004-01-02 & -1.068542 & 0.0000000 & NA & NA & NA & NA & NA &  -2.06 & -0.05 & 2.022 & NA & NA & NA & NA\\\\\n",
       "\t3 & 2004-01-03 & -3.388542 & 0.0708750 & NA & NA & NA & NA & NA &  -5.82 & -2.19 & 2.716 & NA & NA & NA & NA\\\\\n",
       "\t4 & 2004-01-04 & -5.488958 & 0.7600417 & NA & NA & NA & NA & NA & -10.45 & -1.48 & 1.089 & NA & NA & NA & NA\\\\\n",
       "\t5 & 2004-01-05 & -2.451458 & 0.2392917 & NA & NA & NA & NA & NA &  -8.10 &  0.53 & 0.675 & NA & NA & NA & NA\\\\\n",
       "\t6 & 2004-01-06 & -2.562083 & 0.2383750 & NA & NA & NA & NA & NA &  -7.24 &  0.35 & 0.701 & NA & NA & NA & NA\\\\\n",
       "\\end{tabular}\n"
      ],
      "text/markdown": [
       "\n",
       "A data.frame: 6 x 15\n",
       "\n",
       "| <!--/--> | date &lt;date&gt; | temp &lt;dbl&gt; | vpd &lt;dbl&gt; | ppfd &lt;lgl&gt; | netrad &lt;lgl&gt; | patm &lt;lgl&gt; | snow &lt;lgl&gt; | rain &lt;lgl&gt; | tmin &lt;dbl&gt; | tmax &lt;dbl&gt; | vwind &lt;dbl&gt; | fapar &lt;lgl&gt; | co2 &lt;lgl&gt; | ccov &lt;lgl&gt; | nee &lt;lgl&gt; |\n",
       "|---|---|---|---|---|---|---|---|---|---|---|---|---|---|---|---|\n",
       "| 1 | 2004-01-01 | -0.389250 | 0.0651250 | NA | NA | NA | NA | NA |  -1.23 | -0.01 | 1.520 | NA | NA | NA | NA |\n",
       "| 2 | 2004-01-02 | -1.068542 | 0.0000000 | NA | NA | NA | NA | NA |  -2.06 | -0.05 | 2.022 | NA | NA | NA | NA |\n",
       "| 3 | 2004-01-03 | -3.388542 | 0.0708750 | NA | NA | NA | NA | NA |  -5.82 | -2.19 | 2.716 | NA | NA | NA | NA |\n",
       "| 4 | 2004-01-04 | -5.488958 | 0.7600417 | NA | NA | NA | NA | NA | -10.45 | -1.48 | 1.089 | NA | NA | NA | NA |\n",
       "| 5 | 2004-01-05 | -2.451458 | 0.2392917 | NA | NA | NA | NA | NA |  -8.10 |  0.53 | 0.675 | NA | NA | NA | NA |\n",
       "| 6 | 2004-01-06 | -2.562083 | 0.2383750 | NA | NA | NA | NA | NA |  -7.24 |  0.35 | 0.701 | NA | NA | NA | NA |\n",
       "\n"
      ],
      "text/plain": [
       "  date       temp      vpd       ppfd netrad patm snow rain tmin   tmax  vwind\n",
       "1 2004-01-01 -0.389250 0.0651250 NA   NA     NA   NA   NA    -1.23 -0.01 1.520\n",
       "2 2004-01-02 -1.068542 0.0000000 NA   NA     NA   NA   NA    -2.06 -0.05 2.022\n",
       "3 2004-01-03 -3.388542 0.0708750 NA   NA     NA   NA   NA    -5.82 -2.19 2.716\n",
       "4 2004-01-04 -5.488958 0.7600417 NA   NA     NA   NA   NA   -10.45 -1.48 1.089\n",
       "5 2004-01-05 -2.451458 0.2392917 NA   NA     NA   NA   NA    -8.10  0.53 0.675\n",
       "6 2004-01-06 -2.562083 0.2383750 NA   NA     NA   NA   NA    -7.24  0.35 0.701\n",
       "  fapar co2 ccov nee\n",
       "1 NA    NA  NA   NA \n",
       "2 NA    NA  NA   NA \n",
       "3 NA    NA  NA   NA \n",
       "4 NA    NA  NA   NA \n",
       "5 NA    NA  NA   NA \n",
       "6 NA    NA  NA   NA "
      ]
     },
     "metadata": {},
     "output_type": "display_data"
    }
   ],
   "source": [
    "# read vpd data\n",
    "vpd_data <- read.csv(\"../data/01_data_prep/02_vpd.csv\")\n",
    "# print the head of the vpd_data\n",
    "head(vpd_data)\n",
    "# convert date column to Date type\n",
    "vpd_data$date <- as.Date(vpd_data$date)\n",
    "\n",
    "# update the existing columns in df with values from vpd_data\n",
    "df <- df %>% \n",
    "    left_join(vpd_data %>% select(date, vpd_day), by = \"date\") %>%\n",
    "    mutate(vpd = vpd_day) %>%\n",
    "    select(-vpd_day)\n",
    "# print the head of the df\n",
    "head(df)"
   ]
  },
  {
   "cell_type": "markdown",
   "id": "b12e8ba7",
   "metadata": {},
   "source": [
    "### ppfd"
   ]
  },
  {
   "cell_type": "code",
   "execution_count": 269,
   "id": "5417dc2c",
   "metadata": {
    "vscode": {
     "languageId": "r"
    }
   },
   "outputs": [
    {
     "data": {
      "text/html": [
       "<table class=\"dataframe\">\n",
       "<caption>A data.frame: 6 x 10</caption>\n",
       "<thead>\n",
       "\t<tr><th></th><th scope=col>date</th><th scope=col>year</th><th scope=col>doy</th><th scope=col>latitude</th><th scope=col>longitude</th><th scope=col>elevation</th><th scope=col>SW_IN_F</th><th scope=col>SW_IN_F_MJ</th><th scope=col>ppfd_obs</th><th scope=col>ppfd</th></tr>\n",
       "\t<tr><th></th><th scope=col>&lt;chr&gt;</th><th scope=col>&lt;int&gt;</th><th scope=col>&lt;int&gt;</th><th scope=col>&lt;dbl&gt;</th><th scope=col>&lt;dbl&gt;</th><th scope=col>&lt;int&gt;</th><th scope=col>&lt;dbl&gt;</th><th scope=col>&lt;dbl&gt;</th><th scope=col>&lt;dbl&gt;</th><th scope=col>&lt;dbl&gt;</th></tr>\n",
       "</thead>\n",
       "<tbody>\n",
       "\t<tr><th scope=row>1</th><td>2004-01-01</td><td>2004</td><td>1</td><td>47.28642</td><td>7.73375</td><td>452</td><td>36.666</td><td>3.167942</td><td>6.514874</td><td>6.514874</td></tr>\n",
       "\t<tr><th scope=row>2</th><td>2004-01-02</td><td>2004</td><td>2</td><td>47.28642</td><td>7.73375</td><td>452</td><td>40.078</td><td>3.462739</td><td>7.121123</td><td>7.121123</td></tr>\n",
       "\t<tr><th scope=row>3</th><td>2004-01-03</td><td>2004</td><td>3</td><td>47.28642</td><td>7.73375</td><td>452</td><td>40.147</td><td>3.468701</td><td>7.133383</td><td>7.133383</td></tr>\n",
       "\t<tr><th scope=row>4</th><td>2004-01-04</td><td>2004</td><td>4</td><td>47.28642</td><td>7.73375</td><td>452</td><td>53.699</td><td>4.639594</td><td>9.541324</td><td>9.541324</td></tr>\n",
       "\t<tr><th scope=row>5</th><td>2004-01-05</td><td>2004</td><td>5</td><td>47.28642</td><td>7.73375</td><td>452</td><td>37.888</td><td>3.273523</td><td>6.732000</td><td>6.732000</td></tr>\n",
       "\t<tr><th scope=row>6</th><td>2004-01-06</td><td>2004</td><td>6</td><td>47.28642</td><td>7.73375</td><td>452</td><td>49.015</td><td>4.234896</td><td>8.709064</td><td>8.709064</td></tr>\n",
       "</tbody>\n",
       "</table>\n"
      ],
      "text/latex": [
       "A data.frame: 6 x 10\n",
       "\\begin{tabular}{r|llllllllll}\n",
       "  & date & year & doy & latitude & longitude & elevation & SW\\_IN\\_F & SW\\_IN\\_F\\_MJ & ppfd\\_obs & ppfd\\\\\n",
       "  & <chr> & <int> & <int> & <dbl> & <dbl> & <int> & <dbl> & <dbl> & <dbl> & <dbl>\\\\\n",
       "\\hline\n",
       "\t1 & 2004-01-01 & 2004 & 1 & 47.28642 & 7.73375 & 452 & 36.666 & 3.167942 & 6.514874 & 6.514874\\\\\n",
       "\t2 & 2004-01-02 & 2004 & 2 & 47.28642 & 7.73375 & 452 & 40.078 & 3.462739 & 7.121123 & 7.121123\\\\\n",
       "\t3 & 2004-01-03 & 2004 & 3 & 47.28642 & 7.73375 & 452 & 40.147 & 3.468701 & 7.133383 & 7.133383\\\\\n",
       "\t4 & 2004-01-04 & 2004 & 4 & 47.28642 & 7.73375 & 452 & 53.699 & 4.639594 & 9.541324 & 9.541324\\\\\n",
       "\t5 & 2004-01-05 & 2004 & 5 & 47.28642 & 7.73375 & 452 & 37.888 & 3.273523 & 6.732000 & 6.732000\\\\\n",
       "\t6 & 2004-01-06 & 2004 & 6 & 47.28642 & 7.73375 & 452 & 49.015 & 4.234896 & 8.709064 & 8.709064\\\\\n",
       "\\end{tabular}\n"
      ],
      "text/markdown": [
       "\n",
       "A data.frame: 6 x 10\n",
       "\n",
       "| <!--/--> | date &lt;chr&gt; | year &lt;int&gt; | doy &lt;int&gt; | latitude &lt;dbl&gt; | longitude &lt;dbl&gt; | elevation &lt;int&gt; | SW_IN_F &lt;dbl&gt; | SW_IN_F_MJ &lt;dbl&gt; | ppfd_obs &lt;dbl&gt; | ppfd &lt;dbl&gt; |\n",
       "|---|---|---|---|---|---|---|---|---|---|---|\n",
       "| 1 | 2004-01-01 | 2004 | 1 | 47.28642 | 7.73375 | 452 | 36.666 | 3.167942 | 6.514874 | 6.514874 |\n",
       "| 2 | 2004-01-02 | 2004 | 2 | 47.28642 | 7.73375 | 452 | 40.078 | 3.462739 | 7.121123 | 7.121123 |\n",
       "| 3 | 2004-01-03 | 2004 | 3 | 47.28642 | 7.73375 | 452 | 40.147 | 3.468701 | 7.133383 | 7.133383 |\n",
       "| 4 | 2004-01-04 | 2004 | 4 | 47.28642 | 7.73375 | 452 | 53.699 | 4.639594 | 9.541324 | 9.541324 |\n",
       "| 5 | 2004-01-05 | 2004 | 5 | 47.28642 | 7.73375 | 452 | 37.888 | 3.273523 | 6.732000 | 6.732000 |\n",
       "| 6 | 2004-01-06 | 2004 | 6 | 47.28642 | 7.73375 | 452 | 49.015 | 4.234896 | 8.709064 | 8.709064 |\n",
       "\n"
      ],
      "text/plain": [
       "  date       year doy latitude longitude elevation SW_IN_F SW_IN_F_MJ ppfd_obs\n",
       "1 2004-01-01 2004 1   47.28642 7.73375   452       36.666  3.167942   6.514874\n",
       "2 2004-01-02 2004 2   47.28642 7.73375   452       40.078  3.462739   7.121123\n",
       "3 2004-01-03 2004 3   47.28642 7.73375   452       40.147  3.468701   7.133383\n",
       "4 2004-01-04 2004 4   47.28642 7.73375   452       53.699  4.639594   9.541324\n",
       "5 2004-01-05 2004 5   47.28642 7.73375   452       37.888  3.273523   6.732000\n",
       "6 2004-01-06 2004 6   47.28642 7.73375   452       49.015  4.234896   8.709064\n",
       "  ppfd    \n",
       "1 6.514874\n",
       "2 7.121123\n",
       "3 7.133383\n",
       "4 9.541324\n",
       "5 6.732000\n",
       "6 8.709064"
      ]
     },
     "metadata": {},
     "output_type": "display_data"
    },
    {
     "data": {
      "text/html": [
       "<table class=\"dataframe\">\n",
       "<caption>A data.frame: 6 x 15</caption>\n",
       "<thead>\n",
       "\t<tr><th></th><th scope=col>date</th><th scope=col>temp</th><th scope=col>vpd</th><th scope=col>ppfd</th><th scope=col>netrad</th><th scope=col>patm</th><th scope=col>snow</th><th scope=col>rain</th><th scope=col>tmin</th><th scope=col>tmax</th><th scope=col>vwind</th><th scope=col>fapar</th><th scope=col>co2</th><th scope=col>ccov</th><th scope=col>nee</th></tr>\n",
       "\t<tr><th></th><th scope=col>&lt;date&gt;</th><th scope=col>&lt;dbl&gt;</th><th scope=col>&lt;dbl&gt;</th><th scope=col>&lt;dbl&gt;</th><th scope=col>&lt;lgl&gt;</th><th scope=col>&lt;lgl&gt;</th><th scope=col>&lt;lgl&gt;</th><th scope=col>&lt;lgl&gt;</th><th scope=col>&lt;dbl&gt;</th><th scope=col>&lt;dbl&gt;</th><th scope=col>&lt;dbl&gt;</th><th scope=col>&lt;lgl&gt;</th><th scope=col>&lt;lgl&gt;</th><th scope=col>&lt;lgl&gt;</th><th scope=col>&lt;lgl&gt;</th></tr>\n",
       "</thead>\n",
       "<tbody>\n",
       "\t<tr><th scope=row>1</th><td>2004-01-01</td><td>-0.389250</td><td>0.0651250</td><td>6.514874</td><td>NA</td><td>NA</td><td>NA</td><td>NA</td><td> -1.23</td><td>-0.01</td><td>1.520</td><td>NA</td><td>NA</td><td>NA</td><td>NA</td></tr>\n",
       "\t<tr><th scope=row>2</th><td>2004-01-02</td><td>-1.068542</td><td>0.0000000</td><td>7.121123</td><td>NA</td><td>NA</td><td>NA</td><td>NA</td><td> -2.06</td><td>-0.05</td><td>2.022</td><td>NA</td><td>NA</td><td>NA</td><td>NA</td></tr>\n",
       "\t<tr><th scope=row>3</th><td>2004-01-03</td><td>-3.388542</td><td>0.0708750</td><td>7.133383</td><td>NA</td><td>NA</td><td>NA</td><td>NA</td><td> -5.82</td><td>-2.19</td><td>2.716</td><td>NA</td><td>NA</td><td>NA</td><td>NA</td></tr>\n",
       "\t<tr><th scope=row>4</th><td>2004-01-04</td><td>-5.488958</td><td>0.7600417</td><td>9.541324</td><td>NA</td><td>NA</td><td>NA</td><td>NA</td><td>-10.45</td><td>-1.48</td><td>1.089</td><td>NA</td><td>NA</td><td>NA</td><td>NA</td></tr>\n",
       "\t<tr><th scope=row>5</th><td>2004-01-05</td><td>-2.451458</td><td>0.2392917</td><td>6.732000</td><td>NA</td><td>NA</td><td>NA</td><td>NA</td><td> -8.10</td><td> 0.53</td><td>0.675</td><td>NA</td><td>NA</td><td>NA</td><td>NA</td></tr>\n",
       "\t<tr><th scope=row>6</th><td>2004-01-06</td><td>-2.562083</td><td>0.2383750</td><td>8.709064</td><td>NA</td><td>NA</td><td>NA</td><td>NA</td><td> -7.24</td><td> 0.35</td><td>0.701</td><td>NA</td><td>NA</td><td>NA</td><td>NA</td></tr>\n",
       "</tbody>\n",
       "</table>\n"
      ],
      "text/latex": [
       "A data.frame: 6 x 15\n",
       "\\begin{tabular}{r|lllllllllllllll}\n",
       "  & date & temp & vpd & ppfd & netrad & patm & snow & rain & tmin & tmax & vwind & fapar & co2 & ccov & nee\\\\\n",
       "  & <date> & <dbl> & <dbl> & <dbl> & <lgl> & <lgl> & <lgl> & <lgl> & <dbl> & <dbl> & <dbl> & <lgl> & <lgl> & <lgl> & <lgl>\\\\\n",
       "\\hline\n",
       "\t1 & 2004-01-01 & -0.389250 & 0.0651250 & 6.514874 & NA & NA & NA & NA &  -1.23 & -0.01 & 1.520 & NA & NA & NA & NA\\\\\n",
       "\t2 & 2004-01-02 & -1.068542 & 0.0000000 & 7.121123 & NA & NA & NA & NA &  -2.06 & -0.05 & 2.022 & NA & NA & NA & NA\\\\\n",
       "\t3 & 2004-01-03 & -3.388542 & 0.0708750 & 7.133383 & NA & NA & NA & NA &  -5.82 & -2.19 & 2.716 & NA & NA & NA & NA\\\\\n",
       "\t4 & 2004-01-04 & -5.488958 & 0.7600417 & 9.541324 & NA & NA & NA & NA & -10.45 & -1.48 & 1.089 & NA & NA & NA & NA\\\\\n",
       "\t5 & 2004-01-05 & -2.451458 & 0.2392917 & 6.732000 & NA & NA & NA & NA &  -8.10 &  0.53 & 0.675 & NA & NA & NA & NA\\\\\n",
       "\t6 & 2004-01-06 & -2.562083 & 0.2383750 & 8.709064 & NA & NA & NA & NA &  -7.24 &  0.35 & 0.701 & NA & NA & NA & NA\\\\\n",
       "\\end{tabular}\n"
      ],
      "text/markdown": [
       "\n",
       "A data.frame: 6 x 15\n",
       "\n",
       "| <!--/--> | date &lt;date&gt; | temp &lt;dbl&gt; | vpd &lt;dbl&gt; | ppfd &lt;dbl&gt; | netrad &lt;lgl&gt; | patm &lt;lgl&gt; | snow &lt;lgl&gt; | rain &lt;lgl&gt; | tmin &lt;dbl&gt; | tmax &lt;dbl&gt; | vwind &lt;dbl&gt; | fapar &lt;lgl&gt; | co2 &lt;lgl&gt; | ccov &lt;lgl&gt; | nee &lt;lgl&gt; |\n",
       "|---|---|---|---|---|---|---|---|---|---|---|---|---|---|---|---|\n",
       "| 1 | 2004-01-01 | -0.389250 | 0.0651250 | 6.514874 | NA | NA | NA | NA |  -1.23 | -0.01 | 1.520 | NA | NA | NA | NA |\n",
       "| 2 | 2004-01-02 | -1.068542 | 0.0000000 | 7.121123 | NA | NA | NA | NA |  -2.06 | -0.05 | 2.022 | NA | NA | NA | NA |\n",
       "| 3 | 2004-01-03 | -3.388542 | 0.0708750 | 7.133383 | NA | NA | NA | NA |  -5.82 | -2.19 | 2.716 | NA | NA | NA | NA |\n",
       "| 4 | 2004-01-04 | -5.488958 | 0.7600417 | 9.541324 | NA | NA | NA | NA | -10.45 | -1.48 | 1.089 | NA | NA | NA | NA |\n",
       "| 5 | 2004-01-05 | -2.451458 | 0.2392917 | 6.732000 | NA | NA | NA | NA |  -8.10 |  0.53 | 0.675 | NA | NA | NA | NA |\n",
       "| 6 | 2004-01-06 | -2.562083 | 0.2383750 | 8.709064 | NA | NA | NA | NA |  -7.24 |  0.35 | 0.701 | NA | NA | NA | NA |\n",
       "\n"
      ],
      "text/plain": [
       "  date       temp      vpd       ppfd     netrad patm snow rain tmin   tmax \n",
       "1 2004-01-01 -0.389250 0.0651250 6.514874 NA     NA   NA   NA    -1.23 -0.01\n",
       "2 2004-01-02 -1.068542 0.0000000 7.121123 NA     NA   NA   NA    -2.06 -0.05\n",
       "3 2004-01-03 -3.388542 0.0708750 7.133383 NA     NA   NA   NA    -5.82 -2.19\n",
       "4 2004-01-04 -5.488958 0.7600417 9.541324 NA     NA   NA   NA   -10.45 -1.48\n",
       "5 2004-01-05 -2.451458 0.2392917 6.732000 NA     NA   NA   NA    -8.10  0.53\n",
       "6 2004-01-06 -2.562083 0.2383750 8.709064 NA     NA   NA   NA    -7.24  0.35\n",
       "  vwind fapar co2 ccov nee\n",
       "1 1.520 NA    NA  NA   NA \n",
       "2 2.022 NA    NA  NA   NA \n",
       "3 2.716 NA    NA  NA   NA \n",
       "4 1.089 NA    NA  NA   NA \n",
       "5 0.675 NA    NA  NA   NA \n",
       "6 0.701 NA    NA  NA   NA "
      ]
     },
     "metadata": {},
     "output_type": "display_data"
    }
   ],
   "source": [
    "# read ppfd data\n",
    "ppfd_data <- read.csv(\"../data/01_data_prep/03b_splash_ppfd.csv\")\n",
    "# print the head of the ppfd_data\n",
    "head(ppfd_data)\n",
    "# convert date column to Date type\n",
    "ppfd_data$date <- as.Date(ppfd_data$date)\n",
    "\n",
    "# update the existing columns in df with values from ppfd_data\n",
    "df <- df %>% \n",
    "    left_join(ppfd_data %>% select(date, ppfd), by = \"date\", suffix = c(\"\", \"_new\")) %>%\n",
    "    mutate(ppfd = ppfd_new) %>%\n",
    "    select(-ppfd_new)\n",
    "# print the head of the df\n",
    "head(df)"
   ]
  },
  {
   "cell_type": "markdown",
   "id": "0eeb1e4d",
   "metadata": {},
   "source": [
    "### netrad"
   ]
  },
  {
   "cell_type": "code",
   "execution_count": 270,
   "id": "9022b298",
   "metadata": {
    "vscode": {
     "languageId": "r"
    }
   },
   "outputs": [
    {
     "data": {
      "text/html": [
       "<table class=\"dataframe\">\n",
       "<caption>A data.frame: 6 x 6</caption>\n",
       "<thead>\n",
       "\t<tr><th></th><th scope=col>TIMESTAMP</th><th scope=col>netrad</th><th scope=col>netrad_method</th><th scope=col>netrad_approx</th><th scope=col>netrad_simple</th><th scope=col>netrad_energy_balance</th></tr>\n",
       "\t<tr><th></th><th scope=col>&lt;chr&gt;</th><th scope=col>&lt;dbl&gt;</th><th scope=col>&lt;chr&gt;</th><th scope=col>&lt;dbl&gt;</th><th scope=col>&lt;dbl&gt;</th><th scope=col>&lt;dbl&gt;</th></tr>\n",
       "</thead>\n",
       "<tbody>\n",
       "\t<tr><th scope=row>1</th><td>2004-01-01</td><td>  1.339710</td><td>Energy Balance</td><td>30.30515</td><td>25.6662</td><td>  1.339710</td></tr>\n",
       "\t<tr><th scope=row>2</th><td>2004-01-02</td><td> -4.381670</td><td>Energy Balance</td><td>34.67159</td><td>28.0546</td><td> -4.381670</td></tr>\n",
       "\t<tr><th scope=row>3</th><td>2004-01-03</td><td> -4.583730</td><td>Energy Balance</td><td>16.32752</td><td>28.1029</td><td> -4.583730</td></tr>\n",
       "\t<tr><th scope=row>4</th><td>2004-01-04</td><td> -9.018790</td><td>Energy Balance</td><td>28.20961</td><td>37.5893</td><td> -9.018790</td></tr>\n",
       "\t<tr><th scope=row>5</th><td>2004-01-05</td><td> -6.912368</td><td>Energy Balance</td><td>36.52219</td><td>26.5216</td><td> -6.912368</td></tr>\n",
       "\t<tr><th scope=row>6</th><td>2004-01-06</td><td>-11.309390</td><td>Energy Balance</td><td>32.12189</td><td>34.3105</td><td>-11.309390</td></tr>\n",
       "</tbody>\n",
       "</table>\n"
      ],
      "text/latex": [
       "A data.frame: 6 x 6\n",
       "\\begin{tabular}{r|llllll}\n",
       "  & TIMESTAMP & netrad & netrad\\_method & netrad\\_approx & netrad\\_simple & netrad\\_energy\\_balance\\\\\n",
       "  & <chr> & <dbl> & <chr> & <dbl> & <dbl> & <dbl>\\\\\n",
       "\\hline\n",
       "\t1 & 2004-01-01 &   1.339710 & Energy Balance & 30.30515 & 25.6662 &   1.339710\\\\\n",
       "\t2 & 2004-01-02 &  -4.381670 & Energy Balance & 34.67159 & 28.0546 &  -4.381670\\\\\n",
       "\t3 & 2004-01-03 &  -4.583730 & Energy Balance & 16.32752 & 28.1029 &  -4.583730\\\\\n",
       "\t4 & 2004-01-04 &  -9.018790 & Energy Balance & 28.20961 & 37.5893 &  -9.018790\\\\\n",
       "\t5 & 2004-01-05 &  -6.912368 & Energy Balance & 36.52219 & 26.5216 &  -6.912368\\\\\n",
       "\t6 & 2004-01-06 & -11.309390 & Energy Balance & 32.12189 & 34.3105 & -11.309390\\\\\n",
       "\\end{tabular}\n"
      ],
      "text/markdown": [
       "\n",
       "A data.frame: 6 x 6\n",
       "\n",
       "| <!--/--> | TIMESTAMP &lt;chr&gt; | netrad &lt;dbl&gt; | netrad_method &lt;chr&gt; | netrad_approx &lt;dbl&gt; | netrad_simple &lt;dbl&gt; | netrad_energy_balance &lt;dbl&gt; |\n",
       "|---|---|---|---|---|---|---|\n",
       "| 1 | 2004-01-01 |   1.339710 | Energy Balance | 30.30515 | 25.6662 |   1.339710 |\n",
       "| 2 | 2004-01-02 |  -4.381670 | Energy Balance | 34.67159 | 28.0546 |  -4.381670 |\n",
       "| 3 | 2004-01-03 |  -4.583730 | Energy Balance | 16.32752 | 28.1029 |  -4.583730 |\n",
       "| 4 | 2004-01-04 |  -9.018790 | Energy Balance | 28.20961 | 37.5893 |  -9.018790 |\n",
       "| 5 | 2004-01-05 |  -6.912368 | Energy Balance | 36.52219 | 26.5216 |  -6.912368 |\n",
       "| 6 | 2004-01-06 | -11.309390 | Energy Balance | 32.12189 | 34.3105 | -11.309390 |\n",
       "\n"
      ],
      "text/plain": [
       "  TIMESTAMP  netrad     netrad_method  netrad_approx netrad_simple\n",
       "1 2004-01-01   1.339710 Energy Balance 30.30515      25.6662      \n",
       "2 2004-01-02  -4.381670 Energy Balance 34.67159      28.0546      \n",
       "3 2004-01-03  -4.583730 Energy Balance 16.32752      28.1029      \n",
       "4 2004-01-04  -9.018790 Energy Balance 28.20961      37.5893      \n",
       "5 2004-01-05  -6.912368 Energy Balance 36.52219      26.5216      \n",
       "6 2004-01-06 -11.309390 Energy Balance 32.12189      34.3105      \n",
       "  netrad_energy_balance\n",
       "1   1.339710           \n",
       "2  -4.381670           \n",
       "3  -4.583730           \n",
       "4  -9.018790           \n",
       "5  -6.912368           \n",
       "6 -11.309390           "
      ]
     },
     "metadata": {},
     "output_type": "display_data"
    },
    {
     "data": {
      "text/html": [
       "<table class=\"dataframe\">\n",
       "<caption>A data.frame: 6 x 15</caption>\n",
       "<thead>\n",
       "\t<tr><th></th><th scope=col>date</th><th scope=col>temp</th><th scope=col>vpd</th><th scope=col>ppfd</th><th scope=col>netrad</th><th scope=col>patm</th><th scope=col>snow</th><th scope=col>rain</th><th scope=col>tmin</th><th scope=col>tmax</th><th scope=col>vwind</th><th scope=col>fapar</th><th scope=col>co2</th><th scope=col>ccov</th><th scope=col>nee</th></tr>\n",
       "\t<tr><th></th><th scope=col>&lt;date&gt;</th><th scope=col>&lt;dbl&gt;</th><th scope=col>&lt;dbl&gt;</th><th scope=col>&lt;dbl&gt;</th><th scope=col>&lt;dbl&gt;</th><th scope=col>&lt;lgl&gt;</th><th scope=col>&lt;lgl&gt;</th><th scope=col>&lt;lgl&gt;</th><th scope=col>&lt;dbl&gt;</th><th scope=col>&lt;dbl&gt;</th><th scope=col>&lt;dbl&gt;</th><th scope=col>&lt;lgl&gt;</th><th scope=col>&lt;lgl&gt;</th><th scope=col>&lt;lgl&gt;</th><th scope=col>&lt;lgl&gt;</th></tr>\n",
       "</thead>\n",
       "<tbody>\n",
       "\t<tr><th scope=row>1</th><td>2004-01-01</td><td>-0.389250</td><td>0.0651250</td><td>6.514874</td><td>  1.339710</td><td>NA</td><td>NA</td><td>NA</td><td> -1.23</td><td>-0.01</td><td>1.520</td><td>NA</td><td>NA</td><td>NA</td><td>NA</td></tr>\n",
       "\t<tr><th scope=row>2</th><td>2004-01-02</td><td>-1.068542</td><td>0.0000000</td><td>7.121123</td><td> -4.381670</td><td>NA</td><td>NA</td><td>NA</td><td> -2.06</td><td>-0.05</td><td>2.022</td><td>NA</td><td>NA</td><td>NA</td><td>NA</td></tr>\n",
       "\t<tr><th scope=row>3</th><td>2004-01-03</td><td>-3.388542</td><td>0.0708750</td><td>7.133383</td><td> -4.583730</td><td>NA</td><td>NA</td><td>NA</td><td> -5.82</td><td>-2.19</td><td>2.716</td><td>NA</td><td>NA</td><td>NA</td><td>NA</td></tr>\n",
       "\t<tr><th scope=row>4</th><td>2004-01-04</td><td>-5.488958</td><td>0.7600417</td><td>9.541324</td><td> -9.018790</td><td>NA</td><td>NA</td><td>NA</td><td>-10.45</td><td>-1.48</td><td>1.089</td><td>NA</td><td>NA</td><td>NA</td><td>NA</td></tr>\n",
       "\t<tr><th scope=row>5</th><td>2004-01-05</td><td>-2.451458</td><td>0.2392917</td><td>6.732000</td><td> -6.912368</td><td>NA</td><td>NA</td><td>NA</td><td> -8.10</td><td> 0.53</td><td>0.675</td><td>NA</td><td>NA</td><td>NA</td><td>NA</td></tr>\n",
       "\t<tr><th scope=row>6</th><td>2004-01-06</td><td>-2.562083</td><td>0.2383750</td><td>8.709064</td><td>-11.309390</td><td>NA</td><td>NA</td><td>NA</td><td> -7.24</td><td> 0.35</td><td>0.701</td><td>NA</td><td>NA</td><td>NA</td><td>NA</td></tr>\n",
       "</tbody>\n",
       "</table>\n"
      ],
      "text/latex": [
       "A data.frame: 6 x 15\n",
       "\\begin{tabular}{r|lllllllllllllll}\n",
       "  & date & temp & vpd & ppfd & netrad & patm & snow & rain & tmin & tmax & vwind & fapar & co2 & ccov & nee\\\\\n",
       "  & <date> & <dbl> & <dbl> & <dbl> & <dbl> & <lgl> & <lgl> & <lgl> & <dbl> & <dbl> & <dbl> & <lgl> & <lgl> & <lgl> & <lgl>\\\\\n",
       "\\hline\n",
       "\t1 & 2004-01-01 & -0.389250 & 0.0651250 & 6.514874 &   1.339710 & NA & NA & NA &  -1.23 & -0.01 & 1.520 & NA & NA & NA & NA\\\\\n",
       "\t2 & 2004-01-02 & -1.068542 & 0.0000000 & 7.121123 &  -4.381670 & NA & NA & NA &  -2.06 & -0.05 & 2.022 & NA & NA & NA & NA\\\\\n",
       "\t3 & 2004-01-03 & -3.388542 & 0.0708750 & 7.133383 &  -4.583730 & NA & NA & NA &  -5.82 & -2.19 & 2.716 & NA & NA & NA & NA\\\\\n",
       "\t4 & 2004-01-04 & -5.488958 & 0.7600417 & 9.541324 &  -9.018790 & NA & NA & NA & -10.45 & -1.48 & 1.089 & NA & NA & NA & NA\\\\\n",
       "\t5 & 2004-01-05 & -2.451458 & 0.2392917 & 6.732000 &  -6.912368 & NA & NA & NA &  -8.10 &  0.53 & 0.675 & NA & NA & NA & NA\\\\\n",
       "\t6 & 2004-01-06 & -2.562083 & 0.2383750 & 8.709064 & -11.309390 & NA & NA & NA &  -7.24 &  0.35 & 0.701 & NA & NA & NA & NA\\\\\n",
       "\\end{tabular}\n"
      ],
      "text/markdown": [
       "\n",
       "A data.frame: 6 x 15\n",
       "\n",
       "| <!--/--> | date &lt;date&gt; | temp &lt;dbl&gt; | vpd &lt;dbl&gt; | ppfd &lt;dbl&gt; | netrad &lt;dbl&gt; | patm &lt;lgl&gt; | snow &lt;lgl&gt; | rain &lt;lgl&gt; | tmin &lt;dbl&gt; | tmax &lt;dbl&gt; | vwind &lt;dbl&gt; | fapar &lt;lgl&gt; | co2 &lt;lgl&gt; | ccov &lt;lgl&gt; | nee &lt;lgl&gt; |\n",
       "|---|---|---|---|---|---|---|---|---|---|---|---|---|---|---|---|\n",
       "| 1 | 2004-01-01 | -0.389250 | 0.0651250 | 6.514874 |   1.339710 | NA | NA | NA |  -1.23 | -0.01 | 1.520 | NA | NA | NA | NA |\n",
       "| 2 | 2004-01-02 | -1.068542 | 0.0000000 | 7.121123 |  -4.381670 | NA | NA | NA |  -2.06 | -0.05 | 2.022 | NA | NA | NA | NA |\n",
       "| 3 | 2004-01-03 | -3.388542 | 0.0708750 | 7.133383 |  -4.583730 | NA | NA | NA |  -5.82 | -2.19 | 2.716 | NA | NA | NA | NA |\n",
       "| 4 | 2004-01-04 | -5.488958 | 0.7600417 | 9.541324 |  -9.018790 | NA | NA | NA | -10.45 | -1.48 | 1.089 | NA | NA | NA | NA |\n",
       "| 5 | 2004-01-05 | -2.451458 | 0.2392917 | 6.732000 |  -6.912368 | NA | NA | NA |  -8.10 |  0.53 | 0.675 | NA | NA | NA | NA |\n",
       "| 6 | 2004-01-06 | -2.562083 | 0.2383750 | 8.709064 | -11.309390 | NA | NA | NA |  -7.24 |  0.35 | 0.701 | NA | NA | NA | NA |\n",
       "\n"
      ],
      "text/plain": [
       "  date       temp      vpd       ppfd     netrad     patm snow rain tmin  \n",
       "1 2004-01-01 -0.389250 0.0651250 6.514874   1.339710 NA   NA   NA    -1.23\n",
       "2 2004-01-02 -1.068542 0.0000000 7.121123  -4.381670 NA   NA   NA    -2.06\n",
       "3 2004-01-03 -3.388542 0.0708750 7.133383  -4.583730 NA   NA   NA    -5.82\n",
       "4 2004-01-04 -5.488958 0.7600417 9.541324  -9.018790 NA   NA   NA   -10.45\n",
       "5 2004-01-05 -2.451458 0.2392917 6.732000  -6.912368 NA   NA   NA    -8.10\n",
       "6 2004-01-06 -2.562083 0.2383750 8.709064 -11.309390 NA   NA   NA    -7.24\n",
       "  tmax  vwind fapar co2 ccov nee\n",
       "1 -0.01 1.520 NA    NA  NA   NA \n",
       "2 -0.05 2.022 NA    NA  NA   NA \n",
       "3 -2.19 2.716 NA    NA  NA   NA \n",
       "4 -1.48 1.089 NA    NA  NA   NA \n",
       "5  0.53 0.675 NA    NA  NA   NA \n",
       "6  0.35 0.701 NA    NA  NA   NA "
      ]
     },
     "metadata": {},
     "output_type": "display_data"
    }
   ],
   "source": [
    "# read netrad data\n",
    "netrad_data <- read.csv(\"../data/01_data_prep/04_netrad.csv\")\n",
    "# print the head of the netrad_data \n",
    "head(netrad_data)\n",
    "# convert date column to Date type\n",
    "netrad_data$TIMESTAMP <- as.Date(netrad_data$TIMESTAMP)\n",
    "# rename the TIMESTAMP column to date\n",
    "colnames(netrad_data)[colnames(netrad_data) == \"TIMESTAMP\"] <- \"date\"\n",
    "# update the existing columns in df with values from netrad_data\n",
    "df <- df %>% \n",
    "    left_join(netrad_data %>% select(date, netrad), by = \"date\", suffix = c(\"\", \"_new\")) %>%\n",
    "    mutate(netrad = netrad_new) %>%\n",
    "    select(-netrad_new)\n",
    "# print the head of the df\n",
    "head(df)"
   ]
  },
  {
   "cell_type": "markdown",
   "id": "bbf0711e",
   "metadata": {},
   "source": [
    "### pa"
   ]
  },
  {
   "cell_type": "code",
   "execution_count": 271,
   "id": "5c7c4cf5",
   "metadata": {
    "vscode": {
     "languageId": "r"
    }
   },
   "outputs": [
    {
     "data": {
      "text/html": [
       "<table class=\"dataframe\">\n",
       "<caption>A data.frame: 6 x 3</caption>\n",
       "<thead>\n",
       "\t<tr><th></th><th scope=col>TIMESTAMP</th><th scope=col>PA_F_kpa</th><th scope=col>PA_F_pa</th></tr>\n",
       "\t<tr><th></th><th scope=col>&lt;chr&gt;</th><th scope=col>&lt;dbl&gt;</th><th scope=col>&lt;int&gt;</th></tr>\n",
       "</thead>\n",
       "<tbody>\n",
       "\t<tr><th scope=row>1</th><td>2004-01-01</td><td>95.825</td><td>95825</td></tr>\n",
       "\t<tr><th scope=row>2</th><td>2004-01-02</td><td>95.455</td><td>95455</td></tr>\n",
       "\t<tr><th scope=row>3</th><td>2004-01-03</td><td>96.232</td><td>96232</td></tr>\n",
       "\t<tr><th scope=row>4</th><td>2004-01-04</td><td>96.367</td><td>96367</td></tr>\n",
       "\t<tr><th scope=row>5</th><td>2004-01-05</td><td>96.710</td><td>96710</td></tr>\n",
       "\t<tr><th scope=row>6</th><td>2004-01-06</td><td>96.656</td><td>96656</td></tr>\n",
       "</tbody>\n",
       "</table>\n"
      ],
      "text/latex": [
       "A data.frame: 6 x 3\n",
       "\\begin{tabular}{r|lll}\n",
       "  & TIMESTAMP & PA\\_F\\_kpa & PA\\_F\\_pa\\\\\n",
       "  & <chr> & <dbl> & <int>\\\\\n",
       "\\hline\n",
       "\t1 & 2004-01-01 & 95.825 & 95825\\\\\n",
       "\t2 & 2004-01-02 & 95.455 & 95455\\\\\n",
       "\t3 & 2004-01-03 & 96.232 & 96232\\\\\n",
       "\t4 & 2004-01-04 & 96.367 & 96367\\\\\n",
       "\t5 & 2004-01-05 & 96.710 & 96710\\\\\n",
       "\t6 & 2004-01-06 & 96.656 & 96656\\\\\n",
       "\\end{tabular}\n"
      ],
      "text/markdown": [
       "\n",
       "A data.frame: 6 x 3\n",
       "\n",
       "| <!--/--> | TIMESTAMP &lt;chr&gt; | PA_F_kpa &lt;dbl&gt; | PA_F_pa &lt;int&gt; |\n",
       "|---|---|---|---|\n",
       "| 1 | 2004-01-01 | 95.825 | 95825 |\n",
       "| 2 | 2004-01-02 | 95.455 | 95455 |\n",
       "| 3 | 2004-01-03 | 96.232 | 96232 |\n",
       "| 4 | 2004-01-04 | 96.367 | 96367 |\n",
       "| 5 | 2004-01-05 | 96.710 | 96710 |\n",
       "| 6 | 2004-01-06 | 96.656 | 96656 |\n",
       "\n"
      ],
      "text/plain": [
       "  TIMESTAMP  PA_F_kpa PA_F_pa\n",
       "1 2004-01-01 95.825   95825  \n",
       "2 2004-01-02 95.455   95455  \n",
       "3 2004-01-03 96.232   96232  \n",
       "4 2004-01-04 96.367   96367  \n",
       "5 2004-01-05 96.710   96710  \n",
       "6 2004-01-06 96.656   96656  "
      ]
     },
     "metadata": {},
     "output_type": "display_data"
    },
    {
     "data": {
      "text/html": [
       "<table class=\"dataframe\">\n",
       "<caption>A data.frame: 6 x 15</caption>\n",
       "<thead>\n",
       "\t<tr><th></th><th scope=col>date</th><th scope=col>temp</th><th scope=col>vpd</th><th scope=col>ppfd</th><th scope=col>netrad</th><th scope=col>patm</th><th scope=col>snow</th><th scope=col>rain</th><th scope=col>tmin</th><th scope=col>tmax</th><th scope=col>vwind</th><th scope=col>fapar</th><th scope=col>co2</th><th scope=col>ccov</th><th scope=col>nee</th></tr>\n",
       "\t<tr><th></th><th scope=col>&lt;date&gt;</th><th scope=col>&lt;dbl&gt;</th><th scope=col>&lt;dbl&gt;</th><th scope=col>&lt;dbl&gt;</th><th scope=col>&lt;dbl&gt;</th><th scope=col>&lt;int&gt;</th><th scope=col>&lt;lgl&gt;</th><th scope=col>&lt;lgl&gt;</th><th scope=col>&lt;dbl&gt;</th><th scope=col>&lt;dbl&gt;</th><th scope=col>&lt;dbl&gt;</th><th scope=col>&lt;lgl&gt;</th><th scope=col>&lt;lgl&gt;</th><th scope=col>&lt;lgl&gt;</th><th scope=col>&lt;lgl&gt;</th></tr>\n",
       "</thead>\n",
       "<tbody>\n",
       "\t<tr><th scope=row>1</th><td>2004-01-01</td><td>-0.389250</td><td>0.0651250</td><td>6.514874</td><td>  1.339710</td><td>95825</td><td>NA</td><td>NA</td><td> -1.23</td><td>-0.01</td><td>1.520</td><td>NA</td><td>NA</td><td>NA</td><td>NA</td></tr>\n",
       "\t<tr><th scope=row>2</th><td>2004-01-02</td><td>-1.068542</td><td>0.0000000</td><td>7.121123</td><td> -4.381670</td><td>95455</td><td>NA</td><td>NA</td><td> -2.06</td><td>-0.05</td><td>2.022</td><td>NA</td><td>NA</td><td>NA</td><td>NA</td></tr>\n",
       "\t<tr><th scope=row>3</th><td>2004-01-03</td><td>-3.388542</td><td>0.0708750</td><td>7.133383</td><td> -4.583730</td><td>96232</td><td>NA</td><td>NA</td><td> -5.82</td><td>-2.19</td><td>2.716</td><td>NA</td><td>NA</td><td>NA</td><td>NA</td></tr>\n",
       "\t<tr><th scope=row>4</th><td>2004-01-04</td><td>-5.488958</td><td>0.7600417</td><td>9.541324</td><td> -9.018790</td><td>96367</td><td>NA</td><td>NA</td><td>-10.45</td><td>-1.48</td><td>1.089</td><td>NA</td><td>NA</td><td>NA</td><td>NA</td></tr>\n",
       "\t<tr><th scope=row>5</th><td>2004-01-05</td><td>-2.451458</td><td>0.2392917</td><td>6.732000</td><td> -6.912368</td><td>96710</td><td>NA</td><td>NA</td><td> -8.10</td><td> 0.53</td><td>0.675</td><td>NA</td><td>NA</td><td>NA</td><td>NA</td></tr>\n",
       "\t<tr><th scope=row>6</th><td>2004-01-06</td><td>-2.562083</td><td>0.2383750</td><td>8.709064</td><td>-11.309390</td><td>96656</td><td>NA</td><td>NA</td><td> -7.24</td><td> 0.35</td><td>0.701</td><td>NA</td><td>NA</td><td>NA</td><td>NA</td></tr>\n",
       "</tbody>\n",
       "</table>\n"
      ],
      "text/latex": [
       "A data.frame: 6 x 15\n",
       "\\begin{tabular}{r|lllllllllllllll}\n",
       "  & date & temp & vpd & ppfd & netrad & patm & snow & rain & tmin & tmax & vwind & fapar & co2 & ccov & nee\\\\\n",
       "  & <date> & <dbl> & <dbl> & <dbl> & <dbl> & <int> & <lgl> & <lgl> & <dbl> & <dbl> & <dbl> & <lgl> & <lgl> & <lgl> & <lgl>\\\\\n",
       "\\hline\n",
       "\t1 & 2004-01-01 & -0.389250 & 0.0651250 & 6.514874 &   1.339710 & 95825 & NA & NA &  -1.23 & -0.01 & 1.520 & NA & NA & NA & NA\\\\\n",
       "\t2 & 2004-01-02 & -1.068542 & 0.0000000 & 7.121123 &  -4.381670 & 95455 & NA & NA &  -2.06 & -0.05 & 2.022 & NA & NA & NA & NA\\\\\n",
       "\t3 & 2004-01-03 & -3.388542 & 0.0708750 & 7.133383 &  -4.583730 & 96232 & NA & NA &  -5.82 & -2.19 & 2.716 & NA & NA & NA & NA\\\\\n",
       "\t4 & 2004-01-04 & -5.488958 & 0.7600417 & 9.541324 &  -9.018790 & 96367 & NA & NA & -10.45 & -1.48 & 1.089 & NA & NA & NA & NA\\\\\n",
       "\t5 & 2004-01-05 & -2.451458 & 0.2392917 & 6.732000 &  -6.912368 & 96710 & NA & NA &  -8.10 &  0.53 & 0.675 & NA & NA & NA & NA\\\\\n",
       "\t6 & 2004-01-06 & -2.562083 & 0.2383750 & 8.709064 & -11.309390 & 96656 & NA & NA &  -7.24 &  0.35 & 0.701 & NA & NA & NA & NA\\\\\n",
       "\\end{tabular}\n"
      ],
      "text/markdown": [
       "\n",
       "A data.frame: 6 x 15\n",
       "\n",
       "| <!--/--> | date &lt;date&gt; | temp &lt;dbl&gt; | vpd &lt;dbl&gt; | ppfd &lt;dbl&gt; | netrad &lt;dbl&gt; | patm &lt;int&gt; | snow &lt;lgl&gt; | rain &lt;lgl&gt; | tmin &lt;dbl&gt; | tmax &lt;dbl&gt; | vwind &lt;dbl&gt; | fapar &lt;lgl&gt; | co2 &lt;lgl&gt; | ccov &lt;lgl&gt; | nee &lt;lgl&gt; |\n",
       "|---|---|---|---|---|---|---|---|---|---|---|---|---|---|---|---|\n",
       "| 1 | 2004-01-01 | -0.389250 | 0.0651250 | 6.514874 |   1.339710 | 95825 | NA | NA |  -1.23 | -0.01 | 1.520 | NA | NA | NA | NA |\n",
       "| 2 | 2004-01-02 | -1.068542 | 0.0000000 | 7.121123 |  -4.381670 | 95455 | NA | NA |  -2.06 | -0.05 | 2.022 | NA | NA | NA | NA |\n",
       "| 3 | 2004-01-03 | -3.388542 | 0.0708750 | 7.133383 |  -4.583730 | 96232 | NA | NA |  -5.82 | -2.19 | 2.716 | NA | NA | NA | NA |\n",
       "| 4 | 2004-01-04 | -5.488958 | 0.7600417 | 9.541324 |  -9.018790 | 96367 | NA | NA | -10.45 | -1.48 | 1.089 | NA | NA | NA | NA |\n",
       "| 5 | 2004-01-05 | -2.451458 | 0.2392917 | 6.732000 |  -6.912368 | 96710 | NA | NA |  -8.10 |  0.53 | 0.675 | NA | NA | NA | NA |\n",
       "| 6 | 2004-01-06 | -2.562083 | 0.2383750 | 8.709064 | -11.309390 | 96656 | NA | NA |  -7.24 |  0.35 | 0.701 | NA | NA | NA | NA |\n",
       "\n"
      ],
      "text/plain": [
       "  date       temp      vpd       ppfd     netrad     patm  snow rain tmin  \n",
       "1 2004-01-01 -0.389250 0.0651250 6.514874   1.339710 95825 NA   NA    -1.23\n",
       "2 2004-01-02 -1.068542 0.0000000 7.121123  -4.381670 95455 NA   NA    -2.06\n",
       "3 2004-01-03 -3.388542 0.0708750 7.133383  -4.583730 96232 NA   NA    -5.82\n",
       "4 2004-01-04 -5.488958 0.7600417 9.541324  -9.018790 96367 NA   NA   -10.45\n",
       "5 2004-01-05 -2.451458 0.2392917 6.732000  -6.912368 96710 NA   NA    -8.10\n",
       "6 2004-01-06 -2.562083 0.2383750 8.709064 -11.309390 96656 NA   NA    -7.24\n",
       "  tmax  vwind fapar co2 ccov nee\n",
       "1 -0.01 1.520 NA    NA  NA   NA \n",
       "2 -0.05 2.022 NA    NA  NA   NA \n",
       "3 -2.19 2.716 NA    NA  NA   NA \n",
       "4 -1.48 1.089 NA    NA  NA   NA \n",
       "5  0.53 0.675 NA    NA  NA   NA \n",
       "6  0.35 0.701 NA    NA  NA   NA "
      ]
     },
     "metadata": {},
     "output_type": "display_data"
    }
   ],
   "source": [
    "# read pa data\n",
    "pa_data <- read.csv(\"../data/01_data_prep/05_pa.csv\")\n",
    "# print the head of the pa_data\n",
    "head(pa_data)\n",
    "# convert date column to Date type\n",
    "pa_data$TIMESTAMP <- as.Date(pa_data$TIMESTAMP)\n",
    "# rename the TIMESTAMP column to date\n",
    "colnames(pa_data)[colnames(pa_data) == \"TIMESTAMP\"] <- \"date\"\n",
    "# update the existing columns in df with values from pa_data\n",
    "df <- df %>% \n",
    "    left_join(pa_data %>% select(date, PA_F_pa), by = \"date\", suffix = c(\"\", \"_new\"))  %>% \n",
    "    mutate(patm = PA_F_pa) %>%\n",
    "    select(-PA_F_pa)\n",
    "# print the head of the df\n",
    "head(df)"
   ]
  },
  {
   "cell_type": "markdown",
   "id": "b3f9d9e3",
   "metadata": {},
   "source": [
    "### fapar"
   ]
  },
  {
   "cell_type": "code",
   "execution_count": 272,
   "id": "1273f207",
   "metadata": {
    "vscode": {
     "languageId": "r"
    }
   },
   "outputs": [
    {
     "data": {
      "text/html": [
       "<table class=\"dataframe\">\n",
       "<caption>A data.frame: 6 x 2</caption>\n",
       "<thead>\n",
       "\t<tr><th></th><th scope=col>date</th><th scope=col>fapar</th></tr>\n",
       "\t<tr><th></th><th scope=col>&lt;chr&gt;</th><th scope=col>&lt;dbl&gt;</th></tr>\n",
       "</thead>\n",
       "<tbody>\n",
       "\t<tr><th scope=row>1</th><td>2004-01-01</td><td>0.02</td></tr>\n",
       "\t<tr><th scope=row>2</th><td>2004-01-02</td><td>0.02</td></tr>\n",
       "\t<tr><th scope=row>3</th><td>2004-01-03</td><td>0.02</td></tr>\n",
       "\t<tr><th scope=row>4</th><td>2004-01-04</td><td>0.02</td></tr>\n",
       "\t<tr><th scope=row>5</th><td>2004-01-05</td><td>0.02</td></tr>\n",
       "\t<tr><th scope=row>6</th><td>2004-01-06</td><td>0.02</td></tr>\n",
       "</tbody>\n",
       "</table>\n"
      ],
      "text/latex": [
       "A data.frame: 6 x 2\n",
       "\\begin{tabular}{r|ll}\n",
       "  & date & fapar\\\\\n",
       "  & <chr> & <dbl>\\\\\n",
       "\\hline\n",
       "\t1 & 2004-01-01 & 0.02\\\\\n",
       "\t2 & 2004-01-02 & 0.02\\\\\n",
       "\t3 & 2004-01-03 & 0.02\\\\\n",
       "\t4 & 2004-01-04 & 0.02\\\\\n",
       "\t5 & 2004-01-05 & 0.02\\\\\n",
       "\t6 & 2004-01-06 & 0.02\\\\\n",
       "\\end{tabular}\n"
      ],
      "text/markdown": [
       "\n",
       "A data.frame: 6 x 2\n",
       "\n",
       "| <!--/--> | date &lt;chr&gt; | fapar &lt;dbl&gt; |\n",
       "|---|---|---|\n",
       "| 1 | 2004-01-01 | 0.02 |\n",
       "| 2 | 2004-01-02 | 0.02 |\n",
       "| 3 | 2004-01-03 | 0.02 |\n",
       "| 4 | 2004-01-04 | 0.02 |\n",
       "| 5 | 2004-01-05 | 0.02 |\n",
       "| 6 | 2004-01-06 | 0.02 |\n",
       "\n"
      ],
      "text/plain": [
       "  date       fapar\n",
       "1 2004-01-01 0.02 \n",
       "2 2004-01-02 0.02 \n",
       "3 2004-01-03 0.02 \n",
       "4 2004-01-04 0.02 \n",
       "5 2004-01-05 0.02 \n",
       "6 2004-01-06 0.02 "
      ]
     },
     "metadata": {},
     "output_type": "display_data"
    },
    {
     "data": {
      "text/html": [
       "<table class=\"dataframe\">\n",
       "<caption>A data.frame: 6 x 15</caption>\n",
       "<thead>\n",
       "\t<tr><th></th><th scope=col>date</th><th scope=col>temp</th><th scope=col>vpd</th><th scope=col>ppfd</th><th scope=col>netrad</th><th scope=col>patm</th><th scope=col>snow</th><th scope=col>rain</th><th scope=col>tmin</th><th scope=col>tmax</th><th scope=col>vwind</th><th scope=col>fapar</th><th scope=col>co2</th><th scope=col>ccov</th><th scope=col>nee</th></tr>\n",
       "\t<tr><th></th><th scope=col>&lt;date&gt;</th><th scope=col>&lt;dbl&gt;</th><th scope=col>&lt;dbl&gt;</th><th scope=col>&lt;dbl&gt;</th><th scope=col>&lt;dbl&gt;</th><th scope=col>&lt;int&gt;</th><th scope=col>&lt;lgl&gt;</th><th scope=col>&lt;lgl&gt;</th><th scope=col>&lt;dbl&gt;</th><th scope=col>&lt;dbl&gt;</th><th scope=col>&lt;dbl&gt;</th><th scope=col>&lt;dbl&gt;</th><th scope=col>&lt;lgl&gt;</th><th scope=col>&lt;lgl&gt;</th><th scope=col>&lt;lgl&gt;</th></tr>\n",
       "</thead>\n",
       "<tbody>\n",
       "\t<tr><th scope=row>1</th><td>2004-01-01</td><td>-0.389250</td><td>0.0651250</td><td>6.514874</td><td>  1.339710</td><td>95825</td><td>NA</td><td>NA</td><td> -1.23</td><td>-0.01</td><td>1.520</td><td>0.02</td><td>NA</td><td>NA</td><td>NA</td></tr>\n",
       "\t<tr><th scope=row>2</th><td>2004-01-02</td><td>-1.068542</td><td>0.0000000</td><td>7.121123</td><td> -4.381670</td><td>95455</td><td>NA</td><td>NA</td><td> -2.06</td><td>-0.05</td><td>2.022</td><td>0.02</td><td>NA</td><td>NA</td><td>NA</td></tr>\n",
       "\t<tr><th scope=row>3</th><td>2004-01-03</td><td>-3.388542</td><td>0.0708750</td><td>7.133383</td><td> -4.583730</td><td>96232</td><td>NA</td><td>NA</td><td> -5.82</td><td>-2.19</td><td>2.716</td><td>0.02</td><td>NA</td><td>NA</td><td>NA</td></tr>\n",
       "\t<tr><th scope=row>4</th><td>2004-01-04</td><td>-5.488958</td><td>0.7600417</td><td>9.541324</td><td> -9.018790</td><td>96367</td><td>NA</td><td>NA</td><td>-10.45</td><td>-1.48</td><td>1.089</td><td>0.02</td><td>NA</td><td>NA</td><td>NA</td></tr>\n",
       "\t<tr><th scope=row>5</th><td>2004-01-05</td><td>-2.451458</td><td>0.2392917</td><td>6.732000</td><td> -6.912368</td><td>96710</td><td>NA</td><td>NA</td><td> -8.10</td><td> 0.53</td><td>0.675</td><td>0.02</td><td>NA</td><td>NA</td><td>NA</td></tr>\n",
       "\t<tr><th scope=row>6</th><td>2004-01-06</td><td>-2.562083</td><td>0.2383750</td><td>8.709064</td><td>-11.309390</td><td>96656</td><td>NA</td><td>NA</td><td> -7.24</td><td> 0.35</td><td>0.701</td><td>0.02</td><td>NA</td><td>NA</td><td>NA</td></tr>\n",
       "</tbody>\n",
       "</table>\n"
      ],
      "text/latex": [
       "A data.frame: 6 x 15\n",
       "\\begin{tabular}{r|lllllllllllllll}\n",
       "  & date & temp & vpd & ppfd & netrad & patm & snow & rain & tmin & tmax & vwind & fapar & co2 & ccov & nee\\\\\n",
       "  & <date> & <dbl> & <dbl> & <dbl> & <dbl> & <int> & <lgl> & <lgl> & <dbl> & <dbl> & <dbl> & <dbl> & <lgl> & <lgl> & <lgl>\\\\\n",
       "\\hline\n",
       "\t1 & 2004-01-01 & -0.389250 & 0.0651250 & 6.514874 &   1.339710 & 95825 & NA & NA &  -1.23 & -0.01 & 1.520 & 0.02 & NA & NA & NA\\\\\n",
       "\t2 & 2004-01-02 & -1.068542 & 0.0000000 & 7.121123 &  -4.381670 & 95455 & NA & NA &  -2.06 & -0.05 & 2.022 & 0.02 & NA & NA & NA\\\\\n",
       "\t3 & 2004-01-03 & -3.388542 & 0.0708750 & 7.133383 &  -4.583730 & 96232 & NA & NA &  -5.82 & -2.19 & 2.716 & 0.02 & NA & NA & NA\\\\\n",
       "\t4 & 2004-01-04 & -5.488958 & 0.7600417 & 9.541324 &  -9.018790 & 96367 & NA & NA & -10.45 & -1.48 & 1.089 & 0.02 & NA & NA & NA\\\\\n",
       "\t5 & 2004-01-05 & -2.451458 & 0.2392917 & 6.732000 &  -6.912368 & 96710 & NA & NA &  -8.10 &  0.53 & 0.675 & 0.02 & NA & NA & NA\\\\\n",
       "\t6 & 2004-01-06 & -2.562083 & 0.2383750 & 8.709064 & -11.309390 & 96656 & NA & NA &  -7.24 &  0.35 & 0.701 & 0.02 & NA & NA & NA\\\\\n",
       "\\end{tabular}\n"
      ],
      "text/markdown": [
       "\n",
       "A data.frame: 6 x 15\n",
       "\n",
       "| <!--/--> | date &lt;date&gt; | temp &lt;dbl&gt; | vpd &lt;dbl&gt; | ppfd &lt;dbl&gt; | netrad &lt;dbl&gt; | patm &lt;int&gt; | snow &lt;lgl&gt; | rain &lt;lgl&gt; | tmin &lt;dbl&gt; | tmax &lt;dbl&gt; | vwind &lt;dbl&gt; | fapar &lt;dbl&gt; | co2 &lt;lgl&gt; | ccov &lt;lgl&gt; | nee &lt;lgl&gt; |\n",
       "|---|---|---|---|---|---|---|---|---|---|---|---|---|---|---|---|\n",
       "| 1 | 2004-01-01 | -0.389250 | 0.0651250 | 6.514874 |   1.339710 | 95825 | NA | NA |  -1.23 | -0.01 | 1.520 | 0.02 | NA | NA | NA |\n",
       "| 2 | 2004-01-02 | -1.068542 | 0.0000000 | 7.121123 |  -4.381670 | 95455 | NA | NA |  -2.06 | -0.05 | 2.022 | 0.02 | NA | NA | NA |\n",
       "| 3 | 2004-01-03 | -3.388542 | 0.0708750 | 7.133383 |  -4.583730 | 96232 | NA | NA |  -5.82 | -2.19 | 2.716 | 0.02 | NA | NA | NA |\n",
       "| 4 | 2004-01-04 | -5.488958 | 0.7600417 | 9.541324 |  -9.018790 | 96367 | NA | NA | -10.45 | -1.48 | 1.089 | 0.02 | NA | NA | NA |\n",
       "| 5 | 2004-01-05 | -2.451458 | 0.2392917 | 6.732000 |  -6.912368 | 96710 | NA | NA |  -8.10 |  0.53 | 0.675 | 0.02 | NA | NA | NA |\n",
       "| 6 | 2004-01-06 | -2.562083 | 0.2383750 | 8.709064 | -11.309390 | 96656 | NA | NA |  -7.24 |  0.35 | 0.701 | 0.02 | NA | NA | NA |\n",
       "\n"
      ],
      "text/plain": [
       "  date       temp      vpd       ppfd     netrad     patm  snow rain tmin  \n",
       "1 2004-01-01 -0.389250 0.0651250 6.514874   1.339710 95825 NA   NA    -1.23\n",
       "2 2004-01-02 -1.068542 0.0000000 7.121123  -4.381670 95455 NA   NA    -2.06\n",
       "3 2004-01-03 -3.388542 0.0708750 7.133383  -4.583730 96232 NA   NA    -5.82\n",
       "4 2004-01-04 -5.488958 0.7600417 9.541324  -9.018790 96367 NA   NA   -10.45\n",
       "5 2004-01-05 -2.451458 0.2392917 6.732000  -6.912368 96710 NA   NA    -8.10\n",
       "6 2004-01-06 -2.562083 0.2383750 8.709064 -11.309390 96656 NA   NA    -7.24\n",
       "  tmax  vwind fapar co2 ccov nee\n",
       "1 -0.01 1.520 0.02  NA  NA   NA \n",
       "2 -0.05 2.022 0.02  NA  NA   NA \n",
       "3 -2.19 2.716 0.02  NA  NA   NA \n",
       "4 -1.48 1.089 0.02  NA  NA   NA \n",
       "5  0.53 0.675 0.02  NA  NA   NA \n",
       "6  0.35 0.701 0.02  NA  NA   NA "
      ]
     },
     "metadata": {},
     "output_type": "display_data"
    }
   ],
   "source": [
    "# read fapar data\n",
    "fapar_data <- read.csv(\"../data/01_data_prep/06a2_daily_fapar_2004-2023.csv\")\n",
    "# print the head of the fapar_data\n",
    "head(fapar_data)\n",
    "# convert date column to Date type\n",
    "fapar_data$date <- as.Date(fapar_data$date)\n",
    "\n",
    "# update the existing columns in df with values from fapar_data\n",
    "df <- df %>% \n",
    "    left_join(fapar_data %>% select(date, fapar), by = \"date\", suffix = c(\"\", \"_new\")) %>%\n",
    "    mutate(fapar = fapar_new) %>%\n",
    "    select(-fapar_new)\n",
    "# print the head of the df\n",
    "head(df)"
   ]
  },
  {
   "cell_type": "markdown",
   "id": "13255431",
   "metadata": {},
   "source": [
    "### co2"
   ]
  },
  {
   "cell_type": "code",
   "execution_count": 273,
   "id": "082a665b",
   "metadata": {
    "vscode": {
     "languageId": "r"
    }
   },
   "outputs": [
    {
     "data": {
      "text/html": [
       "<table class=\"dataframe\">\n",
       "<caption>A data.frame: 6 x 2</caption>\n",
       "<thead>\n",
       "\t<tr><th></th><th scope=col>TIMESTAMP</th><th scope=col>CO2_F_MDS</th></tr>\n",
       "\t<tr><th></th><th scope=col>&lt;chr&gt;</th><th scope=col>&lt;dbl&gt;</th></tr>\n",
       "</thead>\n",
       "<tbody>\n",
       "\t<tr><th scope=row>1</th><td>2004-01-01</td><td>384.872</td></tr>\n",
       "\t<tr><th scope=row>2</th><td>2004-01-02</td><td>377.952</td></tr>\n",
       "\t<tr><th scope=row>3</th><td>2004-01-03</td><td>385.627</td></tr>\n",
       "\t<tr><th scope=row>4</th><td>2004-01-04</td><td>402.001</td></tr>\n",
       "\t<tr><th scope=row>5</th><td>2004-01-05</td><td>437.166</td></tr>\n",
       "\t<tr><th scope=row>6</th><td>2004-01-06</td><td>507.266</td></tr>\n",
       "</tbody>\n",
       "</table>\n"
      ],
      "text/latex": [
       "A data.frame: 6 x 2\n",
       "\\begin{tabular}{r|ll}\n",
       "  & TIMESTAMP & CO2\\_F\\_MDS\\\\\n",
       "  & <chr> & <dbl>\\\\\n",
       "\\hline\n",
       "\t1 & 2004-01-01 & 384.872\\\\\n",
       "\t2 & 2004-01-02 & 377.952\\\\\n",
       "\t3 & 2004-01-03 & 385.627\\\\\n",
       "\t4 & 2004-01-04 & 402.001\\\\\n",
       "\t5 & 2004-01-05 & 437.166\\\\\n",
       "\t6 & 2004-01-06 & 507.266\\\\\n",
       "\\end{tabular}\n"
      ],
      "text/markdown": [
       "\n",
       "A data.frame: 6 x 2\n",
       "\n",
       "| <!--/--> | TIMESTAMP &lt;chr&gt; | CO2_F_MDS &lt;dbl&gt; |\n",
       "|---|---|---|\n",
       "| 1 | 2004-01-01 | 384.872 |\n",
       "| 2 | 2004-01-02 | 377.952 |\n",
       "| 3 | 2004-01-03 | 385.627 |\n",
       "| 4 | 2004-01-04 | 402.001 |\n",
       "| 5 | 2004-01-05 | 437.166 |\n",
       "| 6 | 2004-01-06 | 507.266 |\n",
       "\n"
      ],
      "text/plain": [
       "  TIMESTAMP  CO2_F_MDS\n",
       "1 2004-01-01 384.872  \n",
       "2 2004-01-02 377.952  \n",
       "3 2004-01-03 385.627  \n",
       "4 2004-01-04 402.001  \n",
       "5 2004-01-05 437.166  \n",
       "6 2004-01-06 507.266  "
      ]
     },
     "metadata": {},
     "output_type": "display_data"
    },
    {
     "data": {
      "text/html": [
       "<table class=\"dataframe\">\n",
       "<caption>A data.frame: 6 x 15</caption>\n",
       "<thead>\n",
       "\t<tr><th></th><th scope=col>date</th><th scope=col>temp</th><th scope=col>vpd</th><th scope=col>ppfd</th><th scope=col>netrad</th><th scope=col>patm</th><th scope=col>snow</th><th scope=col>rain</th><th scope=col>tmin</th><th scope=col>tmax</th><th scope=col>vwind</th><th scope=col>fapar</th><th scope=col>co2</th><th scope=col>ccov</th><th scope=col>nee</th></tr>\n",
       "\t<tr><th></th><th scope=col>&lt;date&gt;</th><th scope=col>&lt;dbl&gt;</th><th scope=col>&lt;dbl&gt;</th><th scope=col>&lt;dbl&gt;</th><th scope=col>&lt;dbl&gt;</th><th scope=col>&lt;int&gt;</th><th scope=col>&lt;lgl&gt;</th><th scope=col>&lt;lgl&gt;</th><th scope=col>&lt;dbl&gt;</th><th scope=col>&lt;dbl&gt;</th><th scope=col>&lt;dbl&gt;</th><th scope=col>&lt;dbl&gt;</th><th scope=col>&lt;dbl&gt;</th><th scope=col>&lt;lgl&gt;</th><th scope=col>&lt;lgl&gt;</th></tr>\n",
       "</thead>\n",
       "<tbody>\n",
       "\t<tr><th scope=row>1</th><td>2004-01-01</td><td>-0.389250</td><td>0.0651250</td><td>6.514874</td><td>  1.339710</td><td>95825</td><td>NA</td><td>NA</td><td> -1.23</td><td>-0.01</td><td>1.520</td><td>0.02</td><td>384.872</td><td>NA</td><td>NA</td></tr>\n",
       "\t<tr><th scope=row>2</th><td>2004-01-02</td><td>-1.068542</td><td>0.0000000</td><td>7.121123</td><td> -4.381670</td><td>95455</td><td>NA</td><td>NA</td><td> -2.06</td><td>-0.05</td><td>2.022</td><td>0.02</td><td>377.952</td><td>NA</td><td>NA</td></tr>\n",
       "\t<tr><th scope=row>3</th><td>2004-01-03</td><td>-3.388542</td><td>0.0708750</td><td>7.133383</td><td> -4.583730</td><td>96232</td><td>NA</td><td>NA</td><td> -5.82</td><td>-2.19</td><td>2.716</td><td>0.02</td><td>385.627</td><td>NA</td><td>NA</td></tr>\n",
       "\t<tr><th scope=row>4</th><td>2004-01-04</td><td>-5.488958</td><td>0.7600417</td><td>9.541324</td><td> -9.018790</td><td>96367</td><td>NA</td><td>NA</td><td>-10.45</td><td>-1.48</td><td>1.089</td><td>0.02</td><td>402.001</td><td>NA</td><td>NA</td></tr>\n",
       "\t<tr><th scope=row>5</th><td>2004-01-05</td><td>-2.451458</td><td>0.2392917</td><td>6.732000</td><td> -6.912368</td><td>96710</td><td>NA</td><td>NA</td><td> -8.10</td><td> 0.53</td><td>0.675</td><td>0.02</td><td>437.166</td><td>NA</td><td>NA</td></tr>\n",
       "\t<tr><th scope=row>6</th><td>2004-01-06</td><td>-2.562083</td><td>0.2383750</td><td>8.709064</td><td>-11.309390</td><td>96656</td><td>NA</td><td>NA</td><td> -7.24</td><td> 0.35</td><td>0.701</td><td>0.02</td><td>507.266</td><td>NA</td><td>NA</td></tr>\n",
       "</tbody>\n",
       "</table>\n"
      ],
      "text/latex": [
       "A data.frame: 6 x 15\n",
       "\\begin{tabular}{r|lllllllllllllll}\n",
       "  & date & temp & vpd & ppfd & netrad & patm & snow & rain & tmin & tmax & vwind & fapar & co2 & ccov & nee\\\\\n",
       "  & <date> & <dbl> & <dbl> & <dbl> & <dbl> & <int> & <lgl> & <lgl> & <dbl> & <dbl> & <dbl> & <dbl> & <dbl> & <lgl> & <lgl>\\\\\n",
       "\\hline\n",
       "\t1 & 2004-01-01 & -0.389250 & 0.0651250 & 6.514874 &   1.339710 & 95825 & NA & NA &  -1.23 & -0.01 & 1.520 & 0.02 & 384.872 & NA & NA\\\\\n",
       "\t2 & 2004-01-02 & -1.068542 & 0.0000000 & 7.121123 &  -4.381670 & 95455 & NA & NA &  -2.06 & -0.05 & 2.022 & 0.02 & 377.952 & NA & NA\\\\\n",
       "\t3 & 2004-01-03 & -3.388542 & 0.0708750 & 7.133383 &  -4.583730 & 96232 & NA & NA &  -5.82 & -2.19 & 2.716 & 0.02 & 385.627 & NA & NA\\\\\n",
       "\t4 & 2004-01-04 & -5.488958 & 0.7600417 & 9.541324 &  -9.018790 & 96367 & NA & NA & -10.45 & -1.48 & 1.089 & 0.02 & 402.001 & NA & NA\\\\\n",
       "\t5 & 2004-01-05 & -2.451458 & 0.2392917 & 6.732000 &  -6.912368 & 96710 & NA & NA &  -8.10 &  0.53 & 0.675 & 0.02 & 437.166 & NA & NA\\\\\n",
       "\t6 & 2004-01-06 & -2.562083 & 0.2383750 & 8.709064 & -11.309390 & 96656 & NA & NA &  -7.24 &  0.35 & 0.701 & 0.02 & 507.266 & NA & NA\\\\\n",
       "\\end{tabular}\n"
      ],
      "text/markdown": [
       "\n",
       "A data.frame: 6 x 15\n",
       "\n",
       "| <!--/--> | date &lt;date&gt; | temp &lt;dbl&gt; | vpd &lt;dbl&gt; | ppfd &lt;dbl&gt; | netrad &lt;dbl&gt; | patm &lt;int&gt; | snow &lt;lgl&gt; | rain &lt;lgl&gt; | tmin &lt;dbl&gt; | tmax &lt;dbl&gt; | vwind &lt;dbl&gt; | fapar &lt;dbl&gt; | co2 &lt;dbl&gt; | ccov &lt;lgl&gt; | nee &lt;lgl&gt; |\n",
       "|---|---|---|---|---|---|---|---|---|---|---|---|---|---|---|---|\n",
       "| 1 | 2004-01-01 | -0.389250 | 0.0651250 | 6.514874 |   1.339710 | 95825 | NA | NA |  -1.23 | -0.01 | 1.520 | 0.02 | 384.872 | NA | NA |\n",
       "| 2 | 2004-01-02 | -1.068542 | 0.0000000 | 7.121123 |  -4.381670 | 95455 | NA | NA |  -2.06 | -0.05 | 2.022 | 0.02 | 377.952 | NA | NA |\n",
       "| 3 | 2004-01-03 | -3.388542 | 0.0708750 | 7.133383 |  -4.583730 | 96232 | NA | NA |  -5.82 | -2.19 | 2.716 | 0.02 | 385.627 | NA | NA |\n",
       "| 4 | 2004-01-04 | -5.488958 | 0.7600417 | 9.541324 |  -9.018790 | 96367 | NA | NA | -10.45 | -1.48 | 1.089 | 0.02 | 402.001 | NA | NA |\n",
       "| 5 | 2004-01-05 | -2.451458 | 0.2392917 | 6.732000 |  -6.912368 | 96710 | NA | NA |  -8.10 |  0.53 | 0.675 | 0.02 | 437.166 | NA | NA |\n",
       "| 6 | 2004-01-06 | -2.562083 | 0.2383750 | 8.709064 | -11.309390 | 96656 | NA | NA |  -7.24 |  0.35 | 0.701 | 0.02 | 507.266 | NA | NA |\n",
       "\n"
      ],
      "text/plain": [
       "  date       temp      vpd       ppfd     netrad     patm  snow rain tmin  \n",
       "1 2004-01-01 -0.389250 0.0651250 6.514874   1.339710 95825 NA   NA    -1.23\n",
       "2 2004-01-02 -1.068542 0.0000000 7.121123  -4.381670 95455 NA   NA    -2.06\n",
       "3 2004-01-03 -3.388542 0.0708750 7.133383  -4.583730 96232 NA   NA    -5.82\n",
       "4 2004-01-04 -5.488958 0.7600417 9.541324  -9.018790 96367 NA   NA   -10.45\n",
       "5 2004-01-05 -2.451458 0.2392917 6.732000  -6.912368 96710 NA   NA    -8.10\n",
       "6 2004-01-06 -2.562083 0.2383750 8.709064 -11.309390 96656 NA   NA    -7.24\n",
       "  tmax  vwind fapar co2     ccov nee\n",
       "1 -0.01 1.520 0.02  384.872 NA   NA \n",
       "2 -0.05 2.022 0.02  377.952 NA   NA \n",
       "3 -2.19 2.716 0.02  385.627 NA   NA \n",
       "4 -1.48 1.089 0.02  402.001 NA   NA \n",
       "5  0.53 0.675 0.02  437.166 NA   NA \n",
       "6  0.35 0.701 0.02  507.266 NA   NA "
      ]
     },
     "metadata": {},
     "output_type": "display_data"
    }
   ],
   "source": [
    "# read co2 data\n",
    "co2_data <- read.csv(\"../data/01_data_prep/07_co2.csv\")\n",
    "# print the head of the co2_data\n",
    "head(co2_data)\n",
    "# convert date column to Date type\n",
    "co2_data$TIMESTAMP <- as.Date(co2_data$TIMESTAMP)\n",
    "# rename the TIMESTAMP column to date\n",
    "colnames(co2_data)[colnames(co2_data) == \"TIMESTAMP\"] <- \"date\"\n",
    "# update the existing columns in df with values from co2_data\n",
    "df <- df %>% \n",
    "    left_join(co2_data %>% select(date, CO2_F_MDS), by = \"date\", suffix = c(\"\", \"_new\"))  %>% \n",
    "    mutate(co2 = CO2_F_MDS) %>%\n",
    "    select(-CO2_F_MDS)\n",
    "# print the head of the df\n",
    "head(df)"
   ]
  },
  {
   "cell_type": "markdown",
   "id": "e827be50",
   "metadata": {},
   "source": [
    "### rain"
   ]
  },
  {
   "cell_type": "code",
   "execution_count": 274,
   "id": "73a3e65d",
   "metadata": {
    "vscode": {
     "languageId": "r"
    }
   },
   "outputs": [
    {
     "data": {
      "text/html": [
       "<table class=\"dataframe\">\n",
       "<caption>A data.frame: 6 x 2</caption>\n",
       "<thead>\n",
       "\t<tr><th></th><th scope=col>date</th><th scope=col>rain_mm</th></tr>\n",
       "\t<tr><th></th><th scope=col>&lt;chr&gt;</th><th scope=col>&lt;dbl&gt;</th></tr>\n",
       "</thead>\n",
       "<tbody>\n",
       "\t<tr><th scope=row>1</th><td>2004-01-01</td><td>1.6</td></tr>\n",
       "\t<tr><th scope=row>2</th><td>2004-01-02</td><td>0.5</td></tr>\n",
       "\t<tr><th scope=row>3</th><td>2004-01-03</td><td>0.0</td></tr>\n",
       "\t<tr><th scope=row>4</th><td>2004-01-04</td><td>0.0</td></tr>\n",
       "\t<tr><th scope=row>5</th><td>2004-01-05</td><td>0.0</td></tr>\n",
       "\t<tr><th scope=row>6</th><td>2004-01-06</td><td>0.0</td></tr>\n",
       "</tbody>\n",
       "</table>\n"
      ],
      "text/latex": [
       "A data.frame: 6 x 2\n",
       "\\begin{tabular}{r|ll}\n",
       "  & date & rain\\_mm\\\\\n",
       "  & <chr> & <dbl>\\\\\n",
       "\\hline\n",
       "\t1 & 2004-01-01 & 1.6\\\\\n",
       "\t2 & 2004-01-02 & 0.5\\\\\n",
       "\t3 & 2004-01-03 & 0.0\\\\\n",
       "\t4 & 2004-01-04 & 0.0\\\\\n",
       "\t5 & 2004-01-05 & 0.0\\\\\n",
       "\t6 & 2004-01-06 & 0.0\\\\\n",
       "\\end{tabular}\n"
      ],
      "text/markdown": [
       "\n",
       "A data.frame: 6 x 2\n",
       "\n",
       "| <!--/--> | date &lt;chr&gt; | rain_mm &lt;dbl&gt; |\n",
       "|---|---|---|\n",
       "| 1 | 2004-01-01 | 1.6 |\n",
       "| 2 | 2004-01-02 | 0.5 |\n",
       "| 3 | 2004-01-03 | 0.0 |\n",
       "| 4 | 2004-01-04 | 0.0 |\n",
       "| 5 | 2004-01-05 | 0.0 |\n",
       "| 6 | 2004-01-06 | 0.0 |\n",
       "\n"
      ],
      "text/plain": [
       "  date       rain_mm\n",
       "1 2004-01-01 1.6    \n",
       "2 2004-01-02 0.5    \n",
       "3 2004-01-03 0.0    \n",
       "4 2004-01-04 0.0    \n",
       "5 2004-01-05 0.0    \n",
       "6 2004-01-06 0.0    "
      ]
     },
     "metadata": {},
     "output_type": "display_data"
    },
    {
     "data": {
      "text/html": [
       "<table class=\"dataframe\">\n",
       "<caption>A data.frame: 6 x 15</caption>\n",
       "<thead>\n",
       "\t<tr><th></th><th scope=col>date</th><th scope=col>temp</th><th scope=col>vpd</th><th scope=col>ppfd</th><th scope=col>netrad</th><th scope=col>patm</th><th scope=col>snow</th><th scope=col>rain</th><th scope=col>tmin</th><th scope=col>tmax</th><th scope=col>vwind</th><th scope=col>fapar</th><th scope=col>co2</th><th scope=col>ccov</th><th scope=col>nee</th></tr>\n",
       "\t<tr><th></th><th scope=col>&lt;date&gt;</th><th scope=col>&lt;dbl&gt;</th><th scope=col>&lt;dbl&gt;</th><th scope=col>&lt;dbl&gt;</th><th scope=col>&lt;dbl&gt;</th><th scope=col>&lt;int&gt;</th><th scope=col>&lt;lgl&gt;</th><th scope=col>&lt;dbl&gt;</th><th scope=col>&lt;dbl&gt;</th><th scope=col>&lt;dbl&gt;</th><th scope=col>&lt;dbl&gt;</th><th scope=col>&lt;dbl&gt;</th><th scope=col>&lt;dbl&gt;</th><th scope=col>&lt;lgl&gt;</th><th scope=col>&lt;lgl&gt;</th></tr>\n",
       "</thead>\n",
       "<tbody>\n",
       "\t<tr><th scope=row>1</th><td>2004-01-01</td><td>-0.389250</td><td>0.0651250</td><td>6.514874</td><td>  1.339710</td><td>95825</td><td>NA</td><td>1.6</td><td> -1.23</td><td>-0.01</td><td>1.520</td><td>0.02</td><td>384.872</td><td>NA</td><td>NA</td></tr>\n",
       "\t<tr><th scope=row>2</th><td>2004-01-02</td><td>-1.068542</td><td>0.0000000</td><td>7.121123</td><td> -4.381670</td><td>95455</td><td>NA</td><td>0.5</td><td> -2.06</td><td>-0.05</td><td>2.022</td><td>0.02</td><td>377.952</td><td>NA</td><td>NA</td></tr>\n",
       "\t<tr><th scope=row>3</th><td>2004-01-03</td><td>-3.388542</td><td>0.0708750</td><td>7.133383</td><td> -4.583730</td><td>96232</td><td>NA</td><td>0.0</td><td> -5.82</td><td>-2.19</td><td>2.716</td><td>0.02</td><td>385.627</td><td>NA</td><td>NA</td></tr>\n",
       "\t<tr><th scope=row>4</th><td>2004-01-04</td><td>-5.488958</td><td>0.7600417</td><td>9.541324</td><td> -9.018790</td><td>96367</td><td>NA</td><td>0.0</td><td>-10.45</td><td>-1.48</td><td>1.089</td><td>0.02</td><td>402.001</td><td>NA</td><td>NA</td></tr>\n",
       "\t<tr><th scope=row>5</th><td>2004-01-05</td><td>-2.451458</td><td>0.2392917</td><td>6.732000</td><td> -6.912368</td><td>96710</td><td>NA</td><td>0.0</td><td> -8.10</td><td> 0.53</td><td>0.675</td><td>0.02</td><td>437.166</td><td>NA</td><td>NA</td></tr>\n",
       "\t<tr><th scope=row>6</th><td>2004-01-06</td><td>-2.562083</td><td>0.2383750</td><td>8.709064</td><td>-11.309390</td><td>96656</td><td>NA</td><td>0.0</td><td> -7.24</td><td> 0.35</td><td>0.701</td><td>0.02</td><td>507.266</td><td>NA</td><td>NA</td></tr>\n",
       "</tbody>\n",
       "</table>\n"
      ],
      "text/latex": [
       "A data.frame: 6 x 15\n",
       "\\begin{tabular}{r|lllllllllllllll}\n",
       "  & date & temp & vpd & ppfd & netrad & patm & snow & rain & tmin & tmax & vwind & fapar & co2 & ccov & nee\\\\\n",
       "  & <date> & <dbl> & <dbl> & <dbl> & <dbl> & <int> & <lgl> & <dbl> & <dbl> & <dbl> & <dbl> & <dbl> & <dbl> & <lgl> & <lgl>\\\\\n",
       "\\hline\n",
       "\t1 & 2004-01-01 & -0.389250 & 0.0651250 & 6.514874 &   1.339710 & 95825 & NA & 1.6 &  -1.23 & -0.01 & 1.520 & 0.02 & 384.872 & NA & NA\\\\\n",
       "\t2 & 2004-01-02 & -1.068542 & 0.0000000 & 7.121123 &  -4.381670 & 95455 & NA & 0.5 &  -2.06 & -0.05 & 2.022 & 0.02 & 377.952 & NA & NA\\\\\n",
       "\t3 & 2004-01-03 & -3.388542 & 0.0708750 & 7.133383 &  -4.583730 & 96232 & NA & 0.0 &  -5.82 & -2.19 & 2.716 & 0.02 & 385.627 & NA & NA\\\\\n",
       "\t4 & 2004-01-04 & -5.488958 & 0.7600417 & 9.541324 &  -9.018790 & 96367 & NA & 0.0 & -10.45 & -1.48 & 1.089 & 0.02 & 402.001 & NA & NA\\\\\n",
       "\t5 & 2004-01-05 & -2.451458 & 0.2392917 & 6.732000 &  -6.912368 & 96710 & NA & 0.0 &  -8.10 &  0.53 & 0.675 & 0.02 & 437.166 & NA & NA\\\\\n",
       "\t6 & 2004-01-06 & -2.562083 & 0.2383750 & 8.709064 & -11.309390 & 96656 & NA & 0.0 &  -7.24 &  0.35 & 0.701 & 0.02 & 507.266 & NA & NA\\\\\n",
       "\\end{tabular}\n"
      ],
      "text/markdown": [
       "\n",
       "A data.frame: 6 x 15\n",
       "\n",
       "| <!--/--> | date &lt;date&gt; | temp &lt;dbl&gt; | vpd &lt;dbl&gt; | ppfd &lt;dbl&gt; | netrad &lt;dbl&gt; | patm &lt;int&gt; | snow &lt;lgl&gt; | rain &lt;dbl&gt; | tmin &lt;dbl&gt; | tmax &lt;dbl&gt; | vwind &lt;dbl&gt; | fapar &lt;dbl&gt; | co2 &lt;dbl&gt; | ccov &lt;lgl&gt; | nee &lt;lgl&gt; |\n",
       "|---|---|---|---|---|---|---|---|---|---|---|---|---|---|---|---|\n",
       "| 1 | 2004-01-01 | -0.389250 | 0.0651250 | 6.514874 |   1.339710 | 95825 | NA | 1.6 |  -1.23 | -0.01 | 1.520 | 0.02 | 384.872 | NA | NA |\n",
       "| 2 | 2004-01-02 | -1.068542 | 0.0000000 | 7.121123 |  -4.381670 | 95455 | NA | 0.5 |  -2.06 | -0.05 | 2.022 | 0.02 | 377.952 | NA | NA |\n",
       "| 3 | 2004-01-03 | -3.388542 | 0.0708750 | 7.133383 |  -4.583730 | 96232 | NA | 0.0 |  -5.82 | -2.19 | 2.716 | 0.02 | 385.627 | NA | NA |\n",
       "| 4 | 2004-01-04 | -5.488958 | 0.7600417 | 9.541324 |  -9.018790 | 96367 | NA | 0.0 | -10.45 | -1.48 | 1.089 | 0.02 | 402.001 | NA | NA |\n",
       "| 5 | 2004-01-05 | -2.451458 | 0.2392917 | 6.732000 |  -6.912368 | 96710 | NA | 0.0 |  -8.10 |  0.53 | 0.675 | 0.02 | 437.166 | NA | NA |\n",
       "| 6 | 2004-01-06 | -2.562083 | 0.2383750 | 8.709064 | -11.309390 | 96656 | NA | 0.0 |  -7.24 |  0.35 | 0.701 | 0.02 | 507.266 | NA | NA |\n",
       "\n"
      ],
      "text/plain": [
       "  date       temp      vpd       ppfd     netrad     patm  snow rain tmin  \n",
       "1 2004-01-01 -0.389250 0.0651250 6.514874   1.339710 95825 NA   1.6   -1.23\n",
       "2 2004-01-02 -1.068542 0.0000000 7.121123  -4.381670 95455 NA   0.5   -2.06\n",
       "3 2004-01-03 -3.388542 0.0708750 7.133383  -4.583730 96232 NA   0.0   -5.82\n",
       "4 2004-01-04 -5.488958 0.7600417 9.541324  -9.018790 96367 NA   0.0  -10.45\n",
       "5 2004-01-05 -2.451458 0.2392917 6.732000  -6.912368 96710 NA   0.0   -8.10\n",
       "6 2004-01-06 -2.562083 0.2383750 8.709064 -11.309390 96656 NA   0.0   -7.24\n",
       "  tmax  vwind fapar co2     ccov nee\n",
       "1 -0.01 1.520 0.02  384.872 NA   NA \n",
       "2 -0.05 2.022 0.02  377.952 NA   NA \n",
       "3 -2.19 2.716 0.02  385.627 NA   NA \n",
       "4 -1.48 1.089 0.02  402.001 NA   NA \n",
       "5  0.53 0.675 0.02  437.166 NA   NA \n",
       "6  0.35 0.701 0.02  507.266 NA   NA "
      ]
     },
     "metadata": {},
     "output_type": "display_data"
    }
   ],
   "source": [
    "# read rain data\n",
    "rain_data <- read.csv(\"../data/01_data_prep/08_rain.csv\")\n",
    "# print the head of the rain_data\n",
    "head(rain_data)\n",
    "# convert date column to Date type\n",
    "rain_data$date <- as.Date(rain_data$date)\n",
    "# update the existing columns in df with values from rain_data\n",
    "df <- df %>% \n",
    "    left_join(rain_data %>% select(date, rain_mm), by = \"date\", suffix = c(\"\", \"_new\")) %>%\n",
    "    mutate(rain = rain_mm) %>%\n",
    "    select(-rain_mm)\n",
    "# print the head of the df\n",
    "head(df)"
   ]
  },
  {
   "cell_type": "markdown",
   "id": "cb2fd550",
   "metadata": {},
   "source": [
    "### ccov"
   ]
  },
  {
   "cell_type": "code",
   "execution_count": 275,
   "id": "655af341",
   "metadata": {
    "vscode": {
     "languageId": "r"
    }
   },
   "outputs": [
    {
     "data": {
      "text/html": [
       "<table class=\"dataframe\">\n",
       "<caption>A data.frame: 6 x 3</caption>\n",
       "<thead>\n",
       "\t<tr><th></th><th scope=col>date</th><th scope=col>cloud_cover</th><th scope=col>cloud_cover_percentage</th></tr>\n",
       "\t<tr><th></th><th scope=col>&lt;date&gt;</th><th scope=col>&lt;dbl&gt;</th><th scope=col>&lt;dbl&gt;</th></tr>\n",
       "</thead>\n",
       "<tbody>\n",
       "\t<tr><th scope=row>1</th><td>2004-01-01</td><td>1.0000000</td><td>100.00000</td></tr>\n",
       "\t<tr><th scope=row>2</th><td>2004-01-02</td><td>0.9373863</td><td> 93.73863</td></tr>\n",
       "\t<tr><th scope=row>3</th><td>2004-01-03</td><td>1.0000000</td><td>100.00000</td></tr>\n",
       "\t<tr><th scope=row>4</th><td>2004-01-04</td><td>0.7758400</td><td> 77.58400</td></tr>\n",
       "\t<tr><th scope=row>5</th><td>2004-01-05</td><td>0.8695803</td><td> 86.95803</td></tr>\n",
       "\t<tr><th scope=row>6</th><td>2004-01-06</td><td>0.9965465</td><td> 99.65465</td></tr>\n",
       "</tbody>\n",
       "</table>\n"
      ],
      "text/latex": [
       "A data.frame: 6 x 3\n",
       "\\begin{tabular}{r|lll}\n",
       "  & date & cloud\\_cover & cloud\\_cover\\_percentage\\\\\n",
       "  & <date> & <dbl> & <dbl>\\\\\n",
       "\\hline\n",
       "\t1 & 2004-01-01 & 1.0000000 & 100.00000\\\\\n",
       "\t2 & 2004-01-02 & 0.9373863 &  93.73863\\\\\n",
       "\t3 & 2004-01-03 & 1.0000000 & 100.00000\\\\\n",
       "\t4 & 2004-01-04 & 0.7758400 &  77.58400\\\\\n",
       "\t5 & 2004-01-05 & 0.8695803 &  86.95803\\\\\n",
       "\t6 & 2004-01-06 & 0.9965465 &  99.65465\\\\\n",
       "\\end{tabular}\n"
      ],
      "text/markdown": [
       "\n",
       "A data.frame: 6 x 3\n",
       "\n",
       "| <!--/--> | date &lt;date&gt; | cloud_cover &lt;dbl&gt; | cloud_cover_percentage &lt;dbl&gt; |\n",
       "|---|---|---|---|\n",
       "| 1 | 2004-01-01 | 1.0000000 | 100.00000 |\n",
       "| 2 | 2004-01-02 | 0.9373863 |  93.73863 |\n",
       "| 3 | 2004-01-03 | 1.0000000 | 100.00000 |\n",
       "| 4 | 2004-01-04 | 0.7758400 |  77.58400 |\n",
       "| 5 | 2004-01-05 | 0.8695803 |  86.95803 |\n",
       "| 6 | 2004-01-06 | 0.9965465 |  99.65465 |\n",
       "\n"
      ],
      "text/plain": [
       "  date       cloud_cover cloud_cover_percentage\n",
       "1 2004-01-01 1.0000000   100.00000             \n",
       "2 2004-01-02 0.9373863    93.73863             \n",
       "3 2004-01-03 1.0000000   100.00000             \n",
       "4 2004-01-04 0.7758400    77.58400             \n",
       "5 2004-01-05 0.8695803    86.95803             \n",
       "6 2004-01-06 0.9965465    99.65465             "
      ]
     },
     "metadata": {},
     "output_type": "display_data"
    },
    {
     "data": {
      "text/html": [
       "<table class=\"dataframe\">\n",
       "<caption>A data.frame: 6 x 15</caption>\n",
       "<thead>\n",
       "\t<tr><th></th><th scope=col>date</th><th scope=col>temp</th><th scope=col>vpd</th><th scope=col>ppfd</th><th scope=col>netrad</th><th scope=col>patm</th><th scope=col>snow</th><th scope=col>rain</th><th scope=col>tmin</th><th scope=col>tmax</th><th scope=col>vwind</th><th scope=col>fapar</th><th scope=col>co2</th><th scope=col>ccov</th><th scope=col>nee</th></tr>\n",
       "\t<tr><th></th><th scope=col>&lt;date&gt;</th><th scope=col>&lt;dbl&gt;</th><th scope=col>&lt;dbl&gt;</th><th scope=col>&lt;dbl&gt;</th><th scope=col>&lt;dbl&gt;</th><th scope=col>&lt;int&gt;</th><th scope=col>&lt;lgl&gt;</th><th scope=col>&lt;dbl&gt;</th><th scope=col>&lt;dbl&gt;</th><th scope=col>&lt;dbl&gt;</th><th scope=col>&lt;dbl&gt;</th><th scope=col>&lt;dbl&gt;</th><th scope=col>&lt;dbl&gt;</th><th scope=col>&lt;dbl&gt;</th><th scope=col>&lt;lgl&gt;</th></tr>\n",
       "</thead>\n",
       "<tbody>\n",
       "\t<tr><th scope=row>1</th><td>2004-01-01</td><td>-0.389250</td><td>0.0651250</td><td>6.514874</td><td>  1.339710</td><td>95825</td><td>NA</td><td>1.6</td><td> -1.23</td><td>-0.01</td><td>1.520</td><td>0.02</td><td>384.872</td><td>100.00000</td><td>NA</td></tr>\n",
       "\t<tr><th scope=row>2</th><td>2004-01-02</td><td>-1.068542</td><td>0.0000000</td><td>7.121123</td><td> -4.381670</td><td>95455</td><td>NA</td><td>0.5</td><td> -2.06</td><td>-0.05</td><td>2.022</td><td>0.02</td><td>377.952</td><td> 93.73863</td><td>NA</td></tr>\n",
       "\t<tr><th scope=row>3</th><td>2004-01-03</td><td>-3.388542</td><td>0.0708750</td><td>7.133383</td><td> -4.583730</td><td>96232</td><td>NA</td><td>0.0</td><td> -5.82</td><td>-2.19</td><td>2.716</td><td>0.02</td><td>385.627</td><td>100.00000</td><td>NA</td></tr>\n",
       "\t<tr><th scope=row>4</th><td>2004-01-04</td><td>-5.488958</td><td>0.7600417</td><td>9.541324</td><td> -9.018790</td><td>96367</td><td>NA</td><td>0.0</td><td>-10.45</td><td>-1.48</td><td>1.089</td><td>0.02</td><td>402.001</td><td> 77.58400</td><td>NA</td></tr>\n",
       "\t<tr><th scope=row>5</th><td>2004-01-05</td><td>-2.451458</td><td>0.2392917</td><td>6.732000</td><td> -6.912368</td><td>96710</td><td>NA</td><td>0.0</td><td> -8.10</td><td> 0.53</td><td>0.675</td><td>0.02</td><td>437.166</td><td> 86.95803</td><td>NA</td></tr>\n",
       "\t<tr><th scope=row>6</th><td>2004-01-06</td><td>-2.562083</td><td>0.2383750</td><td>8.709064</td><td>-11.309390</td><td>96656</td><td>NA</td><td>0.0</td><td> -7.24</td><td> 0.35</td><td>0.701</td><td>0.02</td><td>507.266</td><td> 99.65465</td><td>NA</td></tr>\n",
       "</tbody>\n",
       "</table>\n"
      ],
      "text/latex": [
       "A data.frame: 6 x 15\n",
       "\\begin{tabular}{r|lllllllllllllll}\n",
       "  & date & temp & vpd & ppfd & netrad & patm & snow & rain & tmin & tmax & vwind & fapar & co2 & ccov & nee\\\\\n",
       "  & <date> & <dbl> & <dbl> & <dbl> & <dbl> & <int> & <lgl> & <dbl> & <dbl> & <dbl> & <dbl> & <dbl> & <dbl> & <dbl> & <lgl>\\\\\n",
       "\\hline\n",
       "\t1 & 2004-01-01 & -0.389250 & 0.0651250 & 6.514874 &   1.339710 & 95825 & NA & 1.6 &  -1.23 & -0.01 & 1.520 & 0.02 & 384.872 & 100.00000 & NA\\\\\n",
       "\t2 & 2004-01-02 & -1.068542 & 0.0000000 & 7.121123 &  -4.381670 & 95455 & NA & 0.5 &  -2.06 & -0.05 & 2.022 & 0.02 & 377.952 &  93.73863 & NA\\\\\n",
       "\t3 & 2004-01-03 & -3.388542 & 0.0708750 & 7.133383 &  -4.583730 & 96232 & NA & 0.0 &  -5.82 & -2.19 & 2.716 & 0.02 & 385.627 & 100.00000 & NA\\\\\n",
       "\t4 & 2004-01-04 & -5.488958 & 0.7600417 & 9.541324 &  -9.018790 & 96367 & NA & 0.0 & -10.45 & -1.48 & 1.089 & 0.02 & 402.001 &  77.58400 & NA\\\\\n",
       "\t5 & 2004-01-05 & -2.451458 & 0.2392917 & 6.732000 &  -6.912368 & 96710 & NA & 0.0 &  -8.10 &  0.53 & 0.675 & 0.02 & 437.166 &  86.95803 & NA\\\\\n",
       "\t6 & 2004-01-06 & -2.562083 & 0.2383750 & 8.709064 & -11.309390 & 96656 & NA & 0.0 &  -7.24 &  0.35 & 0.701 & 0.02 & 507.266 &  99.65465 & NA\\\\\n",
       "\\end{tabular}\n"
      ],
      "text/markdown": [
       "\n",
       "A data.frame: 6 x 15\n",
       "\n",
       "| <!--/--> | date &lt;date&gt; | temp &lt;dbl&gt; | vpd &lt;dbl&gt; | ppfd &lt;dbl&gt; | netrad &lt;dbl&gt; | patm &lt;int&gt; | snow &lt;lgl&gt; | rain &lt;dbl&gt; | tmin &lt;dbl&gt; | tmax &lt;dbl&gt; | vwind &lt;dbl&gt; | fapar &lt;dbl&gt; | co2 &lt;dbl&gt; | ccov &lt;dbl&gt; | nee &lt;lgl&gt; |\n",
       "|---|---|---|---|---|---|---|---|---|---|---|---|---|---|---|---|\n",
       "| 1 | 2004-01-01 | -0.389250 | 0.0651250 | 6.514874 |   1.339710 | 95825 | NA | 1.6 |  -1.23 | -0.01 | 1.520 | 0.02 | 384.872 | 100.00000 | NA |\n",
       "| 2 | 2004-01-02 | -1.068542 | 0.0000000 | 7.121123 |  -4.381670 | 95455 | NA | 0.5 |  -2.06 | -0.05 | 2.022 | 0.02 | 377.952 |  93.73863 | NA |\n",
       "| 3 | 2004-01-03 | -3.388542 | 0.0708750 | 7.133383 |  -4.583730 | 96232 | NA | 0.0 |  -5.82 | -2.19 | 2.716 | 0.02 | 385.627 | 100.00000 | NA |\n",
       "| 4 | 2004-01-04 | -5.488958 | 0.7600417 | 9.541324 |  -9.018790 | 96367 | NA | 0.0 | -10.45 | -1.48 | 1.089 | 0.02 | 402.001 |  77.58400 | NA |\n",
       "| 5 | 2004-01-05 | -2.451458 | 0.2392917 | 6.732000 |  -6.912368 | 96710 | NA | 0.0 |  -8.10 |  0.53 | 0.675 | 0.02 | 437.166 |  86.95803 | NA |\n",
       "| 6 | 2004-01-06 | -2.562083 | 0.2383750 | 8.709064 | -11.309390 | 96656 | NA | 0.0 |  -7.24 |  0.35 | 0.701 | 0.02 | 507.266 |  99.65465 | NA |\n",
       "\n"
      ],
      "text/plain": [
       "  date       temp      vpd       ppfd     netrad     patm  snow rain tmin  \n",
       "1 2004-01-01 -0.389250 0.0651250 6.514874   1.339710 95825 NA   1.6   -1.23\n",
       "2 2004-01-02 -1.068542 0.0000000 7.121123  -4.381670 95455 NA   0.5   -2.06\n",
       "3 2004-01-03 -3.388542 0.0708750 7.133383  -4.583730 96232 NA   0.0   -5.82\n",
       "4 2004-01-04 -5.488958 0.7600417 9.541324  -9.018790 96367 NA   0.0  -10.45\n",
       "5 2004-01-05 -2.451458 0.2392917 6.732000  -6.912368 96710 NA   0.0   -8.10\n",
       "6 2004-01-06 -2.562083 0.2383750 8.709064 -11.309390 96656 NA   0.0   -7.24\n",
       "  tmax  vwind fapar co2     ccov      nee\n",
       "1 -0.01 1.520 0.02  384.872 100.00000 NA \n",
       "2 -0.05 2.022 0.02  377.952  93.73863 NA \n",
       "3 -2.19 2.716 0.02  385.627 100.00000 NA \n",
       "4 -1.48 1.089 0.02  402.001  77.58400 NA \n",
       "5  0.53 0.675 0.02  437.166  86.95803 NA \n",
       "6  0.35 0.701 0.02  507.266  99.65465 NA "
      ]
     },
     "metadata": {},
     "output_type": "display_data"
    }
   ],
   "source": [
    "# read ccov data\n",
    "ccov_data <- read.csv(\"../data/01_data_prep/07_era5_cloud_cover_2004-2023.csv\")\n",
    "\n",
    "# convert date column to Date type\n",
    "ccov_data$date <- as.Date(ccov_data$date)\n",
    "# print the head of the ccov_data\n",
    "head(ccov_data)\n",
    "# update the existing columns in df with values from ccov_data\n",
    "df <- df %>% \n",
    "    left_join(ccov_data %>% select(date, cloud_cover_percentage), by = \"date\", suffix = c(\"\", \"_new\"))  %>% \n",
    "    mutate(ccov = cloud_cover_percentage) %>%\n",
    "    select(-cloud_cover_percentage)\n",
    "# print the head of the df\n",
    "head(df)"
   ]
  },
  {
   "cell_type": "markdown",
   "id": "28166936",
   "metadata": {},
   "source": [
    "### nee"
   ]
  },
  {
   "cell_type": "code",
   "execution_count": 276,
   "id": "78352821",
   "metadata": {
    "vscode": {
     "languageId": "r"
    }
   },
   "outputs": [
    {
     "data": {
      "text/html": [
       "<table class=\"dataframe\">\n",
       "<caption>A data.frame: 6 x 2</caption>\n",
       "<thead>\n",
       "\t<tr><th></th><th scope=col>TIMESTAMP</th><th scope=col>NEE_CUT_USTAR50</th></tr>\n",
       "\t<tr><th></th><th scope=col>&lt;int&gt;</th><th scope=col>&lt;dbl&gt;</th></tr>\n",
       "</thead>\n",
       "<tbody>\n",
       "\t<tr><th scope=row>1</th><td>20040101</td><td>0.760671</td></tr>\n",
       "\t<tr><th scope=row>2</th><td>20040102</td><td>0.787889</td></tr>\n",
       "\t<tr><th scope=row>3</th><td>20040103</td><td>0.768699</td></tr>\n",
       "\t<tr><th scope=row>4</th><td>20040104</td><td>0.815030</td></tr>\n",
       "\t<tr><th scope=row>5</th><td>20040105</td><td>0.746168</td></tr>\n",
       "\t<tr><th scope=row>6</th><td>20040106</td><td>1.528010</td></tr>\n",
       "</tbody>\n",
       "</table>\n"
      ],
      "text/latex": [
       "A data.frame: 6 x 2\n",
       "\\begin{tabular}{r|ll}\n",
       "  & TIMESTAMP & NEE\\_CUT\\_USTAR50\\\\\n",
       "  & <int> & <dbl>\\\\\n",
       "\\hline\n",
       "\t1 & 20040101 & 0.760671\\\\\n",
       "\t2 & 20040102 & 0.787889\\\\\n",
       "\t3 & 20040103 & 0.768699\\\\\n",
       "\t4 & 20040104 & 0.815030\\\\\n",
       "\t5 & 20040105 & 0.746168\\\\\n",
       "\t6 & 20040106 & 1.528010\\\\\n",
       "\\end{tabular}\n"
      ],
      "text/markdown": [
       "\n",
       "A data.frame: 6 x 2\n",
       "\n",
       "| <!--/--> | TIMESTAMP &lt;int&gt; | NEE_CUT_USTAR50 &lt;dbl&gt; |\n",
       "|---|---|---|\n",
       "| 1 | 20040101 | 0.760671 |\n",
       "| 2 | 20040102 | 0.787889 |\n",
       "| 3 | 20040103 | 0.768699 |\n",
       "| 4 | 20040104 | 0.815030 |\n",
       "| 5 | 20040105 | 0.746168 |\n",
       "| 6 | 20040106 | 1.528010 |\n",
       "\n"
      ],
      "text/plain": [
       "  TIMESTAMP NEE_CUT_USTAR50\n",
       "1 20040101  0.760671       \n",
       "2 20040102  0.787889       \n",
       "3 20040103  0.768699       \n",
       "4 20040104  0.815030       \n",
       "5 20040105  0.746168       \n",
       "6 20040106  1.528010       "
      ]
     },
     "metadata": {},
     "output_type": "display_data"
    },
    {
     "data": {
      "text/html": [
       "<table class=\"dataframe\">\n",
       "<caption>A data.frame: 6 x 2</caption>\n",
       "<thead>\n",
       "\t<tr><th></th><th scope=col>date</th><th scope=col>nee</th></tr>\n",
       "\t<tr><th></th><th scope=col>&lt;date&gt;</th><th scope=col>&lt;dbl&gt;</th></tr>\n",
       "</thead>\n",
       "<tbody>\n",
       "\t<tr><th scope=row>1</th><td>2004-01-01</td><td>0.760671</td></tr>\n",
       "\t<tr><th scope=row>2</th><td>2004-01-02</td><td>0.787889</td></tr>\n",
       "\t<tr><th scope=row>3</th><td>2004-01-03</td><td>0.768699</td></tr>\n",
       "\t<tr><th scope=row>4</th><td>2004-01-04</td><td>0.815030</td></tr>\n",
       "\t<tr><th scope=row>5</th><td>2004-01-05</td><td>0.746168</td></tr>\n",
       "\t<tr><th scope=row>6</th><td>2004-01-06</td><td>1.528010</td></tr>\n",
       "</tbody>\n",
       "</table>\n"
      ],
      "text/latex": [
       "A data.frame: 6 x 2\n",
       "\\begin{tabular}{r|ll}\n",
       "  & date & nee\\\\\n",
       "  & <date> & <dbl>\\\\\n",
       "\\hline\n",
       "\t1 & 2004-01-01 & 0.760671\\\\\n",
       "\t2 & 2004-01-02 & 0.787889\\\\\n",
       "\t3 & 2004-01-03 & 0.768699\\\\\n",
       "\t4 & 2004-01-04 & 0.815030\\\\\n",
       "\t5 & 2004-01-05 & 0.746168\\\\\n",
       "\t6 & 2004-01-06 & 1.528010\\\\\n",
       "\\end{tabular}\n"
      ],
      "text/markdown": [
       "\n",
       "A data.frame: 6 x 2\n",
       "\n",
       "| <!--/--> | date &lt;date&gt; | nee &lt;dbl&gt; |\n",
       "|---|---|---|\n",
       "| 1 | 2004-01-01 | 0.760671 |\n",
       "| 2 | 2004-01-02 | 0.787889 |\n",
       "| 3 | 2004-01-03 | 0.768699 |\n",
       "| 4 | 2004-01-04 | 0.815030 |\n",
       "| 5 | 2004-01-05 | 0.746168 |\n",
       "| 6 | 2004-01-06 | 1.528010 |\n",
       "\n"
      ],
      "text/plain": [
       "  date       nee     \n",
       "1 2004-01-01 0.760671\n",
       "2 2004-01-02 0.787889\n",
       "3 2004-01-03 0.768699\n",
       "4 2004-01-04 0.815030\n",
       "5 2004-01-05 0.746168\n",
       "6 2004-01-06 1.528010"
      ]
     },
     "metadata": {},
     "output_type": "display_data"
    },
    {
     "data": {
      "text/html": [
       "<table class=\"dataframe\">\n",
       "<caption>A data.frame: 6 x 15</caption>\n",
       "<thead>\n",
       "\t<tr><th></th><th scope=col>date</th><th scope=col>temp</th><th scope=col>vpd</th><th scope=col>ppfd</th><th scope=col>netrad</th><th scope=col>patm</th><th scope=col>snow</th><th scope=col>rain</th><th scope=col>tmin</th><th scope=col>tmax</th><th scope=col>vwind</th><th scope=col>fapar</th><th scope=col>co2</th><th scope=col>ccov</th><th scope=col>nee</th></tr>\n",
       "\t<tr><th></th><th scope=col>&lt;date&gt;</th><th scope=col>&lt;dbl&gt;</th><th scope=col>&lt;dbl&gt;</th><th scope=col>&lt;dbl&gt;</th><th scope=col>&lt;dbl&gt;</th><th scope=col>&lt;int&gt;</th><th scope=col>&lt;lgl&gt;</th><th scope=col>&lt;dbl&gt;</th><th scope=col>&lt;dbl&gt;</th><th scope=col>&lt;dbl&gt;</th><th scope=col>&lt;dbl&gt;</th><th scope=col>&lt;dbl&gt;</th><th scope=col>&lt;dbl&gt;</th><th scope=col>&lt;dbl&gt;</th><th scope=col>&lt;dbl&gt;</th></tr>\n",
       "</thead>\n",
       "<tbody>\n",
       "\t<tr><th scope=row>1</th><td>2004-01-01</td><td>-0.389250</td><td>0.0651250</td><td>6.514874</td><td>  1.339710</td><td>95825</td><td>NA</td><td>1.6</td><td> -1.23</td><td>-0.01</td><td>1.520</td><td>0.02</td><td>384.872</td><td>100.00000</td><td>0.760671</td></tr>\n",
       "\t<tr><th scope=row>2</th><td>2004-01-02</td><td>-1.068542</td><td>0.0000000</td><td>7.121123</td><td> -4.381670</td><td>95455</td><td>NA</td><td>0.5</td><td> -2.06</td><td>-0.05</td><td>2.022</td><td>0.02</td><td>377.952</td><td> 93.73863</td><td>0.787889</td></tr>\n",
       "\t<tr><th scope=row>3</th><td>2004-01-03</td><td>-3.388542</td><td>0.0708750</td><td>7.133383</td><td> -4.583730</td><td>96232</td><td>NA</td><td>0.0</td><td> -5.82</td><td>-2.19</td><td>2.716</td><td>0.02</td><td>385.627</td><td>100.00000</td><td>0.768699</td></tr>\n",
       "\t<tr><th scope=row>4</th><td>2004-01-04</td><td>-5.488958</td><td>0.7600417</td><td>9.541324</td><td> -9.018790</td><td>96367</td><td>NA</td><td>0.0</td><td>-10.45</td><td>-1.48</td><td>1.089</td><td>0.02</td><td>402.001</td><td> 77.58400</td><td>0.815030</td></tr>\n",
       "\t<tr><th scope=row>5</th><td>2004-01-05</td><td>-2.451458</td><td>0.2392917</td><td>6.732000</td><td> -6.912368</td><td>96710</td><td>NA</td><td>0.0</td><td> -8.10</td><td> 0.53</td><td>0.675</td><td>0.02</td><td>437.166</td><td> 86.95803</td><td>0.746168</td></tr>\n",
       "\t<tr><th scope=row>6</th><td>2004-01-06</td><td>-2.562083</td><td>0.2383750</td><td>8.709064</td><td>-11.309390</td><td>96656</td><td>NA</td><td>0.0</td><td> -7.24</td><td> 0.35</td><td>0.701</td><td>0.02</td><td>507.266</td><td> 99.65465</td><td>1.528010</td></tr>\n",
       "</tbody>\n",
       "</table>\n"
      ],
      "text/latex": [
       "A data.frame: 6 x 15\n",
       "\\begin{tabular}{r|lllllllllllllll}\n",
       "  & date & temp & vpd & ppfd & netrad & patm & snow & rain & tmin & tmax & vwind & fapar & co2 & ccov & nee\\\\\n",
       "  & <date> & <dbl> & <dbl> & <dbl> & <dbl> & <int> & <lgl> & <dbl> & <dbl> & <dbl> & <dbl> & <dbl> & <dbl> & <dbl> & <dbl>\\\\\n",
       "\\hline\n",
       "\t1 & 2004-01-01 & -0.389250 & 0.0651250 & 6.514874 &   1.339710 & 95825 & NA & 1.6 &  -1.23 & -0.01 & 1.520 & 0.02 & 384.872 & 100.00000 & 0.760671\\\\\n",
       "\t2 & 2004-01-02 & -1.068542 & 0.0000000 & 7.121123 &  -4.381670 & 95455 & NA & 0.5 &  -2.06 & -0.05 & 2.022 & 0.02 & 377.952 &  93.73863 & 0.787889\\\\\n",
       "\t3 & 2004-01-03 & -3.388542 & 0.0708750 & 7.133383 &  -4.583730 & 96232 & NA & 0.0 &  -5.82 & -2.19 & 2.716 & 0.02 & 385.627 & 100.00000 & 0.768699\\\\\n",
       "\t4 & 2004-01-04 & -5.488958 & 0.7600417 & 9.541324 &  -9.018790 & 96367 & NA & 0.0 & -10.45 & -1.48 & 1.089 & 0.02 & 402.001 &  77.58400 & 0.815030\\\\\n",
       "\t5 & 2004-01-05 & -2.451458 & 0.2392917 & 6.732000 &  -6.912368 & 96710 & NA & 0.0 &  -8.10 &  0.53 & 0.675 & 0.02 & 437.166 &  86.95803 & 0.746168\\\\\n",
       "\t6 & 2004-01-06 & -2.562083 & 0.2383750 & 8.709064 & -11.309390 & 96656 & NA & 0.0 &  -7.24 &  0.35 & 0.701 & 0.02 & 507.266 &  99.65465 & 1.528010\\\\\n",
       "\\end{tabular}\n"
      ],
      "text/markdown": [
       "\n",
       "A data.frame: 6 x 15\n",
       "\n",
       "| <!--/--> | date &lt;date&gt; | temp &lt;dbl&gt; | vpd &lt;dbl&gt; | ppfd &lt;dbl&gt; | netrad &lt;dbl&gt; | patm &lt;int&gt; | snow &lt;lgl&gt; | rain &lt;dbl&gt; | tmin &lt;dbl&gt; | tmax &lt;dbl&gt; | vwind &lt;dbl&gt; | fapar &lt;dbl&gt; | co2 &lt;dbl&gt; | ccov &lt;dbl&gt; | nee &lt;dbl&gt; |\n",
       "|---|---|---|---|---|---|---|---|---|---|---|---|---|---|---|---|\n",
       "| 1 | 2004-01-01 | -0.389250 | 0.0651250 | 6.514874 |   1.339710 | 95825 | NA | 1.6 |  -1.23 | -0.01 | 1.520 | 0.02 | 384.872 | 100.00000 | 0.760671 |\n",
       "| 2 | 2004-01-02 | -1.068542 | 0.0000000 | 7.121123 |  -4.381670 | 95455 | NA | 0.5 |  -2.06 | -0.05 | 2.022 | 0.02 | 377.952 |  93.73863 | 0.787889 |\n",
       "| 3 | 2004-01-03 | -3.388542 | 0.0708750 | 7.133383 |  -4.583730 | 96232 | NA | 0.0 |  -5.82 | -2.19 | 2.716 | 0.02 | 385.627 | 100.00000 | 0.768699 |\n",
       "| 4 | 2004-01-04 | -5.488958 | 0.7600417 | 9.541324 |  -9.018790 | 96367 | NA | 0.0 | -10.45 | -1.48 | 1.089 | 0.02 | 402.001 |  77.58400 | 0.815030 |\n",
       "| 5 | 2004-01-05 | -2.451458 | 0.2392917 | 6.732000 |  -6.912368 | 96710 | NA | 0.0 |  -8.10 |  0.53 | 0.675 | 0.02 | 437.166 |  86.95803 | 0.746168 |\n",
       "| 6 | 2004-01-06 | -2.562083 | 0.2383750 | 8.709064 | -11.309390 | 96656 | NA | 0.0 |  -7.24 |  0.35 | 0.701 | 0.02 | 507.266 |  99.65465 | 1.528010 |\n",
       "\n"
      ],
      "text/plain": [
       "  date       temp      vpd       ppfd     netrad     patm  snow rain tmin  \n",
       "1 2004-01-01 -0.389250 0.0651250 6.514874   1.339710 95825 NA   1.6   -1.23\n",
       "2 2004-01-02 -1.068542 0.0000000 7.121123  -4.381670 95455 NA   0.5   -2.06\n",
       "3 2004-01-03 -3.388542 0.0708750 7.133383  -4.583730 96232 NA   0.0   -5.82\n",
       "4 2004-01-04 -5.488958 0.7600417 9.541324  -9.018790 96367 NA   0.0  -10.45\n",
       "5 2004-01-05 -2.451458 0.2392917 6.732000  -6.912368 96710 NA   0.0   -8.10\n",
       "6 2004-01-06 -2.562083 0.2383750 8.709064 -11.309390 96656 NA   0.0   -7.24\n",
       "  tmax  vwind fapar co2     ccov      nee     \n",
       "1 -0.01 1.520 0.02  384.872 100.00000 0.760671\n",
       "2 -0.05 2.022 0.02  377.952  93.73863 0.787889\n",
       "3 -2.19 2.716 0.02  385.627 100.00000 0.768699\n",
       "4 -1.48 1.089 0.02  402.001  77.58400 0.815030\n",
       "5  0.53 0.675 0.02  437.166  86.95803 0.746168\n",
       "6  0.35 0.701 0.02  507.266  99.65465 1.528010"
      ]
     },
     "metadata": {},
     "output_type": "display_data"
    }
   ],
   "source": [
    "# read nee data\n",
    "nee_data <- read.csv(\"../data/FLX_CH-Oe2_FLUXNET2015_FULLSET_2004-2023_1-3/FLX_CH-Oe2_FLUXNET2015_FULLSET_DD_2004-2023_1-3.csv\")\n",
    "\n",
    "# filter data for NEE_CUT_USTAR50 variable (net ecosystem exchange)\n",
    "nee_data <- nee_data %>%\n",
    "    select(TIMESTAMP, NEE_CUT_USTAR50)\n",
    "head(nee_data)\n",
    "\n",
    "# convert TIMESTAMP to Date type yyyy-mm-dd from YYYYMMDD format\n",
    "nee_data$TIMESTAMP <- as.Date(as.character(nee_data$TIMESTAMP), format = \"%Y%m%d\")\n",
    "\n",
    "# rename columns for clarity\n",
    "colnames(nee_data) <- c(\"date\", \"nee\")\n",
    "head(nee_data)\n",
    "\n",
    "# update the existing columns in df with values from nee_data\n",
    "df <- df %>% \n",
    "    left_join(nee_data %>% select(date, nee), by = \"date\", suffix = c(\"\", \"_new\")) %>%\n",
    "    mutate(nee = nee_new) %>%\n",
    "    select(-nee_new)\n",
    "\n",
    "# print the head of the df\n",
    "head(df)\n"
   ]
  },
  {
   "cell_type": "code",
   "execution_count": 277,
   "id": "f259b56b",
   "metadata": {
    "vscode": {
     "languageId": "r"
    }
   },
   "outputs": [
    {
     "data": {
      "text/html": [
       "<table class=\"dataframe\">\n",
       "<caption>A data.frame: 6 x 15</caption>\n",
       "<thead>\n",
       "\t<tr><th></th><th scope=col>date</th><th scope=col>temp</th><th scope=col>vpd</th><th scope=col>ppfd</th><th scope=col>netrad</th><th scope=col>patm</th><th scope=col>snow</th><th scope=col>rain</th><th scope=col>tmin</th><th scope=col>tmax</th><th scope=col>vwind</th><th scope=col>fapar</th><th scope=col>co2</th><th scope=col>ccov</th><th scope=col>nee</th></tr>\n",
       "\t<tr><th></th><th scope=col>&lt;date&gt;</th><th scope=col>&lt;dbl&gt;</th><th scope=col>&lt;dbl&gt;</th><th scope=col>&lt;dbl&gt;</th><th scope=col>&lt;dbl&gt;</th><th scope=col>&lt;int&gt;</th><th scope=col>&lt;dbl&gt;</th><th scope=col>&lt;dbl&gt;</th><th scope=col>&lt;dbl&gt;</th><th scope=col>&lt;dbl&gt;</th><th scope=col>&lt;dbl&gt;</th><th scope=col>&lt;dbl&gt;</th><th scope=col>&lt;dbl&gt;</th><th scope=col>&lt;dbl&gt;</th><th scope=col>&lt;dbl&gt;</th></tr>\n",
       "</thead>\n",
       "<tbody>\n",
       "\t<tr><th scope=row>1</th><td>2004-01-01</td><td>-0.389250</td><td>0.0651250</td><td>6.514874</td><td>  1.339710</td><td>95825</td><td>0</td><td>1.6</td><td> -1.23</td><td>-0.01</td><td>1.520</td><td>0.02</td><td>384.872</td><td>100.00000</td><td>0.760671</td></tr>\n",
       "\t<tr><th scope=row>2</th><td>2004-01-02</td><td>-1.068542</td><td>0.0000000</td><td>7.121123</td><td> -4.381670</td><td>95455</td><td>0</td><td>0.5</td><td> -2.06</td><td>-0.05</td><td>2.022</td><td>0.02</td><td>377.952</td><td> 93.73863</td><td>0.787889</td></tr>\n",
       "\t<tr><th scope=row>3</th><td>2004-01-03</td><td>-3.388542</td><td>0.0708750</td><td>7.133383</td><td> -4.583730</td><td>96232</td><td>0</td><td>0.0</td><td> -5.82</td><td>-2.19</td><td>2.716</td><td>0.02</td><td>385.627</td><td>100.00000</td><td>0.768699</td></tr>\n",
       "\t<tr><th scope=row>4</th><td>2004-01-04</td><td>-5.488958</td><td>0.7600417</td><td>9.541324</td><td> -9.018790</td><td>96367</td><td>0</td><td>0.0</td><td>-10.45</td><td>-1.48</td><td>1.089</td><td>0.02</td><td>402.001</td><td> 77.58400</td><td>0.815030</td></tr>\n",
       "\t<tr><th scope=row>5</th><td>2004-01-05</td><td>-2.451458</td><td>0.2392917</td><td>6.732000</td><td> -6.912368</td><td>96710</td><td>0</td><td>0.0</td><td> -8.10</td><td> 0.53</td><td>0.675</td><td>0.02</td><td>437.166</td><td> 86.95803</td><td>0.746168</td></tr>\n",
       "\t<tr><th scope=row>6</th><td>2004-01-06</td><td>-2.562083</td><td>0.2383750</td><td>8.709064</td><td>-11.309390</td><td>96656</td><td>0</td><td>0.0</td><td> -7.24</td><td> 0.35</td><td>0.701</td><td>0.02</td><td>507.266</td><td> 99.65465</td><td>1.528010</td></tr>\n",
       "</tbody>\n",
       "</table>\n"
      ],
      "text/latex": [
       "A data.frame: 6 x 15\n",
       "\\begin{tabular}{r|lllllllllllllll}\n",
       "  & date & temp & vpd & ppfd & netrad & patm & snow & rain & tmin & tmax & vwind & fapar & co2 & ccov & nee\\\\\n",
       "  & <date> & <dbl> & <dbl> & <dbl> & <dbl> & <int> & <dbl> & <dbl> & <dbl> & <dbl> & <dbl> & <dbl> & <dbl> & <dbl> & <dbl>\\\\\n",
       "\\hline\n",
       "\t1 & 2004-01-01 & -0.389250 & 0.0651250 & 6.514874 &   1.339710 & 95825 & 0 & 1.6 &  -1.23 & -0.01 & 1.520 & 0.02 & 384.872 & 100.00000 & 0.760671\\\\\n",
       "\t2 & 2004-01-02 & -1.068542 & 0.0000000 & 7.121123 &  -4.381670 & 95455 & 0 & 0.5 &  -2.06 & -0.05 & 2.022 & 0.02 & 377.952 &  93.73863 & 0.787889\\\\\n",
       "\t3 & 2004-01-03 & -3.388542 & 0.0708750 & 7.133383 &  -4.583730 & 96232 & 0 & 0.0 &  -5.82 & -2.19 & 2.716 & 0.02 & 385.627 & 100.00000 & 0.768699\\\\\n",
       "\t4 & 2004-01-04 & -5.488958 & 0.7600417 & 9.541324 &  -9.018790 & 96367 & 0 & 0.0 & -10.45 & -1.48 & 1.089 & 0.02 & 402.001 &  77.58400 & 0.815030\\\\\n",
       "\t5 & 2004-01-05 & -2.451458 & 0.2392917 & 6.732000 &  -6.912368 & 96710 & 0 & 0.0 &  -8.10 &  0.53 & 0.675 & 0.02 & 437.166 &  86.95803 & 0.746168\\\\\n",
       "\t6 & 2004-01-06 & -2.562083 & 0.2383750 & 8.709064 & -11.309390 & 96656 & 0 & 0.0 &  -7.24 &  0.35 & 0.701 & 0.02 & 507.266 &  99.65465 & 1.528010\\\\\n",
       "\\end{tabular}\n"
      ],
      "text/markdown": [
       "\n",
       "A data.frame: 6 x 15\n",
       "\n",
       "| <!--/--> | date &lt;date&gt; | temp &lt;dbl&gt; | vpd &lt;dbl&gt; | ppfd &lt;dbl&gt; | netrad &lt;dbl&gt; | patm &lt;int&gt; | snow &lt;dbl&gt; | rain &lt;dbl&gt; | tmin &lt;dbl&gt; | tmax &lt;dbl&gt; | vwind &lt;dbl&gt; | fapar &lt;dbl&gt; | co2 &lt;dbl&gt; | ccov &lt;dbl&gt; | nee &lt;dbl&gt; |\n",
       "|---|---|---|---|---|---|---|---|---|---|---|---|---|---|---|---|\n",
       "| 1 | 2004-01-01 | -0.389250 | 0.0651250 | 6.514874 |   1.339710 | 95825 | 0 | 1.6 |  -1.23 | -0.01 | 1.520 | 0.02 | 384.872 | 100.00000 | 0.760671 |\n",
       "| 2 | 2004-01-02 | -1.068542 | 0.0000000 | 7.121123 |  -4.381670 | 95455 | 0 | 0.5 |  -2.06 | -0.05 | 2.022 | 0.02 | 377.952 |  93.73863 | 0.787889 |\n",
       "| 3 | 2004-01-03 | -3.388542 | 0.0708750 | 7.133383 |  -4.583730 | 96232 | 0 | 0.0 |  -5.82 | -2.19 | 2.716 | 0.02 | 385.627 | 100.00000 | 0.768699 |\n",
       "| 4 | 2004-01-04 | -5.488958 | 0.7600417 | 9.541324 |  -9.018790 | 96367 | 0 | 0.0 | -10.45 | -1.48 | 1.089 | 0.02 | 402.001 |  77.58400 | 0.815030 |\n",
       "| 5 | 2004-01-05 | -2.451458 | 0.2392917 | 6.732000 |  -6.912368 | 96710 | 0 | 0.0 |  -8.10 |  0.53 | 0.675 | 0.02 | 437.166 |  86.95803 | 0.746168 |\n",
       "| 6 | 2004-01-06 | -2.562083 | 0.2383750 | 8.709064 | -11.309390 | 96656 | 0 | 0.0 |  -7.24 |  0.35 | 0.701 | 0.02 | 507.266 |  99.65465 | 1.528010 |\n",
       "\n"
      ],
      "text/plain": [
       "  date       temp      vpd       ppfd     netrad     patm  snow rain tmin  \n",
       "1 2004-01-01 -0.389250 0.0651250 6.514874   1.339710 95825 0    1.6   -1.23\n",
       "2 2004-01-02 -1.068542 0.0000000 7.121123  -4.381670 95455 0    0.5   -2.06\n",
       "3 2004-01-03 -3.388542 0.0708750 7.133383  -4.583730 96232 0    0.0   -5.82\n",
       "4 2004-01-04 -5.488958 0.7600417 9.541324  -9.018790 96367 0    0.0  -10.45\n",
       "5 2004-01-05 -2.451458 0.2392917 6.732000  -6.912368 96710 0    0.0   -8.10\n",
       "6 2004-01-06 -2.562083 0.2383750 8.709064 -11.309390 96656 0    0.0   -7.24\n",
       "  tmax  vwind fapar co2     ccov      nee     \n",
       "1 -0.01 1.520 0.02  384.872 100.00000 0.760671\n",
       "2 -0.05 2.022 0.02  377.952  93.73863 0.787889\n",
       "3 -2.19 2.716 0.02  385.627 100.00000 0.768699\n",
       "4 -1.48 1.089 0.02  402.001  77.58400 0.815030\n",
       "5  0.53 0.675 0.02  437.166  86.95803 0.746168\n",
       "6  0.35 0.701 0.02  507.266  99.65465 1.528010"
      ]
     },
     "metadata": {},
     "output_type": "display_data"
    }
   ],
   "source": [
    "# make all the values in snow column to 0\n",
    "df$snow <- 0\n",
    "# print the head of the df\n",
    "head(df)"
   ]
  },
  {
   "cell_type": "markdown",
   "id": "7ff3aa18",
   "metadata": {},
   "source": [
    "## Saving final file"
   ]
  },
  {
   "cell_type": "code",
   "execution_count": 278,
   "id": "1f1fb7a0",
   "metadata": {
    "vscode": {
     "languageId": "r"
    }
   },
   "outputs": [
    {
     "name": "stdout",
     "output_type": "stream",
     "text": [
      "  date   temp    vpd   ppfd netrad   patm   snow   rain   tmin   tmax  vwind \n",
      "     0      0      0      0      0      0      0      0      0      0      0 \n",
      " fapar    co2   ccov    nee \n",
      "     0      0      0      0 \n"
     ]
    }
   ],
   "source": [
    "# find missing values in the dataframe\n",
    "missing_values <- colSums(is.na(df))\n",
    "# print the missing values\n",
    "print(missing_values)\n",
    "# save forcing data as csv\n",
    "write.csv(df, \"../data/01_data_prep/09_forcing_data_2004-2023.csv\", row.names = FALSE)"
   ]
  },
  {
   "cell_type": "markdown",
   "id": "b8dd240f",
   "metadata": {},
   "source": [
    "## Prepare forcing data for CN model"
   ]
  },
  {
   "cell_type": "code",
   "execution_count": 279,
   "id": "a27ed45b",
   "metadata": {
    "vscode": {
     "languageId": "r"
    }
   },
   "outputs": [
    {
     "name": "stderr",
     "output_type": "stream",
     "text": [
      "\u001b[1mRows: \u001b[22m\u001b[34m7305\u001b[39m \u001b[1mColumns: \u001b[22m\u001b[34m15\u001b[39m\n",
      "\u001b[36m--\u001b[39m \u001b[1mColumn specification\u001b[22m \u001b[36m--------------------------------------------------------\u001b[39m\n",
      "\u001b[1mDelimiter:\u001b[22m \",\"\n",
      "\u001b[32mdbl\u001b[39m  (14): temp, vpd, ppfd, netrad, patm, snow, rain, tmin, tmax, vwind, fap...\n",
      "\u001b[34mdate\u001b[39m  (1): date\n",
      "\n",
      "\u001b[36mi\u001b[39m Use `spec()` to retrieve the full column specification for this data.\n",
      "\u001b[36mi\u001b[39m Specify the column types or set `show_col_types = FALSE` to quiet this message.\n"
     ]
    },
    {
     "data": {
      "text/html": [
       "7305"
      ],
      "text/latex": [
       "7305"
      ],
      "text/markdown": [
       "7305"
      ],
      "text/plain": [
       "[1] 7305"
      ]
     },
     "metadata": {},
     "output_type": "display_data"
    },
    {
     "data": {
      "text/html": [
       "7300"
      ],
      "text/latex": [
       "7300"
      ],
      "text/markdown": [
       "7300"
      ],
      "text/plain": [
       "[1] 7300"
      ]
     },
     "metadata": {},
     "output_type": "display_data"
    }
   ],
   "source": [
    "# Load packages without warnings and messages\n",
    "suppressPackageStartupMessages({\n",
    "  library(dplyr)\n",
    "  library(tidyr)\n",
    "  library(ggplot2)\n",
    "  library(patchwork)\n",
    "  library(cowplot)\n",
    "  library(visdat)\n",
    "  library(here)\n",
    "  library(lubridate)\n",
    "  library(readr)\n",
    "  library(naniar)\n",
    "  library(purrr)\n",
    "  library(rsofun)\n",
    "})\n",
    "# read rds forcing data file previously uploaded for cn model as drivers data\n",
    "drivers <- readRDS(\"../data/FLX_CH-Oe2_FLUXNET2015_FULLSET_2004-2023_1-3/rsofun_driver_data_v3.4.2.rds\") %>% \n",
    "  dplyr::filter(sitename == \"CH-Oe2\") \n",
    "\n",
    "# replace forcing data forcing_df <- drivers$forcing[[1]] with a new csv file\n",
    "\n",
    "# read csv file with forcing data\n",
    "forcing_df <- read_csv(\"../data/01_data_prep/09_forcing_data_2004-2023.csv\") \n",
    "\n",
    "# remove drivers$forcing[[1]] from drivers_data\n",
    "drivers <- drivers %>% \n",
    "  dplyr::select(-forcing)\n",
    "\n",
    "# add forcing_df to drivers_data as forcing\n",
    "drivers <- drivers %>% \n",
    "  dplyr::mutate(forcing = list(forcing_df))\n",
    "\n",
    "# Add management data \n",
    "# add management data into drivers$forcing\n",
    "# Management data\n",
    "#N input\n",
    "n_input <- read.csv(\"../data/mangement_data/04_23choe2_ninput.csv\")\n",
    "\n",
    "#fharv \n",
    "fharv <- read.csv(\"../data/mangement_data/04_23ch0e2_fharv.csv\")\n",
    "# convert to fraction from percentage to be consistent with the rest of the data\n",
    "fharv$fharv <- fharv$fharv / 100\n",
    "\n",
    "#seed \n",
    "seed <- read.csv(\"../data/mangement_data/04_23ch0e2_seed.csv\")\n",
    "\n",
    "#yieldcn  \n",
    "yieldcn <- read.csv(\"../data/mangement_data/04_23ch0e2_yieldcn.csv\")\n",
    "\n",
    "## N deposition------------\n",
    "# Reactive N input needs to be in gN per day\n",
    "# added to forcing time series: specify quantity of N added on which day\n",
    "\n",
    "# Example N input given a constant rate each day\n",
    "n_input_add <- function(data, n_input) {\n",
    "  # Ensure date columns are in Date format\n",
    "  n_input <- n_input %>% mutate(date = as.Date(date))\n",
    "  \n",
    "  # Remove duplicates from n_input based on the date column\n",
    "  n_input <- n_input %>% distinct(date, .keep_all = TRUE)\n",
    "  \n",
    "  data <- data %>%\n",
    "    mutate(forcing = purrr::map(forcing, ~ {\n",
    "      # Merge forcing with n_input on date\n",
    "      merged <- left_join(., n_input, by = \"date\")\n",
    "      \n",
    "      # Fill NA values in dno3 and dnh4 with the default dnh4 value from the n_input DataFrame\n",
    "      merged <- merged %>%\n",
    "        mutate(\n",
    "          dno3 = ifelse(is.na(dno3), 0.002003263, dno3),\n",
    "          dnh4 = ifelse(is.na(dnh4), 0.002017981, dnh4)\n",
    "        )\n",
    "      \n",
    "      # Ensure the merged DataFrame does not have more rows than the original forcing DataFrame\n",
    "      merged <- merged %>% slice(1:nrow(.))\n",
    "      \n",
    "      return(merged)\n",
    "    }))\n",
    "  \n",
    "  return(data)\n",
    "}\n",
    "# Add N input to forcing data this will join the drivers data with the N input data\n",
    "drivers <- n_input_add(drivers, n_input)\n",
    "\n",
    "\n",
    "## Harvesting-----------\n",
    "# The fraction of biomass harvested per day needs to be specified in the forcing time series\n",
    "# cseed and nseed new seeds added after harvesting\n",
    "# Example driver update assumes harvesting is 0 and new seeds planted after harvest\n",
    "\n",
    "fharv_seed_add <- function(data, fharv, seed) {\n",
    "  # Ensure date columns are in Date format\n",
    "  fharv <- fharv %>% mutate(date = as.Date(date)) %>% distinct(date, .keep_all = TRUE)\n",
    "  seed <- seed %>% mutate(date = as.Date(date)) %>% distinct(date, .keep_all = TRUE)\n",
    "  \n",
    "  data <- data %>%\n",
    "    mutate(forcing = purrr::map(forcing, ~ {\n",
    "      # Merge forcing with fharv and seed on date\n",
    "      merged <- left_join(., fharv, by = \"date\") %>%\n",
    "        left_join(seed, by = \"date\") %>%\n",
    "        mutate(\n",
    "          fharv = coalesce(fharv, 0),    # Fill NA values in fharv\n",
    "          cseed = coalesce(cseed, 0),    # Fill NA values in cseed\n",
    "          nseed = coalesce(nseed, 0)      # Fill NA values in nseed\n",
    "        ) %>%\n",
    "        slice(1:nrow(.))  # Ensure merged DataFrame does not have more rows than original\n",
    "      \n",
    "      return(merged)\n",
    "    }))\n",
    "  \n",
    "  return(data)\n",
    "}\n",
    "# Add harvesting and seed data to forcing data \n",
    "drivers <- fharv_seed_add(drivers, fharv, seed)\n",
    "\n",
    "## Simulation parameters------------\n",
    "# The spinup of cn_model must be long enough to equilibrate fluxes\n",
    "\n",
    "# Function to modify specific columns in each dataframe\n",
    "modify_params <- function(df_list, spinupyears_val, recycle_val) {\n",
    "  # Map over each dataframe in the list\n",
    "  df_list <- map(df_list, ~ {\n",
    "    # Modify specific columns\n",
    "    mutate(.x,\n",
    "           spinupyears = spinupyears_val,\n",
    "           recycle = recycle_val)\n",
    "  })\n",
    "  \n",
    "  return(df_list)\n",
    "}\n",
    "\n",
    "# FLUXNET data for site CH-Oe2 (Oensingen, Switzerland)\n",
    "drivers$params_siml <- modify_params(drivers$params_siml, 15, 2)\n",
    "drivers$params_siml[[1]]$c_only <- TRUE\n",
    "\n",
    "nrow(drivers$forcing[[1]])\n",
    "# remove rows from drivers$forcing[[1]], when it is leap year such as 2004-02-29\n",
    "drivers$forcing[[1]] <- drivers$forcing[[1]][!grepl(\"-02-29\", drivers$forcing[[1]]$date), ]\n",
    "# show number of rows in drivers$forcing[[1]]\n",
    "nrow(drivers$forcing[[1]])\n",
    "\n",
    "# save the updated drivers data\n",
    "saveRDS(drivers, \"../data/CH-Oe2_2004-2023_final_ready_for_CNmodel_run.rds\")"
   ]
  },
  {
   "cell_type": "markdown",
   "id": "2005ca23",
   "metadata": {},
   "source": [
    "# Error handling for leap year data\n",
    "- The model was giving errors when it was run with leap year data, so we are removing the leap year data from the forcing data.\n",
    "- This is done by removing the rows where date contains \"-02-29\"."
   ]
  }
 ],
 "metadata": {
  "kernelspec": {
   "display_name": "R",
   "language": "R",
   "name": "ir"
  },
  "language_info": {
   "codemirror_mode": "r",
   "file_extension": ".r",
   "mimetype": "text/x-r-source",
   "name": "R",
   "pygments_lexer": "r",
   "version": "4.4.3"
  }
 },
 "nbformat": 4,
 "nbformat_minor": 5
}
