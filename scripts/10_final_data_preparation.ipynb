{
 "cells": [
  {
   "cell_type": "markdown",
   "id": "e5694567",
   "metadata": {},
   "source": [
    "# Final data preparation for CN model"
   ]
  },
  {
   "cell_type": "code",
   "execution_count": 1,
   "id": "e85f7153",
   "metadata": {
    "vscode": {
     "languageId": "r"
    }
   },
   "outputs": [
    {
     "name": "stderr",
     "output_type": "stream",
     "text": [
      "\n",
      "Attache Paket: 'dplyr'\n",
      "\n",
      "\n",
      "Die folgenden Objekte sind maskiert von 'package:stats':\n",
      "\n",
      "    filter, lag\n",
      "\n",
      "\n",
      "Die folgenden Objekte sind maskiert von 'package:base':\n",
      "\n",
      "    intersect, setdiff, setequal, union\n",
      "\n",
      "\n",
      "\n",
      "Attache Paket: 'lubridate'\n",
      "\n",
      "\n",
      "Die folgenden Objekte sind maskiert von 'package:base':\n",
      "\n",
      "    date, intersect, setdiff, union\n",
      "\n",
      "\n"
     ]
    }
   ],
   "source": [
    "# load required libraries\n",
    "library(dplyr)\n",
    "library(tidyr)\n",
    "library(ggplot2)\n",
    "library(lubridate)"
   ]
  },
  {
   "cell_type": "code",
   "execution_count": 2,
   "id": "efabe37a",
   "metadata": {
    "vscode": {
     "languageId": "r"
    }
   },
   "outputs": [
    {
     "data": {
      "text/html": [
       "<table class=\"dataframe\">\n",
       "<caption>A data.frame: 6 x 19</caption>\n",
       "<thead>\n",
       "\t<tr><th></th><th scope=col>date</th><th scope=col>temp</th><th scope=col>vpd</th><th scope=col>ppfd</th><th scope=col>netrad</th><th scope=col>patm</th><th scope=col>snow</th><th scope=col>rain</th><th scope=col>tmin</th><th scope=col>tmax</th><th scope=col>vwind</th><th scope=col>fapar</th><th scope=col>co2</th><th scope=col>ccov</th><th scope=col>gpp</th><th scope=col>le</th><th scope=col>le_qc</th><th scope=col>nee</th><th scope=col>nee_qc</th></tr>\n",
       "\t<tr><th></th><th scope=col>&lt;date&gt;</th><th scope=col>&lt;lgl&gt;</th><th scope=col>&lt;lgl&gt;</th><th scope=col>&lt;lgl&gt;</th><th scope=col>&lt;lgl&gt;</th><th scope=col>&lt;lgl&gt;</th><th scope=col>&lt;lgl&gt;</th><th scope=col>&lt;lgl&gt;</th><th scope=col>&lt;lgl&gt;</th><th scope=col>&lt;lgl&gt;</th><th scope=col>&lt;lgl&gt;</th><th scope=col>&lt;lgl&gt;</th><th scope=col>&lt;lgl&gt;</th><th scope=col>&lt;lgl&gt;</th><th scope=col>&lt;lgl&gt;</th><th scope=col>&lt;lgl&gt;</th><th scope=col>&lt;lgl&gt;</th><th scope=col>&lt;lgl&gt;</th><th scope=col>&lt;lgl&gt;</th></tr>\n",
       "</thead>\n",
       "<tbody>\n",
       "\t<tr><th scope=row>1</th><td>2004-01-01</td><td>NA</td><td>NA</td><td>NA</td><td>NA</td><td>NA</td><td>NA</td><td>NA</td><td>NA</td><td>NA</td><td>NA</td><td>NA</td><td>NA</td><td>NA</td><td>NA</td><td>NA</td><td>NA</td><td>NA</td><td>NA</td></tr>\n",
       "\t<tr><th scope=row>2</th><td>2004-01-02</td><td>NA</td><td>NA</td><td>NA</td><td>NA</td><td>NA</td><td>NA</td><td>NA</td><td>NA</td><td>NA</td><td>NA</td><td>NA</td><td>NA</td><td>NA</td><td>NA</td><td>NA</td><td>NA</td><td>NA</td><td>NA</td></tr>\n",
       "\t<tr><th scope=row>3</th><td>2004-01-03</td><td>NA</td><td>NA</td><td>NA</td><td>NA</td><td>NA</td><td>NA</td><td>NA</td><td>NA</td><td>NA</td><td>NA</td><td>NA</td><td>NA</td><td>NA</td><td>NA</td><td>NA</td><td>NA</td><td>NA</td><td>NA</td></tr>\n",
       "\t<tr><th scope=row>4</th><td>2004-01-04</td><td>NA</td><td>NA</td><td>NA</td><td>NA</td><td>NA</td><td>NA</td><td>NA</td><td>NA</td><td>NA</td><td>NA</td><td>NA</td><td>NA</td><td>NA</td><td>NA</td><td>NA</td><td>NA</td><td>NA</td><td>NA</td></tr>\n",
       "\t<tr><th scope=row>5</th><td>2004-01-05</td><td>NA</td><td>NA</td><td>NA</td><td>NA</td><td>NA</td><td>NA</td><td>NA</td><td>NA</td><td>NA</td><td>NA</td><td>NA</td><td>NA</td><td>NA</td><td>NA</td><td>NA</td><td>NA</td><td>NA</td><td>NA</td></tr>\n",
       "\t<tr><th scope=row>6</th><td>2004-01-06</td><td>NA</td><td>NA</td><td>NA</td><td>NA</td><td>NA</td><td>NA</td><td>NA</td><td>NA</td><td>NA</td><td>NA</td><td>NA</td><td>NA</td><td>NA</td><td>NA</td><td>NA</td><td>NA</td><td>NA</td><td>NA</td></tr>\n",
       "</tbody>\n",
       "</table>\n"
      ],
      "text/latex": [
       "A data.frame: 6 x 19\n",
       "\\begin{tabular}{r|lllllllllllllllllll}\n",
       "  & date & temp & vpd & ppfd & netrad & patm & snow & rain & tmin & tmax & vwind & fapar & co2 & ccov & gpp & le & le\\_qc & nee & nee\\_qc\\\\\n",
       "  & <date> & <lgl> & <lgl> & <lgl> & <lgl> & <lgl> & <lgl> & <lgl> & <lgl> & <lgl> & <lgl> & <lgl> & <lgl> & <lgl> & <lgl> & <lgl> & <lgl> & <lgl> & <lgl>\\\\\n",
       "\\hline\n",
       "\t1 & 2004-01-01 & NA & NA & NA & NA & NA & NA & NA & NA & NA & NA & NA & NA & NA & NA & NA & NA & NA & NA\\\\\n",
       "\t2 & 2004-01-02 & NA & NA & NA & NA & NA & NA & NA & NA & NA & NA & NA & NA & NA & NA & NA & NA & NA & NA\\\\\n",
       "\t3 & 2004-01-03 & NA & NA & NA & NA & NA & NA & NA & NA & NA & NA & NA & NA & NA & NA & NA & NA & NA & NA\\\\\n",
       "\t4 & 2004-01-04 & NA & NA & NA & NA & NA & NA & NA & NA & NA & NA & NA & NA & NA & NA & NA & NA & NA & NA\\\\\n",
       "\t5 & 2004-01-05 & NA & NA & NA & NA & NA & NA & NA & NA & NA & NA & NA & NA & NA & NA & NA & NA & NA & NA\\\\\n",
       "\t6 & 2004-01-06 & NA & NA & NA & NA & NA & NA & NA & NA & NA & NA & NA & NA & NA & NA & NA & NA & NA & NA\\\\\n",
       "\\end{tabular}\n"
      ],
      "text/markdown": [
       "\n",
       "A data.frame: 6 x 19\n",
       "\n",
       "| <!--/--> | date &lt;date&gt; | temp &lt;lgl&gt; | vpd &lt;lgl&gt; | ppfd &lt;lgl&gt; | netrad &lt;lgl&gt; | patm &lt;lgl&gt; | snow &lt;lgl&gt; | rain &lt;lgl&gt; | tmin &lt;lgl&gt; | tmax &lt;lgl&gt; | vwind &lt;lgl&gt; | fapar &lt;lgl&gt; | co2 &lt;lgl&gt; | ccov &lt;lgl&gt; | gpp &lt;lgl&gt; | le &lt;lgl&gt; | le_qc &lt;lgl&gt; | nee &lt;lgl&gt; | nee_qc &lt;lgl&gt; |\n",
       "|---|---|---|---|---|---|---|---|---|---|---|---|---|---|---|---|---|---|---|---|\n",
       "| 1 | 2004-01-01 | NA | NA | NA | NA | NA | NA | NA | NA | NA | NA | NA | NA | NA | NA | NA | NA | NA | NA |\n",
       "| 2 | 2004-01-02 | NA | NA | NA | NA | NA | NA | NA | NA | NA | NA | NA | NA | NA | NA | NA | NA | NA | NA |\n",
       "| 3 | 2004-01-03 | NA | NA | NA | NA | NA | NA | NA | NA | NA | NA | NA | NA | NA | NA | NA | NA | NA | NA |\n",
       "| 4 | 2004-01-04 | NA | NA | NA | NA | NA | NA | NA | NA | NA | NA | NA | NA | NA | NA | NA | NA | NA | NA |\n",
       "| 5 | 2004-01-05 | NA | NA | NA | NA | NA | NA | NA | NA | NA | NA | NA | NA | NA | NA | NA | NA | NA | NA |\n",
       "| 6 | 2004-01-06 | NA | NA | NA | NA | NA | NA | NA | NA | NA | NA | NA | NA | NA | NA | NA | NA | NA | NA |\n",
       "\n"
      ],
      "text/plain": [
       "  date       temp vpd ppfd netrad patm snow rain tmin tmax vwind fapar co2 ccov\n",
       "1 2004-01-01 NA   NA  NA   NA     NA   NA   NA   NA   NA   NA    NA    NA  NA  \n",
       "2 2004-01-02 NA   NA  NA   NA     NA   NA   NA   NA   NA   NA    NA    NA  NA  \n",
       "3 2004-01-03 NA   NA  NA   NA     NA   NA   NA   NA   NA   NA    NA    NA  NA  \n",
       "4 2004-01-04 NA   NA  NA   NA     NA   NA   NA   NA   NA   NA    NA    NA  NA  \n",
       "5 2004-01-05 NA   NA  NA   NA     NA   NA   NA   NA   NA   NA    NA    NA  NA  \n",
       "6 2004-01-06 NA   NA  NA   NA     NA   NA   NA   NA   NA   NA    NA    NA  NA  \n",
       "  gpp le le_qc nee nee_qc\n",
       "1 NA  NA NA    NA  NA    \n",
       "2 NA  NA NA    NA  NA    \n",
       "3 NA  NA NA    NA  NA    \n",
       "4 NA  NA NA    NA  NA    \n",
       "5 NA  NA NA    NA  NA    \n",
       "6 NA  NA NA    NA  NA    "
      ]
     },
     "metadata": {},
     "output_type": "display_data"
    }
   ],
   "source": [
    "# create a dataframe with the required columns: \n",
    "df <- data.frame(\n",
    "  date = seq(as.Date(\"2004-01-01\"), as.Date(\"2023-12-31\"), by = \"day\"),\n",
    "  temp = NA,\n",
    "  vpd = NA,\n",
    "  ppfd = NA,\n",
    "  netrad = NA,\n",
    "  patm = NA,\n",
    "  snow = NA,\n",
    "  rain = NA,\n",
    "  tmin = NA,\n",
    "  tmax = NA,\n",
    "  vwind = NA,\n",
    "  fapar = NA,\n",
    "  co2 = NA,\n",
    "  ccov = NA,\n",
    "  gpp = NA,\n",
    "  le = NA,\n",
    "  le_qc = NA,\n",
    "  nee = NA,\n",
    "  nee_qc = NA\n",
    ")\n",
    "# print the head of the dataframe\n",
    "head(df)"
   ]
  },
  {
   "cell_type": "markdown",
   "id": "d048c5a8",
   "metadata": {},
   "source": [
    "## load specific csv files and extract required columns"
   ]
  },
  {
   "cell_type": "markdown",
   "id": "b0ce3a6e",
   "metadata": {},
   "source": [
    "### temp, tmin, tmax"
   ]
  },
  {
   "cell_type": "code",
   "execution_count": 3,
   "id": "475fd8c1",
   "metadata": {
    "vscode": {
     "languageId": "r"
    }
   },
   "outputs": [
    {
     "data": {
      "text/html": [
       "<table class=\"dataframe\">\n",
       "<caption>A data.frame: 6 x 4</caption>\n",
       "<thead>\n",
       "\t<tr><th></th><th scope=col>date</th><th scope=col>temp</th><th scope=col>tmin</th><th scope=col>tmax</th></tr>\n",
       "\t<tr><th></th><th scope=col>&lt;chr&gt;</th><th scope=col>&lt;dbl&gt;</th><th scope=col>&lt;dbl&gt;</th><th scope=col>&lt;dbl&gt;</th></tr>\n",
       "</thead>\n",
       "<tbody>\n",
       "\t<tr><th scope=row>1</th><td>2004-01-01</td><td>-0.227</td><td> -1.23</td><td>-0.01</td></tr>\n",
       "\t<tr><th scope=row>2</th><td>2004-01-02</td><td>-0.499</td><td> -2.06</td><td>-0.05</td></tr>\n",
       "\t<tr><th scope=row>3</th><td>2004-01-03</td><td>-2.956</td><td> -5.82</td><td>-2.19</td></tr>\n",
       "\t<tr><th scope=row>4</th><td>2004-01-04</td><td>-4.209</td><td>-10.45</td><td>-1.48</td></tr>\n",
       "\t<tr><th scope=row>5</th><td>2004-01-05</td><td>-1.192</td><td> -8.10</td><td> 0.53</td></tr>\n",
       "\t<tr><th scope=row>6</th><td>2004-01-06</td><td>-1.580</td><td> -7.24</td><td> 0.35</td></tr>\n",
       "</tbody>\n",
       "</table>\n"
      ],
      "text/latex": [
       "A data.frame: 6 x 4\n",
       "\\begin{tabular}{r|llll}\n",
       "  & date & temp & tmin & tmax\\\\\n",
       "  & <chr> & <dbl> & <dbl> & <dbl>\\\\\n",
       "\\hline\n",
       "\t1 & 2004-01-01 & -0.227 &  -1.23 & -0.01\\\\\n",
       "\t2 & 2004-01-02 & -0.499 &  -2.06 & -0.05\\\\\n",
       "\t3 & 2004-01-03 & -2.956 &  -5.82 & -2.19\\\\\n",
       "\t4 & 2004-01-04 & -4.209 & -10.45 & -1.48\\\\\n",
       "\t5 & 2004-01-05 & -1.192 &  -8.10 &  0.53\\\\\n",
       "\t6 & 2004-01-06 & -1.580 &  -7.24 &  0.35\\\\\n",
       "\\end{tabular}\n"
      ],
      "text/markdown": [
       "\n",
       "A data.frame: 6 x 4\n",
       "\n",
       "| <!--/--> | date &lt;chr&gt; | temp &lt;dbl&gt; | tmin &lt;dbl&gt; | tmax &lt;dbl&gt; |\n",
       "|---|---|---|---|---|\n",
       "| 1 | 2004-01-01 | -0.227 |  -1.23 | -0.01 |\n",
       "| 2 | 2004-01-02 | -0.499 |  -2.06 | -0.05 |\n",
       "| 3 | 2004-01-03 | -2.956 |  -5.82 | -2.19 |\n",
       "| 4 | 2004-01-04 | -4.209 | -10.45 | -1.48 |\n",
       "| 5 | 2004-01-05 | -1.192 |  -8.10 |  0.53 |\n",
       "| 6 | 2004-01-06 | -1.580 |  -7.24 |  0.35 |\n",
       "\n"
      ],
      "text/plain": [
       "  date       temp   tmin   tmax \n",
       "1 2004-01-01 -0.227  -1.23 -0.01\n",
       "2 2004-01-02 -0.499  -2.06 -0.05\n",
       "3 2004-01-03 -2.956  -5.82 -2.19\n",
       "4 2004-01-04 -4.209 -10.45 -1.48\n",
       "5 2004-01-05 -1.192  -8.10  0.53\n",
       "6 2004-01-06 -1.580  -7.24  0.35"
      ]
     },
     "metadata": {},
     "output_type": "display_data"
    },
    {
     "data": {
      "text/html": [
       "<table class=\"dataframe\">\n",
       "<caption>A data.frame: 6 x 19</caption>\n",
       "<thead>\n",
       "\t<tr><th></th><th scope=col>date</th><th scope=col>temp</th><th scope=col>vpd</th><th scope=col>ppfd</th><th scope=col>netrad</th><th scope=col>patm</th><th scope=col>snow</th><th scope=col>rain</th><th scope=col>tmin</th><th scope=col>tmax</th><th scope=col>vwind</th><th scope=col>fapar</th><th scope=col>co2</th><th scope=col>ccov</th><th scope=col>gpp</th><th scope=col>le</th><th scope=col>le_qc</th><th scope=col>nee</th><th scope=col>nee_qc</th></tr>\n",
       "\t<tr><th></th><th scope=col>&lt;date&gt;</th><th scope=col>&lt;dbl&gt;</th><th scope=col>&lt;lgl&gt;</th><th scope=col>&lt;lgl&gt;</th><th scope=col>&lt;lgl&gt;</th><th scope=col>&lt;lgl&gt;</th><th scope=col>&lt;lgl&gt;</th><th scope=col>&lt;lgl&gt;</th><th scope=col>&lt;dbl&gt;</th><th scope=col>&lt;dbl&gt;</th><th scope=col>&lt;lgl&gt;</th><th scope=col>&lt;lgl&gt;</th><th scope=col>&lt;lgl&gt;</th><th scope=col>&lt;lgl&gt;</th><th scope=col>&lt;lgl&gt;</th><th scope=col>&lt;lgl&gt;</th><th scope=col>&lt;lgl&gt;</th><th scope=col>&lt;lgl&gt;</th><th scope=col>&lt;lgl&gt;</th></tr>\n",
       "</thead>\n",
       "<tbody>\n",
       "\t<tr><th scope=row>1</th><td>2004-01-01</td><td>-0.227</td><td>NA</td><td>NA</td><td>NA</td><td>NA</td><td>NA</td><td>NA</td><td> -1.23</td><td>-0.01</td><td>NA</td><td>NA</td><td>NA</td><td>NA</td><td>NA</td><td>NA</td><td>NA</td><td>NA</td><td>NA</td></tr>\n",
       "\t<tr><th scope=row>2</th><td>2004-01-02</td><td>-0.499</td><td>NA</td><td>NA</td><td>NA</td><td>NA</td><td>NA</td><td>NA</td><td> -2.06</td><td>-0.05</td><td>NA</td><td>NA</td><td>NA</td><td>NA</td><td>NA</td><td>NA</td><td>NA</td><td>NA</td><td>NA</td></tr>\n",
       "\t<tr><th scope=row>3</th><td>2004-01-03</td><td>-2.956</td><td>NA</td><td>NA</td><td>NA</td><td>NA</td><td>NA</td><td>NA</td><td> -5.82</td><td>-2.19</td><td>NA</td><td>NA</td><td>NA</td><td>NA</td><td>NA</td><td>NA</td><td>NA</td><td>NA</td><td>NA</td></tr>\n",
       "\t<tr><th scope=row>4</th><td>2004-01-04</td><td>-4.209</td><td>NA</td><td>NA</td><td>NA</td><td>NA</td><td>NA</td><td>NA</td><td>-10.45</td><td>-1.48</td><td>NA</td><td>NA</td><td>NA</td><td>NA</td><td>NA</td><td>NA</td><td>NA</td><td>NA</td><td>NA</td></tr>\n",
       "\t<tr><th scope=row>5</th><td>2004-01-05</td><td>-1.192</td><td>NA</td><td>NA</td><td>NA</td><td>NA</td><td>NA</td><td>NA</td><td> -8.10</td><td> 0.53</td><td>NA</td><td>NA</td><td>NA</td><td>NA</td><td>NA</td><td>NA</td><td>NA</td><td>NA</td><td>NA</td></tr>\n",
       "\t<tr><th scope=row>6</th><td>2004-01-06</td><td>-1.580</td><td>NA</td><td>NA</td><td>NA</td><td>NA</td><td>NA</td><td>NA</td><td> -7.24</td><td> 0.35</td><td>NA</td><td>NA</td><td>NA</td><td>NA</td><td>NA</td><td>NA</td><td>NA</td><td>NA</td><td>NA</td></tr>\n",
       "</tbody>\n",
       "</table>\n"
      ],
      "text/latex": [
       "A data.frame: 6 x 19\n",
       "\\begin{tabular}{r|lllllllllllllllllll}\n",
       "  & date & temp & vpd & ppfd & netrad & patm & snow & rain & tmin & tmax & vwind & fapar & co2 & ccov & gpp & le & le\\_qc & nee & nee\\_qc\\\\\n",
       "  & <date> & <dbl> & <lgl> & <lgl> & <lgl> & <lgl> & <lgl> & <lgl> & <dbl> & <dbl> & <lgl> & <lgl> & <lgl> & <lgl> & <lgl> & <lgl> & <lgl> & <lgl> & <lgl>\\\\\n",
       "\\hline\n",
       "\t1 & 2004-01-01 & -0.227 & NA & NA & NA & NA & NA & NA &  -1.23 & -0.01 & NA & NA & NA & NA & NA & NA & NA & NA & NA\\\\\n",
       "\t2 & 2004-01-02 & -0.499 & NA & NA & NA & NA & NA & NA &  -2.06 & -0.05 & NA & NA & NA & NA & NA & NA & NA & NA & NA\\\\\n",
       "\t3 & 2004-01-03 & -2.956 & NA & NA & NA & NA & NA & NA &  -5.82 & -2.19 & NA & NA & NA & NA & NA & NA & NA & NA & NA\\\\\n",
       "\t4 & 2004-01-04 & -4.209 & NA & NA & NA & NA & NA & NA & -10.45 & -1.48 & NA & NA & NA & NA & NA & NA & NA & NA & NA\\\\\n",
       "\t5 & 2004-01-05 & -1.192 & NA & NA & NA & NA & NA & NA &  -8.10 &  0.53 & NA & NA & NA & NA & NA & NA & NA & NA & NA\\\\\n",
       "\t6 & 2004-01-06 & -1.580 & NA & NA & NA & NA & NA & NA &  -7.24 &  0.35 & NA & NA & NA & NA & NA & NA & NA & NA & NA\\\\\n",
       "\\end{tabular}\n"
      ],
      "text/markdown": [
       "\n",
       "A data.frame: 6 x 19\n",
       "\n",
       "| <!--/--> | date &lt;date&gt; | temp &lt;dbl&gt; | vpd &lt;lgl&gt; | ppfd &lt;lgl&gt; | netrad &lt;lgl&gt; | patm &lt;lgl&gt; | snow &lt;lgl&gt; | rain &lt;lgl&gt; | tmin &lt;dbl&gt; | tmax &lt;dbl&gt; | vwind &lt;lgl&gt; | fapar &lt;lgl&gt; | co2 &lt;lgl&gt; | ccov &lt;lgl&gt; | gpp &lt;lgl&gt; | le &lt;lgl&gt; | le_qc &lt;lgl&gt; | nee &lt;lgl&gt; | nee_qc &lt;lgl&gt; |\n",
       "|---|---|---|---|---|---|---|---|---|---|---|---|---|---|---|---|---|---|---|---|\n",
       "| 1 | 2004-01-01 | -0.227 | NA | NA | NA | NA | NA | NA |  -1.23 | -0.01 | NA | NA | NA | NA | NA | NA | NA | NA | NA |\n",
       "| 2 | 2004-01-02 | -0.499 | NA | NA | NA | NA | NA | NA |  -2.06 | -0.05 | NA | NA | NA | NA | NA | NA | NA | NA | NA |\n",
       "| 3 | 2004-01-03 | -2.956 | NA | NA | NA | NA | NA | NA |  -5.82 | -2.19 | NA | NA | NA | NA | NA | NA | NA | NA | NA |\n",
       "| 4 | 2004-01-04 | -4.209 | NA | NA | NA | NA | NA | NA | -10.45 | -1.48 | NA | NA | NA | NA | NA | NA | NA | NA | NA |\n",
       "| 5 | 2004-01-05 | -1.192 | NA | NA | NA | NA | NA | NA |  -8.10 |  0.53 | NA | NA | NA | NA | NA | NA | NA | NA | NA |\n",
       "| 6 | 2004-01-06 | -1.580 | NA | NA | NA | NA | NA | NA |  -7.24 |  0.35 | NA | NA | NA | NA | NA | NA | NA | NA | NA |\n",
       "\n"
      ],
      "text/plain": [
       "  date       temp   vpd ppfd netrad patm snow rain tmin   tmax  vwind fapar co2\n",
       "1 2004-01-01 -0.227 NA  NA   NA     NA   NA   NA    -1.23 -0.01 NA    NA    NA \n",
       "2 2004-01-02 -0.499 NA  NA   NA     NA   NA   NA    -2.06 -0.05 NA    NA    NA \n",
       "3 2004-01-03 -2.956 NA  NA   NA     NA   NA   NA    -5.82 -2.19 NA    NA    NA \n",
       "4 2004-01-04 -4.209 NA  NA   NA     NA   NA   NA   -10.45 -1.48 NA    NA    NA \n",
       "5 2004-01-05 -1.192 NA  NA   NA     NA   NA   NA    -8.10  0.53 NA    NA    NA \n",
       "6 2004-01-06 -1.580 NA  NA   NA     NA   NA   NA    -7.24  0.35 NA    NA    NA \n",
       "  ccov gpp le le_qc nee nee_qc\n",
       "1 NA   NA  NA NA    NA  NA    \n",
       "2 NA   NA  NA NA    NA  NA    \n",
       "3 NA   NA  NA NA    NA  NA    \n",
       "4 NA   NA  NA NA    NA  NA    \n",
       "5 NA   NA  NA NA    NA  NA    \n",
       "6 NA   NA  NA NA    NA  NA    "
      ]
     },
     "metadata": {},
     "output_type": "display_data"
    }
   ],
   "source": [
    "# read temp, tmin and tmax data\n",
    "temp_data <- read.csv(\"../data/01_data_prep/01_temp_tmin_tmax.csv\")\n",
    "# print the head of the temp_data\n",
    "head(temp_data)\n",
    "# convert date column to Date type\n",
    "temp_data$date <- as.Date(temp_data$date)\n",
    "\n",
    "# update the existing columns in df with values from temp_data\n",
    "df <- df %>% \n",
    "    left_join(temp_data %>% select(date, temp, tmin, tmax), by = \"date\", suffix = c(\"\", \"_new\")) %>%\n",
    "    mutate(\n",
    "        temp = temp_new,\n",
    "        tmin = tmin_new,\n",
    "        tmax = tmax_new\n",
    "    ) %>%\n",
    "    select(-temp_new, -tmin_new, -tmax_new)\n",
    "# print the head of the df\n",
    "head(df)"
   ]
  },
  {
   "cell_type": "markdown",
   "id": "98456371",
   "metadata": {},
   "source": [
    "### vwind"
   ]
  },
  {
   "cell_type": "code",
   "execution_count": 4,
   "id": "40a94d59",
   "metadata": {
    "vscode": {
     "languageId": "r"
    }
   },
   "outputs": [
    {
     "data": {
      "text/html": [
       "<table class=\"dataframe\">\n",
       "<caption>A data.frame: 6 x 2</caption>\n",
       "<thead>\n",
       "\t<tr><th></th><th scope=col>date</th><th scope=col>wind_velocity_ms</th></tr>\n",
       "\t<tr><th></th><th scope=col>&lt;chr&gt;</th><th scope=col>&lt;dbl&gt;</th></tr>\n",
       "</thead>\n",
       "<tbody>\n",
       "\t<tr><th scope=row>1</th><td>2004-01-01</td><td>1.520</td></tr>\n",
       "\t<tr><th scope=row>2</th><td>2004-01-02</td><td>2.022</td></tr>\n",
       "\t<tr><th scope=row>3</th><td>2004-01-03</td><td>2.716</td></tr>\n",
       "\t<tr><th scope=row>4</th><td>2004-01-04</td><td>1.089</td></tr>\n",
       "\t<tr><th scope=row>5</th><td>2004-01-05</td><td>0.675</td></tr>\n",
       "\t<tr><th scope=row>6</th><td>2004-01-06</td><td>0.701</td></tr>\n",
       "</tbody>\n",
       "</table>\n"
      ],
      "text/latex": [
       "A data.frame: 6 x 2\n",
       "\\begin{tabular}{r|ll}\n",
       "  & date & wind\\_velocity\\_ms\\\\\n",
       "  & <chr> & <dbl>\\\\\n",
       "\\hline\n",
       "\t1 & 2004-01-01 & 1.520\\\\\n",
       "\t2 & 2004-01-02 & 2.022\\\\\n",
       "\t3 & 2004-01-03 & 2.716\\\\\n",
       "\t4 & 2004-01-04 & 1.089\\\\\n",
       "\t5 & 2004-01-05 & 0.675\\\\\n",
       "\t6 & 2004-01-06 & 0.701\\\\\n",
       "\\end{tabular}\n"
      ],
      "text/markdown": [
       "\n",
       "A data.frame: 6 x 2\n",
       "\n",
       "| <!--/--> | date &lt;chr&gt; | wind_velocity_ms &lt;dbl&gt; |\n",
       "|---|---|---|\n",
       "| 1 | 2004-01-01 | 1.520 |\n",
       "| 2 | 2004-01-02 | 2.022 |\n",
       "| 3 | 2004-01-03 | 2.716 |\n",
       "| 4 | 2004-01-04 | 1.089 |\n",
       "| 5 | 2004-01-05 | 0.675 |\n",
       "| 6 | 2004-01-06 | 0.701 |\n",
       "\n"
      ],
      "text/plain": [
       "  date       wind_velocity_ms\n",
       "1 2004-01-01 1.520           \n",
       "2 2004-01-02 2.022           \n",
       "3 2004-01-03 2.716           \n",
       "4 2004-01-04 1.089           \n",
       "5 2004-01-05 0.675           \n",
       "6 2004-01-06 0.701           "
      ]
     },
     "metadata": {},
     "output_type": "display_data"
    },
    {
     "data": {
      "text/html": [
       "<table class=\"dataframe\">\n",
       "<caption>A data.frame: 6 x 19</caption>\n",
       "<thead>\n",
       "\t<tr><th></th><th scope=col>date</th><th scope=col>temp</th><th scope=col>vpd</th><th scope=col>ppfd</th><th scope=col>netrad</th><th scope=col>patm</th><th scope=col>snow</th><th scope=col>rain</th><th scope=col>tmin</th><th scope=col>tmax</th><th scope=col>vwind</th><th scope=col>fapar</th><th scope=col>co2</th><th scope=col>ccov</th><th scope=col>gpp</th><th scope=col>le</th><th scope=col>le_qc</th><th scope=col>nee</th><th scope=col>nee_qc</th></tr>\n",
       "\t<tr><th></th><th scope=col>&lt;date&gt;</th><th scope=col>&lt;dbl&gt;</th><th scope=col>&lt;lgl&gt;</th><th scope=col>&lt;lgl&gt;</th><th scope=col>&lt;lgl&gt;</th><th scope=col>&lt;lgl&gt;</th><th scope=col>&lt;lgl&gt;</th><th scope=col>&lt;lgl&gt;</th><th scope=col>&lt;dbl&gt;</th><th scope=col>&lt;dbl&gt;</th><th scope=col>&lt;dbl&gt;</th><th scope=col>&lt;lgl&gt;</th><th scope=col>&lt;lgl&gt;</th><th scope=col>&lt;lgl&gt;</th><th scope=col>&lt;lgl&gt;</th><th scope=col>&lt;lgl&gt;</th><th scope=col>&lt;lgl&gt;</th><th scope=col>&lt;lgl&gt;</th><th scope=col>&lt;lgl&gt;</th></tr>\n",
       "</thead>\n",
       "<tbody>\n",
       "\t<tr><th scope=row>1</th><td>2004-01-01</td><td>-0.227</td><td>NA</td><td>NA</td><td>NA</td><td>NA</td><td>NA</td><td>NA</td><td> -1.23</td><td>-0.01</td><td>1.520</td><td>NA</td><td>NA</td><td>NA</td><td>NA</td><td>NA</td><td>NA</td><td>NA</td><td>NA</td></tr>\n",
       "\t<tr><th scope=row>2</th><td>2004-01-02</td><td>-0.499</td><td>NA</td><td>NA</td><td>NA</td><td>NA</td><td>NA</td><td>NA</td><td> -2.06</td><td>-0.05</td><td>2.022</td><td>NA</td><td>NA</td><td>NA</td><td>NA</td><td>NA</td><td>NA</td><td>NA</td><td>NA</td></tr>\n",
       "\t<tr><th scope=row>3</th><td>2004-01-03</td><td>-2.956</td><td>NA</td><td>NA</td><td>NA</td><td>NA</td><td>NA</td><td>NA</td><td> -5.82</td><td>-2.19</td><td>2.716</td><td>NA</td><td>NA</td><td>NA</td><td>NA</td><td>NA</td><td>NA</td><td>NA</td><td>NA</td></tr>\n",
       "\t<tr><th scope=row>4</th><td>2004-01-04</td><td>-4.209</td><td>NA</td><td>NA</td><td>NA</td><td>NA</td><td>NA</td><td>NA</td><td>-10.45</td><td>-1.48</td><td>1.089</td><td>NA</td><td>NA</td><td>NA</td><td>NA</td><td>NA</td><td>NA</td><td>NA</td><td>NA</td></tr>\n",
       "\t<tr><th scope=row>5</th><td>2004-01-05</td><td>-1.192</td><td>NA</td><td>NA</td><td>NA</td><td>NA</td><td>NA</td><td>NA</td><td> -8.10</td><td> 0.53</td><td>0.675</td><td>NA</td><td>NA</td><td>NA</td><td>NA</td><td>NA</td><td>NA</td><td>NA</td><td>NA</td></tr>\n",
       "\t<tr><th scope=row>6</th><td>2004-01-06</td><td>-1.580</td><td>NA</td><td>NA</td><td>NA</td><td>NA</td><td>NA</td><td>NA</td><td> -7.24</td><td> 0.35</td><td>0.701</td><td>NA</td><td>NA</td><td>NA</td><td>NA</td><td>NA</td><td>NA</td><td>NA</td><td>NA</td></tr>\n",
       "</tbody>\n",
       "</table>\n"
      ],
      "text/latex": [
       "A data.frame: 6 x 19\n",
       "\\begin{tabular}{r|lllllllllllllllllll}\n",
       "  & date & temp & vpd & ppfd & netrad & patm & snow & rain & tmin & tmax & vwind & fapar & co2 & ccov & gpp & le & le\\_qc & nee & nee\\_qc\\\\\n",
       "  & <date> & <dbl> & <lgl> & <lgl> & <lgl> & <lgl> & <lgl> & <lgl> & <dbl> & <dbl> & <dbl> & <lgl> & <lgl> & <lgl> & <lgl> & <lgl> & <lgl> & <lgl> & <lgl>\\\\\n",
       "\\hline\n",
       "\t1 & 2004-01-01 & -0.227 & NA & NA & NA & NA & NA & NA &  -1.23 & -0.01 & 1.520 & NA & NA & NA & NA & NA & NA & NA & NA\\\\\n",
       "\t2 & 2004-01-02 & -0.499 & NA & NA & NA & NA & NA & NA &  -2.06 & -0.05 & 2.022 & NA & NA & NA & NA & NA & NA & NA & NA\\\\\n",
       "\t3 & 2004-01-03 & -2.956 & NA & NA & NA & NA & NA & NA &  -5.82 & -2.19 & 2.716 & NA & NA & NA & NA & NA & NA & NA & NA\\\\\n",
       "\t4 & 2004-01-04 & -4.209 & NA & NA & NA & NA & NA & NA & -10.45 & -1.48 & 1.089 & NA & NA & NA & NA & NA & NA & NA & NA\\\\\n",
       "\t5 & 2004-01-05 & -1.192 & NA & NA & NA & NA & NA & NA &  -8.10 &  0.53 & 0.675 & NA & NA & NA & NA & NA & NA & NA & NA\\\\\n",
       "\t6 & 2004-01-06 & -1.580 & NA & NA & NA & NA & NA & NA &  -7.24 &  0.35 & 0.701 & NA & NA & NA & NA & NA & NA & NA & NA\\\\\n",
       "\\end{tabular}\n"
      ],
      "text/markdown": [
       "\n",
       "A data.frame: 6 x 19\n",
       "\n",
       "| <!--/--> | date &lt;date&gt; | temp &lt;dbl&gt; | vpd &lt;lgl&gt; | ppfd &lt;lgl&gt; | netrad &lt;lgl&gt; | patm &lt;lgl&gt; | snow &lt;lgl&gt; | rain &lt;lgl&gt; | tmin &lt;dbl&gt; | tmax &lt;dbl&gt; | vwind &lt;dbl&gt; | fapar &lt;lgl&gt; | co2 &lt;lgl&gt; | ccov &lt;lgl&gt; | gpp &lt;lgl&gt; | le &lt;lgl&gt; | le_qc &lt;lgl&gt; | nee &lt;lgl&gt; | nee_qc &lt;lgl&gt; |\n",
       "|---|---|---|---|---|---|---|---|---|---|---|---|---|---|---|---|---|---|---|---|\n",
       "| 1 | 2004-01-01 | -0.227 | NA | NA | NA | NA | NA | NA |  -1.23 | -0.01 | 1.520 | NA | NA | NA | NA | NA | NA | NA | NA |\n",
       "| 2 | 2004-01-02 | -0.499 | NA | NA | NA | NA | NA | NA |  -2.06 | -0.05 | 2.022 | NA | NA | NA | NA | NA | NA | NA | NA |\n",
       "| 3 | 2004-01-03 | -2.956 | NA | NA | NA | NA | NA | NA |  -5.82 | -2.19 | 2.716 | NA | NA | NA | NA | NA | NA | NA | NA |\n",
       "| 4 | 2004-01-04 | -4.209 | NA | NA | NA | NA | NA | NA | -10.45 | -1.48 | 1.089 | NA | NA | NA | NA | NA | NA | NA | NA |\n",
       "| 5 | 2004-01-05 | -1.192 | NA | NA | NA | NA | NA | NA |  -8.10 |  0.53 | 0.675 | NA | NA | NA | NA | NA | NA | NA | NA |\n",
       "| 6 | 2004-01-06 | -1.580 | NA | NA | NA | NA | NA | NA |  -7.24 |  0.35 | 0.701 | NA | NA | NA | NA | NA | NA | NA | NA |\n",
       "\n"
      ],
      "text/plain": [
       "  date       temp   vpd ppfd netrad patm snow rain tmin   tmax  vwind fapar co2\n",
       "1 2004-01-01 -0.227 NA  NA   NA     NA   NA   NA    -1.23 -0.01 1.520 NA    NA \n",
       "2 2004-01-02 -0.499 NA  NA   NA     NA   NA   NA    -2.06 -0.05 2.022 NA    NA \n",
       "3 2004-01-03 -2.956 NA  NA   NA     NA   NA   NA    -5.82 -2.19 2.716 NA    NA \n",
       "4 2004-01-04 -4.209 NA  NA   NA     NA   NA   NA   -10.45 -1.48 1.089 NA    NA \n",
       "5 2004-01-05 -1.192 NA  NA   NA     NA   NA   NA    -8.10  0.53 0.675 NA    NA \n",
       "6 2004-01-06 -1.580 NA  NA   NA     NA   NA   NA    -7.24  0.35 0.701 NA    NA \n",
       "  ccov gpp le le_qc nee nee_qc\n",
       "1 NA   NA  NA NA    NA  NA    \n",
       "2 NA   NA  NA NA    NA  NA    \n",
       "3 NA   NA  NA NA    NA  NA    \n",
       "4 NA   NA  NA NA    NA  NA    \n",
       "5 NA   NA  NA NA    NA  NA    \n",
       "6 NA   NA  NA NA    NA  NA    "
      ]
     },
     "metadata": {},
     "output_type": "display_data"
    }
   ],
   "source": [
    "# read the vwind data\n",
    "vwind_data <- read.csv(\"../data/01_data_prep/01a_vwind.csv\")\n",
    "# print the head of the vwind_data\n",
    "head(vwind_data)\n",
    "# convert date column to Date type\n",
    "vwind_data$date <- as.Date(vwind_data$date)\n",
    "\n",
    "# update the existing columns in df with values from vwind_data\n",
    "df <- df %>% \n",
    "    left_join(vwind_data %>% select(date, wind_velocity_ms), by = \"date\", suffix = c(\"\", \"_new\")) %>%\n",
    "    mutate(vwind = wind_velocity_ms) %>%\n",
    "    select(-wind_velocity_ms)\n",
    "# print the head of the df\n",
    "head(df)"
   ]
  },
  {
   "cell_type": "markdown",
   "id": "632768c5",
   "metadata": {},
   "source": [
    "### vpd"
   ]
  },
  {
   "cell_type": "code",
   "execution_count": 5,
   "id": "91209105",
   "metadata": {
    "vscode": {
     "languageId": "r"
    }
   },
   "outputs": [
    {
     "data": {
      "text/html": [
       "<table class=\"dataframe\">\n",
       "<caption>A data.frame: 6 x 5</caption>\n",
       "<thead>\n",
       "\t<tr><th></th><th scope=col>date</th><th scope=col>vpd_day</th><th scope=col>vpd_night</th><th scope=col>vpd_24h</th><th scope=col>vpd_daily_flux</th></tr>\n",
       "\t<tr><th></th><th scope=col>&lt;chr&gt;</th><th scope=col>&lt;dbl&gt;</th><th scope=col>&lt;dbl&gt;</th><th scope=col>&lt;dbl&gt;</th><th scope=col>&lt;dbl&gt;</th></tr>\n",
       "</thead>\n",
       "<tbody>\n",
       "\t<tr><th scope=row>1</th><td>2004-01-01</td><td> 6.51250</td><td> 4.004167</td><td> 5.258333</td><td> 5.3</td></tr>\n",
       "\t<tr><th scope=row>2</th><td>2004-01-02</td><td> 0.00000</td><td> 2.091667</td><td> 1.045833</td><td> 1.0</td></tr>\n",
       "\t<tr><th scope=row>3</th><td>2004-01-03</td><td> 7.08750</td><td>14.075000</td><td>10.581250</td><td>10.6</td></tr>\n",
       "\t<tr><th scope=row>4</th><td>2004-01-04</td><td>76.00417</td><td>41.058333</td><td>58.531250</td><td>58.5</td></tr>\n",
       "\t<tr><th scope=row>5</th><td>2004-01-05</td><td>23.92917</td><td>27.658333</td><td>25.793750</td><td>25.8</td></tr>\n",
       "\t<tr><th scope=row>6</th><td>2004-01-06</td><td>23.83750</td><td> 5.025000</td><td>14.431250</td><td>14.4</td></tr>\n",
       "</tbody>\n",
       "</table>\n"
      ],
      "text/latex": [
       "A data.frame: 6 x 5\n",
       "\\begin{tabular}{r|lllll}\n",
       "  & date & vpd\\_day & vpd\\_night & vpd\\_24h & vpd\\_daily\\_flux\\\\\n",
       "  & <chr> & <dbl> & <dbl> & <dbl> & <dbl>\\\\\n",
       "\\hline\n",
       "\t1 & 2004-01-01 &  6.51250 &  4.004167 &  5.258333 &  5.3\\\\\n",
       "\t2 & 2004-01-02 &  0.00000 &  2.091667 &  1.045833 &  1.0\\\\\n",
       "\t3 & 2004-01-03 &  7.08750 & 14.075000 & 10.581250 & 10.6\\\\\n",
       "\t4 & 2004-01-04 & 76.00417 & 41.058333 & 58.531250 & 58.5\\\\\n",
       "\t5 & 2004-01-05 & 23.92917 & 27.658333 & 25.793750 & 25.8\\\\\n",
       "\t6 & 2004-01-06 & 23.83750 &  5.025000 & 14.431250 & 14.4\\\\\n",
       "\\end{tabular}\n"
      ],
      "text/markdown": [
       "\n",
       "A data.frame: 6 x 5\n",
       "\n",
       "| <!--/--> | date &lt;chr&gt; | vpd_day &lt;dbl&gt; | vpd_night &lt;dbl&gt; | vpd_24h &lt;dbl&gt; | vpd_daily_flux &lt;dbl&gt; |\n",
       "|---|---|---|---|---|---|\n",
       "| 1 | 2004-01-01 |  6.51250 |  4.004167 |  5.258333 |  5.3 |\n",
       "| 2 | 2004-01-02 |  0.00000 |  2.091667 |  1.045833 |  1.0 |\n",
       "| 3 | 2004-01-03 |  7.08750 | 14.075000 | 10.581250 | 10.6 |\n",
       "| 4 | 2004-01-04 | 76.00417 | 41.058333 | 58.531250 | 58.5 |\n",
       "| 5 | 2004-01-05 | 23.92917 | 27.658333 | 25.793750 | 25.8 |\n",
       "| 6 | 2004-01-06 | 23.83750 |  5.025000 | 14.431250 | 14.4 |\n",
       "\n"
      ],
      "text/plain": [
       "  date       vpd_day  vpd_night vpd_24h   vpd_daily_flux\n",
       "1 2004-01-01  6.51250  4.004167  5.258333  5.3          \n",
       "2 2004-01-02  0.00000  2.091667  1.045833  1.0          \n",
       "3 2004-01-03  7.08750 14.075000 10.581250 10.6          \n",
       "4 2004-01-04 76.00417 41.058333 58.531250 58.5          \n",
       "5 2004-01-05 23.92917 27.658333 25.793750 25.8          \n",
       "6 2004-01-06 23.83750  5.025000 14.431250 14.4          "
      ]
     },
     "metadata": {},
     "output_type": "display_data"
    },
    {
     "data": {
      "text/html": [
       "<table class=\"dataframe\">\n",
       "<caption>A data.frame: 6 x 19</caption>\n",
       "<thead>\n",
       "\t<tr><th></th><th scope=col>date</th><th scope=col>temp</th><th scope=col>vpd</th><th scope=col>ppfd</th><th scope=col>netrad</th><th scope=col>patm</th><th scope=col>snow</th><th scope=col>rain</th><th scope=col>tmin</th><th scope=col>tmax</th><th scope=col>vwind</th><th scope=col>fapar</th><th scope=col>co2</th><th scope=col>ccov</th><th scope=col>gpp</th><th scope=col>le</th><th scope=col>le_qc</th><th scope=col>nee</th><th scope=col>nee_qc</th></tr>\n",
       "\t<tr><th></th><th scope=col>&lt;date&gt;</th><th scope=col>&lt;dbl&gt;</th><th scope=col>&lt;dbl&gt;</th><th scope=col>&lt;lgl&gt;</th><th scope=col>&lt;lgl&gt;</th><th scope=col>&lt;lgl&gt;</th><th scope=col>&lt;lgl&gt;</th><th scope=col>&lt;lgl&gt;</th><th scope=col>&lt;dbl&gt;</th><th scope=col>&lt;dbl&gt;</th><th scope=col>&lt;dbl&gt;</th><th scope=col>&lt;lgl&gt;</th><th scope=col>&lt;lgl&gt;</th><th scope=col>&lt;lgl&gt;</th><th scope=col>&lt;lgl&gt;</th><th scope=col>&lt;lgl&gt;</th><th scope=col>&lt;lgl&gt;</th><th scope=col>&lt;lgl&gt;</th><th scope=col>&lt;lgl&gt;</th></tr>\n",
       "</thead>\n",
       "<tbody>\n",
       "\t<tr><th scope=row>1</th><td>2004-01-01</td><td>-0.227</td><td> 6.51250</td><td>NA</td><td>NA</td><td>NA</td><td>NA</td><td>NA</td><td> -1.23</td><td>-0.01</td><td>1.520</td><td>NA</td><td>NA</td><td>NA</td><td>NA</td><td>NA</td><td>NA</td><td>NA</td><td>NA</td></tr>\n",
       "\t<tr><th scope=row>2</th><td>2004-01-02</td><td>-0.499</td><td> 0.00000</td><td>NA</td><td>NA</td><td>NA</td><td>NA</td><td>NA</td><td> -2.06</td><td>-0.05</td><td>2.022</td><td>NA</td><td>NA</td><td>NA</td><td>NA</td><td>NA</td><td>NA</td><td>NA</td><td>NA</td></tr>\n",
       "\t<tr><th scope=row>3</th><td>2004-01-03</td><td>-2.956</td><td> 7.08750</td><td>NA</td><td>NA</td><td>NA</td><td>NA</td><td>NA</td><td> -5.82</td><td>-2.19</td><td>2.716</td><td>NA</td><td>NA</td><td>NA</td><td>NA</td><td>NA</td><td>NA</td><td>NA</td><td>NA</td></tr>\n",
       "\t<tr><th scope=row>4</th><td>2004-01-04</td><td>-4.209</td><td>76.00417</td><td>NA</td><td>NA</td><td>NA</td><td>NA</td><td>NA</td><td>-10.45</td><td>-1.48</td><td>1.089</td><td>NA</td><td>NA</td><td>NA</td><td>NA</td><td>NA</td><td>NA</td><td>NA</td><td>NA</td></tr>\n",
       "\t<tr><th scope=row>5</th><td>2004-01-05</td><td>-1.192</td><td>23.92917</td><td>NA</td><td>NA</td><td>NA</td><td>NA</td><td>NA</td><td> -8.10</td><td> 0.53</td><td>0.675</td><td>NA</td><td>NA</td><td>NA</td><td>NA</td><td>NA</td><td>NA</td><td>NA</td><td>NA</td></tr>\n",
       "\t<tr><th scope=row>6</th><td>2004-01-06</td><td>-1.580</td><td>23.83750</td><td>NA</td><td>NA</td><td>NA</td><td>NA</td><td>NA</td><td> -7.24</td><td> 0.35</td><td>0.701</td><td>NA</td><td>NA</td><td>NA</td><td>NA</td><td>NA</td><td>NA</td><td>NA</td><td>NA</td></tr>\n",
       "</tbody>\n",
       "</table>\n"
      ],
      "text/latex": [
       "A data.frame: 6 x 19\n",
       "\\begin{tabular}{r|lllllllllllllllllll}\n",
       "  & date & temp & vpd & ppfd & netrad & patm & snow & rain & tmin & tmax & vwind & fapar & co2 & ccov & gpp & le & le\\_qc & nee & nee\\_qc\\\\\n",
       "  & <date> & <dbl> & <dbl> & <lgl> & <lgl> & <lgl> & <lgl> & <lgl> & <dbl> & <dbl> & <dbl> & <lgl> & <lgl> & <lgl> & <lgl> & <lgl> & <lgl> & <lgl> & <lgl>\\\\\n",
       "\\hline\n",
       "\t1 & 2004-01-01 & -0.227 &  6.51250 & NA & NA & NA & NA & NA &  -1.23 & -0.01 & 1.520 & NA & NA & NA & NA & NA & NA & NA & NA\\\\\n",
       "\t2 & 2004-01-02 & -0.499 &  0.00000 & NA & NA & NA & NA & NA &  -2.06 & -0.05 & 2.022 & NA & NA & NA & NA & NA & NA & NA & NA\\\\\n",
       "\t3 & 2004-01-03 & -2.956 &  7.08750 & NA & NA & NA & NA & NA &  -5.82 & -2.19 & 2.716 & NA & NA & NA & NA & NA & NA & NA & NA\\\\\n",
       "\t4 & 2004-01-04 & -4.209 & 76.00417 & NA & NA & NA & NA & NA & -10.45 & -1.48 & 1.089 & NA & NA & NA & NA & NA & NA & NA & NA\\\\\n",
       "\t5 & 2004-01-05 & -1.192 & 23.92917 & NA & NA & NA & NA & NA &  -8.10 &  0.53 & 0.675 & NA & NA & NA & NA & NA & NA & NA & NA\\\\\n",
       "\t6 & 2004-01-06 & -1.580 & 23.83750 & NA & NA & NA & NA & NA &  -7.24 &  0.35 & 0.701 & NA & NA & NA & NA & NA & NA & NA & NA\\\\\n",
       "\\end{tabular}\n"
      ],
      "text/markdown": [
       "\n",
       "A data.frame: 6 x 19\n",
       "\n",
       "| <!--/--> | date &lt;date&gt; | temp &lt;dbl&gt; | vpd &lt;dbl&gt; | ppfd &lt;lgl&gt; | netrad &lt;lgl&gt; | patm &lt;lgl&gt; | snow &lt;lgl&gt; | rain &lt;lgl&gt; | tmin &lt;dbl&gt; | tmax &lt;dbl&gt; | vwind &lt;dbl&gt; | fapar &lt;lgl&gt; | co2 &lt;lgl&gt; | ccov &lt;lgl&gt; | gpp &lt;lgl&gt; | le &lt;lgl&gt; | le_qc &lt;lgl&gt; | nee &lt;lgl&gt; | nee_qc &lt;lgl&gt; |\n",
       "|---|---|---|---|---|---|---|---|---|---|---|---|---|---|---|---|---|---|---|---|\n",
       "| 1 | 2004-01-01 | -0.227 |  6.51250 | NA | NA | NA | NA | NA |  -1.23 | -0.01 | 1.520 | NA | NA | NA | NA | NA | NA | NA | NA |\n",
       "| 2 | 2004-01-02 | -0.499 |  0.00000 | NA | NA | NA | NA | NA |  -2.06 | -0.05 | 2.022 | NA | NA | NA | NA | NA | NA | NA | NA |\n",
       "| 3 | 2004-01-03 | -2.956 |  7.08750 | NA | NA | NA | NA | NA |  -5.82 | -2.19 | 2.716 | NA | NA | NA | NA | NA | NA | NA | NA |\n",
       "| 4 | 2004-01-04 | -4.209 | 76.00417 | NA | NA | NA | NA | NA | -10.45 | -1.48 | 1.089 | NA | NA | NA | NA | NA | NA | NA | NA |\n",
       "| 5 | 2004-01-05 | -1.192 | 23.92917 | NA | NA | NA | NA | NA |  -8.10 |  0.53 | 0.675 | NA | NA | NA | NA | NA | NA | NA | NA |\n",
       "| 6 | 2004-01-06 | -1.580 | 23.83750 | NA | NA | NA | NA | NA |  -7.24 |  0.35 | 0.701 | NA | NA | NA | NA | NA | NA | NA | NA |\n",
       "\n"
      ],
      "text/plain": [
       "  date       temp   vpd      ppfd netrad patm snow rain tmin   tmax  vwind\n",
       "1 2004-01-01 -0.227  6.51250 NA   NA     NA   NA   NA    -1.23 -0.01 1.520\n",
       "2 2004-01-02 -0.499  0.00000 NA   NA     NA   NA   NA    -2.06 -0.05 2.022\n",
       "3 2004-01-03 -2.956  7.08750 NA   NA     NA   NA   NA    -5.82 -2.19 2.716\n",
       "4 2004-01-04 -4.209 76.00417 NA   NA     NA   NA   NA   -10.45 -1.48 1.089\n",
       "5 2004-01-05 -1.192 23.92917 NA   NA     NA   NA   NA    -8.10  0.53 0.675\n",
       "6 2004-01-06 -1.580 23.83750 NA   NA     NA   NA   NA    -7.24  0.35 0.701\n",
       "  fapar co2 ccov gpp le le_qc nee nee_qc\n",
       "1 NA    NA  NA   NA  NA NA    NA  NA    \n",
       "2 NA    NA  NA   NA  NA NA    NA  NA    \n",
       "3 NA    NA  NA   NA  NA NA    NA  NA    \n",
       "4 NA    NA  NA   NA  NA NA    NA  NA    \n",
       "5 NA    NA  NA   NA  NA NA    NA  NA    \n",
       "6 NA    NA  NA   NA  NA NA    NA  NA    "
      ]
     },
     "metadata": {},
     "output_type": "display_data"
    }
   ],
   "source": [
    "# read vpd data\n",
    "vpd_data <- read.csv(\"../data/01_data_prep/02_vpd.csv\")\n",
    "# print the head of the vpd_data\n",
    "head(vpd_data)\n",
    "# convert date column to Date type\n",
    "vpd_data$date <- as.Date(vpd_data$date)\n",
    "\n",
    "# update the existing columns in df with values from vpd_data\n",
    "df <- df %>% \n",
    "    left_join(vpd_data %>% select(date, vpd_day), by = \"date\") %>%\n",
    "    mutate(vpd = vpd_day) %>%\n",
    "    select(-vpd_day)\n",
    "# print the head of the df\n",
    "head(df)"
   ]
  },
  {
   "cell_type": "markdown",
   "id": "b12e8ba7",
   "metadata": {},
   "source": [
    "### ppfd"
   ]
  },
  {
   "cell_type": "code",
   "execution_count": 6,
   "id": "5417dc2c",
   "metadata": {
    "vscode": {
     "languageId": "r"
    }
   },
   "outputs": [
    {
     "data": {
      "text/html": [
       "<table class=\"dataframe\">\n",
       "<caption>A data.frame: 6 x 10</caption>\n",
       "<thead>\n",
       "\t<tr><th></th><th scope=col>date</th><th scope=col>year</th><th scope=col>doy</th><th scope=col>latitude</th><th scope=col>longitude</th><th scope=col>elevation</th><th scope=col>SW_IN_F</th><th scope=col>SW_IN_F_MJ</th><th scope=col>ppfd_obs</th><th scope=col>ppfd</th></tr>\n",
       "\t<tr><th></th><th scope=col>&lt;chr&gt;</th><th scope=col>&lt;int&gt;</th><th scope=col>&lt;int&gt;</th><th scope=col>&lt;dbl&gt;</th><th scope=col>&lt;dbl&gt;</th><th scope=col>&lt;int&gt;</th><th scope=col>&lt;dbl&gt;</th><th scope=col>&lt;dbl&gt;</th><th scope=col>&lt;dbl&gt;</th><th scope=col>&lt;dbl&gt;</th></tr>\n",
       "</thead>\n",
       "<tbody>\n",
       "\t<tr><th scope=row>1</th><td>2004-01-01</td><td>2004</td><td>1</td><td>47.28642</td><td>7.73375</td><td>452</td><td>36.666</td><td>3.167942</td><td>6.514874</td><td>6.514874</td></tr>\n",
       "\t<tr><th scope=row>2</th><td>2004-01-02</td><td>2004</td><td>2</td><td>47.28642</td><td>7.73375</td><td>452</td><td>40.078</td><td>3.462739</td><td>7.121123</td><td>7.121123</td></tr>\n",
       "\t<tr><th scope=row>3</th><td>2004-01-03</td><td>2004</td><td>3</td><td>47.28642</td><td>7.73375</td><td>452</td><td>40.147</td><td>3.468701</td><td>7.133383</td><td>7.133383</td></tr>\n",
       "\t<tr><th scope=row>4</th><td>2004-01-04</td><td>2004</td><td>4</td><td>47.28642</td><td>7.73375</td><td>452</td><td>53.699</td><td>4.639594</td><td>9.541324</td><td>9.541324</td></tr>\n",
       "\t<tr><th scope=row>5</th><td>2004-01-05</td><td>2004</td><td>5</td><td>47.28642</td><td>7.73375</td><td>452</td><td>37.888</td><td>3.273523</td><td>6.732000</td><td>6.732000</td></tr>\n",
       "\t<tr><th scope=row>6</th><td>2004-01-06</td><td>2004</td><td>6</td><td>47.28642</td><td>7.73375</td><td>452</td><td>49.015</td><td>4.234896</td><td>8.709064</td><td>8.709064</td></tr>\n",
       "</tbody>\n",
       "</table>\n"
      ],
      "text/latex": [
       "A data.frame: 6 x 10\n",
       "\\begin{tabular}{r|llllllllll}\n",
       "  & date & year & doy & latitude & longitude & elevation & SW\\_IN\\_F & SW\\_IN\\_F\\_MJ & ppfd\\_obs & ppfd\\\\\n",
       "  & <chr> & <int> & <int> & <dbl> & <dbl> & <int> & <dbl> & <dbl> & <dbl> & <dbl>\\\\\n",
       "\\hline\n",
       "\t1 & 2004-01-01 & 2004 & 1 & 47.28642 & 7.73375 & 452 & 36.666 & 3.167942 & 6.514874 & 6.514874\\\\\n",
       "\t2 & 2004-01-02 & 2004 & 2 & 47.28642 & 7.73375 & 452 & 40.078 & 3.462739 & 7.121123 & 7.121123\\\\\n",
       "\t3 & 2004-01-03 & 2004 & 3 & 47.28642 & 7.73375 & 452 & 40.147 & 3.468701 & 7.133383 & 7.133383\\\\\n",
       "\t4 & 2004-01-04 & 2004 & 4 & 47.28642 & 7.73375 & 452 & 53.699 & 4.639594 & 9.541324 & 9.541324\\\\\n",
       "\t5 & 2004-01-05 & 2004 & 5 & 47.28642 & 7.73375 & 452 & 37.888 & 3.273523 & 6.732000 & 6.732000\\\\\n",
       "\t6 & 2004-01-06 & 2004 & 6 & 47.28642 & 7.73375 & 452 & 49.015 & 4.234896 & 8.709064 & 8.709064\\\\\n",
       "\\end{tabular}\n"
      ],
      "text/markdown": [
       "\n",
       "A data.frame: 6 x 10\n",
       "\n",
       "| <!--/--> | date &lt;chr&gt; | year &lt;int&gt; | doy &lt;int&gt; | latitude &lt;dbl&gt; | longitude &lt;dbl&gt; | elevation &lt;int&gt; | SW_IN_F &lt;dbl&gt; | SW_IN_F_MJ &lt;dbl&gt; | ppfd_obs &lt;dbl&gt; | ppfd &lt;dbl&gt; |\n",
       "|---|---|---|---|---|---|---|---|---|---|---|\n",
       "| 1 | 2004-01-01 | 2004 | 1 | 47.28642 | 7.73375 | 452 | 36.666 | 3.167942 | 6.514874 | 6.514874 |\n",
       "| 2 | 2004-01-02 | 2004 | 2 | 47.28642 | 7.73375 | 452 | 40.078 | 3.462739 | 7.121123 | 7.121123 |\n",
       "| 3 | 2004-01-03 | 2004 | 3 | 47.28642 | 7.73375 | 452 | 40.147 | 3.468701 | 7.133383 | 7.133383 |\n",
       "| 4 | 2004-01-04 | 2004 | 4 | 47.28642 | 7.73375 | 452 | 53.699 | 4.639594 | 9.541324 | 9.541324 |\n",
       "| 5 | 2004-01-05 | 2004 | 5 | 47.28642 | 7.73375 | 452 | 37.888 | 3.273523 | 6.732000 | 6.732000 |\n",
       "| 6 | 2004-01-06 | 2004 | 6 | 47.28642 | 7.73375 | 452 | 49.015 | 4.234896 | 8.709064 | 8.709064 |\n",
       "\n"
      ],
      "text/plain": [
       "  date       year doy latitude longitude elevation SW_IN_F SW_IN_F_MJ ppfd_obs\n",
       "1 2004-01-01 2004 1   47.28642 7.73375   452       36.666  3.167942   6.514874\n",
       "2 2004-01-02 2004 2   47.28642 7.73375   452       40.078  3.462739   7.121123\n",
       "3 2004-01-03 2004 3   47.28642 7.73375   452       40.147  3.468701   7.133383\n",
       "4 2004-01-04 2004 4   47.28642 7.73375   452       53.699  4.639594   9.541324\n",
       "5 2004-01-05 2004 5   47.28642 7.73375   452       37.888  3.273523   6.732000\n",
       "6 2004-01-06 2004 6   47.28642 7.73375   452       49.015  4.234896   8.709064\n",
       "  ppfd    \n",
       "1 6.514874\n",
       "2 7.121123\n",
       "3 7.133383\n",
       "4 9.541324\n",
       "5 6.732000\n",
       "6 8.709064"
      ]
     },
     "metadata": {},
     "output_type": "display_data"
    },
    {
     "data": {
      "text/html": [
       "<table class=\"dataframe\">\n",
       "<caption>A data.frame: 6 x 19</caption>\n",
       "<thead>\n",
       "\t<tr><th></th><th scope=col>date</th><th scope=col>temp</th><th scope=col>vpd</th><th scope=col>ppfd</th><th scope=col>netrad</th><th scope=col>patm</th><th scope=col>snow</th><th scope=col>rain</th><th scope=col>tmin</th><th scope=col>tmax</th><th scope=col>vwind</th><th scope=col>fapar</th><th scope=col>co2</th><th scope=col>ccov</th><th scope=col>gpp</th><th scope=col>le</th><th scope=col>le_qc</th><th scope=col>nee</th><th scope=col>nee_qc</th></tr>\n",
       "\t<tr><th></th><th scope=col>&lt;date&gt;</th><th scope=col>&lt;dbl&gt;</th><th scope=col>&lt;dbl&gt;</th><th scope=col>&lt;dbl&gt;</th><th scope=col>&lt;lgl&gt;</th><th scope=col>&lt;lgl&gt;</th><th scope=col>&lt;lgl&gt;</th><th scope=col>&lt;lgl&gt;</th><th scope=col>&lt;dbl&gt;</th><th scope=col>&lt;dbl&gt;</th><th scope=col>&lt;dbl&gt;</th><th scope=col>&lt;lgl&gt;</th><th scope=col>&lt;lgl&gt;</th><th scope=col>&lt;lgl&gt;</th><th scope=col>&lt;lgl&gt;</th><th scope=col>&lt;lgl&gt;</th><th scope=col>&lt;lgl&gt;</th><th scope=col>&lt;lgl&gt;</th><th scope=col>&lt;lgl&gt;</th></tr>\n",
       "</thead>\n",
       "<tbody>\n",
       "\t<tr><th scope=row>1</th><td>2004-01-01</td><td>-0.227</td><td> 6.51250</td><td>6.514874</td><td>NA</td><td>NA</td><td>NA</td><td>NA</td><td> -1.23</td><td>-0.01</td><td>1.520</td><td>NA</td><td>NA</td><td>NA</td><td>NA</td><td>NA</td><td>NA</td><td>NA</td><td>NA</td></tr>\n",
       "\t<tr><th scope=row>2</th><td>2004-01-02</td><td>-0.499</td><td> 0.00000</td><td>7.121123</td><td>NA</td><td>NA</td><td>NA</td><td>NA</td><td> -2.06</td><td>-0.05</td><td>2.022</td><td>NA</td><td>NA</td><td>NA</td><td>NA</td><td>NA</td><td>NA</td><td>NA</td><td>NA</td></tr>\n",
       "\t<tr><th scope=row>3</th><td>2004-01-03</td><td>-2.956</td><td> 7.08750</td><td>7.133383</td><td>NA</td><td>NA</td><td>NA</td><td>NA</td><td> -5.82</td><td>-2.19</td><td>2.716</td><td>NA</td><td>NA</td><td>NA</td><td>NA</td><td>NA</td><td>NA</td><td>NA</td><td>NA</td></tr>\n",
       "\t<tr><th scope=row>4</th><td>2004-01-04</td><td>-4.209</td><td>76.00417</td><td>9.541324</td><td>NA</td><td>NA</td><td>NA</td><td>NA</td><td>-10.45</td><td>-1.48</td><td>1.089</td><td>NA</td><td>NA</td><td>NA</td><td>NA</td><td>NA</td><td>NA</td><td>NA</td><td>NA</td></tr>\n",
       "\t<tr><th scope=row>5</th><td>2004-01-05</td><td>-1.192</td><td>23.92917</td><td>6.732000</td><td>NA</td><td>NA</td><td>NA</td><td>NA</td><td> -8.10</td><td> 0.53</td><td>0.675</td><td>NA</td><td>NA</td><td>NA</td><td>NA</td><td>NA</td><td>NA</td><td>NA</td><td>NA</td></tr>\n",
       "\t<tr><th scope=row>6</th><td>2004-01-06</td><td>-1.580</td><td>23.83750</td><td>8.709064</td><td>NA</td><td>NA</td><td>NA</td><td>NA</td><td> -7.24</td><td> 0.35</td><td>0.701</td><td>NA</td><td>NA</td><td>NA</td><td>NA</td><td>NA</td><td>NA</td><td>NA</td><td>NA</td></tr>\n",
       "</tbody>\n",
       "</table>\n"
      ],
      "text/latex": [
       "A data.frame: 6 x 19\n",
       "\\begin{tabular}{r|lllllllllllllllllll}\n",
       "  & date & temp & vpd & ppfd & netrad & patm & snow & rain & tmin & tmax & vwind & fapar & co2 & ccov & gpp & le & le\\_qc & nee & nee\\_qc\\\\\n",
       "  & <date> & <dbl> & <dbl> & <dbl> & <lgl> & <lgl> & <lgl> & <lgl> & <dbl> & <dbl> & <dbl> & <lgl> & <lgl> & <lgl> & <lgl> & <lgl> & <lgl> & <lgl> & <lgl>\\\\\n",
       "\\hline\n",
       "\t1 & 2004-01-01 & -0.227 &  6.51250 & 6.514874 & NA & NA & NA & NA &  -1.23 & -0.01 & 1.520 & NA & NA & NA & NA & NA & NA & NA & NA\\\\\n",
       "\t2 & 2004-01-02 & -0.499 &  0.00000 & 7.121123 & NA & NA & NA & NA &  -2.06 & -0.05 & 2.022 & NA & NA & NA & NA & NA & NA & NA & NA\\\\\n",
       "\t3 & 2004-01-03 & -2.956 &  7.08750 & 7.133383 & NA & NA & NA & NA &  -5.82 & -2.19 & 2.716 & NA & NA & NA & NA & NA & NA & NA & NA\\\\\n",
       "\t4 & 2004-01-04 & -4.209 & 76.00417 & 9.541324 & NA & NA & NA & NA & -10.45 & -1.48 & 1.089 & NA & NA & NA & NA & NA & NA & NA & NA\\\\\n",
       "\t5 & 2004-01-05 & -1.192 & 23.92917 & 6.732000 & NA & NA & NA & NA &  -8.10 &  0.53 & 0.675 & NA & NA & NA & NA & NA & NA & NA & NA\\\\\n",
       "\t6 & 2004-01-06 & -1.580 & 23.83750 & 8.709064 & NA & NA & NA & NA &  -7.24 &  0.35 & 0.701 & NA & NA & NA & NA & NA & NA & NA & NA\\\\\n",
       "\\end{tabular}\n"
      ],
      "text/markdown": [
       "\n",
       "A data.frame: 6 x 19\n",
       "\n",
       "| <!--/--> | date &lt;date&gt; | temp &lt;dbl&gt; | vpd &lt;dbl&gt; | ppfd &lt;dbl&gt; | netrad &lt;lgl&gt; | patm &lt;lgl&gt; | snow &lt;lgl&gt; | rain &lt;lgl&gt; | tmin &lt;dbl&gt; | tmax &lt;dbl&gt; | vwind &lt;dbl&gt; | fapar &lt;lgl&gt; | co2 &lt;lgl&gt; | ccov &lt;lgl&gt; | gpp &lt;lgl&gt; | le &lt;lgl&gt; | le_qc &lt;lgl&gt; | nee &lt;lgl&gt; | nee_qc &lt;lgl&gt; |\n",
       "|---|---|---|---|---|---|---|---|---|---|---|---|---|---|---|---|---|---|---|---|\n",
       "| 1 | 2004-01-01 | -0.227 |  6.51250 | 6.514874 | NA | NA | NA | NA |  -1.23 | -0.01 | 1.520 | NA | NA | NA | NA | NA | NA | NA | NA |\n",
       "| 2 | 2004-01-02 | -0.499 |  0.00000 | 7.121123 | NA | NA | NA | NA |  -2.06 | -0.05 | 2.022 | NA | NA | NA | NA | NA | NA | NA | NA |\n",
       "| 3 | 2004-01-03 | -2.956 |  7.08750 | 7.133383 | NA | NA | NA | NA |  -5.82 | -2.19 | 2.716 | NA | NA | NA | NA | NA | NA | NA | NA |\n",
       "| 4 | 2004-01-04 | -4.209 | 76.00417 | 9.541324 | NA | NA | NA | NA | -10.45 | -1.48 | 1.089 | NA | NA | NA | NA | NA | NA | NA | NA |\n",
       "| 5 | 2004-01-05 | -1.192 | 23.92917 | 6.732000 | NA | NA | NA | NA |  -8.10 |  0.53 | 0.675 | NA | NA | NA | NA | NA | NA | NA | NA |\n",
       "| 6 | 2004-01-06 | -1.580 | 23.83750 | 8.709064 | NA | NA | NA | NA |  -7.24 |  0.35 | 0.701 | NA | NA | NA | NA | NA | NA | NA | NA |\n",
       "\n"
      ],
      "text/plain": [
       "  date       temp   vpd      ppfd     netrad patm snow rain tmin   tmax  vwind\n",
       "1 2004-01-01 -0.227  6.51250 6.514874 NA     NA   NA   NA    -1.23 -0.01 1.520\n",
       "2 2004-01-02 -0.499  0.00000 7.121123 NA     NA   NA   NA    -2.06 -0.05 2.022\n",
       "3 2004-01-03 -2.956  7.08750 7.133383 NA     NA   NA   NA    -5.82 -2.19 2.716\n",
       "4 2004-01-04 -4.209 76.00417 9.541324 NA     NA   NA   NA   -10.45 -1.48 1.089\n",
       "5 2004-01-05 -1.192 23.92917 6.732000 NA     NA   NA   NA    -8.10  0.53 0.675\n",
       "6 2004-01-06 -1.580 23.83750 8.709064 NA     NA   NA   NA    -7.24  0.35 0.701\n",
       "  fapar co2 ccov gpp le le_qc nee nee_qc\n",
       "1 NA    NA  NA   NA  NA NA    NA  NA    \n",
       "2 NA    NA  NA   NA  NA NA    NA  NA    \n",
       "3 NA    NA  NA   NA  NA NA    NA  NA    \n",
       "4 NA    NA  NA   NA  NA NA    NA  NA    \n",
       "5 NA    NA  NA   NA  NA NA    NA  NA    \n",
       "6 NA    NA  NA   NA  NA NA    NA  NA    "
      ]
     },
     "metadata": {},
     "output_type": "display_data"
    }
   ],
   "source": [
    "# read ppfd data\n",
    "# ppfd_data <- read.csv(\"../data/01_data_prep/03_ppfd_data.csv\")\n",
    "ppfd_data <- read.csv(\"../data/01_data_prep/03b_splash_ppfd.csv\")\n",
    "# print the head of the ppfd_data\n",
    "head(ppfd_data)\n",
    "# convert date column to Date type\n",
    "ppfd_data$date <- as.Date(ppfd_data$date)\n",
    "\n",
    "# update the existing columns in df with values from ppfd_data\n",
    "df <- df %>% \n",
    "    left_join(ppfd_data %>% select(date, ppfd), by = \"date\", suffix = c(\"\", \"_new\")) %>%\n",
    "    mutate(ppfd = ppfd_new) %>%\n",
    "    select(-ppfd_new)\n",
    "# print the head of the df\n",
    "head(df)"
   ]
  },
  {
   "cell_type": "markdown",
   "id": "0eeb1e4d",
   "metadata": {},
   "source": [
    "### netrad"
   ]
  },
  {
   "cell_type": "code",
   "execution_count": 7,
   "id": "9022b298",
   "metadata": {
    "vscode": {
     "languageId": "r"
    }
   },
   "outputs": [
    {
     "data": {
      "text/html": [
       "<table class=\"dataframe\">\n",
       "<caption>A data.frame: 6 x 6</caption>\n",
       "<thead>\n",
       "\t<tr><th></th><th scope=col>TIMESTAMP</th><th scope=col>netrad</th><th scope=col>netrad_method</th><th scope=col>netrad_approx</th><th scope=col>netrad_simple</th><th scope=col>netrad_energy_balance</th></tr>\n",
       "\t<tr><th></th><th scope=col>&lt;chr&gt;</th><th scope=col>&lt;dbl&gt;</th><th scope=col>&lt;chr&gt;</th><th scope=col>&lt;dbl&gt;</th><th scope=col>&lt;dbl&gt;</th><th scope=col>&lt;dbl&gt;</th></tr>\n",
       "</thead>\n",
       "<tbody>\n",
       "\t<tr><th scope=row>1</th><td>2004-01-01</td><td>  1.339710</td><td>Energy Balance</td><td>30.30515</td><td>25.6662</td><td>  1.339710</td></tr>\n",
       "\t<tr><th scope=row>2</th><td>2004-01-02</td><td> -4.381670</td><td>Energy Balance</td><td>34.67159</td><td>28.0546</td><td> -4.381670</td></tr>\n",
       "\t<tr><th scope=row>3</th><td>2004-01-03</td><td> -4.583730</td><td>Energy Balance</td><td>16.32752</td><td>28.1029</td><td> -4.583730</td></tr>\n",
       "\t<tr><th scope=row>4</th><td>2004-01-04</td><td> -9.018790</td><td>Energy Balance</td><td>28.20961</td><td>37.5893</td><td> -9.018790</td></tr>\n",
       "\t<tr><th scope=row>5</th><td>2004-01-05</td><td> -6.912368</td><td>Energy Balance</td><td>36.52219</td><td>26.5216</td><td> -6.912368</td></tr>\n",
       "\t<tr><th scope=row>6</th><td>2004-01-06</td><td>-11.309390</td><td>Energy Balance</td><td>32.12189</td><td>34.3105</td><td>-11.309390</td></tr>\n",
       "</tbody>\n",
       "</table>\n"
      ],
      "text/latex": [
       "A data.frame: 6 x 6\n",
       "\\begin{tabular}{r|llllll}\n",
       "  & TIMESTAMP & netrad & netrad\\_method & netrad\\_approx & netrad\\_simple & netrad\\_energy\\_balance\\\\\n",
       "  & <chr> & <dbl> & <chr> & <dbl> & <dbl> & <dbl>\\\\\n",
       "\\hline\n",
       "\t1 & 2004-01-01 &   1.339710 & Energy Balance & 30.30515 & 25.6662 &   1.339710\\\\\n",
       "\t2 & 2004-01-02 &  -4.381670 & Energy Balance & 34.67159 & 28.0546 &  -4.381670\\\\\n",
       "\t3 & 2004-01-03 &  -4.583730 & Energy Balance & 16.32752 & 28.1029 &  -4.583730\\\\\n",
       "\t4 & 2004-01-04 &  -9.018790 & Energy Balance & 28.20961 & 37.5893 &  -9.018790\\\\\n",
       "\t5 & 2004-01-05 &  -6.912368 & Energy Balance & 36.52219 & 26.5216 &  -6.912368\\\\\n",
       "\t6 & 2004-01-06 & -11.309390 & Energy Balance & 32.12189 & 34.3105 & -11.309390\\\\\n",
       "\\end{tabular}\n"
      ],
      "text/markdown": [
       "\n",
       "A data.frame: 6 x 6\n",
       "\n",
       "| <!--/--> | TIMESTAMP &lt;chr&gt; | netrad &lt;dbl&gt; | netrad_method &lt;chr&gt; | netrad_approx &lt;dbl&gt; | netrad_simple &lt;dbl&gt; | netrad_energy_balance &lt;dbl&gt; |\n",
       "|---|---|---|---|---|---|---|\n",
       "| 1 | 2004-01-01 |   1.339710 | Energy Balance | 30.30515 | 25.6662 |   1.339710 |\n",
       "| 2 | 2004-01-02 |  -4.381670 | Energy Balance | 34.67159 | 28.0546 |  -4.381670 |\n",
       "| 3 | 2004-01-03 |  -4.583730 | Energy Balance | 16.32752 | 28.1029 |  -4.583730 |\n",
       "| 4 | 2004-01-04 |  -9.018790 | Energy Balance | 28.20961 | 37.5893 |  -9.018790 |\n",
       "| 5 | 2004-01-05 |  -6.912368 | Energy Balance | 36.52219 | 26.5216 |  -6.912368 |\n",
       "| 6 | 2004-01-06 | -11.309390 | Energy Balance | 32.12189 | 34.3105 | -11.309390 |\n",
       "\n"
      ],
      "text/plain": [
       "  TIMESTAMP  netrad     netrad_method  netrad_approx netrad_simple\n",
       "1 2004-01-01   1.339710 Energy Balance 30.30515      25.6662      \n",
       "2 2004-01-02  -4.381670 Energy Balance 34.67159      28.0546      \n",
       "3 2004-01-03  -4.583730 Energy Balance 16.32752      28.1029      \n",
       "4 2004-01-04  -9.018790 Energy Balance 28.20961      37.5893      \n",
       "5 2004-01-05  -6.912368 Energy Balance 36.52219      26.5216      \n",
       "6 2004-01-06 -11.309390 Energy Balance 32.12189      34.3105      \n",
       "  netrad_energy_balance\n",
       "1   1.339710           \n",
       "2  -4.381670           \n",
       "3  -4.583730           \n",
       "4  -9.018790           \n",
       "5  -6.912368           \n",
       "6 -11.309390           "
      ]
     },
     "metadata": {},
     "output_type": "display_data"
    },
    {
     "data": {
      "text/html": [
       "<table class=\"dataframe\">\n",
       "<caption>A data.frame: 6 x 19</caption>\n",
       "<thead>\n",
       "\t<tr><th></th><th scope=col>date</th><th scope=col>temp</th><th scope=col>vpd</th><th scope=col>ppfd</th><th scope=col>netrad</th><th scope=col>patm</th><th scope=col>snow</th><th scope=col>rain</th><th scope=col>tmin</th><th scope=col>tmax</th><th scope=col>vwind</th><th scope=col>fapar</th><th scope=col>co2</th><th scope=col>ccov</th><th scope=col>gpp</th><th scope=col>le</th><th scope=col>le_qc</th><th scope=col>nee</th><th scope=col>nee_qc</th></tr>\n",
       "\t<tr><th></th><th scope=col>&lt;date&gt;</th><th scope=col>&lt;dbl&gt;</th><th scope=col>&lt;dbl&gt;</th><th scope=col>&lt;dbl&gt;</th><th scope=col>&lt;dbl&gt;</th><th scope=col>&lt;lgl&gt;</th><th scope=col>&lt;lgl&gt;</th><th scope=col>&lt;lgl&gt;</th><th scope=col>&lt;dbl&gt;</th><th scope=col>&lt;dbl&gt;</th><th scope=col>&lt;dbl&gt;</th><th scope=col>&lt;lgl&gt;</th><th scope=col>&lt;lgl&gt;</th><th scope=col>&lt;lgl&gt;</th><th scope=col>&lt;lgl&gt;</th><th scope=col>&lt;lgl&gt;</th><th scope=col>&lt;lgl&gt;</th><th scope=col>&lt;lgl&gt;</th><th scope=col>&lt;lgl&gt;</th></tr>\n",
       "</thead>\n",
       "<tbody>\n",
       "\t<tr><th scope=row>1</th><td>2004-01-01</td><td>-0.227</td><td> 6.51250</td><td>6.514874</td><td>  1.339710</td><td>NA</td><td>NA</td><td>NA</td><td> -1.23</td><td>-0.01</td><td>1.520</td><td>NA</td><td>NA</td><td>NA</td><td>NA</td><td>NA</td><td>NA</td><td>NA</td><td>NA</td></tr>\n",
       "\t<tr><th scope=row>2</th><td>2004-01-02</td><td>-0.499</td><td> 0.00000</td><td>7.121123</td><td> -4.381670</td><td>NA</td><td>NA</td><td>NA</td><td> -2.06</td><td>-0.05</td><td>2.022</td><td>NA</td><td>NA</td><td>NA</td><td>NA</td><td>NA</td><td>NA</td><td>NA</td><td>NA</td></tr>\n",
       "\t<tr><th scope=row>3</th><td>2004-01-03</td><td>-2.956</td><td> 7.08750</td><td>7.133383</td><td> -4.583730</td><td>NA</td><td>NA</td><td>NA</td><td> -5.82</td><td>-2.19</td><td>2.716</td><td>NA</td><td>NA</td><td>NA</td><td>NA</td><td>NA</td><td>NA</td><td>NA</td><td>NA</td></tr>\n",
       "\t<tr><th scope=row>4</th><td>2004-01-04</td><td>-4.209</td><td>76.00417</td><td>9.541324</td><td> -9.018790</td><td>NA</td><td>NA</td><td>NA</td><td>-10.45</td><td>-1.48</td><td>1.089</td><td>NA</td><td>NA</td><td>NA</td><td>NA</td><td>NA</td><td>NA</td><td>NA</td><td>NA</td></tr>\n",
       "\t<tr><th scope=row>5</th><td>2004-01-05</td><td>-1.192</td><td>23.92917</td><td>6.732000</td><td> -6.912368</td><td>NA</td><td>NA</td><td>NA</td><td> -8.10</td><td> 0.53</td><td>0.675</td><td>NA</td><td>NA</td><td>NA</td><td>NA</td><td>NA</td><td>NA</td><td>NA</td><td>NA</td></tr>\n",
       "\t<tr><th scope=row>6</th><td>2004-01-06</td><td>-1.580</td><td>23.83750</td><td>8.709064</td><td>-11.309390</td><td>NA</td><td>NA</td><td>NA</td><td> -7.24</td><td> 0.35</td><td>0.701</td><td>NA</td><td>NA</td><td>NA</td><td>NA</td><td>NA</td><td>NA</td><td>NA</td><td>NA</td></tr>\n",
       "</tbody>\n",
       "</table>\n"
      ],
      "text/latex": [
       "A data.frame: 6 x 19\n",
       "\\begin{tabular}{r|lllllllllllllllllll}\n",
       "  & date & temp & vpd & ppfd & netrad & patm & snow & rain & tmin & tmax & vwind & fapar & co2 & ccov & gpp & le & le\\_qc & nee & nee\\_qc\\\\\n",
       "  & <date> & <dbl> & <dbl> & <dbl> & <dbl> & <lgl> & <lgl> & <lgl> & <dbl> & <dbl> & <dbl> & <lgl> & <lgl> & <lgl> & <lgl> & <lgl> & <lgl> & <lgl> & <lgl>\\\\\n",
       "\\hline\n",
       "\t1 & 2004-01-01 & -0.227 &  6.51250 & 6.514874 &   1.339710 & NA & NA & NA &  -1.23 & -0.01 & 1.520 & NA & NA & NA & NA & NA & NA & NA & NA\\\\\n",
       "\t2 & 2004-01-02 & -0.499 &  0.00000 & 7.121123 &  -4.381670 & NA & NA & NA &  -2.06 & -0.05 & 2.022 & NA & NA & NA & NA & NA & NA & NA & NA\\\\\n",
       "\t3 & 2004-01-03 & -2.956 &  7.08750 & 7.133383 &  -4.583730 & NA & NA & NA &  -5.82 & -2.19 & 2.716 & NA & NA & NA & NA & NA & NA & NA & NA\\\\\n",
       "\t4 & 2004-01-04 & -4.209 & 76.00417 & 9.541324 &  -9.018790 & NA & NA & NA & -10.45 & -1.48 & 1.089 & NA & NA & NA & NA & NA & NA & NA & NA\\\\\n",
       "\t5 & 2004-01-05 & -1.192 & 23.92917 & 6.732000 &  -6.912368 & NA & NA & NA &  -8.10 &  0.53 & 0.675 & NA & NA & NA & NA & NA & NA & NA & NA\\\\\n",
       "\t6 & 2004-01-06 & -1.580 & 23.83750 & 8.709064 & -11.309390 & NA & NA & NA &  -7.24 &  0.35 & 0.701 & NA & NA & NA & NA & NA & NA & NA & NA\\\\\n",
       "\\end{tabular}\n"
      ],
      "text/markdown": [
       "\n",
       "A data.frame: 6 x 19\n",
       "\n",
       "| <!--/--> | date &lt;date&gt; | temp &lt;dbl&gt; | vpd &lt;dbl&gt; | ppfd &lt;dbl&gt; | netrad &lt;dbl&gt; | patm &lt;lgl&gt; | snow &lt;lgl&gt; | rain &lt;lgl&gt; | tmin &lt;dbl&gt; | tmax &lt;dbl&gt; | vwind &lt;dbl&gt; | fapar &lt;lgl&gt; | co2 &lt;lgl&gt; | ccov &lt;lgl&gt; | gpp &lt;lgl&gt; | le &lt;lgl&gt; | le_qc &lt;lgl&gt; | nee &lt;lgl&gt; | nee_qc &lt;lgl&gt; |\n",
       "|---|---|---|---|---|---|---|---|---|---|---|---|---|---|---|---|---|---|---|---|\n",
       "| 1 | 2004-01-01 | -0.227 |  6.51250 | 6.514874 |   1.339710 | NA | NA | NA |  -1.23 | -0.01 | 1.520 | NA | NA | NA | NA | NA | NA | NA | NA |\n",
       "| 2 | 2004-01-02 | -0.499 |  0.00000 | 7.121123 |  -4.381670 | NA | NA | NA |  -2.06 | -0.05 | 2.022 | NA | NA | NA | NA | NA | NA | NA | NA |\n",
       "| 3 | 2004-01-03 | -2.956 |  7.08750 | 7.133383 |  -4.583730 | NA | NA | NA |  -5.82 | -2.19 | 2.716 | NA | NA | NA | NA | NA | NA | NA | NA |\n",
       "| 4 | 2004-01-04 | -4.209 | 76.00417 | 9.541324 |  -9.018790 | NA | NA | NA | -10.45 | -1.48 | 1.089 | NA | NA | NA | NA | NA | NA | NA | NA |\n",
       "| 5 | 2004-01-05 | -1.192 | 23.92917 | 6.732000 |  -6.912368 | NA | NA | NA |  -8.10 |  0.53 | 0.675 | NA | NA | NA | NA | NA | NA | NA | NA |\n",
       "| 6 | 2004-01-06 | -1.580 | 23.83750 | 8.709064 | -11.309390 | NA | NA | NA |  -7.24 |  0.35 | 0.701 | NA | NA | NA | NA | NA | NA | NA | NA |\n",
       "\n"
      ],
      "text/plain": [
       "  date       temp   vpd      ppfd     netrad     patm snow rain tmin   tmax \n",
       "1 2004-01-01 -0.227  6.51250 6.514874   1.339710 NA   NA   NA    -1.23 -0.01\n",
       "2 2004-01-02 -0.499  0.00000 7.121123  -4.381670 NA   NA   NA    -2.06 -0.05\n",
       "3 2004-01-03 -2.956  7.08750 7.133383  -4.583730 NA   NA   NA    -5.82 -2.19\n",
       "4 2004-01-04 -4.209 76.00417 9.541324  -9.018790 NA   NA   NA   -10.45 -1.48\n",
       "5 2004-01-05 -1.192 23.92917 6.732000  -6.912368 NA   NA   NA    -8.10  0.53\n",
       "6 2004-01-06 -1.580 23.83750 8.709064 -11.309390 NA   NA   NA    -7.24  0.35\n",
       "  vwind fapar co2 ccov gpp le le_qc nee nee_qc\n",
       "1 1.520 NA    NA  NA   NA  NA NA    NA  NA    \n",
       "2 2.022 NA    NA  NA   NA  NA NA    NA  NA    \n",
       "3 2.716 NA    NA  NA   NA  NA NA    NA  NA    \n",
       "4 1.089 NA    NA  NA   NA  NA NA    NA  NA    \n",
       "5 0.675 NA    NA  NA   NA  NA NA    NA  NA    \n",
       "6 0.701 NA    NA  NA   NA  NA NA    NA  NA    "
      ]
     },
     "metadata": {},
     "output_type": "display_data"
    }
   ],
   "source": [
    "# read netrad data\n",
    "netrad_data <- read.csv(\"../data/01_data_prep/04_netrad.csv\")\n",
    "# print the head of the netrad_data \n",
    "head(netrad_data)\n",
    "# convert date column to Date type\n",
    "netrad_data$TIMESTAMP <- as.Date(netrad_data$TIMESTAMP)\n",
    "# rename the TIMESTAMP column to date\n",
    "colnames(netrad_data)[colnames(netrad_data) == \"TIMESTAMP\"] <- \"date\"\n",
    "# update the existing columns in df with values from netrad_data\n",
    "df <- df %>% \n",
    "    left_join(netrad_data %>% select(date, netrad), by = \"date\", suffix = c(\"\", \"_new\")) %>%\n",
    "    mutate(netrad = netrad_new) %>%\n",
    "    select(-netrad_new)\n",
    "# print the head of the df\n",
    "head(df)"
   ]
  },
  {
   "cell_type": "markdown",
   "id": "bbf0711e",
   "metadata": {},
   "source": [
    "### pa"
   ]
  },
  {
   "cell_type": "code",
   "execution_count": 8,
   "id": "5c7c4cf5",
   "metadata": {
    "vscode": {
     "languageId": "r"
    }
   },
   "outputs": [
    {
     "data": {
      "text/html": [
       "<table class=\"dataframe\">\n",
       "<caption>A data.frame: 6 x 3</caption>\n",
       "<thead>\n",
       "\t<tr><th></th><th scope=col>TIMESTAMP</th><th scope=col>PA_F_kpa</th><th scope=col>PA_F_pa</th></tr>\n",
       "\t<tr><th></th><th scope=col>&lt;chr&gt;</th><th scope=col>&lt;dbl&gt;</th><th scope=col>&lt;int&gt;</th></tr>\n",
       "</thead>\n",
       "<tbody>\n",
       "\t<tr><th scope=row>1</th><td>2004-01-01</td><td>95.825</td><td>95825</td></tr>\n",
       "\t<tr><th scope=row>2</th><td>2004-01-02</td><td>95.455</td><td>95455</td></tr>\n",
       "\t<tr><th scope=row>3</th><td>2004-01-03</td><td>96.232</td><td>96232</td></tr>\n",
       "\t<tr><th scope=row>4</th><td>2004-01-04</td><td>96.367</td><td>96367</td></tr>\n",
       "\t<tr><th scope=row>5</th><td>2004-01-05</td><td>96.710</td><td>96710</td></tr>\n",
       "\t<tr><th scope=row>6</th><td>2004-01-06</td><td>96.656</td><td>96656</td></tr>\n",
       "</tbody>\n",
       "</table>\n"
      ],
      "text/latex": [
       "A data.frame: 6 x 3\n",
       "\\begin{tabular}{r|lll}\n",
       "  & TIMESTAMP & PA\\_F\\_kpa & PA\\_F\\_pa\\\\\n",
       "  & <chr> & <dbl> & <int>\\\\\n",
       "\\hline\n",
       "\t1 & 2004-01-01 & 95.825 & 95825\\\\\n",
       "\t2 & 2004-01-02 & 95.455 & 95455\\\\\n",
       "\t3 & 2004-01-03 & 96.232 & 96232\\\\\n",
       "\t4 & 2004-01-04 & 96.367 & 96367\\\\\n",
       "\t5 & 2004-01-05 & 96.710 & 96710\\\\\n",
       "\t6 & 2004-01-06 & 96.656 & 96656\\\\\n",
       "\\end{tabular}\n"
      ],
      "text/markdown": [
       "\n",
       "A data.frame: 6 x 3\n",
       "\n",
       "| <!--/--> | TIMESTAMP &lt;chr&gt; | PA_F_kpa &lt;dbl&gt; | PA_F_pa &lt;int&gt; |\n",
       "|---|---|---|---|\n",
       "| 1 | 2004-01-01 | 95.825 | 95825 |\n",
       "| 2 | 2004-01-02 | 95.455 | 95455 |\n",
       "| 3 | 2004-01-03 | 96.232 | 96232 |\n",
       "| 4 | 2004-01-04 | 96.367 | 96367 |\n",
       "| 5 | 2004-01-05 | 96.710 | 96710 |\n",
       "| 6 | 2004-01-06 | 96.656 | 96656 |\n",
       "\n"
      ],
      "text/plain": [
       "  TIMESTAMP  PA_F_kpa PA_F_pa\n",
       "1 2004-01-01 95.825   95825  \n",
       "2 2004-01-02 95.455   95455  \n",
       "3 2004-01-03 96.232   96232  \n",
       "4 2004-01-04 96.367   96367  \n",
       "5 2004-01-05 96.710   96710  \n",
       "6 2004-01-06 96.656   96656  "
      ]
     },
     "metadata": {},
     "output_type": "display_data"
    },
    {
     "data": {
      "text/html": [
       "<table class=\"dataframe\">\n",
       "<caption>A data.frame: 6 x 19</caption>\n",
       "<thead>\n",
       "\t<tr><th></th><th scope=col>date</th><th scope=col>temp</th><th scope=col>vpd</th><th scope=col>ppfd</th><th scope=col>netrad</th><th scope=col>patm</th><th scope=col>snow</th><th scope=col>rain</th><th scope=col>tmin</th><th scope=col>tmax</th><th scope=col>vwind</th><th scope=col>fapar</th><th scope=col>co2</th><th scope=col>ccov</th><th scope=col>gpp</th><th scope=col>le</th><th scope=col>le_qc</th><th scope=col>nee</th><th scope=col>nee_qc</th></tr>\n",
       "\t<tr><th></th><th scope=col>&lt;date&gt;</th><th scope=col>&lt;dbl&gt;</th><th scope=col>&lt;dbl&gt;</th><th scope=col>&lt;dbl&gt;</th><th scope=col>&lt;dbl&gt;</th><th scope=col>&lt;int&gt;</th><th scope=col>&lt;lgl&gt;</th><th scope=col>&lt;lgl&gt;</th><th scope=col>&lt;dbl&gt;</th><th scope=col>&lt;dbl&gt;</th><th scope=col>&lt;dbl&gt;</th><th scope=col>&lt;lgl&gt;</th><th scope=col>&lt;lgl&gt;</th><th scope=col>&lt;lgl&gt;</th><th scope=col>&lt;lgl&gt;</th><th scope=col>&lt;lgl&gt;</th><th scope=col>&lt;lgl&gt;</th><th scope=col>&lt;lgl&gt;</th><th scope=col>&lt;lgl&gt;</th></tr>\n",
       "</thead>\n",
       "<tbody>\n",
       "\t<tr><th scope=row>1</th><td>2004-01-01</td><td>-0.227</td><td> 6.51250</td><td>6.514874</td><td>  1.339710</td><td>95825</td><td>NA</td><td>NA</td><td> -1.23</td><td>-0.01</td><td>1.520</td><td>NA</td><td>NA</td><td>NA</td><td>NA</td><td>NA</td><td>NA</td><td>NA</td><td>NA</td></tr>\n",
       "\t<tr><th scope=row>2</th><td>2004-01-02</td><td>-0.499</td><td> 0.00000</td><td>7.121123</td><td> -4.381670</td><td>95455</td><td>NA</td><td>NA</td><td> -2.06</td><td>-0.05</td><td>2.022</td><td>NA</td><td>NA</td><td>NA</td><td>NA</td><td>NA</td><td>NA</td><td>NA</td><td>NA</td></tr>\n",
       "\t<tr><th scope=row>3</th><td>2004-01-03</td><td>-2.956</td><td> 7.08750</td><td>7.133383</td><td> -4.583730</td><td>96232</td><td>NA</td><td>NA</td><td> -5.82</td><td>-2.19</td><td>2.716</td><td>NA</td><td>NA</td><td>NA</td><td>NA</td><td>NA</td><td>NA</td><td>NA</td><td>NA</td></tr>\n",
       "\t<tr><th scope=row>4</th><td>2004-01-04</td><td>-4.209</td><td>76.00417</td><td>9.541324</td><td> -9.018790</td><td>96367</td><td>NA</td><td>NA</td><td>-10.45</td><td>-1.48</td><td>1.089</td><td>NA</td><td>NA</td><td>NA</td><td>NA</td><td>NA</td><td>NA</td><td>NA</td><td>NA</td></tr>\n",
       "\t<tr><th scope=row>5</th><td>2004-01-05</td><td>-1.192</td><td>23.92917</td><td>6.732000</td><td> -6.912368</td><td>96710</td><td>NA</td><td>NA</td><td> -8.10</td><td> 0.53</td><td>0.675</td><td>NA</td><td>NA</td><td>NA</td><td>NA</td><td>NA</td><td>NA</td><td>NA</td><td>NA</td></tr>\n",
       "\t<tr><th scope=row>6</th><td>2004-01-06</td><td>-1.580</td><td>23.83750</td><td>8.709064</td><td>-11.309390</td><td>96656</td><td>NA</td><td>NA</td><td> -7.24</td><td> 0.35</td><td>0.701</td><td>NA</td><td>NA</td><td>NA</td><td>NA</td><td>NA</td><td>NA</td><td>NA</td><td>NA</td></tr>\n",
       "</tbody>\n",
       "</table>\n"
      ],
      "text/latex": [
       "A data.frame: 6 x 19\n",
       "\\begin{tabular}{r|lllllllllllllllllll}\n",
       "  & date & temp & vpd & ppfd & netrad & patm & snow & rain & tmin & tmax & vwind & fapar & co2 & ccov & gpp & le & le\\_qc & nee & nee\\_qc\\\\\n",
       "  & <date> & <dbl> & <dbl> & <dbl> & <dbl> & <int> & <lgl> & <lgl> & <dbl> & <dbl> & <dbl> & <lgl> & <lgl> & <lgl> & <lgl> & <lgl> & <lgl> & <lgl> & <lgl>\\\\\n",
       "\\hline\n",
       "\t1 & 2004-01-01 & -0.227 &  6.51250 & 6.514874 &   1.339710 & 95825 & NA & NA &  -1.23 & -0.01 & 1.520 & NA & NA & NA & NA & NA & NA & NA & NA\\\\\n",
       "\t2 & 2004-01-02 & -0.499 &  0.00000 & 7.121123 &  -4.381670 & 95455 & NA & NA &  -2.06 & -0.05 & 2.022 & NA & NA & NA & NA & NA & NA & NA & NA\\\\\n",
       "\t3 & 2004-01-03 & -2.956 &  7.08750 & 7.133383 &  -4.583730 & 96232 & NA & NA &  -5.82 & -2.19 & 2.716 & NA & NA & NA & NA & NA & NA & NA & NA\\\\\n",
       "\t4 & 2004-01-04 & -4.209 & 76.00417 & 9.541324 &  -9.018790 & 96367 & NA & NA & -10.45 & -1.48 & 1.089 & NA & NA & NA & NA & NA & NA & NA & NA\\\\\n",
       "\t5 & 2004-01-05 & -1.192 & 23.92917 & 6.732000 &  -6.912368 & 96710 & NA & NA &  -8.10 &  0.53 & 0.675 & NA & NA & NA & NA & NA & NA & NA & NA\\\\\n",
       "\t6 & 2004-01-06 & -1.580 & 23.83750 & 8.709064 & -11.309390 & 96656 & NA & NA &  -7.24 &  0.35 & 0.701 & NA & NA & NA & NA & NA & NA & NA & NA\\\\\n",
       "\\end{tabular}\n"
      ],
      "text/markdown": [
       "\n",
       "A data.frame: 6 x 19\n",
       "\n",
       "| <!--/--> | date &lt;date&gt; | temp &lt;dbl&gt; | vpd &lt;dbl&gt; | ppfd &lt;dbl&gt; | netrad &lt;dbl&gt; | patm &lt;int&gt; | snow &lt;lgl&gt; | rain &lt;lgl&gt; | tmin &lt;dbl&gt; | tmax &lt;dbl&gt; | vwind &lt;dbl&gt; | fapar &lt;lgl&gt; | co2 &lt;lgl&gt; | ccov &lt;lgl&gt; | gpp &lt;lgl&gt; | le &lt;lgl&gt; | le_qc &lt;lgl&gt; | nee &lt;lgl&gt; | nee_qc &lt;lgl&gt; |\n",
       "|---|---|---|---|---|---|---|---|---|---|---|---|---|---|---|---|---|---|---|---|\n",
       "| 1 | 2004-01-01 | -0.227 |  6.51250 | 6.514874 |   1.339710 | 95825 | NA | NA |  -1.23 | -0.01 | 1.520 | NA | NA | NA | NA | NA | NA | NA | NA |\n",
       "| 2 | 2004-01-02 | -0.499 |  0.00000 | 7.121123 |  -4.381670 | 95455 | NA | NA |  -2.06 | -0.05 | 2.022 | NA | NA | NA | NA | NA | NA | NA | NA |\n",
       "| 3 | 2004-01-03 | -2.956 |  7.08750 | 7.133383 |  -4.583730 | 96232 | NA | NA |  -5.82 | -2.19 | 2.716 | NA | NA | NA | NA | NA | NA | NA | NA |\n",
       "| 4 | 2004-01-04 | -4.209 | 76.00417 | 9.541324 |  -9.018790 | 96367 | NA | NA | -10.45 | -1.48 | 1.089 | NA | NA | NA | NA | NA | NA | NA | NA |\n",
       "| 5 | 2004-01-05 | -1.192 | 23.92917 | 6.732000 |  -6.912368 | 96710 | NA | NA |  -8.10 |  0.53 | 0.675 | NA | NA | NA | NA | NA | NA | NA | NA |\n",
       "| 6 | 2004-01-06 | -1.580 | 23.83750 | 8.709064 | -11.309390 | 96656 | NA | NA |  -7.24 |  0.35 | 0.701 | NA | NA | NA | NA | NA | NA | NA | NA |\n",
       "\n"
      ],
      "text/plain": [
       "  date       temp   vpd      ppfd     netrad     patm  snow rain tmin   tmax \n",
       "1 2004-01-01 -0.227  6.51250 6.514874   1.339710 95825 NA   NA    -1.23 -0.01\n",
       "2 2004-01-02 -0.499  0.00000 7.121123  -4.381670 95455 NA   NA    -2.06 -0.05\n",
       "3 2004-01-03 -2.956  7.08750 7.133383  -4.583730 96232 NA   NA    -5.82 -2.19\n",
       "4 2004-01-04 -4.209 76.00417 9.541324  -9.018790 96367 NA   NA   -10.45 -1.48\n",
       "5 2004-01-05 -1.192 23.92917 6.732000  -6.912368 96710 NA   NA    -8.10  0.53\n",
       "6 2004-01-06 -1.580 23.83750 8.709064 -11.309390 96656 NA   NA    -7.24  0.35\n",
       "  vwind fapar co2 ccov gpp le le_qc nee nee_qc\n",
       "1 1.520 NA    NA  NA   NA  NA NA    NA  NA    \n",
       "2 2.022 NA    NA  NA   NA  NA NA    NA  NA    \n",
       "3 2.716 NA    NA  NA   NA  NA NA    NA  NA    \n",
       "4 1.089 NA    NA  NA   NA  NA NA    NA  NA    \n",
       "5 0.675 NA    NA  NA   NA  NA NA    NA  NA    \n",
       "6 0.701 NA    NA  NA   NA  NA NA    NA  NA    "
      ]
     },
     "metadata": {},
     "output_type": "display_data"
    }
   ],
   "source": [
    "# read pa data\n",
    "pa_data <- read.csv(\"../data/01_data_prep/05_pa.csv\")\n",
    "# print the head of the pa_data\n",
    "head(pa_data)\n",
    "# convert date column to Date type\n",
    "pa_data$TIMESTAMP <- as.Date(pa_data$TIMESTAMP)\n",
    "# rename the TIMESTAMP column to date\n",
    "colnames(pa_data)[colnames(pa_data) == \"TIMESTAMP\"] <- \"date\"\n",
    "# update the existing columns in df with values from pa_data\n",
    "df <- df %>% \n",
    "    left_join(pa_data %>% select(date, PA_F_pa), by = \"date\", suffix = c(\"\", \"_new\"))  %>% \n",
    "    mutate(patm = PA_F_pa) %>%\n",
    "    select(-PA_F_pa)\n",
    "# print the head of the df\n",
    "head(df)"
   ]
  },
  {
   "cell_type": "markdown",
   "id": "b3f9d9e3",
   "metadata": {},
   "source": [
    "### fapar"
   ]
  },
  {
   "cell_type": "code",
   "execution_count": 9,
   "id": "1273f207",
   "metadata": {
    "vscode": {
     "languageId": "r"
    }
   },
   "outputs": [
    {
     "data": {
      "text/html": [
       "<table class=\"dataframe\">\n",
       "<caption>A data.frame: 6 x 2</caption>\n",
       "<thead>\n",
       "\t<tr><th></th><th scope=col>date</th><th scope=col>fapar</th></tr>\n",
       "\t<tr><th></th><th scope=col>&lt;chr&gt;</th><th scope=col>&lt;dbl&gt;</th></tr>\n",
       "</thead>\n",
       "<tbody>\n",
       "\t<tr><th scope=row>1</th><td>2004-01-01</td><td>0.02</td></tr>\n",
       "\t<tr><th scope=row>2</th><td>2004-01-02</td><td>0.02</td></tr>\n",
       "\t<tr><th scope=row>3</th><td>2004-01-03</td><td>0.02</td></tr>\n",
       "\t<tr><th scope=row>4</th><td>2004-01-04</td><td>0.02</td></tr>\n",
       "\t<tr><th scope=row>5</th><td>2004-01-05</td><td>0.02</td></tr>\n",
       "\t<tr><th scope=row>6</th><td>2004-01-06</td><td>0.02</td></tr>\n",
       "</tbody>\n",
       "</table>\n"
      ],
      "text/latex": [
       "A data.frame: 6 x 2\n",
       "\\begin{tabular}{r|ll}\n",
       "  & date & fapar\\\\\n",
       "  & <chr> & <dbl>\\\\\n",
       "\\hline\n",
       "\t1 & 2004-01-01 & 0.02\\\\\n",
       "\t2 & 2004-01-02 & 0.02\\\\\n",
       "\t3 & 2004-01-03 & 0.02\\\\\n",
       "\t4 & 2004-01-04 & 0.02\\\\\n",
       "\t5 & 2004-01-05 & 0.02\\\\\n",
       "\t6 & 2004-01-06 & 0.02\\\\\n",
       "\\end{tabular}\n"
      ],
      "text/markdown": [
       "\n",
       "A data.frame: 6 x 2\n",
       "\n",
       "| <!--/--> | date &lt;chr&gt; | fapar &lt;dbl&gt; |\n",
       "|---|---|---|\n",
       "| 1 | 2004-01-01 | 0.02 |\n",
       "| 2 | 2004-01-02 | 0.02 |\n",
       "| 3 | 2004-01-03 | 0.02 |\n",
       "| 4 | 2004-01-04 | 0.02 |\n",
       "| 5 | 2004-01-05 | 0.02 |\n",
       "| 6 | 2004-01-06 | 0.02 |\n",
       "\n"
      ],
      "text/plain": [
       "  date       fapar\n",
       "1 2004-01-01 0.02 \n",
       "2 2004-01-02 0.02 \n",
       "3 2004-01-03 0.02 \n",
       "4 2004-01-04 0.02 \n",
       "5 2004-01-05 0.02 \n",
       "6 2004-01-06 0.02 "
      ]
     },
     "metadata": {},
     "output_type": "display_data"
    },
    {
     "data": {
      "text/html": [
       "<table class=\"dataframe\">\n",
       "<caption>A data.frame: 6 x 19</caption>\n",
       "<thead>\n",
       "\t<tr><th></th><th scope=col>date</th><th scope=col>temp</th><th scope=col>vpd</th><th scope=col>ppfd</th><th scope=col>netrad</th><th scope=col>patm</th><th scope=col>snow</th><th scope=col>rain</th><th scope=col>tmin</th><th scope=col>tmax</th><th scope=col>vwind</th><th scope=col>fapar</th><th scope=col>co2</th><th scope=col>ccov</th><th scope=col>gpp</th><th scope=col>le</th><th scope=col>le_qc</th><th scope=col>nee</th><th scope=col>nee_qc</th></tr>\n",
       "\t<tr><th></th><th scope=col>&lt;date&gt;</th><th scope=col>&lt;dbl&gt;</th><th scope=col>&lt;dbl&gt;</th><th scope=col>&lt;dbl&gt;</th><th scope=col>&lt;dbl&gt;</th><th scope=col>&lt;int&gt;</th><th scope=col>&lt;lgl&gt;</th><th scope=col>&lt;lgl&gt;</th><th scope=col>&lt;dbl&gt;</th><th scope=col>&lt;dbl&gt;</th><th scope=col>&lt;dbl&gt;</th><th scope=col>&lt;dbl&gt;</th><th scope=col>&lt;lgl&gt;</th><th scope=col>&lt;lgl&gt;</th><th scope=col>&lt;lgl&gt;</th><th scope=col>&lt;lgl&gt;</th><th scope=col>&lt;lgl&gt;</th><th scope=col>&lt;lgl&gt;</th><th scope=col>&lt;lgl&gt;</th></tr>\n",
       "</thead>\n",
       "<tbody>\n",
       "\t<tr><th scope=row>1</th><td>2004-01-01</td><td>-0.227</td><td> 6.51250</td><td>6.514874</td><td>  1.339710</td><td>95825</td><td>NA</td><td>NA</td><td> -1.23</td><td>-0.01</td><td>1.520</td><td>0.02</td><td>NA</td><td>NA</td><td>NA</td><td>NA</td><td>NA</td><td>NA</td><td>NA</td></tr>\n",
       "\t<tr><th scope=row>2</th><td>2004-01-02</td><td>-0.499</td><td> 0.00000</td><td>7.121123</td><td> -4.381670</td><td>95455</td><td>NA</td><td>NA</td><td> -2.06</td><td>-0.05</td><td>2.022</td><td>0.02</td><td>NA</td><td>NA</td><td>NA</td><td>NA</td><td>NA</td><td>NA</td><td>NA</td></tr>\n",
       "\t<tr><th scope=row>3</th><td>2004-01-03</td><td>-2.956</td><td> 7.08750</td><td>7.133383</td><td> -4.583730</td><td>96232</td><td>NA</td><td>NA</td><td> -5.82</td><td>-2.19</td><td>2.716</td><td>0.02</td><td>NA</td><td>NA</td><td>NA</td><td>NA</td><td>NA</td><td>NA</td><td>NA</td></tr>\n",
       "\t<tr><th scope=row>4</th><td>2004-01-04</td><td>-4.209</td><td>76.00417</td><td>9.541324</td><td> -9.018790</td><td>96367</td><td>NA</td><td>NA</td><td>-10.45</td><td>-1.48</td><td>1.089</td><td>0.02</td><td>NA</td><td>NA</td><td>NA</td><td>NA</td><td>NA</td><td>NA</td><td>NA</td></tr>\n",
       "\t<tr><th scope=row>5</th><td>2004-01-05</td><td>-1.192</td><td>23.92917</td><td>6.732000</td><td> -6.912368</td><td>96710</td><td>NA</td><td>NA</td><td> -8.10</td><td> 0.53</td><td>0.675</td><td>0.02</td><td>NA</td><td>NA</td><td>NA</td><td>NA</td><td>NA</td><td>NA</td><td>NA</td></tr>\n",
       "\t<tr><th scope=row>6</th><td>2004-01-06</td><td>-1.580</td><td>23.83750</td><td>8.709064</td><td>-11.309390</td><td>96656</td><td>NA</td><td>NA</td><td> -7.24</td><td> 0.35</td><td>0.701</td><td>0.02</td><td>NA</td><td>NA</td><td>NA</td><td>NA</td><td>NA</td><td>NA</td><td>NA</td></tr>\n",
       "</tbody>\n",
       "</table>\n"
      ],
      "text/latex": [
       "A data.frame: 6 x 19\n",
       "\\begin{tabular}{r|lllllllllllllllllll}\n",
       "  & date & temp & vpd & ppfd & netrad & patm & snow & rain & tmin & tmax & vwind & fapar & co2 & ccov & gpp & le & le\\_qc & nee & nee\\_qc\\\\\n",
       "  & <date> & <dbl> & <dbl> & <dbl> & <dbl> & <int> & <lgl> & <lgl> & <dbl> & <dbl> & <dbl> & <dbl> & <lgl> & <lgl> & <lgl> & <lgl> & <lgl> & <lgl> & <lgl>\\\\\n",
       "\\hline\n",
       "\t1 & 2004-01-01 & -0.227 &  6.51250 & 6.514874 &   1.339710 & 95825 & NA & NA &  -1.23 & -0.01 & 1.520 & 0.02 & NA & NA & NA & NA & NA & NA & NA\\\\\n",
       "\t2 & 2004-01-02 & -0.499 &  0.00000 & 7.121123 &  -4.381670 & 95455 & NA & NA &  -2.06 & -0.05 & 2.022 & 0.02 & NA & NA & NA & NA & NA & NA & NA\\\\\n",
       "\t3 & 2004-01-03 & -2.956 &  7.08750 & 7.133383 &  -4.583730 & 96232 & NA & NA &  -5.82 & -2.19 & 2.716 & 0.02 & NA & NA & NA & NA & NA & NA & NA\\\\\n",
       "\t4 & 2004-01-04 & -4.209 & 76.00417 & 9.541324 &  -9.018790 & 96367 & NA & NA & -10.45 & -1.48 & 1.089 & 0.02 & NA & NA & NA & NA & NA & NA & NA\\\\\n",
       "\t5 & 2004-01-05 & -1.192 & 23.92917 & 6.732000 &  -6.912368 & 96710 & NA & NA &  -8.10 &  0.53 & 0.675 & 0.02 & NA & NA & NA & NA & NA & NA & NA\\\\\n",
       "\t6 & 2004-01-06 & -1.580 & 23.83750 & 8.709064 & -11.309390 & 96656 & NA & NA &  -7.24 &  0.35 & 0.701 & 0.02 & NA & NA & NA & NA & NA & NA & NA\\\\\n",
       "\\end{tabular}\n"
      ],
      "text/markdown": [
       "\n",
       "A data.frame: 6 x 19\n",
       "\n",
       "| <!--/--> | date &lt;date&gt; | temp &lt;dbl&gt; | vpd &lt;dbl&gt; | ppfd &lt;dbl&gt; | netrad &lt;dbl&gt; | patm &lt;int&gt; | snow &lt;lgl&gt; | rain &lt;lgl&gt; | tmin &lt;dbl&gt; | tmax &lt;dbl&gt; | vwind &lt;dbl&gt; | fapar &lt;dbl&gt; | co2 &lt;lgl&gt; | ccov &lt;lgl&gt; | gpp &lt;lgl&gt; | le &lt;lgl&gt; | le_qc &lt;lgl&gt; | nee &lt;lgl&gt; | nee_qc &lt;lgl&gt; |\n",
       "|---|---|---|---|---|---|---|---|---|---|---|---|---|---|---|---|---|---|---|---|\n",
       "| 1 | 2004-01-01 | -0.227 |  6.51250 | 6.514874 |   1.339710 | 95825 | NA | NA |  -1.23 | -0.01 | 1.520 | 0.02 | NA | NA | NA | NA | NA | NA | NA |\n",
       "| 2 | 2004-01-02 | -0.499 |  0.00000 | 7.121123 |  -4.381670 | 95455 | NA | NA |  -2.06 | -0.05 | 2.022 | 0.02 | NA | NA | NA | NA | NA | NA | NA |\n",
       "| 3 | 2004-01-03 | -2.956 |  7.08750 | 7.133383 |  -4.583730 | 96232 | NA | NA |  -5.82 | -2.19 | 2.716 | 0.02 | NA | NA | NA | NA | NA | NA | NA |\n",
       "| 4 | 2004-01-04 | -4.209 | 76.00417 | 9.541324 |  -9.018790 | 96367 | NA | NA | -10.45 | -1.48 | 1.089 | 0.02 | NA | NA | NA | NA | NA | NA | NA |\n",
       "| 5 | 2004-01-05 | -1.192 | 23.92917 | 6.732000 |  -6.912368 | 96710 | NA | NA |  -8.10 |  0.53 | 0.675 | 0.02 | NA | NA | NA | NA | NA | NA | NA |\n",
       "| 6 | 2004-01-06 | -1.580 | 23.83750 | 8.709064 | -11.309390 | 96656 | NA | NA |  -7.24 |  0.35 | 0.701 | 0.02 | NA | NA | NA | NA | NA | NA | NA |\n",
       "\n"
      ],
      "text/plain": [
       "  date       temp   vpd      ppfd     netrad     patm  snow rain tmin   tmax \n",
       "1 2004-01-01 -0.227  6.51250 6.514874   1.339710 95825 NA   NA    -1.23 -0.01\n",
       "2 2004-01-02 -0.499  0.00000 7.121123  -4.381670 95455 NA   NA    -2.06 -0.05\n",
       "3 2004-01-03 -2.956  7.08750 7.133383  -4.583730 96232 NA   NA    -5.82 -2.19\n",
       "4 2004-01-04 -4.209 76.00417 9.541324  -9.018790 96367 NA   NA   -10.45 -1.48\n",
       "5 2004-01-05 -1.192 23.92917 6.732000  -6.912368 96710 NA   NA    -8.10  0.53\n",
       "6 2004-01-06 -1.580 23.83750 8.709064 -11.309390 96656 NA   NA    -7.24  0.35\n",
       "  vwind fapar co2 ccov gpp le le_qc nee nee_qc\n",
       "1 1.520 0.02  NA  NA   NA  NA NA    NA  NA    \n",
       "2 2.022 0.02  NA  NA   NA  NA NA    NA  NA    \n",
       "3 2.716 0.02  NA  NA   NA  NA NA    NA  NA    \n",
       "4 1.089 0.02  NA  NA   NA  NA NA    NA  NA    \n",
       "5 0.675 0.02  NA  NA   NA  NA NA    NA  NA    \n",
       "6 0.701 0.02  NA  NA   NA  NA NA    NA  NA    "
      ]
     },
     "metadata": {},
     "output_type": "display_data"
    }
   ],
   "source": [
    "# read fapar data\n",
    "fapar_data <- read.csv(\"../data/01_data_prep/06a2_daily_fapar_2004-2023.csv\")\n",
    "# print the head of the fapar_data\n",
    "head(fapar_data)\n",
    "# convert date column to Date type\n",
    "fapar_data$date <- as.Date(fapar_data$date)\n",
    "\n",
    "# update the existing columns in df with values from fapar_data\n",
    "df <- df %>% \n",
    "    left_join(fapar_data %>% select(date, fapar), by = \"date\", suffix = c(\"\", \"_new\")) %>%\n",
    "    mutate(fapar = fapar_new) %>%\n",
    "    select(-fapar_new)\n",
    "# print the head of the df\n",
    "head(df)"
   ]
  },
  {
   "cell_type": "markdown",
   "id": "13255431",
   "metadata": {},
   "source": [
    "### co2"
   ]
  },
  {
   "cell_type": "code",
   "execution_count": 10,
   "id": "082a665b",
   "metadata": {
    "vscode": {
     "languageId": "r"
    }
   },
   "outputs": [
    {
     "data": {
      "text/html": [
       "<table class=\"dataframe\">\n",
       "<caption>A data.frame: 6 x 2</caption>\n",
       "<thead>\n",
       "\t<tr><th></th><th scope=col>TIMESTAMP</th><th scope=col>CO2_F_MDS</th></tr>\n",
       "\t<tr><th></th><th scope=col>&lt;chr&gt;</th><th scope=col>&lt;dbl&gt;</th></tr>\n",
       "</thead>\n",
       "<tbody>\n",
       "\t<tr><th scope=row>1</th><td>2004-01-01</td><td>384.872</td></tr>\n",
       "\t<tr><th scope=row>2</th><td>2004-01-02</td><td>377.952</td></tr>\n",
       "\t<tr><th scope=row>3</th><td>2004-01-03</td><td>385.627</td></tr>\n",
       "\t<tr><th scope=row>4</th><td>2004-01-04</td><td>402.001</td></tr>\n",
       "\t<tr><th scope=row>5</th><td>2004-01-05</td><td>437.166</td></tr>\n",
       "\t<tr><th scope=row>6</th><td>2004-01-06</td><td>507.266</td></tr>\n",
       "</tbody>\n",
       "</table>\n"
      ],
      "text/latex": [
       "A data.frame: 6 x 2\n",
       "\\begin{tabular}{r|ll}\n",
       "  & TIMESTAMP & CO2\\_F\\_MDS\\\\\n",
       "  & <chr> & <dbl>\\\\\n",
       "\\hline\n",
       "\t1 & 2004-01-01 & 384.872\\\\\n",
       "\t2 & 2004-01-02 & 377.952\\\\\n",
       "\t3 & 2004-01-03 & 385.627\\\\\n",
       "\t4 & 2004-01-04 & 402.001\\\\\n",
       "\t5 & 2004-01-05 & 437.166\\\\\n",
       "\t6 & 2004-01-06 & 507.266\\\\\n",
       "\\end{tabular}\n"
      ],
      "text/markdown": [
       "\n",
       "A data.frame: 6 x 2\n",
       "\n",
       "| <!--/--> | TIMESTAMP &lt;chr&gt; | CO2_F_MDS &lt;dbl&gt; |\n",
       "|---|---|---|\n",
       "| 1 | 2004-01-01 | 384.872 |\n",
       "| 2 | 2004-01-02 | 377.952 |\n",
       "| 3 | 2004-01-03 | 385.627 |\n",
       "| 4 | 2004-01-04 | 402.001 |\n",
       "| 5 | 2004-01-05 | 437.166 |\n",
       "| 6 | 2004-01-06 | 507.266 |\n",
       "\n"
      ],
      "text/plain": [
       "  TIMESTAMP  CO2_F_MDS\n",
       "1 2004-01-01 384.872  \n",
       "2 2004-01-02 377.952  \n",
       "3 2004-01-03 385.627  \n",
       "4 2004-01-04 402.001  \n",
       "5 2004-01-05 437.166  \n",
       "6 2004-01-06 507.266  "
      ]
     },
     "metadata": {},
     "output_type": "display_data"
    },
    {
     "data": {
      "text/html": [
       "<table class=\"dataframe\">\n",
       "<caption>A data.frame: 6 x 19</caption>\n",
       "<thead>\n",
       "\t<tr><th></th><th scope=col>date</th><th scope=col>temp</th><th scope=col>vpd</th><th scope=col>ppfd</th><th scope=col>netrad</th><th scope=col>patm</th><th scope=col>snow</th><th scope=col>rain</th><th scope=col>tmin</th><th scope=col>tmax</th><th scope=col>vwind</th><th scope=col>fapar</th><th scope=col>co2</th><th scope=col>ccov</th><th scope=col>gpp</th><th scope=col>le</th><th scope=col>le_qc</th><th scope=col>nee</th><th scope=col>nee_qc</th></tr>\n",
       "\t<tr><th></th><th scope=col>&lt;date&gt;</th><th scope=col>&lt;dbl&gt;</th><th scope=col>&lt;dbl&gt;</th><th scope=col>&lt;dbl&gt;</th><th scope=col>&lt;dbl&gt;</th><th scope=col>&lt;int&gt;</th><th scope=col>&lt;lgl&gt;</th><th scope=col>&lt;lgl&gt;</th><th scope=col>&lt;dbl&gt;</th><th scope=col>&lt;dbl&gt;</th><th scope=col>&lt;dbl&gt;</th><th scope=col>&lt;dbl&gt;</th><th scope=col>&lt;dbl&gt;</th><th scope=col>&lt;lgl&gt;</th><th scope=col>&lt;lgl&gt;</th><th scope=col>&lt;lgl&gt;</th><th scope=col>&lt;lgl&gt;</th><th scope=col>&lt;lgl&gt;</th><th scope=col>&lt;lgl&gt;</th></tr>\n",
       "</thead>\n",
       "<tbody>\n",
       "\t<tr><th scope=row>1</th><td>2004-01-01</td><td>-0.227</td><td> 6.51250</td><td>6.514874</td><td>  1.339710</td><td>95825</td><td>NA</td><td>NA</td><td> -1.23</td><td>-0.01</td><td>1.520</td><td>0.02</td><td>384.872</td><td>NA</td><td>NA</td><td>NA</td><td>NA</td><td>NA</td><td>NA</td></tr>\n",
       "\t<tr><th scope=row>2</th><td>2004-01-02</td><td>-0.499</td><td> 0.00000</td><td>7.121123</td><td> -4.381670</td><td>95455</td><td>NA</td><td>NA</td><td> -2.06</td><td>-0.05</td><td>2.022</td><td>0.02</td><td>377.952</td><td>NA</td><td>NA</td><td>NA</td><td>NA</td><td>NA</td><td>NA</td></tr>\n",
       "\t<tr><th scope=row>3</th><td>2004-01-03</td><td>-2.956</td><td> 7.08750</td><td>7.133383</td><td> -4.583730</td><td>96232</td><td>NA</td><td>NA</td><td> -5.82</td><td>-2.19</td><td>2.716</td><td>0.02</td><td>385.627</td><td>NA</td><td>NA</td><td>NA</td><td>NA</td><td>NA</td><td>NA</td></tr>\n",
       "\t<tr><th scope=row>4</th><td>2004-01-04</td><td>-4.209</td><td>76.00417</td><td>9.541324</td><td> -9.018790</td><td>96367</td><td>NA</td><td>NA</td><td>-10.45</td><td>-1.48</td><td>1.089</td><td>0.02</td><td>402.001</td><td>NA</td><td>NA</td><td>NA</td><td>NA</td><td>NA</td><td>NA</td></tr>\n",
       "\t<tr><th scope=row>5</th><td>2004-01-05</td><td>-1.192</td><td>23.92917</td><td>6.732000</td><td> -6.912368</td><td>96710</td><td>NA</td><td>NA</td><td> -8.10</td><td> 0.53</td><td>0.675</td><td>0.02</td><td>437.166</td><td>NA</td><td>NA</td><td>NA</td><td>NA</td><td>NA</td><td>NA</td></tr>\n",
       "\t<tr><th scope=row>6</th><td>2004-01-06</td><td>-1.580</td><td>23.83750</td><td>8.709064</td><td>-11.309390</td><td>96656</td><td>NA</td><td>NA</td><td> -7.24</td><td> 0.35</td><td>0.701</td><td>0.02</td><td>507.266</td><td>NA</td><td>NA</td><td>NA</td><td>NA</td><td>NA</td><td>NA</td></tr>\n",
       "</tbody>\n",
       "</table>\n"
      ],
      "text/latex": [
       "A data.frame: 6 x 19\n",
       "\\begin{tabular}{r|lllllllllllllllllll}\n",
       "  & date & temp & vpd & ppfd & netrad & patm & snow & rain & tmin & tmax & vwind & fapar & co2 & ccov & gpp & le & le\\_qc & nee & nee\\_qc\\\\\n",
       "  & <date> & <dbl> & <dbl> & <dbl> & <dbl> & <int> & <lgl> & <lgl> & <dbl> & <dbl> & <dbl> & <dbl> & <dbl> & <lgl> & <lgl> & <lgl> & <lgl> & <lgl> & <lgl>\\\\\n",
       "\\hline\n",
       "\t1 & 2004-01-01 & -0.227 &  6.51250 & 6.514874 &   1.339710 & 95825 & NA & NA &  -1.23 & -0.01 & 1.520 & 0.02 & 384.872 & NA & NA & NA & NA & NA & NA\\\\\n",
       "\t2 & 2004-01-02 & -0.499 &  0.00000 & 7.121123 &  -4.381670 & 95455 & NA & NA &  -2.06 & -0.05 & 2.022 & 0.02 & 377.952 & NA & NA & NA & NA & NA & NA\\\\\n",
       "\t3 & 2004-01-03 & -2.956 &  7.08750 & 7.133383 &  -4.583730 & 96232 & NA & NA &  -5.82 & -2.19 & 2.716 & 0.02 & 385.627 & NA & NA & NA & NA & NA & NA\\\\\n",
       "\t4 & 2004-01-04 & -4.209 & 76.00417 & 9.541324 &  -9.018790 & 96367 & NA & NA & -10.45 & -1.48 & 1.089 & 0.02 & 402.001 & NA & NA & NA & NA & NA & NA\\\\\n",
       "\t5 & 2004-01-05 & -1.192 & 23.92917 & 6.732000 &  -6.912368 & 96710 & NA & NA &  -8.10 &  0.53 & 0.675 & 0.02 & 437.166 & NA & NA & NA & NA & NA & NA\\\\\n",
       "\t6 & 2004-01-06 & -1.580 & 23.83750 & 8.709064 & -11.309390 & 96656 & NA & NA &  -7.24 &  0.35 & 0.701 & 0.02 & 507.266 & NA & NA & NA & NA & NA & NA\\\\\n",
       "\\end{tabular}\n"
      ],
      "text/markdown": [
       "\n",
       "A data.frame: 6 x 19\n",
       "\n",
       "| <!--/--> | date &lt;date&gt; | temp &lt;dbl&gt; | vpd &lt;dbl&gt; | ppfd &lt;dbl&gt; | netrad &lt;dbl&gt; | patm &lt;int&gt; | snow &lt;lgl&gt; | rain &lt;lgl&gt; | tmin &lt;dbl&gt; | tmax &lt;dbl&gt; | vwind &lt;dbl&gt; | fapar &lt;dbl&gt; | co2 &lt;dbl&gt; | ccov &lt;lgl&gt; | gpp &lt;lgl&gt; | le &lt;lgl&gt; | le_qc &lt;lgl&gt; | nee &lt;lgl&gt; | nee_qc &lt;lgl&gt; |\n",
       "|---|---|---|---|---|---|---|---|---|---|---|---|---|---|---|---|---|---|---|---|\n",
       "| 1 | 2004-01-01 | -0.227 |  6.51250 | 6.514874 |   1.339710 | 95825 | NA | NA |  -1.23 | -0.01 | 1.520 | 0.02 | 384.872 | NA | NA | NA | NA | NA | NA |\n",
       "| 2 | 2004-01-02 | -0.499 |  0.00000 | 7.121123 |  -4.381670 | 95455 | NA | NA |  -2.06 | -0.05 | 2.022 | 0.02 | 377.952 | NA | NA | NA | NA | NA | NA |\n",
       "| 3 | 2004-01-03 | -2.956 |  7.08750 | 7.133383 |  -4.583730 | 96232 | NA | NA |  -5.82 | -2.19 | 2.716 | 0.02 | 385.627 | NA | NA | NA | NA | NA | NA |\n",
       "| 4 | 2004-01-04 | -4.209 | 76.00417 | 9.541324 |  -9.018790 | 96367 | NA | NA | -10.45 | -1.48 | 1.089 | 0.02 | 402.001 | NA | NA | NA | NA | NA | NA |\n",
       "| 5 | 2004-01-05 | -1.192 | 23.92917 | 6.732000 |  -6.912368 | 96710 | NA | NA |  -8.10 |  0.53 | 0.675 | 0.02 | 437.166 | NA | NA | NA | NA | NA | NA |\n",
       "| 6 | 2004-01-06 | -1.580 | 23.83750 | 8.709064 | -11.309390 | 96656 | NA | NA |  -7.24 |  0.35 | 0.701 | 0.02 | 507.266 | NA | NA | NA | NA | NA | NA |\n",
       "\n"
      ],
      "text/plain": [
       "  date       temp   vpd      ppfd     netrad     patm  snow rain tmin   tmax \n",
       "1 2004-01-01 -0.227  6.51250 6.514874   1.339710 95825 NA   NA    -1.23 -0.01\n",
       "2 2004-01-02 -0.499  0.00000 7.121123  -4.381670 95455 NA   NA    -2.06 -0.05\n",
       "3 2004-01-03 -2.956  7.08750 7.133383  -4.583730 96232 NA   NA    -5.82 -2.19\n",
       "4 2004-01-04 -4.209 76.00417 9.541324  -9.018790 96367 NA   NA   -10.45 -1.48\n",
       "5 2004-01-05 -1.192 23.92917 6.732000  -6.912368 96710 NA   NA    -8.10  0.53\n",
       "6 2004-01-06 -1.580 23.83750 8.709064 -11.309390 96656 NA   NA    -7.24  0.35\n",
       "  vwind fapar co2     ccov gpp le le_qc nee nee_qc\n",
       "1 1.520 0.02  384.872 NA   NA  NA NA    NA  NA    \n",
       "2 2.022 0.02  377.952 NA   NA  NA NA    NA  NA    \n",
       "3 2.716 0.02  385.627 NA   NA  NA NA    NA  NA    \n",
       "4 1.089 0.02  402.001 NA   NA  NA NA    NA  NA    \n",
       "5 0.675 0.02  437.166 NA   NA  NA NA    NA  NA    \n",
       "6 0.701 0.02  507.266 NA   NA  NA NA    NA  NA    "
      ]
     },
     "metadata": {},
     "output_type": "display_data"
    }
   ],
   "source": [
    "# read co2 data\n",
    "co2_data <- read.csv(\"../data/01_data_prep/07_co2.csv\")\n",
    "# print the head of the co2_data\n",
    "head(co2_data)\n",
    "# convert date column to Date type\n",
    "co2_data$TIMESTAMP <- as.Date(co2_data$TIMESTAMP)\n",
    "# rename the TIMESTAMP column to date\n",
    "colnames(co2_data)[colnames(co2_data) == \"TIMESTAMP\"] <- \"date\"\n",
    "# update the existing columns in df with values from co2_data\n",
    "df <- df %>% \n",
    "    left_join(co2_data %>% select(date, CO2_F_MDS), by = \"date\", suffix = c(\"\", \"_new\"))  %>% \n",
    "    mutate(co2 = CO2_F_MDS) %>%\n",
    "    select(-CO2_F_MDS)\n",
    "# print the head of the df\n",
    "head(df)"
   ]
  },
  {
   "cell_type": "markdown",
   "id": "e827be50",
   "metadata": {},
   "source": [
    "### rain"
   ]
  },
  {
   "cell_type": "code",
   "execution_count": 11,
   "id": "73a3e65d",
   "metadata": {
    "vscode": {
     "languageId": "r"
    }
   },
   "outputs": [
    {
     "data": {
      "text/html": [
       "<table class=\"dataframe\">\n",
       "<caption>A data.frame: 6 x 3</caption>\n",
       "<thead>\n",
       "\t<tr><th></th><th scope=col>date</th><th scope=col>rain_mm</th><th scope=col>rain</th></tr>\n",
       "\t<tr><th></th><th scope=col>&lt;chr&gt;</th><th scope=col>&lt;dbl&gt;</th><th scope=col>&lt;dbl&gt;</th></tr>\n",
       "</thead>\n",
       "<tbody>\n",
       "\t<tr><th scope=row>1</th><td>2004-01-01</td><td>1.6</td><td>1.851852e-05</td></tr>\n",
       "\t<tr><th scope=row>2</th><td>2004-01-02</td><td>0.5</td><td>5.787037e-06</td></tr>\n",
       "\t<tr><th scope=row>3</th><td>2004-01-03</td><td>0.0</td><td>0.000000e+00</td></tr>\n",
       "\t<tr><th scope=row>4</th><td>2004-01-04</td><td>0.0</td><td>0.000000e+00</td></tr>\n",
       "\t<tr><th scope=row>5</th><td>2004-01-05</td><td>0.0</td><td>0.000000e+00</td></tr>\n",
       "\t<tr><th scope=row>6</th><td>2004-01-06</td><td>0.0</td><td>0.000000e+00</td></tr>\n",
       "</tbody>\n",
       "</table>\n"
      ],
      "text/latex": [
       "A data.frame: 6 x 3\n",
       "\\begin{tabular}{r|lll}\n",
       "  & date & rain\\_mm & rain\\\\\n",
       "  & <chr> & <dbl> & <dbl>\\\\\n",
       "\\hline\n",
       "\t1 & 2004-01-01 & 1.6 & 1.851852e-05\\\\\n",
       "\t2 & 2004-01-02 & 0.5 & 5.787037e-06\\\\\n",
       "\t3 & 2004-01-03 & 0.0 & 0.000000e+00\\\\\n",
       "\t4 & 2004-01-04 & 0.0 & 0.000000e+00\\\\\n",
       "\t5 & 2004-01-05 & 0.0 & 0.000000e+00\\\\\n",
       "\t6 & 2004-01-06 & 0.0 & 0.000000e+00\\\\\n",
       "\\end{tabular}\n"
      ],
      "text/markdown": [
       "\n",
       "A data.frame: 6 x 3\n",
       "\n",
       "| <!--/--> | date &lt;chr&gt; | rain_mm &lt;dbl&gt; | rain &lt;dbl&gt; |\n",
       "|---|---|---|---|\n",
       "| 1 | 2004-01-01 | 1.6 | 1.851852e-05 |\n",
       "| 2 | 2004-01-02 | 0.5 | 5.787037e-06 |\n",
       "| 3 | 2004-01-03 | 0.0 | 0.000000e+00 |\n",
       "| 4 | 2004-01-04 | 0.0 | 0.000000e+00 |\n",
       "| 5 | 2004-01-05 | 0.0 | 0.000000e+00 |\n",
       "| 6 | 2004-01-06 | 0.0 | 0.000000e+00 |\n",
       "\n"
      ],
      "text/plain": [
       "  date       rain_mm rain        \n",
       "1 2004-01-01 1.6     1.851852e-05\n",
       "2 2004-01-02 0.5     5.787037e-06\n",
       "3 2004-01-03 0.0     0.000000e+00\n",
       "4 2004-01-04 0.0     0.000000e+00\n",
       "5 2004-01-05 0.0     0.000000e+00\n",
       "6 2004-01-06 0.0     0.000000e+00"
      ]
     },
     "metadata": {},
     "output_type": "display_data"
    },
    {
     "data": {
      "text/html": [
       "<table class=\"dataframe\">\n",
       "<caption>A data.frame: 6 x 19</caption>\n",
       "<thead>\n",
       "\t<tr><th></th><th scope=col>date</th><th scope=col>temp</th><th scope=col>vpd</th><th scope=col>ppfd</th><th scope=col>netrad</th><th scope=col>patm</th><th scope=col>snow</th><th scope=col>rain</th><th scope=col>tmin</th><th scope=col>tmax</th><th scope=col>vwind</th><th scope=col>fapar</th><th scope=col>co2</th><th scope=col>ccov</th><th scope=col>gpp</th><th scope=col>le</th><th scope=col>le_qc</th><th scope=col>nee</th><th scope=col>nee_qc</th></tr>\n",
       "\t<tr><th></th><th scope=col>&lt;date&gt;</th><th scope=col>&lt;dbl&gt;</th><th scope=col>&lt;dbl&gt;</th><th scope=col>&lt;dbl&gt;</th><th scope=col>&lt;dbl&gt;</th><th scope=col>&lt;int&gt;</th><th scope=col>&lt;lgl&gt;</th><th scope=col>&lt;dbl&gt;</th><th scope=col>&lt;dbl&gt;</th><th scope=col>&lt;dbl&gt;</th><th scope=col>&lt;dbl&gt;</th><th scope=col>&lt;dbl&gt;</th><th scope=col>&lt;dbl&gt;</th><th scope=col>&lt;lgl&gt;</th><th scope=col>&lt;lgl&gt;</th><th scope=col>&lt;lgl&gt;</th><th scope=col>&lt;lgl&gt;</th><th scope=col>&lt;lgl&gt;</th><th scope=col>&lt;lgl&gt;</th></tr>\n",
       "</thead>\n",
       "<tbody>\n",
       "\t<tr><th scope=row>1</th><td>2004-01-01</td><td>-0.227</td><td> 6.51250</td><td>6.514874</td><td>  1.339710</td><td>95825</td><td>NA</td><td>1.851852e-05</td><td> -1.23</td><td>-0.01</td><td>1.520</td><td>0.02</td><td>384.872</td><td>NA</td><td>NA</td><td>NA</td><td>NA</td><td>NA</td><td>NA</td></tr>\n",
       "\t<tr><th scope=row>2</th><td>2004-01-02</td><td>-0.499</td><td> 0.00000</td><td>7.121123</td><td> -4.381670</td><td>95455</td><td>NA</td><td>5.787037e-06</td><td> -2.06</td><td>-0.05</td><td>2.022</td><td>0.02</td><td>377.952</td><td>NA</td><td>NA</td><td>NA</td><td>NA</td><td>NA</td><td>NA</td></tr>\n",
       "\t<tr><th scope=row>3</th><td>2004-01-03</td><td>-2.956</td><td> 7.08750</td><td>7.133383</td><td> -4.583730</td><td>96232</td><td>NA</td><td>0.000000e+00</td><td> -5.82</td><td>-2.19</td><td>2.716</td><td>0.02</td><td>385.627</td><td>NA</td><td>NA</td><td>NA</td><td>NA</td><td>NA</td><td>NA</td></tr>\n",
       "\t<tr><th scope=row>4</th><td>2004-01-04</td><td>-4.209</td><td>76.00417</td><td>9.541324</td><td> -9.018790</td><td>96367</td><td>NA</td><td>0.000000e+00</td><td>-10.45</td><td>-1.48</td><td>1.089</td><td>0.02</td><td>402.001</td><td>NA</td><td>NA</td><td>NA</td><td>NA</td><td>NA</td><td>NA</td></tr>\n",
       "\t<tr><th scope=row>5</th><td>2004-01-05</td><td>-1.192</td><td>23.92917</td><td>6.732000</td><td> -6.912368</td><td>96710</td><td>NA</td><td>0.000000e+00</td><td> -8.10</td><td> 0.53</td><td>0.675</td><td>0.02</td><td>437.166</td><td>NA</td><td>NA</td><td>NA</td><td>NA</td><td>NA</td><td>NA</td></tr>\n",
       "\t<tr><th scope=row>6</th><td>2004-01-06</td><td>-1.580</td><td>23.83750</td><td>8.709064</td><td>-11.309390</td><td>96656</td><td>NA</td><td>0.000000e+00</td><td> -7.24</td><td> 0.35</td><td>0.701</td><td>0.02</td><td>507.266</td><td>NA</td><td>NA</td><td>NA</td><td>NA</td><td>NA</td><td>NA</td></tr>\n",
       "</tbody>\n",
       "</table>\n"
      ],
      "text/latex": [
       "A data.frame: 6 x 19\n",
       "\\begin{tabular}{r|lllllllllllllllllll}\n",
       "  & date & temp & vpd & ppfd & netrad & patm & snow & rain & tmin & tmax & vwind & fapar & co2 & ccov & gpp & le & le\\_qc & nee & nee\\_qc\\\\\n",
       "  & <date> & <dbl> & <dbl> & <dbl> & <dbl> & <int> & <lgl> & <dbl> & <dbl> & <dbl> & <dbl> & <dbl> & <dbl> & <lgl> & <lgl> & <lgl> & <lgl> & <lgl> & <lgl>\\\\\n",
       "\\hline\n",
       "\t1 & 2004-01-01 & -0.227 &  6.51250 & 6.514874 &   1.339710 & 95825 & NA & 1.851852e-05 &  -1.23 & -0.01 & 1.520 & 0.02 & 384.872 & NA & NA & NA & NA & NA & NA\\\\\n",
       "\t2 & 2004-01-02 & -0.499 &  0.00000 & 7.121123 &  -4.381670 & 95455 & NA & 5.787037e-06 &  -2.06 & -0.05 & 2.022 & 0.02 & 377.952 & NA & NA & NA & NA & NA & NA\\\\\n",
       "\t3 & 2004-01-03 & -2.956 &  7.08750 & 7.133383 &  -4.583730 & 96232 & NA & 0.000000e+00 &  -5.82 & -2.19 & 2.716 & 0.02 & 385.627 & NA & NA & NA & NA & NA & NA\\\\\n",
       "\t4 & 2004-01-04 & -4.209 & 76.00417 & 9.541324 &  -9.018790 & 96367 & NA & 0.000000e+00 & -10.45 & -1.48 & 1.089 & 0.02 & 402.001 & NA & NA & NA & NA & NA & NA\\\\\n",
       "\t5 & 2004-01-05 & -1.192 & 23.92917 & 6.732000 &  -6.912368 & 96710 & NA & 0.000000e+00 &  -8.10 &  0.53 & 0.675 & 0.02 & 437.166 & NA & NA & NA & NA & NA & NA\\\\\n",
       "\t6 & 2004-01-06 & -1.580 & 23.83750 & 8.709064 & -11.309390 & 96656 & NA & 0.000000e+00 &  -7.24 &  0.35 & 0.701 & 0.02 & 507.266 & NA & NA & NA & NA & NA & NA\\\\\n",
       "\\end{tabular}\n"
      ],
      "text/markdown": [
       "\n",
       "A data.frame: 6 x 19\n",
       "\n",
       "| <!--/--> | date &lt;date&gt; | temp &lt;dbl&gt; | vpd &lt;dbl&gt; | ppfd &lt;dbl&gt; | netrad &lt;dbl&gt; | patm &lt;int&gt; | snow &lt;lgl&gt; | rain &lt;dbl&gt; | tmin &lt;dbl&gt; | tmax &lt;dbl&gt; | vwind &lt;dbl&gt; | fapar &lt;dbl&gt; | co2 &lt;dbl&gt; | ccov &lt;lgl&gt; | gpp &lt;lgl&gt; | le &lt;lgl&gt; | le_qc &lt;lgl&gt; | nee &lt;lgl&gt; | nee_qc &lt;lgl&gt; |\n",
       "|---|---|---|---|---|---|---|---|---|---|---|---|---|---|---|---|---|---|---|---|\n",
       "| 1 | 2004-01-01 | -0.227 |  6.51250 | 6.514874 |   1.339710 | 95825 | NA | 1.851852e-05 |  -1.23 | -0.01 | 1.520 | 0.02 | 384.872 | NA | NA | NA | NA | NA | NA |\n",
       "| 2 | 2004-01-02 | -0.499 |  0.00000 | 7.121123 |  -4.381670 | 95455 | NA | 5.787037e-06 |  -2.06 | -0.05 | 2.022 | 0.02 | 377.952 | NA | NA | NA | NA | NA | NA |\n",
       "| 3 | 2004-01-03 | -2.956 |  7.08750 | 7.133383 |  -4.583730 | 96232 | NA | 0.000000e+00 |  -5.82 | -2.19 | 2.716 | 0.02 | 385.627 | NA | NA | NA | NA | NA | NA |\n",
       "| 4 | 2004-01-04 | -4.209 | 76.00417 | 9.541324 |  -9.018790 | 96367 | NA | 0.000000e+00 | -10.45 | -1.48 | 1.089 | 0.02 | 402.001 | NA | NA | NA | NA | NA | NA |\n",
       "| 5 | 2004-01-05 | -1.192 | 23.92917 | 6.732000 |  -6.912368 | 96710 | NA | 0.000000e+00 |  -8.10 |  0.53 | 0.675 | 0.02 | 437.166 | NA | NA | NA | NA | NA | NA |\n",
       "| 6 | 2004-01-06 | -1.580 | 23.83750 | 8.709064 | -11.309390 | 96656 | NA | 0.000000e+00 |  -7.24 |  0.35 | 0.701 | 0.02 | 507.266 | NA | NA | NA | NA | NA | NA |\n",
       "\n"
      ],
      "text/plain": [
       "  date       temp   vpd      ppfd     netrad     patm  snow rain         tmin  \n",
       "1 2004-01-01 -0.227  6.51250 6.514874   1.339710 95825 NA   1.851852e-05  -1.23\n",
       "2 2004-01-02 -0.499  0.00000 7.121123  -4.381670 95455 NA   5.787037e-06  -2.06\n",
       "3 2004-01-03 -2.956  7.08750 7.133383  -4.583730 96232 NA   0.000000e+00  -5.82\n",
       "4 2004-01-04 -4.209 76.00417 9.541324  -9.018790 96367 NA   0.000000e+00 -10.45\n",
       "5 2004-01-05 -1.192 23.92917 6.732000  -6.912368 96710 NA   0.000000e+00  -8.10\n",
       "6 2004-01-06 -1.580 23.83750 8.709064 -11.309390 96656 NA   0.000000e+00  -7.24\n",
       "  tmax  vwind fapar co2     ccov gpp le le_qc nee nee_qc\n",
       "1 -0.01 1.520 0.02  384.872 NA   NA  NA NA    NA  NA    \n",
       "2 -0.05 2.022 0.02  377.952 NA   NA  NA NA    NA  NA    \n",
       "3 -2.19 2.716 0.02  385.627 NA   NA  NA NA    NA  NA    \n",
       "4 -1.48 1.089 0.02  402.001 NA   NA  NA NA    NA  NA    \n",
       "5  0.53 0.675 0.02  437.166 NA   NA  NA NA    NA  NA    \n",
       "6  0.35 0.701 0.02  507.266 NA   NA  NA NA    NA  NA    "
      ]
     },
     "metadata": {},
     "output_type": "display_data"
    }
   ],
   "source": [
    "# read rain data\n",
    "rain_data <- read.csv(\"../data/01_data_prep/08_rain.csv\")\n",
    "# print the head of the rain_data\n",
    "head(rain_data)\n",
    "# convert date column to Date type\n",
    "rain_data$date <- as.Date(rain_data$date)\n",
    "# update the existing columns in df with values from rain_data\n",
    "df <- df %>% \n",
    "    left_join(rain_data %>% select(date, rain), by = \"date\", suffix = c(\"\", \"_new\")) %>%\n",
    "    mutate(rain = rain_new) %>%\n",
    "    select(-rain_new)\n",
    "# print the head of the df\n",
    "head(df)"
   ]
  },
  {
   "cell_type": "markdown",
   "id": "cb2fd550",
   "metadata": {},
   "source": [
    "### ccov"
   ]
  },
  {
   "cell_type": "code",
   "execution_count": 12,
   "id": "655af341",
   "metadata": {
    "vscode": {
     "languageId": "r"
    }
   },
   "outputs": [
    {
     "data": {
      "text/html": [
       "<table class=\"dataframe\">\n",
       "<caption>A data.frame: 6 x 3</caption>\n",
       "<thead>\n",
       "\t<tr><th></th><th scope=col>date</th><th scope=col>cloud_cover</th><th scope=col>cloud_cover_percentage</th></tr>\n",
       "\t<tr><th></th><th scope=col>&lt;date&gt;</th><th scope=col>&lt;dbl&gt;</th><th scope=col>&lt;dbl&gt;</th></tr>\n",
       "</thead>\n",
       "<tbody>\n",
       "\t<tr><th scope=row>1</th><td>2004-01-01</td><td>1.0000000</td><td>100.00000</td></tr>\n",
       "\t<tr><th scope=row>2</th><td>2004-01-02</td><td>0.9373863</td><td> 93.73863</td></tr>\n",
       "\t<tr><th scope=row>3</th><td>2004-01-03</td><td>1.0000000</td><td>100.00000</td></tr>\n",
       "\t<tr><th scope=row>4</th><td>2004-01-04</td><td>0.7758400</td><td> 77.58400</td></tr>\n",
       "\t<tr><th scope=row>5</th><td>2004-01-05</td><td>0.8695803</td><td> 86.95803</td></tr>\n",
       "\t<tr><th scope=row>6</th><td>2004-01-06</td><td>0.9965465</td><td> 99.65465</td></tr>\n",
       "</tbody>\n",
       "</table>\n"
      ],
      "text/latex": [
       "A data.frame: 6 x 3\n",
       "\\begin{tabular}{r|lll}\n",
       "  & date & cloud\\_cover & cloud\\_cover\\_percentage\\\\\n",
       "  & <date> & <dbl> & <dbl>\\\\\n",
       "\\hline\n",
       "\t1 & 2004-01-01 & 1.0000000 & 100.00000\\\\\n",
       "\t2 & 2004-01-02 & 0.9373863 &  93.73863\\\\\n",
       "\t3 & 2004-01-03 & 1.0000000 & 100.00000\\\\\n",
       "\t4 & 2004-01-04 & 0.7758400 &  77.58400\\\\\n",
       "\t5 & 2004-01-05 & 0.8695803 &  86.95803\\\\\n",
       "\t6 & 2004-01-06 & 0.9965465 &  99.65465\\\\\n",
       "\\end{tabular}\n"
      ],
      "text/markdown": [
       "\n",
       "A data.frame: 6 x 3\n",
       "\n",
       "| <!--/--> | date &lt;date&gt; | cloud_cover &lt;dbl&gt; | cloud_cover_percentage &lt;dbl&gt; |\n",
       "|---|---|---|---|\n",
       "| 1 | 2004-01-01 | 1.0000000 | 100.00000 |\n",
       "| 2 | 2004-01-02 | 0.9373863 |  93.73863 |\n",
       "| 3 | 2004-01-03 | 1.0000000 | 100.00000 |\n",
       "| 4 | 2004-01-04 | 0.7758400 |  77.58400 |\n",
       "| 5 | 2004-01-05 | 0.8695803 |  86.95803 |\n",
       "| 6 | 2004-01-06 | 0.9965465 |  99.65465 |\n",
       "\n"
      ],
      "text/plain": [
       "  date       cloud_cover cloud_cover_percentage\n",
       "1 2004-01-01 1.0000000   100.00000             \n",
       "2 2004-01-02 0.9373863    93.73863             \n",
       "3 2004-01-03 1.0000000   100.00000             \n",
       "4 2004-01-04 0.7758400    77.58400             \n",
       "5 2004-01-05 0.8695803    86.95803             \n",
       "6 2004-01-06 0.9965465    99.65465             "
      ]
     },
     "metadata": {},
     "output_type": "display_data"
    },
    {
     "data": {
      "text/html": [
       "<table class=\"dataframe\">\n",
       "<caption>A data.frame: 6 x 19</caption>\n",
       "<thead>\n",
       "\t<tr><th></th><th scope=col>date</th><th scope=col>temp</th><th scope=col>vpd</th><th scope=col>ppfd</th><th scope=col>netrad</th><th scope=col>patm</th><th scope=col>snow</th><th scope=col>rain</th><th scope=col>tmin</th><th scope=col>tmax</th><th scope=col>vwind</th><th scope=col>fapar</th><th scope=col>co2</th><th scope=col>ccov</th><th scope=col>gpp</th><th scope=col>le</th><th scope=col>le_qc</th><th scope=col>nee</th><th scope=col>nee_qc</th></tr>\n",
       "\t<tr><th></th><th scope=col>&lt;date&gt;</th><th scope=col>&lt;dbl&gt;</th><th scope=col>&lt;dbl&gt;</th><th scope=col>&lt;dbl&gt;</th><th scope=col>&lt;dbl&gt;</th><th scope=col>&lt;int&gt;</th><th scope=col>&lt;lgl&gt;</th><th scope=col>&lt;dbl&gt;</th><th scope=col>&lt;dbl&gt;</th><th scope=col>&lt;dbl&gt;</th><th scope=col>&lt;dbl&gt;</th><th scope=col>&lt;dbl&gt;</th><th scope=col>&lt;dbl&gt;</th><th scope=col>&lt;dbl&gt;</th><th scope=col>&lt;lgl&gt;</th><th scope=col>&lt;lgl&gt;</th><th scope=col>&lt;lgl&gt;</th><th scope=col>&lt;lgl&gt;</th><th scope=col>&lt;lgl&gt;</th></tr>\n",
       "</thead>\n",
       "<tbody>\n",
       "\t<tr><th scope=row>1</th><td>2004-01-01</td><td>-0.227</td><td> 6.51250</td><td>6.514874</td><td>  1.339710</td><td>95825</td><td>NA</td><td>1.851852e-05</td><td> -1.23</td><td>-0.01</td><td>1.520</td><td>0.02</td><td>384.872</td><td>1.0000000</td><td>NA</td><td>NA</td><td>NA</td><td>NA</td><td>NA</td></tr>\n",
       "\t<tr><th scope=row>2</th><td>2004-01-02</td><td>-0.499</td><td> 0.00000</td><td>7.121123</td><td> -4.381670</td><td>95455</td><td>NA</td><td>5.787037e-06</td><td> -2.06</td><td>-0.05</td><td>2.022</td><td>0.02</td><td>377.952</td><td>0.9373863</td><td>NA</td><td>NA</td><td>NA</td><td>NA</td><td>NA</td></tr>\n",
       "\t<tr><th scope=row>3</th><td>2004-01-03</td><td>-2.956</td><td> 7.08750</td><td>7.133383</td><td> -4.583730</td><td>96232</td><td>NA</td><td>0.000000e+00</td><td> -5.82</td><td>-2.19</td><td>2.716</td><td>0.02</td><td>385.627</td><td>1.0000000</td><td>NA</td><td>NA</td><td>NA</td><td>NA</td><td>NA</td></tr>\n",
       "\t<tr><th scope=row>4</th><td>2004-01-04</td><td>-4.209</td><td>76.00417</td><td>9.541324</td><td> -9.018790</td><td>96367</td><td>NA</td><td>0.000000e+00</td><td>-10.45</td><td>-1.48</td><td>1.089</td><td>0.02</td><td>402.001</td><td>0.7758400</td><td>NA</td><td>NA</td><td>NA</td><td>NA</td><td>NA</td></tr>\n",
       "\t<tr><th scope=row>5</th><td>2004-01-05</td><td>-1.192</td><td>23.92917</td><td>6.732000</td><td> -6.912368</td><td>96710</td><td>NA</td><td>0.000000e+00</td><td> -8.10</td><td> 0.53</td><td>0.675</td><td>0.02</td><td>437.166</td><td>0.8695803</td><td>NA</td><td>NA</td><td>NA</td><td>NA</td><td>NA</td></tr>\n",
       "\t<tr><th scope=row>6</th><td>2004-01-06</td><td>-1.580</td><td>23.83750</td><td>8.709064</td><td>-11.309390</td><td>96656</td><td>NA</td><td>0.000000e+00</td><td> -7.24</td><td> 0.35</td><td>0.701</td><td>0.02</td><td>507.266</td><td>0.9965465</td><td>NA</td><td>NA</td><td>NA</td><td>NA</td><td>NA</td></tr>\n",
       "</tbody>\n",
       "</table>\n"
      ],
      "text/latex": [
       "A data.frame: 6 x 19\n",
       "\\begin{tabular}{r|lllllllllllllllllll}\n",
       "  & date & temp & vpd & ppfd & netrad & patm & snow & rain & tmin & tmax & vwind & fapar & co2 & ccov & gpp & le & le\\_qc & nee & nee\\_qc\\\\\n",
       "  & <date> & <dbl> & <dbl> & <dbl> & <dbl> & <int> & <lgl> & <dbl> & <dbl> & <dbl> & <dbl> & <dbl> & <dbl> & <dbl> & <lgl> & <lgl> & <lgl> & <lgl> & <lgl>\\\\\n",
       "\\hline\n",
       "\t1 & 2004-01-01 & -0.227 &  6.51250 & 6.514874 &   1.339710 & 95825 & NA & 1.851852e-05 &  -1.23 & -0.01 & 1.520 & 0.02 & 384.872 & 1.0000000 & NA & NA & NA & NA & NA\\\\\n",
       "\t2 & 2004-01-02 & -0.499 &  0.00000 & 7.121123 &  -4.381670 & 95455 & NA & 5.787037e-06 &  -2.06 & -0.05 & 2.022 & 0.02 & 377.952 & 0.9373863 & NA & NA & NA & NA & NA\\\\\n",
       "\t3 & 2004-01-03 & -2.956 &  7.08750 & 7.133383 &  -4.583730 & 96232 & NA & 0.000000e+00 &  -5.82 & -2.19 & 2.716 & 0.02 & 385.627 & 1.0000000 & NA & NA & NA & NA & NA\\\\\n",
       "\t4 & 2004-01-04 & -4.209 & 76.00417 & 9.541324 &  -9.018790 & 96367 & NA & 0.000000e+00 & -10.45 & -1.48 & 1.089 & 0.02 & 402.001 & 0.7758400 & NA & NA & NA & NA & NA\\\\\n",
       "\t5 & 2004-01-05 & -1.192 & 23.92917 & 6.732000 &  -6.912368 & 96710 & NA & 0.000000e+00 &  -8.10 &  0.53 & 0.675 & 0.02 & 437.166 & 0.8695803 & NA & NA & NA & NA & NA\\\\\n",
       "\t6 & 2004-01-06 & -1.580 & 23.83750 & 8.709064 & -11.309390 & 96656 & NA & 0.000000e+00 &  -7.24 &  0.35 & 0.701 & 0.02 & 507.266 & 0.9965465 & NA & NA & NA & NA & NA\\\\\n",
       "\\end{tabular}\n"
      ],
      "text/markdown": [
       "\n",
       "A data.frame: 6 x 19\n",
       "\n",
       "| <!--/--> | date &lt;date&gt; | temp &lt;dbl&gt; | vpd &lt;dbl&gt; | ppfd &lt;dbl&gt; | netrad &lt;dbl&gt; | patm &lt;int&gt; | snow &lt;lgl&gt; | rain &lt;dbl&gt; | tmin &lt;dbl&gt; | tmax &lt;dbl&gt; | vwind &lt;dbl&gt; | fapar &lt;dbl&gt; | co2 &lt;dbl&gt; | ccov &lt;dbl&gt; | gpp &lt;lgl&gt; | le &lt;lgl&gt; | le_qc &lt;lgl&gt; | nee &lt;lgl&gt; | nee_qc &lt;lgl&gt; |\n",
       "|---|---|---|---|---|---|---|---|---|---|---|---|---|---|---|---|---|---|---|---|\n",
       "| 1 | 2004-01-01 | -0.227 |  6.51250 | 6.514874 |   1.339710 | 95825 | NA | 1.851852e-05 |  -1.23 | -0.01 | 1.520 | 0.02 | 384.872 | 1.0000000 | NA | NA | NA | NA | NA |\n",
       "| 2 | 2004-01-02 | -0.499 |  0.00000 | 7.121123 |  -4.381670 | 95455 | NA | 5.787037e-06 |  -2.06 | -0.05 | 2.022 | 0.02 | 377.952 | 0.9373863 | NA | NA | NA | NA | NA |\n",
       "| 3 | 2004-01-03 | -2.956 |  7.08750 | 7.133383 |  -4.583730 | 96232 | NA | 0.000000e+00 |  -5.82 | -2.19 | 2.716 | 0.02 | 385.627 | 1.0000000 | NA | NA | NA | NA | NA |\n",
       "| 4 | 2004-01-04 | -4.209 | 76.00417 | 9.541324 |  -9.018790 | 96367 | NA | 0.000000e+00 | -10.45 | -1.48 | 1.089 | 0.02 | 402.001 | 0.7758400 | NA | NA | NA | NA | NA |\n",
       "| 5 | 2004-01-05 | -1.192 | 23.92917 | 6.732000 |  -6.912368 | 96710 | NA | 0.000000e+00 |  -8.10 |  0.53 | 0.675 | 0.02 | 437.166 | 0.8695803 | NA | NA | NA | NA | NA |\n",
       "| 6 | 2004-01-06 | -1.580 | 23.83750 | 8.709064 | -11.309390 | 96656 | NA | 0.000000e+00 |  -7.24 |  0.35 | 0.701 | 0.02 | 507.266 | 0.9965465 | NA | NA | NA | NA | NA |\n",
       "\n"
      ],
      "text/plain": [
       "  date       temp   vpd      ppfd     netrad     patm  snow rain         tmin  \n",
       "1 2004-01-01 -0.227  6.51250 6.514874   1.339710 95825 NA   1.851852e-05  -1.23\n",
       "2 2004-01-02 -0.499  0.00000 7.121123  -4.381670 95455 NA   5.787037e-06  -2.06\n",
       "3 2004-01-03 -2.956  7.08750 7.133383  -4.583730 96232 NA   0.000000e+00  -5.82\n",
       "4 2004-01-04 -4.209 76.00417 9.541324  -9.018790 96367 NA   0.000000e+00 -10.45\n",
       "5 2004-01-05 -1.192 23.92917 6.732000  -6.912368 96710 NA   0.000000e+00  -8.10\n",
       "6 2004-01-06 -1.580 23.83750 8.709064 -11.309390 96656 NA   0.000000e+00  -7.24\n",
       "  tmax  vwind fapar co2     ccov      gpp le le_qc nee nee_qc\n",
       "1 -0.01 1.520 0.02  384.872 1.0000000 NA  NA NA    NA  NA    \n",
       "2 -0.05 2.022 0.02  377.952 0.9373863 NA  NA NA    NA  NA    \n",
       "3 -2.19 2.716 0.02  385.627 1.0000000 NA  NA NA    NA  NA    \n",
       "4 -1.48 1.089 0.02  402.001 0.7758400 NA  NA NA    NA  NA    \n",
       "5  0.53 0.675 0.02  437.166 0.8695803 NA  NA NA    NA  NA    \n",
       "6  0.35 0.701 0.02  507.266 0.9965465 NA  NA NA    NA  NA    "
      ]
     },
     "metadata": {},
     "output_type": "display_data"
    }
   ],
   "source": [
    "# read ccov data\n",
    "ccov_data <- read.csv(\"../data/01_data_prep/07_era5_cloud_cover_2004-2023.csv\")\n",
    "\n",
    "# convert date column to Date type\n",
    "ccov_data$date <- as.Date(ccov_data$date)\n",
    "# print the head of the ccov_data\n",
    "head(ccov_data)\n",
    "# update the existing columns in df with values from ccov_data\n",
    "df <- df %>% \n",
    "    left_join(ccov_data %>% select(date, cloud_cover), by = \"date\", suffix = c(\"\", \"_new\"))  %>% \n",
    "    mutate(ccov = cloud_cover) %>%\n",
    "    select(-cloud_cover)\n",
    "# print the head of the df\n",
    "head(df)"
   ]
  },
  {
   "cell_type": "markdown",
   "id": "28166936",
   "metadata": {},
   "source": [
    "### gpp, npp, and nee"
   ]
  },
  {
   "cell_type": "code",
   "execution_count": 13,
   "id": "78352821",
   "metadata": {
    "vscode": {
     "languageId": "r"
    }
   },
   "outputs": [
    {
     "data": {
      "text/html": [
       "<table class=\"dataframe\">\n",
       "<caption>A data.frame: 6 x 6</caption>\n",
       "<thead>\n",
       "\t<tr><th></th><th scope=col>date</th><th scope=col>gpp</th><th scope=col>le</th><th scope=col>le_qc</th><th scope=col>nee</th><th scope=col>nee_qc</th></tr>\n",
       "\t<tr><th></th><th scope=col>&lt;chr&gt;</th><th scope=col>&lt;dbl&gt;</th><th scope=col>&lt;dbl&gt;</th><th scope=col>&lt;int&gt;</th><th scope=col>&lt;dbl&gt;</th><th scope=col>&lt;dbl&gt;</th></tr>\n",
       "</thead>\n",
       "<tbody>\n",
       "\t<tr><th scope=row>1</th><td>2004-01-01</td><td> 0.2187610</td><td>7.44814</td><td>-9999</td><td>0.760671</td><td>0.2500000</td></tr>\n",
       "\t<tr><th scope=row>2</th><td>2004-01-02</td><td> 0.1229460</td><td>6.97631</td><td>-9999</td><td>0.787889</td><td>0.3333330</td></tr>\n",
       "\t<tr><th scope=row>3</th><td>2004-01-03</td><td>-0.0692721</td><td>6.39344</td><td>-9999</td><td>0.768699</td><td>0.9583330</td></tr>\n",
       "\t<tr><th scope=row>4</th><td>2004-01-04</td><td>-0.2037980</td><td>3.19733</td><td>-9999</td><td>0.764470</td><td>0.2083330</td></tr>\n",
       "\t<tr><th scope=row>5</th><td>2004-01-05</td><td> 0.0421242</td><td>1.08588</td><td>-9999</td><td>0.753756</td><td>0.0416667</td></tr>\n",
       "\t<tr><th scope=row>6</th><td>2004-01-06</td><td>-0.5205010</td><td>1.45106</td><td>-9999</td><td>1.321320</td><td>0.0208333</td></tr>\n",
       "</tbody>\n",
       "</table>\n"
      ],
      "text/latex": [
       "A data.frame: 6 x 6\n",
       "\\begin{tabular}{r|llllll}\n",
       "  & date & gpp & le & le\\_qc & nee & nee\\_qc\\\\\n",
       "  & <chr> & <dbl> & <dbl> & <int> & <dbl> & <dbl>\\\\\n",
       "\\hline\n",
       "\t1 & 2004-01-01 &  0.2187610 & 7.44814 & -9999 & 0.760671 & 0.2500000\\\\\n",
       "\t2 & 2004-01-02 &  0.1229460 & 6.97631 & -9999 & 0.787889 & 0.3333330\\\\\n",
       "\t3 & 2004-01-03 & -0.0692721 & 6.39344 & -9999 & 0.768699 & 0.9583330\\\\\n",
       "\t4 & 2004-01-04 & -0.2037980 & 3.19733 & -9999 & 0.764470 & 0.2083330\\\\\n",
       "\t5 & 2004-01-05 &  0.0421242 & 1.08588 & -9999 & 0.753756 & 0.0416667\\\\\n",
       "\t6 & 2004-01-06 & -0.5205010 & 1.45106 & -9999 & 1.321320 & 0.0208333\\\\\n",
       "\\end{tabular}\n"
      ],
      "text/markdown": [
       "\n",
       "A data.frame: 6 x 6\n",
       "\n",
       "| <!--/--> | date &lt;chr&gt; | gpp &lt;dbl&gt; | le &lt;dbl&gt; | le_qc &lt;int&gt; | nee &lt;dbl&gt; | nee_qc &lt;dbl&gt; |\n",
       "|---|---|---|---|---|---|---|\n",
       "| 1 | 2004-01-01 |  0.2187610 | 7.44814 | -9999 | 0.760671 | 0.2500000 |\n",
       "| 2 | 2004-01-02 |  0.1229460 | 6.97631 | -9999 | 0.787889 | 0.3333330 |\n",
       "| 3 | 2004-01-03 | -0.0692721 | 6.39344 | -9999 | 0.768699 | 0.9583330 |\n",
       "| 4 | 2004-01-04 | -0.2037980 | 3.19733 | -9999 | 0.764470 | 0.2083330 |\n",
       "| 5 | 2004-01-05 |  0.0421242 | 1.08588 | -9999 | 0.753756 | 0.0416667 |\n",
       "| 6 | 2004-01-06 | -0.5205010 | 1.45106 | -9999 | 1.321320 | 0.0208333 |\n",
       "\n"
      ],
      "text/plain": [
       "  date       gpp        le      le_qc nee      nee_qc   \n",
       "1 2004-01-01  0.2187610 7.44814 -9999 0.760671 0.2500000\n",
       "2 2004-01-02  0.1229460 6.97631 -9999 0.787889 0.3333330\n",
       "3 2004-01-03 -0.0692721 6.39344 -9999 0.768699 0.9583330\n",
       "4 2004-01-04 -0.2037980 3.19733 -9999 0.764470 0.2083330\n",
       "5 2004-01-05  0.0421242 1.08588 -9999 0.753756 0.0416667\n",
       "6 2004-01-06 -0.5205010 1.45106 -9999 1.321320 0.0208333"
      ]
     },
     "metadata": {},
     "output_type": "display_data"
    },
    {
     "data": {
      "text/html": [
       "<table class=\"dataframe\">\n",
       "<caption>A data.frame: 6 x 19</caption>\n",
       "<thead>\n",
       "\t<tr><th></th><th scope=col>date</th><th scope=col>temp</th><th scope=col>vpd</th><th scope=col>ppfd</th><th scope=col>netrad</th><th scope=col>patm</th><th scope=col>snow</th><th scope=col>rain</th><th scope=col>tmin</th><th scope=col>tmax</th><th scope=col>vwind</th><th scope=col>fapar</th><th scope=col>co2</th><th scope=col>ccov</th><th scope=col>gpp</th><th scope=col>le</th><th scope=col>le_qc</th><th scope=col>nee</th><th scope=col>nee_qc</th></tr>\n",
       "\t<tr><th></th><th scope=col>&lt;date&gt;</th><th scope=col>&lt;dbl&gt;</th><th scope=col>&lt;dbl&gt;</th><th scope=col>&lt;dbl&gt;</th><th scope=col>&lt;dbl&gt;</th><th scope=col>&lt;int&gt;</th><th scope=col>&lt;lgl&gt;</th><th scope=col>&lt;dbl&gt;</th><th scope=col>&lt;dbl&gt;</th><th scope=col>&lt;dbl&gt;</th><th scope=col>&lt;dbl&gt;</th><th scope=col>&lt;dbl&gt;</th><th scope=col>&lt;dbl&gt;</th><th scope=col>&lt;dbl&gt;</th><th scope=col>&lt;dbl&gt;</th><th scope=col>&lt;dbl&gt;</th><th scope=col>&lt;int&gt;</th><th scope=col>&lt;dbl&gt;</th><th scope=col>&lt;dbl&gt;</th></tr>\n",
       "</thead>\n",
       "<tbody>\n",
       "\t<tr><th scope=row>1</th><td>2004-01-01</td><td>-0.227</td><td> 6.51250</td><td>6.514874</td><td>  1.339710</td><td>95825</td><td>NA</td><td>1.851852e-05</td><td> -1.23</td><td>-0.01</td><td>1.520</td><td>0.02</td><td>384.872</td><td>1.0000000</td><td> 0.2187610</td><td>7.44814</td><td>-9999</td><td>0.760671</td><td>0.2500000</td></tr>\n",
       "\t<tr><th scope=row>2</th><td>2004-01-02</td><td>-0.499</td><td> 0.00000</td><td>7.121123</td><td> -4.381670</td><td>95455</td><td>NA</td><td>5.787037e-06</td><td> -2.06</td><td>-0.05</td><td>2.022</td><td>0.02</td><td>377.952</td><td>0.9373863</td><td> 0.1229460</td><td>6.97631</td><td>-9999</td><td>0.787889</td><td>0.3333330</td></tr>\n",
       "\t<tr><th scope=row>3</th><td>2004-01-03</td><td>-2.956</td><td> 7.08750</td><td>7.133383</td><td> -4.583730</td><td>96232</td><td>NA</td><td>0.000000e+00</td><td> -5.82</td><td>-2.19</td><td>2.716</td><td>0.02</td><td>385.627</td><td>1.0000000</td><td>-0.0692721</td><td>6.39344</td><td>-9999</td><td>0.768699</td><td>0.9583330</td></tr>\n",
       "\t<tr><th scope=row>4</th><td>2004-01-04</td><td>-4.209</td><td>76.00417</td><td>9.541324</td><td> -9.018790</td><td>96367</td><td>NA</td><td>0.000000e+00</td><td>-10.45</td><td>-1.48</td><td>1.089</td><td>0.02</td><td>402.001</td><td>0.7758400</td><td>-0.2037980</td><td>3.19733</td><td>-9999</td><td>0.764470</td><td>0.2083330</td></tr>\n",
       "\t<tr><th scope=row>5</th><td>2004-01-05</td><td>-1.192</td><td>23.92917</td><td>6.732000</td><td> -6.912368</td><td>96710</td><td>NA</td><td>0.000000e+00</td><td> -8.10</td><td> 0.53</td><td>0.675</td><td>0.02</td><td>437.166</td><td>0.8695803</td><td> 0.0421242</td><td>1.08588</td><td>-9999</td><td>0.753756</td><td>0.0416667</td></tr>\n",
       "\t<tr><th scope=row>6</th><td>2004-01-06</td><td>-1.580</td><td>23.83750</td><td>8.709064</td><td>-11.309390</td><td>96656</td><td>NA</td><td>0.000000e+00</td><td> -7.24</td><td> 0.35</td><td>0.701</td><td>0.02</td><td>507.266</td><td>0.9965465</td><td>-0.5205010</td><td>1.45106</td><td>-9999</td><td>1.321320</td><td>0.0208333</td></tr>\n",
       "</tbody>\n",
       "</table>\n"
      ],
      "text/latex": [
       "A data.frame: 6 x 19\n",
       "\\begin{tabular}{r|lllllllllllllllllll}\n",
       "  & date & temp & vpd & ppfd & netrad & patm & snow & rain & tmin & tmax & vwind & fapar & co2 & ccov & gpp & le & le\\_qc & nee & nee\\_qc\\\\\n",
       "  & <date> & <dbl> & <dbl> & <dbl> & <dbl> & <int> & <lgl> & <dbl> & <dbl> & <dbl> & <dbl> & <dbl> & <dbl> & <dbl> & <dbl> & <dbl> & <int> & <dbl> & <dbl>\\\\\n",
       "\\hline\n",
       "\t1 & 2004-01-01 & -0.227 &  6.51250 & 6.514874 &   1.339710 & 95825 & NA & 1.851852e-05 &  -1.23 & -0.01 & 1.520 & 0.02 & 384.872 & 1.0000000 &  0.2187610 & 7.44814 & -9999 & 0.760671 & 0.2500000\\\\\n",
       "\t2 & 2004-01-02 & -0.499 &  0.00000 & 7.121123 &  -4.381670 & 95455 & NA & 5.787037e-06 &  -2.06 & -0.05 & 2.022 & 0.02 & 377.952 & 0.9373863 &  0.1229460 & 6.97631 & -9999 & 0.787889 & 0.3333330\\\\\n",
       "\t3 & 2004-01-03 & -2.956 &  7.08750 & 7.133383 &  -4.583730 & 96232 & NA & 0.000000e+00 &  -5.82 & -2.19 & 2.716 & 0.02 & 385.627 & 1.0000000 & -0.0692721 & 6.39344 & -9999 & 0.768699 & 0.9583330\\\\\n",
       "\t4 & 2004-01-04 & -4.209 & 76.00417 & 9.541324 &  -9.018790 & 96367 & NA & 0.000000e+00 & -10.45 & -1.48 & 1.089 & 0.02 & 402.001 & 0.7758400 & -0.2037980 & 3.19733 & -9999 & 0.764470 & 0.2083330\\\\\n",
       "\t5 & 2004-01-05 & -1.192 & 23.92917 & 6.732000 &  -6.912368 & 96710 & NA & 0.000000e+00 &  -8.10 &  0.53 & 0.675 & 0.02 & 437.166 & 0.8695803 &  0.0421242 & 1.08588 & -9999 & 0.753756 & 0.0416667\\\\\n",
       "\t6 & 2004-01-06 & -1.580 & 23.83750 & 8.709064 & -11.309390 & 96656 & NA & 0.000000e+00 &  -7.24 &  0.35 & 0.701 & 0.02 & 507.266 & 0.9965465 & -0.5205010 & 1.45106 & -9999 & 1.321320 & 0.0208333\\\\\n",
       "\\end{tabular}\n"
      ],
      "text/markdown": [
       "\n",
       "A data.frame: 6 x 19\n",
       "\n",
       "| <!--/--> | date &lt;date&gt; | temp &lt;dbl&gt; | vpd &lt;dbl&gt; | ppfd &lt;dbl&gt; | netrad &lt;dbl&gt; | patm &lt;int&gt; | snow &lt;lgl&gt; | rain &lt;dbl&gt; | tmin &lt;dbl&gt; | tmax &lt;dbl&gt; | vwind &lt;dbl&gt; | fapar &lt;dbl&gt; | co2 &lt;dbl&gt; | ccov &lt;dbl&gt; | gpp &lt;dbl&gt; | le &lt;dbl&gt; | le_qc &lt;int&gt; | nee &lt;dbl&gt; | nee_qc &lt;dbl&gt; |\n",
       "|---|---|---|---|---|---|---|---|---|---|---|---|---|---|---|---|---|---|---|---|\n",
       "| 1 | 2004-01-01 | -0.227 |  6.51250 | 6.514874 |   1.339710 | 95825 | NA | 1.851852e-05 |  -1.23 | -0.01 | 1.520 | 0.02 | 384.872 | 1.0000000 |  0.2187610 | 7.44814 | -9999 | 0.760671 | 0.2500000 |\n",
       "| 2 | 2004-01-02 | -0.499 |  0.00000 | 7.121123 |  -4.381670 | 95455 | NA | 5.787037e-06 |  -2.06 | -0.05 | 2.022 | 0.02 | 377.952 | 0.9373863 |  0.1229460 | 6.97631 | -9999 | 0.787889 | 0.3333330 |\n",
       "| 3 | 2004-01-03 | -2.956 |  7.08750 | 7.133383 |  -4.583730 | 96232 | NA | 0.000000e+00 |  -5.82 | -2.19 | 2.716 | 0.02 | 385.627 | 1.0000000 | -0.0692721 | 6.39344 | -9999 | 0.768699 | 0.9583330 |\n",
       "| 4 | 2004-01-04 | -4.209 | 76.00417 | 9.541324 |  -9.018790 | 96367 | NA | 0.000000e+00 | -10.45 | -1.48 | 1.089 | 0.02 | 402.001 | 0.7758400 | -0.2037980 | 3.19733 | -9999 | 0.764470 | 0.2083330 |\n",
       "| 5 | 2004-01-05 | -1.192 | 23.92917 | 6.732000 |  -6.912368 | 96710 | NA | 0.000000e+00 |  -8.10 |  0.53 | 0.675 | 0.02 | 437.166 | 0.8695803 |  0.0421242 | 1.08588 | -9999 | 0.753756 | 0.0416667 |\n",
       "| 6 | 2004-01-06 | -1.580 | 23.83750 | 8.709064 | -11.309390 | 96656 | NA | 0.000000e+00 |  -7.24 |  0.35 | 0.701 | 0.02 | 507.266 | 0.9965465 | -0.5205010 | 1.45106 | -9999 | 1.321320 | 0.0208333 |\n",
       "\n"
      ],
      "text/plain": [
       "  date       temp   vpd      ppfd     netrad     patm  snow rain         tmin  \n",
       "1 2004-01-01 -0.227  6.51250 6.514874   1.339710 95825 NA   1.851852e-05  -1.23\n",
       "2 2004-01-02 -0.499  0.00000 7.121123  -4.381670 95455 NA   5.787037e-06  -2.06\n",
       "3 2004-01-03 -2.956  7.08750 7.133383  -4.583730 96232 NA   0.000000e+00  -5.82\n",
       "4 2004-01-04 -4.209 76.00417 9.541324  -9.018790 96367 NA   0.000000e+00 -10.45\n",
       "5 2004-01-05 -1.192 23.92917 6.732000  -6.912368 96710 NA   0.000000e+00  -8.10\n",
       "6 2004-01-06 -1.580 23.83750 8.709064 -11.309390 96656 NA   0.000000e+00  -7.24\n",
       "  tmax  vwind fapar co2     ccov      gpp        le      le_qc nee     \n",
       "1 -0.01 1.520 0.02  384.872 1.0000000  0.2187610 7.44814 -9999 0.760671\n",
       "2 -0.05 2.022 0.02  377.952 0.9373863  0.1229460 6.97631 -9999 0.787889\n",
       "3 -2.19 2.716 0.02  385.627 1.0000000 -0.0692721 6.39344 -9999 0.768699\n",
       "4 -1.48 1.089 0.02  402.001 0.7758400 -0.2037980 3.19733 -9999 0.764470\n",
       "5  0.53 0.675 0.02  437.166 0.8695803  0.0421242 1.08588 -9999 0.753756\n",
       "6  0.35 0.701 0.02  507.266 0.9965465 -0.5205010 1.45106 -9999 1.321320\n",
       "  nee_qc   \n",
       "1 0.2500000\n",
       "2 0.3333330\n",
       "3 0.9583330\n",
       "4 0.2083330\n",
       "5 0.0416667\n",
       "6 0.0208333"
      ]
     },
     "metadata": {},
     "output_type": "display_data"
    }
   ],
   "source": [
    "# read gpp, le, nee data\n",
    "gpp_data <- read.csv(\"../data/01_data_prep/08a_gpp.csv\")\n",
    "# print the head of the gpp_data\n",
    "head(gpp_data)\n",
    "\n",
    "# convert date column to Date type\n",
    "gpp_data$date <- as.Date(gpp_data$date)\n",
    "# update the existing columns in df with values from gpp_data\n",
    "df <- df %>% \n",
    "    left_join(gpp_data %>% select(date, gpp, le, le_qc, nee, nee_qc), by = \"date\", suffix = c(\"\", \"_new\")) %>% \n",
    "    mutate(\n",
    "        gpp = gpp_new,\n",
    "        le = le_new,\n",
    "        le_qc = le_qc_new,\n",
    "        nee = nee_new,\n",
    "        nee_qc = nee_qc_new\n",
    "    ) %>%\n",
    "    select(-gpp_new, -le_new, -le_qc_new, -nee_new, -nee_qc_new)\n",
    "# print the head of the df\n",
    "head(df)"
   ]
  },
  {
   "cell_type": "code",
   "execution_count": 14,
   "id": "f259b56b",
   "metadata": {
    "vscode": {
     "languageId": "r"
    }
   },
   "outputs": [
    {
     "data": {
      "text/html": [
       "<table class=\"dataframe\">\n",
       "<caption>A data.frame: 6 x 19</caption>\n",
       "<thead>\n",
       "\t<tr><th></th><th scope=col>date</th><th scope=col>temp</th><th scope=col>vpd</th><th scope=col>ppfd</th><th scope=col>netrad</th><th scope=col>patm</th><th scope=col>snow</th><th scope=col>rain</th><th scope=col>tmin</th><th scope=col>tmax</th><th scope=col>vwind</th><th scope=col>fapar</th><th scope=col>co2</th><th scope=col>ccov</th><th scope=col>gpp</th><th scope=col>le</th><th scope=col>le_qc</th><th scope=col>nee</th><th scope=col>nee_qc</th></tr>\n",
       "\t<tr><th></th><th scope=col>&lt;date&gt;</th><th scope=col>&lt;dbl&gt;</th><th scope=col>&lt;dbl&gt;</th><th scope=col>&lt;dbl&gt;</th><th scope=col>&lt;dbl&gt;</th><th scope=col>&lt;int&gt;</th><th scope=col>&lt;dbl&gt;</th><th scope=col>&lt;dbl&gt;</th><th scope=col>&lt;dbl&gt;</th><th scope=col>&lt;dbl&gt;</th><th scope=col>&lt;dbl&gt;</th><th scope=col>&lt;dbl&gt;</th><th scope=col>&lt;dbl&gt;</th><th scope=col>&lt;dbl&gt;</th><th scope=col>&lt;dbl&gt;</th><th scope=col>&lt;dbl&gt;</th><th scope=col>&lt;int&gt;</th><th scope=col>&lt;dbl&gt;</th><th scope=col>&lt;dbl&gt;</th></tr>\n",
       "</thead>\n",
       "<tbody>\n",
       "\t<tr><th scope=row>1</th><td>2004-01-01</td><td>-0.227</td><td> 6.51250</td><td>6.514874</td><td>  1.339710</td><td>95825</td><td>0</td><td>1.851852e-05</td><td> -1.23</td><td>-0.01</td><td>1.520</td><td>0.02</td><td>384.872</td><td>1.0000000</td><td> 0.2187610</td><td>7.44814</td><td>-9999</td><td>0.760671</td><td>0.2500000</td></tr>\n",
       "\t<tr><th scope=row>2</th><td>2004-01-02</td><td>-0.499</td><td> 0.00000</td><td>7.121123</td><td> -4.381670</td><td>95455</td><td>0</td><td>5.787037e-06</td><td> -2.06</td><td>-0.05</td><td>2.022</td><td>0.02</td><td>377.952</td><td>0.9373863</td><td> 0.1229460</td><td>6.97631</td><td>-9999</td><td>0.787889</td><td>0.3333330</td></tr>\n",
       "\t<tr><th scope=row>3</th><td>2004-01-03</td><td>-2.956</td><td> 7.08750</td><td>7.133383</td><td> -4.583730</td><td>96232</td><td>0</td><td>0.000000e+00</td><td> -5.82</td><td>-2.19</td><td>2.716</td><td>0.02</td><td>385.627</td><td>1.0000000</td><td>-0.0692721</td><td>6.39344</td><td>-9999</td><td>0.768699</td><td>0.9583330</td></tr>\n",
       "\t<tr><th scope=row>4</th><td>2004-01-04</td><td>-4.209</td><td>76.00417</td><td>9.541324</td><td> -9.018790</td><td>96367</td><td>0</td><td>0.000000e+00</td><td>-10.45</td><td>-1.48</td><td>1.089</td><td>0.02</td><td>402.001</td><td>0.7758400</td><td>-0.2037980</td><td>3.19733</td><td>-9999</td><td>0.764470</td><td>0.2083330</td></tr>\n",
       "\t<tr><th scope=row>5</th><td>2004-01-05</td><td>-1.192</td><td>23.92917</td><td>6.732000</td><td> -6.912368</td><td>96710</td><td>0</td><td>0.000000e+00</td><td> -8.10</td><td> 0.53</td><td>0.675</td><td>0.02</td><td>437.166</td><td>0.8695803</td><td> 0.0421242</td><td>1.08588</td><td>-9999</td><td>0.753756</td><td>0.0416667</td></tr>\n",
       "\t<tr><th scope=row>6</th><td>2004-01-06</td><td>-1.580</td><td>23.83750</td><td>8.709064</td><td>-11.309390</td><td>96656</td><td>0</td><td>0.000000e+00</td><td> -7.24</td><td> 0.35</td><td>0.701</td><td>0.02</td><td>507.266</td><td>0.9965465</td><td>-0.5205010</td><td>1.45106</td><td>-9999</td><td>1.321320</td><td>0.0208333</td></tr>\n",
       "</tbody>\n",
       "</table>\n"
      ],
      "text/latex": [
       "A data.frame: 6 x 19\n",
       "\\begin{tabular}{r|lllllllllllllllllll}\n",
       "  & date & temp & vpd & ppfd & netrad & patm & snow & rain & tmin & tmax & vwind & fapar & co2 & ccov & gpp & le & le\\_qc & nee & nee\\_qc\\\\\n",
       "  & <date> & <dbl> & <dbl> & <dbl> & <dbl> & <int> & <dbl> & <dbl> & <dbl> & <dbl> & <dbl> & <dbl> & <dbl> & <dbl> & <dbl> & <dbl> & <int> & <dbl> & <dbl>\\\\\n",
       "\\hline\n",
       "\t1 & 2004-01-01 & -0.227 &  6.51250 & 6.514874 &   1.339710 & 95825 & 0 & 1.851852e-05 &  -1.23 & -0.01 & 1.520 & 0.02 & 384.872 & 1.0000000 &  0.2187610 & 7.44814 & -9999 & 0.760671 & 0.2500000\\\\\n",
       "\t2 & 2004-01-02 & -0.499 &  0.00000 & 7.121123 &  -4.381670 & 95455 & 0 & 5.787037e-06 &  -2.06 & -0.05 & 2.022 & 0.02 & 377.952 & 0.9373863 &  0.1229460 & 6.97631 & -9999 & 0.787889 & 0.3333330\\\\\n",
       "\t3 & 2004-01-03 & -2.956 &  7.08750 & 7.133383 &  -4.583730 & 96232 & 0 & 0.000000e+00 &  -5.82 & -2.19 & 2.716 & 0.02 & 385.627 & 1.0000000 & -0.0692721 & 6.39344 & -9999 & 0.768699 & 0.9583330\\\\\n",
       "\t4 & 2004-01-04 & -4.209 & 76.00417 & 9.541324 &  -9.018790 & 96367 & 0 & 0.000000e+00 & -10.45 & -1.48 & 1.089 & 0.02 & 402.001 & 0.7758400 & -0.2037980 & 3.19733 & -9999 & 0.764470 & 0.2083330\\\\\n",
       "\t5 & 2004-01-05 & -1.192 & 23.92917 & 6.732000 &  -6.912368 & 96710 & 0 & 0.000000e+00 &  -8.10 &  0.53 & 0.675 & 0.02 & 437.166 & 0.8695803 &  0.0421242 & 1.08588 & -9999 & 0.753756 & 0.0416667\\\\\n",
       "\t6 & 2004-01-06 & -1.580 & 23.83750 & 8.709064 & -11.309390 & 96656 & 0 & 0.000000e+00 &  -7.24 &  0.35 & 0.701 & 0.02 & 507.266 & 0.9965465 & -0.5205010 & 1.45106 & -9999 & 1.321320 & 0.0208333\\\\\n",
       "\\end{tabular}\n"
      ],
      "text/markdown": [
       "\n",
       "A data.frame: 6 x 19\n",
       "\n",
       "| <!--/--> | date &lt;date&gt; | temp &lt;dbl&gt; | vpd &lt;dbl&gt; | ppfd &lt;dbl&gt; | netrad &lt;dbl&gt; | patm &lt;int&gt; | snow &lt;dbl&gt; | rain &lt;dbl&gt; | tmin &lt;dbl&gt; | tmax &lt;dbl&gt; | vwind &lt;dbl&gt; | fapar &lt;dbl&gt; | co2 &lt;dbl&gt; | ccov &lt;dbl&gt; | gpp &lt;dbl&gt; | le &lt;dbl&gt; | le_qc &lt;int&gt; | nee &lt;dbl&gt; | nee_qc &lt;dbl&gt; |\n",
       "|---|---|---|---|---|---|---|---|---|---|---|---|---|---|---|---|---|---|---|---|\n",
       "| 1 | 2004-01-01 | -0.227 |  6.51250 | 6.514874 |   1.339710 | 95825 | 0 | 1.851852e-05 |  -1.23 | -0.01 | 1.520 | 0.02 | 384.872 | 1.0000000 |  0.2187610 | 7.44814 | -9999 | 0.760671 | 0.2500000 |\n",
       "| 2 | 2004-01-02 | -0.499 |  0.00000 | 7.121123 |  -4.381670 | 95455 | 0 | 5.787037e-06 |  -2.06 | -0.05 | 2.022 | 0.02 | 377.952 | 0.9373863 |  0.1229460 | 6.97631 | -9999 | 0.787889 | 0.3333330 |\n",
       "| 3 | 2004-01-03 | -2.956 |  7.08750 | 7.133383 |  -4.583730 | 96232 | 0 | 0.000000e+00 |  -5.82 | -2.19 | 2.716 | 0.02 | 385.627 | 1.0000000 | -0.0692721 | 6.39344 | -9999 | 0.768699 | 0.9583330 |\n",
       "| 4 | 2004-01-04 | -4.209 | 76.00417 | 9.541324 |  -9.018790 | 96367 | 0 | 0.000000e+00 | -10.45 | -1.48 | 1.089 | 0.02 | 402.001 | 0.7758400 | -0.2037980 | 3.19733 | -9999 | 0.764470 | 0.2083330 |\n",
       "| 5 | 2004-01-05 | -1.192 | 23.92917 | 6.732000 |  -6.912368 | 96710 | 0 | 0.000000e+00 |  -8.10 |  0.53 | 0.675 | 0.02 | 437.166 | 0.8695803 |  0.0421242 | 1.08588 | -9999 | 0.753756 | 0.0416667 |\n",
       "| 6 | 2004-01-06 | -1.580 | 23.83750 | 8.709064 | -11.309390 | 96656 | 0 | 0.000000e+00 |  -7.24 |  0.35 | 0.701 | 0.02 | 507.266 | 0.9965465 | -0.5205010 | 1.45106 | -9999 | 1.321320 | 0.0208333 |\n",
       "\n"
      ],
      "text/plain": [
       "  date       temp   vpd      ppfd     netrad     patm  snow rain         tmin  \n",
       "1 2004-01-01 -0.227  6.51250 6.514874   1.339710 95825 0    1.851852e-05  -1.23\n",
       "2 2004-01-02 -0.499  0.00000 7.121123  -4.381670 95455 0    5.787037e-06  -2.06\n",
       "3 2004-01-03 -2.956  7.08750 7.133383  -4.583730 96232 0    0.000000e+00  -5.82\n",
       "4 2004-01-04 -4.209 76.00417 9.541324  -9.018790 96367 0    0.000000e+00 -10.45\n",
       "5 2004-01-05 -1.192 23.92917 6.732000  -6.912368 96710 0    0.000000e+00  -8.10\n",
       "6 2004-01-06 -1.580 23.83750 8.709064 -11.309390 96656 0    0.000000e+00  -7.24\n",
       "  tmax  vwind fapar co2     ccov      gpp        le      le_qc nee     \n",
       "1 -0.01 1.520 0.02  384.872 1.0000000  0.2187610 7.44814 -9999 0.760671\n",
       "2 -0.05 2.022 0.02  377.952 0.9373863  0.1229460 6.97631 -9999 0.787889\n",
       "3 -2.19 2.716 0.02  385.627 1.0000000 -0.0692721 6.39344 -9999 0.768699\n",
       "4 -1.48 1.089 0.02  402.001 0.7758400 -0.2037980 3.19733 -9999 0.764470\n",
       "5  0.53 0.675 0.02  437.166 0.8695803  0.0421242 1.08588 -9999 0.753756\n",
       "6  0.35 0.701 0.02  507.266 0.9965465 -0.5205010 1.45106 -9999 1.321320\n",
       "  nee_qc   \n",
       "1 0.2500000\n",
       "2 0.3333330\n",
       "3 0.9583330\n",
       "4 0.2083330\n",
       "5 0.0416667\n",
       "6 0.0208333"
      ]
     },
     "metadata": {},
     "output_type": "display_data"
    }
   ],
   "source": [
    "# make all the values in snow column to 0\n",
    "df$snow <- 0\n",
    "# print the head of the df\n",
    "head(df)"
   ]
  },
  {
   "cell_type": "markdown",
   "id": "7ff3aa18",
   "metadata": {},
   "source": [
    "## Saving final file"
   ]
  },
  {
   "cell_type": "code",
   "execution_count": 15,
   "id": "1f1fb7a0",
   "metadata": {
    "vscode": {
     "languageId": "r"
    }
   },
   "outputs": [
    {
     "name": "stdout",
     "output_type": "stream",
     "text": [
      "  date   temp    vpd   ppfd netrad   patm   snow   rain   tmin   tmax  vwind \n",
      "     0      0      0      0      0      0      0      0      0      0      0 \n",
      " fapar    co2   ccov    gpp     le  le_qc    nee nee_qc \n",
      "     0      0      0      0      0      0      0      0 \n"
     ]
    }
   ],
   "source": [
    "# find missing values in the dataframe\n",
    "missing_values <- colSums(is.na(df))\n",
    "# print the missing values\n",
    "print(missing_values)\n",
    "# save forcing data as csv\n",
    "write.csv(df, \"../data/01_data_prep/09_forcing_data_2004-2023.csv\", row.names = FALSE)"
   ]
  },
  {
   "cell_type": "markdown",
   "id": "b8dd240f",
   "metadata": {},
   "source": [
    "## Prepare forcing data for CN model"
   ]
  },
  {
   "cell_type": "code",
   "execution_count": 16,
   "id": "a27ed45b",
   "metadata": {
    "vscode": {
     "languageId": "r"
    }
   },
   "outputs": [
    {
     "name": "stderr",
     "output_type": "stream",
     "text": [
      "\u001b[1mRows: \u001b[22m\u001b[34m7305\u001b[39m \u001b[1mColumns: \u001b[22m\u001b[34m19\u001b[39m\n",
      "\u001b[36m--\u001b[39m \u001b[1mColumn specification\u001b[22m \u001b[36m--------------------------------------------------------\u001b[39m\n",
      "\u001b[1mDelimiter:\u001b[22m \",\"\n",
      "\u001b[32mdbl\u001b[39m  (18): temp, vpd, ppfd, netrad, patm, snow, rain, tmin, tmax, vwind, fap...\n",
      "\u001b[34mdate\u001b[39m  (1): date\n",
      "\n",
      "\u001b[36mi\u001b[39m Use `spec()` to retrieve the full column specification for this data.\n",
      "\u001b[36mi\u001b[39m Specify the column types or set `show_col_types = FALSE` to quiet this message.\n"
     ]
    },
    {
     "data": {
      "text/html": [
       "7305"
      ],
      "text/latex": [
       "7305"
      ],
      "text/markdown": [
       "7305"
      ],
      "text/plain": [
       "[1] 7305"
      ]
     },
     "metadata": {},
     "output_type": "display_data"
    },
    {
     "data": {
      "text/html": [
       "7300"
      ],
      "text/latex": [
       "7300"
      ],
      "text/markdown": [
       "7300"
      ],
      "text/plain": [
       "[1] 7300"
      ]
     },
     "metadata": {},
     "output_type": "display_data"
    }
   ],
   "source": [
    "# Load packages without warnings and messages\n",
    "suppressPackageStartupMessages({\n",
    "  library(dplyr)\n",
    "  library(tidyr)\n",
    "  library(ggplot2)\n",
    "  library(patchwork)\n",
    "  library(cowplot)\n",
    "  library(visdat)\n",
    "  library(here)\n",
    "  library(lubridate)\n",
    "  library(readr)\n",
    "  library(naniar)\n",
    "  library(purrr)\n",
    "  library(rsofun)\n",
    "})\n",
    "# read rds forcing data file previously uploaded for cn model as drivers data\n",
    "drivers <- readRDS(\"../data/FLX_CH-Oe2_FLUXNET2015_FULLSET_2004-2023_1-3/rsofun_driver_data_v3.4.2.rds\") %>% \n",
    "  dplyr::filter(sitename == \"CH-Oe2\") \n",
    "\n",
    "# replace forcing data forcing_df <- drivers$forcing[[1]] with a new csv file\n",
    "\n",
    "# read csv file with forcing data\n",
    "forcing_df <- read_csv(\"../data/01_data_prep/09_forcing_data_2004-2023.csv\") \n",
    "\n",
    "# remove drivers$forcing[[1]] from drivers_data\n",
    "drivers <- drivers %>% \n",
    "  dplyr::select(-forcing)\n",
    "\n",
    "# add forcing_df to drivers_data as forcing\n",
    "drivers <- drivers %>% \n",
    "  dplyr::mutate(forcing = list(forcing_df))\n",
    "\n",
    "# Add management data \n",
    "# add management data into drivers$forcing\n",
    "# Management data\n",
    "#N input\n",
    "n_input <- read.csv(\"../data/mangement_data/04_23choe2_ninput.csv\")\n",
    "\n",
    "#fharv \n",
    "fharv <- read.csv(\"../data/mangement_data/04_23ch0e2_fharv.csv\")\n",
    "# convert to fraction from percentage to be consistent with the rest of the data\n",
    "fharv$fharv <- fharv$fharv / 100\n",
    "\n",
    "#seed \n",
    "seed <- read.csv(\"../data/mangement_data/04_23ch0e2_seed.csv\")\n",
    "\n",
    "#yieldcn  \n",
    "yieldcn <- read.csv(\"../data/mangement_data/04_23ch0e2_yieldcn.csv\")\n",
    "\n",
    "## N deposition------------\n",
    "# Reactive N input needs to be in gN per day\n",
    "# added to forcing time series: specify quantity of N added on which day\n",
    "\n",
    "# Example N input given a constant rate each day\n",
    "n_input_add <- function(data, n_input) {\n",
    "  # Ensure date columns are in Date format\n",
    "  n_input <- n_input %>% mutate(date = as.Date(date))\n",
    "  \n",
    "  # Remove duplicates from n_input based on the date column\n",
    "  n_input <- n_input %>% distinct(date, .keep_all = TRUE)\n",
    "  \n",
    "  data <- data %>%\n",
    "    mutate(forcing = purrr::map(forcing, ~ {\n",
    "      # Merge forcing with n_input on date\n",
    "      merged <- left_join(., n_input, by = \"date\")\n",
    "      \n",
    "      # Fill NA values in dno3 and dnh4 with the default dnh4 value from the n_input DataFrame\n",
    "      merged <- merged %>%\n",
    "        mutate(\n",
    "          dno3 = ifelse(is.na(dno3), 0.002003263, dno3),\n",
    "          dnh4 = ifelse(is.na(dnh4), 0.002017981, dnh4)\n",
    "        )\n",
    "      \n",
    "      # Ensure the merged DataFrame does not have more rows than the original forcing DataFrame\n",
    "      merged <- merged %>% slice(1:nrow(.))\n",
    "      \n",
    "      return(merged)\n",
    "    }))\n",
    "  \n",
    "  return(data)\n",
    "}\n",
    "# Add N input to forcing data this will join the drivers data with the N input data\n",
    "drivers <- n_input_add(drivers, n_input)\n",
    "\n",
    "\n",
    "## Harvesting-----------\n",
    "# The fraction of biomass harvested per day needs to be specified in the forcing time series\n",
    "# cseed and nseed new seeds added after harvesting\n",
    "# Example driver update assumes harvesting is 0 and new seeds planted after harvest\n",
    "\n",
    "fharv_seed_add <- function(data, fharv, seed) {\n",
    "  # Ensure date columns are in Date format\n",
    "  fharv <- fharv %>% mutate(date = as.Date(date)) %>% distinct(date, .keep_all = TRUE)\n",
    "  seed <- seed %>% mutate(date = as.Date(date)) %>% distinct(date, .keep_all = TRUE)\n",
    "  \n",
    "  data <- data %>%\n",
    "    mutate(forcing = purrr::map(forcing, ~ {\n",
    "      # Merge forcing with fharv and seed on date\n",
    "      merged <- left_join(., fharv, by = \"date\") %>%\n",
    "        left_join(seed, by = \"date\") %>%\n",
    "        mutate(\n",
    "          fharv = coalesce(fharv, 0),    # Fill NA values in fharv\n",
    "          cseed = coalesce(cseed, 0),    # Fill NA values in cseed\n",
    "          nseed = coalesce(nseed, 0)      # Fill NA values in nseed\n",
    "        ) %>%\n",
    "        slice(1:nrow(.))  # Ensure merged DataFrame does not have more rows than original\n",
    "      \n",
    "      return(merged)\n",
    "    }))\n",
    "  \n",
    "  return(data)\n",
    "}\n",
    "# Add harvesting and seed data to forcing data \n",
    "drivers <- fharv_seed_add(drivers, fharv, seed)\n",
    "\n",
    "## Simulation parameters------------\n",
    "# The spinup of cn_model must be long enough to equilibrate fluxes\n",
    "\n",
    "# Function to modify specific columns in each dataframe\n",
    "modify_params <- function(df_list, spinupyears_val, recycle_val) {\n",
    "  # Map over each dataframe in the list\n",
    "  df_list <- map(df_list, ~ {\n",
    "    # Modify specific columns\n",
    "    mutate(.x,\n",
    "           spinupyears = spinupyears_val,\n",
    "           recycle = recycle_val)\n",
    "  })\n",
    "  \n",
    "  return(df_list)\n",
    "}\n",
    "\n",
    "# FLUXNET data for site CH-Oe2 (Oensingen, Switzerland)\n",
    "drivers$params_siml <- modify_params(drivers$params_siml, 10, 2)\n",
    "drivers$params_siml[[1]]$c_only <- TRUE\n",
    "\n",
    "nrow(drivers$forcing[[1]])\n",
    "# remove rows from drivers$forcing[[1]], when it is leap year such as 2004-02-29\n",
    "drivers$forcing[[1]] <- drivers$forcing[[1]][!grepl(\"-02-29\", drivers$forcing[[1]]$date), ]\n",
    "# show number of rows in drivers$forcing[[1]]\n",
    "nrow(drivers$forcing[[1]])\n",
    "\n",
    "# save the updated drivers data\n",
    "saveRDS(drivers, \"../data/CH-Oe2_2004-2023_final_ready_for_CNmodel_run_01.rds\")"
   ]
  },
  {
   "cell_type": "markdown",
   "id": "2005ca23",
   "metadata": {},
   "source": [
    "# Error handling for leap year data\n",
    "- The model was giving errors when it was run with leap year data, so we are removing the leap year data from the forcing data.\n",
    "- This is done by removing the rows where date contains \"-02-29\"."
   ]
  },
  {
   "cell_type": "code",
   "execution_count": 17,
   "id": "630ddd5e",
   "metadata": {
    "vscode": {
     "languageId": "r"
    }
   },
   "outputs": [],
   "source": [
    "# create validation data\n",
    "# Take site name and forcing (Date and gpp) from drivers and store as cnmodel_validation rds data type\n",
    "# Extract the actual forcing tibble\n",
    "forcing_df <- drivers$forcing[[1]]\n",
    "\n",
    "# Extract only 'date' and 'gpp'\n",
    "forcing_subset <- forcing_df[, c(\"date\", \"gpp\", \"le\", \"le_qc\", \"nee\", \"nee_qc\")]\n",
    "\n",
    "# Wrap it in a data frame with sitename and data\n",
    "cnmodel_validation <- data.frame(\n",
    "  sitename = drivers$sitename,\n",
    "  stringsAsFactors = FALSE\n",
    ")\n",
    "\n",
    "# Add the data column as a list-column\n",
    "cnmodel_validation$data <- list(forcing_subset)\n",
    "\n",
    "# Save the final object\n",
    "saveRDS(cnmodel_validation, file = \"../data/cnmodel_validation.rds\")"
   ]
  },
  {
   "cell_type": "code",
   "execution_count": 18,
   "id": "a4240814",
   "metadata": {
    "vscode": {
     "languageId": "r"
    }
   },
   "outputs": [
    {
     "data": {
      "text/html": [
       "<table class=\"dataframe\">\n",
       "<caption>A tibble: 6 x 24</caption>\n",
       "<thead>\n",
       "\t<tr><th scope=col>date</th><th scope=col>temp</th><th scope=col>vpd</th><th scope=col>ppfd</th><th scope=col>netrad</th><th scope=col>patm</th><th scope=col>snow</th><th scope=col>rain</th><th scope=col>tmin</th><th scope=col>tmax</th><th scope=col>...</th><th scope=col>gpp</th><th scope=col>le</th><th scope=col>le_qc</th><th scope=col>nee</th><th scope=col>nee_qc</th><th scope=col>dno3</th><th scope=col>dnh4</th><th scope=col>fharv</th><th scope=col>cseed</th><th scope=col>nseed</th></tr>\n",
       "\t<tr><th scope=col>&lt;date&gt;</th><th scope=col>&lt;dbl&gt;</th><th scope=col>&lt;dbl&gt;</th><th scope=col>&lt;dbl&gt;</th><th scope=col>&lt;dbl&gt;</th><th scope=col>&lt;dbl&gt;</th><th scope=col>&lt;dbl&gt;</th><th scope=col>&lt;dbl&gt;</th><th scope=col>&lt;dbl&gt;</th><th scope=col>&lt;dbl&gt;</th><th scope=col>...</th><th scope=col>&lt;dbl&gt;</th><th scope=col>&lt;dbl&gt;</th><th scope=col>&lt;dbl&gt;</th><th scope=col>&lt;dbl&gt;</th><th scope=col>&lt;dbl&gt;</th><th scope=col>&lt;dbl&gt;</th><th scope=col>&lt;dbl&gt;</th><th scope=col>&lt;dbl&gt;</th><th scope=col>&lt;dbl&gt;</th><th scope=col>&lt;dbl&gt;</th></tr>\n",
       "</thead>\n",
       "<tbody>\n",
       "\t<tr><td>2004-01-01</td><td>-0.227</td><td> 6.51250</td><td>6.514874</td><td>  1.339710</td><td>95825</td><td>0</td><td>1.851852e-05</td><td> -1.23</td><td>-0.01</td><td>...</td><td> 0.2187610</td><td>7.44814</td><td>-9999</td><td>0.760671</td><td>0.2500000</td><td>0</td><td>3.761907e-07</td><td>0</td><td>0</td><td>0</td></tr>\n",
       "\t<tr><td>2004-01-02</td><td>-0.499</td><td> 0.00000</td><td>7.121123</td><td> -4.381670</td><td>95455</td><td>0</td><td>5.787037e-06</td><td> -2.06</td><td>-0.05</td><td>...</td><td> 0.1229460</td><td>6.97631</td><td>-9999</td><td>0.787889</td><td>0.3333330</td><td>0</td><td>3.761907e-07</td><td>0</td><td>0</td><td>0</td></tr>\n",
       "\t<tr><td>2004-01-03</td><td>-2.956</td><td> 7.08750</td><td>7.133383</td><td> -4.583730</td><td>96232</td><td>0</td><td>0.000000e+00</td><td> -5.82</td><td>-2.19</td><td>...</td><td>-0.0692721</td><td>6.39344</td><td>-9999</td><td>0.768699</td><td>0.9583330</td><td>0</td><td>3.761907e-07</td><td>0</td><td>0</td><td>0</td></tr>\n",
       "\t<tr><td>2004-01-04</td><td>-4.209</td><td>76.00417</td><td>9.541324</td><td> -9.018790</td><td>96367</td><td>0</td><td>0.000000e+00</td><td>-10.45</td><td>-1.48</td><td>...</td><td>-0.2037980</td><td>3.19733</td><td>-9999</td><td>0.764470</td><td>0.2083330</td><td>0</td><td>3.761907e-07</td><td>0</td><td>0</td><td>0</td></tr>\n",
       "\t<tr><td>2004-01-05</td><td>-1.192</td><td>23.92917</td><td>6.732000</td><td> -6.912368</td><td>96710</td><td>0</td><td>0.000000e+00</td><td> -8.10</td><td> 0.53</td><td>...</td><td> 0.0421242</td><td>1.08588</td><td>-9999</td><td>0.753756</td><td>0.0416667</td><td>0</td><td>3.761907e-07</td><td>0</td><td>0</td><td>0</td></tr>\n",
       "\t<tr><td>2004-01-06</td><td>-1.580</td><td>23.83750</td><td>8.709064</td><td>-11.309390</td><td>96656</td><td>0</td><td>0.000000e+00</td><td> -7.24</td><td> 0.35</td><td>...</td><td>-0.5205010</td><td>1.45106</td><td>-9999</td><td>1.321320</td><td>0.0208333</td><td>0</td><td>3.761907e-07</td><td>0</td><td>0</td><td>0</td></tr>\n",
       "</tbody>\n",
       "</table>\n"
      ],
      "text/latex": [
       "A tibble: 6 x 24\n",
       "\\begin{tabular}{lllllllllllllllllllll}\n",
       " date & temp & vpd & ppfd & netrad & patm & snow & rain & tmin & tmax & ... & gpp & le & le\\_qc & nee & nee\\_qc & dno3 & dnh4 & fharv & cseed & nseed\\\\\n",
       " <date> & <dbl> & <dbl> & <dbl> & <dbl> & <dbl> & <dbl> & <dbl> & <dbl> & <dbl> & ... & <dbl> & <dbl> & <dbl> & <dbl> & <dbl> & <dbl> & <dbl> & <dbl> & <dbl> & <dbl>\\\\\n",
       "\\hline\n",
       "\t 2004-01-01 & -0.227 &  6.51250 & 6.514874 &   1.339710 & 95825 & 0 & 1.851852e-05 &  -1.23 & -0.01 & ... &  0.2187610 & 7.44814 & -9999 & 0.760671 & 0.2500000 & 0 & 3.761907e-07 & 0 & 0 & 0\\\\\n",
       "\t 2004-01-02 & -0.499 &  0.00000 & 7.121123 &  -4.381670 & 95455 & 0 & 5.787037e-06 &  -2.06 & -0.05 & ... &  0.1229460 & 6.97631 & -9999 & 0.787889 & 0.3333330 & 0 & 3.761907e-07 & 0 & 0 & 0\\\\\n",
       "\t 2004-01-03 & -2.956 &  7.08750 & 7.133383 &  -4.583730 & 96232 & 0 & 0.000000e+00 &  -5.82 & -2.19 & ... & -0.0692721 & 6.39344 & -9999 & 0.768699 & 0.9583330 & 0 & 3.761907e-07 & 0 & 0 & 0\\\\\n",
       "\t 2004-01-04 & -4.209 & 76.00417 & 9.541324 &  -9.018790 & 96367 & 0 & 0.000000e+00 & -10.45 & -1.48 & ... & -0.2037980 & 3.19733 & -9999 & 0.764470 & 0.2083330 & 0 & 3.761907e-07 & 0 & 0 & 0\\\\\n",
       "\t 2004-01-05 & -1.192 & 23.92917 & 6.732000 &  -6.912368 & 96710 & 0 & 0.000000e+00 &  -8.10 &  0.53 & ... &  0.0421242 & 1.08588 & -9999 & 0.753756 & 0.0416667 & 0 & 3.761907e-07 & 0 & 0 & 0\\\\\n",
       "\t 2004-01-06 & -1.580 & 23.83750 & 8.709064 & -11.309390 & 96656 & 0 & 0.000000e+00 &  -7.24 &  0.35 & ... & -0.5205010 & 1.45106 & -9999 & 1.321320 & 0.0208333 & 0 & 3.761907e-07 & 0 & 0 & 0\\\\\n",
       "\\end{tabular}\n"
      ],
      "text/markdown": [
       "\n",
       "A tibble: 6 x 24\n",
       "\n",
       "| date &lt;date&gt; | temp &lt;dbl&gt; | vpd &lt;dbl&gt; | ppfd &lt;dbl&gt; | netrad &lt;dbl&gt; | patm &lt;dbl&gt; | snow &lt;dbl&gt; | rain &lt;dbl&gt; | tmin &lt;dbl&gt; | tmax &lt;dbl&gt; | ... ... | gpp &lt;dbl&gt; | le &lt;dbl&gt; | le_qc &lt;dbl&gt; | nee &lt;dbl&gt; | nee_qc &lt;dbl&gt; | dno3 &lt;dbl&gt; | dnh4 &lt;dbl&gt; | fharv &lt;dbl&gt; | cseed &lt;dbl&gt; | nseed &lt;dbl&gt; |\n",
       "|---|---|---|---|---|---|---|---|---|---|---|---|---|---|---|---|---|---|---|---|---|\n",
       "| 2004-01-01 | -0.227 |  6.51250 | 6.514874 |   1.339710 | 95825 | 0 | 1.851852e-05 |  -1.23 | -0.01 | ... |  0.2187610 | 7.44814 | -9999 | 0.760671 | 0.2500000 | 0 | 3.761907e-07 | 0 | 0 | 0 |\n",
       "| 2004-01-02 | -0.499 |  0.00000 | 7.121123 |  -4.381670 | 95455 | 0 | 5.787037e-06 |  -2.06 | -0.05 | ... |  0.1229460 | 6.97631 | -9999 | 0.787889 | 0.3333330 | 0 | 3.761907e-07 | 0 | 0 | 0 |\n",
       "| 2004-01-03 | -2.956 |  7.08750 | 7.133383 |  -4.583730 | 96232 | 0 | 0.000000e+00 |  -5.82 | -2.19 | ... | -0.0692721 | 6.39344 | -9999 | 0.768699 | 0.9583330 | 0 | 3.761907e-07 | 0 | 0 | 0 |\n",
       "| 2004-01-04 | -4.209 | 76.00417 | 9.541324 |  -9.018790 | 96367 | 0 | 0.000000e+00 | -10.45 | -1.48 | ... | -0.2037980 | 3.19733 | -9999 | 0.764470 | 0.2083330 | 0 | 3.761907e-07 | 0 | 0 | 0 |\n",
       "| 2004-01-05 | -1.192 | 23.92917 | 6.732000 |  -6.912368 | 96710 | 0 | 0.000000e+00 |  -8.10 |  0.53 | ... |  0.0421242 | 1.08588 | -9999 | 0.753756 | 0.0416667 | 0 | 3.761907e-07 | 0 | 0 | 0 |\n",
       "| 2004-01-06 | -1.580 | 23.83750 | 8.709064 | -11.309390 | 96656 | 0 | 0.000000e+00 |  -7.24 |  0.35 | ... | -0.5205010 | 1.45106 | -9999 | 1.321320 | 0.0208333 | 0 | 3.761907e-07 | 0 | 0 | 0 |\n",
       "\n"
      ],
      "text/plain": [
       "  date       temp   vpd      ppfd     netrad     patm  snow rain         tmin  \n",
       "1 2004-01-01 -0.227  6.51250 6.514874   1.339710 95825 0    1.851852e-05  -1.23\n",
       "2 2004-01-02 -0.499  0.00000 7.121123  -4.381670 95455 0    5.787037e-06  -2.06\n",
       "3 2004-01-03 -2.956  7.08750 7.133383  -4.583730 96232 0    0.000000e+00  -5.82\n",
       "4 2004-01-04 -4.209 76.00417 9.541324  -9.018790 96367 0    0.000000e+00 -10.45\n",
       "5 2004-01-05 -1.192 23.92917 6.732000  -6.912368 96710 0    0.000000e+00  -8.10\n",
       "6 2004-01-06 -1.580 23.83750 8.709064 -11.309390 96656 0    0.000000e+00  -7.24\n",
       "  tmax  ... gpp        le      le_qc nee      nee_qc    dno3 dnh4         fharv\n",
       "1 -0.01 ...  0.2187610 7.44814 -9999 0.760671 0.2500000 0    3.761907e-07 0    \n",
       "2 -0.05 ...  0.1229460 6.97631 -9999 0.787889 0.3333330 0    3.761907e-07 0    \n",
       "3 -2.19 ... -0.0692721 6.39344 -9999 0.768699 0.9583330 0    3.761907e-07 0    \n",
       "4 -1.48 ... -0.2037980 3.19733 -9999 0.764470 0.2083330 0    3.761907e-07 0    \n",
       "5  0.53 ...  0.0421242 1.08588 -9999 0.753756 0.0416667 0    3.761907e-07 0    \n",
       "6  0.35 ... -0.5205010 1.45106 -9999 1.321320 0.0208333 0    3.761907e-07 0    \n",
       "  cseed nseed\n",
       "1 0     0    \n",
       "2 0     0    \n",
       "3 0     0    \n",
       "4 0     0    \n",
       "5 0     0    \n",
       "6 0     0    "
      ]
     },
     "metadata": {},
     "output_type": "display_data"
    },
    {
     "data": {
      "text/html": [
       "<table class=\"dataframe\">\n",
       "<caption>A tibble: 6 x 20</caption>\n",
       "<thead>\n",
       "\t<tr><th scope=col>date</th><th scope=col>temp</th><th scope=col>vpd</th><th scope=col>ppfd</th><th scope=col>netrad</th><th scope=col>patm</th><th scope=col>snow</th><th scope=col>rain</th><th scope=col>tmin</th><th scope=col>tmax</th><th scope=col>vwind</th><th scope=col>fapar</th><th scope=col>co2</th><th scope=col>ccov</th><th scope=col>nee</th><th scope=col>dno3</th><th scope=col>dnh4</th><th scope=col>fharv</th><th scope=col>cseed</th><th scope=col>nseed</th></tr>\n",
       "\t<tr><th scope=col>&lt;date&gt;</th><th scope=col>&lt;dbl&gt;</th><th scope=col>&lt;dbl&gt;</th><th scope=col>&lt;dbl&gt;</th><th scope=col>&lt;dbl&gt;</th><th scope=col>&lt;dbl&gt;</th><th scope=col>&lt;dbl&gt;</th><th scope=col>&lt;dbl&gt;</th><th scope=col>&lt;dbl&gt;</th><th scope=col>&lt;dbl&gt;</th><th scope=col>&lt;dbl&gt;</th><th scope=col>&lt;dbl&gt;</th><th scope=col>&lt;dbl&gt;</th><th scope=col>&lt;dbl&gt;</th><th scope=col>&lt;dbl&gt;</th><th scope=col>&lt;dbl&gt;</th><th scope=col>&lt;dbl&gt;</th><th scope=col>&lt;dbl&gt;</th><th scope=col>&lt;dbl&gt;</th><th scope=col>&lt;dbl&gt;</th></tr>\n",
       "</thead>\n",
       "<tbody>\n",
       "\t<tr><td>2004-01-01</td><td>-0.227</td><td> 6.51250</td><td>6.514874</td><td>  1.339710</td><td>95825</td><td>0</td><td>1.851852e-05</td><td> -1.23</td><td>-0.01</td><td>1.520</td><td>0.02</td><td>384.872</td><td>1.0000000</td><td>0.760671</td><td>0</td><td>3.761907e-07</td><td>0</td><td>0</td><td>0</td></tr>\n",
       "\t<tr><td>2004-01-02</td><td>-0.499</td><td> 0.00000</td><td>7.121123</td><td> -4.381670</td><td>95455</td><td>0</td><td>5.787037e-06</td><td> -2.06</td><td>-0.05</td><td>2.022</td><td>0.02</td><td>377.952</td><td>0.9373863</td><td>0.787889</td><td>0</td><td>3.761907e-07</td><td>0</td><td>0</td><td>0</td></tr>\n",
       "\t<tr><td>2004-01-03</td><td>-2.956</td><td> 7.08750</td><td>7.133383</td><td> -4.583730</td><td>96232</td><td>0</td><td>0.000000e+00</td><td> -5.82</td><td>-2.19</td><td>2.716</td><td>0.02</td><td>385.627</td><td>1.0000000</td><td>0.768699</td><td>0</td><td>3.761907e-07</td><td>0</td><td>0</td><td>0</td></tr>\n",
       "\t<tr><td>2004-01-04</td><td>-4.209</td><td>76.00417</td><td>9.541324</td><td> -9.018790</td><td>96367</td><td>0</td><td>0.000000e+00</td><td>-10.45</td><td>-1.48</td><td>1.089</td><td>0.02</td><td>402.001</td><td>0.7758400</td><td>0.764470</td><td>0</td><td>3.761907e-07</td><td>0</td><td>0</td><td>0</td></tr>\n",
       "\t<tr><td>2004-01-05</td><td>-1.192</td><td>23.92917</td><td>6.732000</td><td> -6.912368</td><td>96710</td><td>0</td><td>0.000000e+00</td><td> -8.10</td><td> 0.53</td><td>0.675</td><td>0.02</td><td>437.166</td><td>0.8695803</td><td>0.753756</td><td>0</td><td>3.761907e-07</td><td>0</td><td>0</td><td>0</td></tr>\n",
       "\t<tr><td>2004-01-06</td><td>-1.580</td><td>23.83750</td><td>8.709064</td><td>-11.309390</td><td>96656</td><td>0</td><td>0.000000e+00</td><td> -7.24</td><td> 0.35</td><td>0.701</td><td>0.02</td><td>507.266</td><td>0.9965465</td><td>1.321320</td><td>0</td><td>3.761907e-07</td><td>0</td><td>0</td><td>0</td></tr>\n",
       "</tbody>\n",
       "</table>\n"
      ],
      "text/latex": [
       "A tibble: 6 x 20\n",
       "\\begin{tabular}{llllllllllllllllllll}\n",
       " date & temp & vpd & ppfd & netrad & patm & snow & rain & tmin & tmax & vwind & fapar & co2 & ccov & nee & dno3 & dnh4 & fharv & cseed & nseed\\\\\n",
       " <date> & <dbl> & <dbl> & <dbl> & <dbl> & <dbl> & <dbl> & <dbl> & <dbl> & <dbl> & <dbl> & <dbl> & <dbl> & <dbl> & <dbl> & <dbl> & <dbl> & <dbl> & <dbl> & <dbl>\\\\\n",
       "\\hline\n",
       "\t 2004-01-01 & -0.227 &  6.51250 & 6.514874 &   1.339710 & 95825 & 0 & 1.851852e-05 &  -1.23 & -0.01 & 1.520 & 0.02 & 384.872 & 1.0000000 & 0.760671 & 0 & 3.761907e-07 & 0 & 0 & 0\\\\\n",
       "\t 2004-01-02 & -0.499 &  0.00000 & 7.121123 &  -4.381670 & 95455 & 0 & 5.787037e-06 &  -2.06 & -0.05 & 2.022 & 0.02 & 377.952 & 0.9373863 & 0.787889 & 0 & 3.761907e-07 & 0 & 0 & 0\\\\\n",
       "\t 2004-01-03 & -2.956 &  7.08750 & 7.133383 &  -4.583730 & 96232 & 0 & 0.000000e+00 &  -5.82 & -2.19 & 2.716 & 0.02 & 385.627 & 1.0000000 & 0.768699 & 0 & 3.761907e-07 & 0 & 0 & 0\\\\\n",
       "\t 2004-01-04 & -4.209 & 76.00417 & 9.541324 &  -9.018790 & 96367 & 0 & 0.000000e+00 & -10.45 & -1.48 & 1.089 & 0.02 & 402.001 & 0.7758400 & 0.764470 & 0 & 3.761907e-07 & 0 & 0 & 0\\\\\n",
       "\t 2004-01-05 & -1.192 & 23.92917 & 6.732000 &  -6.912368 & 96710 & 0 & 0.000000e+00 &  -8.10 &  0.53 & 0.675 & 0.02 & 437.166 & 0.8695803 & 0.753756 & 0 & 3.761907e-07 & 0 & 0 & 0\\\\\n",
       "\t 2004-01-06 & -1.580 & 23.83750 & 8.709064 & -11.309390 & 96656 & 0 & 0.000000e+00 &  -7.24 &  0.35 & 0.701 & 0.02 & 507.266 & 0.9965465 & 1.321320 & 0 & 3.761907e-07 & 0 & 0 & 0\\\\\n",
       "\\end{tabular}\n"
      ],
      "text/markdown": [
       "\n",
       "A tibble: 6 x 20\n",
       "\n",
       "| date &lt;date&gt; | temp &lt;dbl&gt; | vpd &lt;dbl&gt; | ppfd &lt;dbl&gt; | netrad &lt;dbl&gt; | patm &lt;dbl&gt; | snow &lt;dbl&gt; | rain &lt;dbl&gt; | tmin &lt;dbl&gt; | tmax &lt;dbl&gt; | vwind &lt;dbl&gt; | fapar &lt;dbl&gt; | co2 &lt;dbl&gt; | ccov &lt;dbl&gt; | nee &lt;dbl&gt; | dno3 &lt;dbl&gt; | dnh4 &lt;dbl&gt; | fharv &lt;dbl&gt; | cseed &lt;dbl&gt; | nseed &lt;dbl&gt; |\n",
       "|---|---|---|---|---|---|---|---|---|---|---|---|---|---|---|---|---|---|---|---|\n",
       "| 2004-01-01 | -0.227 |  6.51250 | 6.514874 |   1.339710 | 95825 | 0 | 1.851852e-05 |  -1.23 | -0.01 | 1.520 | 0.02 | 384.872 | 1.0000000 | 0.760671 | 0 | 3.761907e-07 | 0 | 0 | 0 |\n",
       "| 2004-01-02 | -0.499 |  0.00000 | 7.121123 |  -4.381670 | 95455 | 0 | 5.787037e-06 |  -2.06 | -0.05 | 2.022 | 0.02 | 377.952 | 0.9373863 | 0.787889 | 0 | 3.761907e-07 | 0 | 0 | 0 |\n",
       "| 2004-01-03 | -2.956 |  7.08750 | 7.133383 |  -4.583730 | 96232 | 0 | 0.000000e+00 |  -5.82 | -2.19 | 2.716 | 0.02 | 385.627 | 1.0000000 | 0.768699 | 0 | 3.761907e-07 | 0 | 0 | 0 |\n",
       "| 2004-01-04 | -4.209 | 76.00417 | 9.541324 |  -9.018790 | 96367 | 0 | 0.000000e+00 | -10.45 | -1.48 | 1.089 | 0.02 | 402.001 | 0.7758400 | 0.764470 | 0 | 3.761907e-07 | 0 | 0 | 0 |\n",
       "| 2004-01-05 | -1.192 | 23.92917 | 6.732000 |  -6.912368 | 96710 | 0 | 0.000000e+00 |  -8.10 |  0.53 | 0.675 | 0.02 | 437.166 | 0.8695803 | 0.753756 | 0 | 3.761907e-07 | 0 | 0 | 0 |\n",
       "| 2004-01-06 | -1.580 | 23.83750 | 8.709064 | -11.309390 | 96656 | 0 | 0.000000e+00 |  -7.24 |  0.35 | 0.701 | 0.02 | 507.266 | 0.9965465 | 1.321320 | 0 | 3.761907e-07 | 0 | 0 | 0 |\n",
       "\n"
      ],
      "text/plain": [
       "  date       temp   vpd      ppfd     netrad     patm  snow rain         tmin  \n",
       "1 2004-01-01 -0.227  6.51250 6.514874   1.339710 95825 0    1.851852e-05  -1.23\n",
       "2 2004-01-02 -0.499  0.00000 7.121123  -4.381670 95455 0    5.787037e-06  -2.06\n",
       "3 2004-01-03 -2.956  7.08750 7.133383  -4.583730 96232 0    0.000000e+00  -5.82\n",
       "4 2004-01-04 -4.209 76.00417 9.541324  -9.018790 96367 0    0.000000e+00 -10.45\n",
       "5 2004-01-05 -1.192 23.92917 6.732000  -6.912368 96710 0    0.000000e+00  -8.10\n",
       "6 2004-01-06 -1.580 23.83750 8.709064 -11.309390 96656 0    0.000000e+00  -7.24\n",
       "  tmax  vwind fapar co2     ccov      nee      dno3 dnh4         fharv cseed\n",
       "1 -0.01 1.520 0.02  384.872 1.0000000 0.760671 0    3.761907e-07 0     0    \n",
       "2 -0.05 2.022 0.02  377.952 0.9373863 0.787889 0    3.761907e-07 0     0    \n",
       "3 -2.19 2.716 0.02  385.627 1.0000000 0.768699 0    3.761907e-07 0     0    \n",
       "4 -1.48 1.089 0.02  402.001 0.7758400 0.764470 0    3.761907e-07 0     0    \n",
       "5  0.53 0.675 0.02  437.166 0.8695803 0.753756 0    3.761907e-07 0     0    \n",
       "6  0.35 0.701 0.02  507.266 0.9965465 1.321320 0    3.761907e-07 0     0    \n",
       "  nseed\n",
       "1 0    \n",
       "2 0    \n",
       "3 0    \n",
       "4 0    \n",
       "5 0    \n",
       "6 0    "
      ]
     },
     "metadata": {},
     "output_type": "display_data"
    }
   ],
   "source": [
    "# remove \"gpp\",\"le\", \"le_qc\", \"nee_qc\" from drivers$forcing[[1]]\n",
    "head(drivers$forcing[[1]])\n",
    "forcing_df <- drivers$forcing[[1]]\n",
    "forcing_df <- forcing_df[, !(names(forcing_df) %in% c(\"gpp\",\"le\", \"le_qc\", \"nee_qc\"))]\n",
    "# Replace the modified dataframe back into drivers\n",
    "drivers$forcing <- list(forcing_df)\n",
    "# show the head of the drivers$forcing[[1]]\n",
    "head(drivers$forcing[[1]])\n",
    "# save the updated drivers data\n",
    "saveRDS(drivers, \"../data/CH-Oe2_2004-2023_final_ready_for_CNmodel_run_02.rds\")"
   ]
  }
 ],
 "metadata": {
  "kernelspec": {
   "display_name": "R",
   "language": "R",
   "name": "ir"
  },
  "language_info": {
   "codemirror_mode": "r",
   "file_extension": ".r",
   "mimetype": "text/x-r-source",
   "name": "R",
   "pygments_lexer": "r",
   "version": "4.4.3"
  }
 },
 "nbformat": 4,
 "nbformat_minor": 5
}
