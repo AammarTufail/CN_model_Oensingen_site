{
 "cells": [
  {
   "cell_type": "markdown",
   "id": "bbd76a71",
   "metadata": {},
   "source": [
    "# fapar and LAI data"
   ]
  },
  {
   "cell_type": "code",
   "execution_count": 1,
   "id": "b780e893",
   "metadata": {
    "vscode": {
     "languageId": "r"
    }
   },
   "outputs": [
    {
     "name": "stdout",
     "output_type": "stream",
     "text": [
      "[1] \"=== DOWNLOADING FAPAR FROM MODISTOOLS ===\"\n"
     ]
    },
    {
     "name": "stderr",
     "output_type": "stream",
     "text": [
      "Downloading chunks:\n",
      "\n"
     ]
    },
    {
     "name": "stdout",
     "output_type": "stream",
     "text": [
      "  |======================================================================| 100%\n",
      "[1] \"<U+2713> Downloaded 918 records of FAPAR data\"\n",
      "[1] \"<U+2713> FAPAR data saved: ../data/01_data_prep/06a_fapar_2004-2023.csv\"\n",
      "[1] \"\\n=== FAPAR DATA PREVIEW ===\"\n",
      "     xllcorner  yllcorner      cellsize nrows ncols      band   units scale\n",
      "1.1  583310.69 5257672.67 463.312716528     1     1 Fpar_500m percent  0.01\n",
      "2.1  583310.69 5257672.67 463.312716528     1     1 Fpar_500m percent  0.01\n",
      "3.1  583310.69 5257672.67 463.312716528     1     1 Fpar_500m percent  0.01\n",
      "4.1  583310.69 5257672.67 463.312716528     1     1 Fpar_500m percent  0.01\n",
      "5.1  583310.69 5257672.67 463.312716528     1     1 Fpar_500m percent  0.01\n",
      "6.1  583310.69 5257672.67 463.312716528     1     1 Fpar_500m percent  0.01\n",
      "7.1  583310.69 5257672.67 463.312716528     1     1 Fpar_500m percent  0.01\n",
      "8.1  583310.69 5257672.67 463.312716528     1     1 Fpar_500m percent  0.01\n",
      "9.1  583310.69 5257672.67 463.312716528     1     1 Fpar_500m percent  0.01\n",
      "10.1 583310.69 5257672.67 463.312716528     1     1 Fpar_500m percent  0.01\n",
      "     latitude longitude     site  product      start        end complete\n",
      "1.1  47.28631  7.734333 sitename MOD15A2H 2004-01-01 2023-12-31     TRUE\n",
      "2.1  47.28631  7.734333 sitename MOD15A2H 2004-01-01 2023-12-31     TRUE\n",
      "3.1  47.28631  7.734333 sitename MOD15A2H 2004-01-01 2023-12-31     TRUE\n",
      "4.1  47.28631  7.734333 sitename MOD15A2H 2004-01-01 2023-12-31     TRUE\n",
      "5.1  47.28631  7.734333 sitename MOD15A2H 2004-01-01 2023-12-31     TRUE\n",
      "6.1  47.28631  7.734333 sitename MOD15A2H 2004-01-01 2023-12-31     TRUE\n",
      "7.1  47.28631  7.734333 sitename MOD15A2H 2004-01-01 2023-12-31     TRUE\n",
      "8.1  47.28631  7.734333 sitename MOD15A2H 2004-01-01 2023-12-31     TRUE\n",
      "9.1  47.28631  7.734333 sitename MOD15A2H 2004-01-01 2023-12-31     TRUE\n",
      "10.1 47.28631  7.734333 sitename MOD15A2H 2004-01-01 2023-12-31     TRUE\n",
      "     modis_date calendar_date   tile     proc_date pixel value\n",
      "1.1    A2004001    2004-01-01 h18v04 2020118210600     1     2\n",
      "2.1    A2004009    2004-01-09 h18v04 2020119031803     1     9\n",
      "3.1    A2004017    2004-01-17 h18v04 2020119091144     1     0\n",
      "4.1    A2004025    2004-01-25 h18v04 2020119143127     1     0\n",
      "5.1    A2004033    2004-02-02 h18v04 2020119201250     1    37\n",
      "6.1    A2004041    2004-02-10 h18v04 2020120022149     1    45\n",
      "7.1    A2004049    2004-02-18 h18v04 2020120063640     1    13\n",
      "8.1    A2004057    2004-02-26 h18v04 2020120100631     1    15\n",
      "9.1    A2004065    2004-03-05 h18v04 2020120185304     1    37\n",
      "10.1   A2004073    2004-03-13 h18v04 2020121050745     1    46\n"
     ]
    }
   ],
   "source": [
    "print(\"=== DOWNLOADING FAPAR FROM MODISTOOLS ===\")\n",
    "# Load necessary libraries\n",
    "library(MODISTools)\n",
    "fapar_data <- MODISTools::mt_subset(\n",
    "    product = \"MOD15A2H\",\n",
    "    lat = 47.28631,\n",
    "    lon = 7.734333,\n",
    "    start = \"2004-01-01\",\n",
    "    end = \"2023-12-31\",\n",
    "    band = \"Fpar_500m\"\n",
    ")\n",
    "if(nrow(fapar_data) == 0) {\n",
    "    stop(\"No FAPAR data downloaded from MODISTools\")\n",
    "} else {\n",
    "    print(sprintf(\"✓ Downloaded %d records of FAPAR data\", nrow(fapar_data)))\n",
    "}\n",
    "fapar_file <- file.path(\"../data/01_data_prep\", \"06a_fapar_2004-2023.csv\")\n",
    "write.csv(fapar_data, fapar_file, row.names = FALSE)\n",
    "print(sprintf(\"✓ FAPAR data saved: %s\", fapar_file))\n",
    "print(\"\\n=== FAPAR DATA PREVIEW ===\")\n",
    "print(head(fapar_data, 10))"
   ]
  },
  {
   "cell_type": "code",
   "execution_count": 7,
   "id": "7c556474",
   "metadata": {
    "vscode": {
     "languageId": "r"
    }
   },
   "outputs": [
    {
     "name": "stderr",
     "output_type": "stream",
     "text": [
      "\u001b[1mRows: \u001b[22m\u001b[34m918\u001b[39m \u001b[1mColumns: \u001b[22m\u001b[34m23\u001b[39m\n",
      "\u001b[36m--\u001b[39m \u001b[1mColumn specification\u001b[22m \u001b[36m--------------------------------------------------------\u001b[39m\n",
      "\u001b[1mDelimiter:\u001b[22m \",\"\n",
      "\u001b[31mchr\u001b[39m   (6): band, units, site, product, modis_date, tile\n",
      "\u001b[32mdbl\u001b[39m  (13): xllcorner, yllcorner, cellsize, nrows, ncols, scale, latitude, lo...\n",
      "\u001b[33mlgl\u001b[39m   (1): complete\n",
      "\u001b[34mdate\u001b[39m  (3): start, end, calendar_date\n",
      "\n",
      "\u001b[36mi\u001b[39m Use `spec()` to retrieve the full column specification for this data.\n",
      "\u001b[36mi\u001b[39m Specify the column types or set `show_col_types = FALSE` to quiet this message.\n"
     ]
    }
   ],
   "source": [
    "# read fapar data\n",
    "library(readr)\n",
    "fapar_data <- read_csv(\"../data/01_data_prep/06a_fapar_2004-2023.csv\")\n",
    "# take the value column and convert it to fraction 0-1 and save as a new column\n",
    "fapar_data$value_fraction <- fapar_data$value / 100\n",
    "# save the modified data\n",
    "write_csv(fapar_data, \"../data/01_data_prep/06a_fapar_2004-2023.csv\")\n",
    "\n",
    "# keep only calendar_date and fapar_fraction_value columns\n",
    "fapar_data <- fapar_data[, c(\"calendar_date\", \"value_fraction\")]\n",
    "# rename the columns \n",
    "colnames(fapar_data) <- c(\"date\", \"fapar\")\n",
    "# save the modified data\n",
    "write_csv(fapar_data, \"../data/01_data_prep/06a1_fapar_2004-2023.csv\")"
   ]
  },
  {
   "cell_type": "code",
   "execution_count": 10,
   "id": "8cb2e1a3",
   "metadata": {
    "vscode": {
     "languageId": "r"
    }
   },
   "outputs": [
    {
     "name": "stdout",
     "output_type": "stream",
     "text": [
      "[1] \"Daily FAPAR data has 7305 rows and 2 columns\"\n",
      "[1] \"<U+2713> Daily FAPAR data saved: ../data/01_data_prep/06a2_daily_fapar_2004-2023.csv\"\n"
     ]
    }
   ],
   "source": [
    "# data in fapar_data is in 8 day interval, so we need to convert it to daily data\n",
    "library(dplyr)\n",
    "library(tidyr)\n",
    "# create a sequence of dates from 2004-01-01 to 2023-12-31\n",
    "date_seq <- seq(as.Date(\"2004-01-01\"), as.Date(\"2023-12-31\"), by = \"day\")\n",
    "# create a new data frame with the date sequence\n",
    "daily_fapar <- data.frame(date = date_seq)\n",
    "# merge the daily_fapar with fapar_data\n",
    "daily_fapar <- daily_fapar %>%\n",
    "    left_join(fapar_data, by = \"date\") %>%\n",
    "    # fill the missing values with the last observation carried forward\n",
    "    tidyr::fill(fapar, .direction = \"down\") %>%\n",
    "    # fill the missing values with the next observation carried backward\n",
    "    tidyr::fill(fapar, .direction = \"up\") %>%\n",
    "    # remove rows with NA values\n",
    "    filter(!is.na(fapar))\n",
    "# save the daily fapar data\n",
    "write_csv(daily_fapar, \"../data/01_data_prep/06a2_daily_fapar_2004-2023.csv\")\n",
    "# print nrows and columns of the daily fapar data\n",
    "print(sprintf(\"Daily FAPAR data has %d rows and %d columns\", nrow(daily_fapar), ncol(daily_fapar)))\n",
    "print(sprintf(\"✓ Daily FAPAR data saved: %s\", \"../data/01_data_prep/06a2_daily_fapar_2004-2023.csv\"))"
   ]
  },
  {
   "cell_type": "code",
   "execution_count": 2,
   "id": "94646a5c",
   "metadata": {
    "vscode": {
     "languageId": "r"
    }
   },
   "outputs": [
    {
     "name": "stdout",
     "output_type": "stream",
     "text": [
      "[1] \"=== DOWNLOADING LAI FROM MODISTOOLS ===\"\n"
     ]
    },
    {
     "name": "stderr",
     "output_type": "stream",
     "text": [
      "Downloading chunks:\n",
      "\n"
     ]
    },
    {
     "name": "stdout",
     "output_type": "stream",
     "text": [
      "  |======================================================================| 100%\n",
      "[1] \"<U+2713> Downloaded 918 records of LAI data\"\n",
      "[1] \"<U+2713> LAI data saved: ../data/01_data_prep/06b_lai_2004-2023.csv\"\n",
      "[1] \"\\n=== LAI DATA PREVIEW ===\"\n",
      "     xllcorner  yllcorner      cellsize nrows ncols     band   units scale\n",
      "1.1  583310.69 5257672.67 463.312716528     1     1 Lai_500m m^2/m^2   0.1\n",
      "2.1  583310.69 5257672.67 463.312716528     1     1 Lai_500m m^2/m^2   0.1\n",
      "3.1  583310.69 5257672.67 463.312716528     1     1 Lai_500m m^2/m^2   0.1\n",
      "4.1  583310.69 5257672.67 463.312716528     1     1 Lai_500m m^2/m^2   0.1\n",
      "5.1  583310.69 5257672.67 463.312716528     1     1 Lai_500m m^2/m^2   0.1\n",
      "6.1  583310.69 5257672.67 463.312716528     1     1 Lai_500m m^2/m^2   0.1\n",
      "7.1  583310.69 5257672.67 463.312716528     1     1 Lai_500m m^2/m^2   0.1\n",
      "8.1  583310.69 5257672.67 463.312716528     1     1 Lai_500m m^2/m^2   0.1\n",
      "9.1  583310.69 5257672.67 463.312716528     1     1 Lai_500m m^2/m^2   0.1\n",
      "10.1 583310.69 5257672.67 463.312716528     1     1 Lai_500m m^2/m^2   0.1\n",
      "     latitude longitude     site  product      start        end complete\n",
      "1.1  47.28631  7.734333 sitename MOD15A2H 2004-01-01 2023-12-31     TRUE\n",
      "2.1  47.28631  7.734333 sitename MOD15A2H 2004-01-01 2023-12-31     TRUE\n",
      "3.1  47.28631  7.734333 sitename MOD15A2H 2004-01-01 2023-12-31     TRUE\n",
      "4.1  47.28631  7.734333 sitename MOD15A2H 2004-01-01 2023-12-31     TRUE\n",
      "5.1  47.28631  7.734333 sitename MOD15A2H 2004-01-01 2023-12-31     TRUE\n",
      "6.1  47.28631  7.734333 sitename MOD15A2H 2004-01-01 2023-12-31     TRUE\n",
      "7.1  47.28631  7.734333 sitename MOD15A2H 2004-01-01 2023-12-31     TRUE\n",
      "8.1  47.28631  7.734333 sitename MOD15A2H 2004-01-01 2023-12-31     TRUE\n",
      "9.1  47.28631  7.734333 sitename MOD15A2H 2004-01-01 2023-12-31     TRUE\n",
      "10.1 47.28631  7.734333 sitename MOD15A2H 2004-01-01 2023-12-31     TRUE\n",
      "     modis_date calendar_date   tile     proc_date pixel value\n",
      "1.1    A2004001    2004-01-01 h18v04 2020118210600     1     0\n",
      "2.1    A2004009    2004-01-09 h18v04 2020119031803     1     1\n",
      "3.1    A2004017    2004-01-17 h18v04 2020119091144     1     0\n",
      "4.1    A2004025    2004-01-25 h18v04 2020119143127     1     0\n",
      "5.1    A2004033    2004-02-02 h18v04 2020119201250     1     5\n",
      "6.1    A2004041    2004-02-10 h18v04 2020120022149     1     7\n",
      "7.1    A2004049    2004-02-18 h18v04 2020120063640     1     2\n",
      "8.1    A2004057    2004-02-26 h18v04 2020120100631     1     2\n",
      "9.1    A2004065    2004-03-05 h18v04 2020120185304     1     6\n",
      "10.1   A2004073    2004-03-13 h18v04 2020121050745     1    10\n"
     ]
    }
   ],
   "source": [
    "print(\"=== DOWNLOADING LAI FROM MODISTOOLS ===\")\n",
    "# Load necessary libraries\n",
    "library(MODISTools)\n",
    "lai_data <- MODISTools::mt_subset(\n",
    "    product = \"MOD15A2H\",\n",
    "    lat = 47.28631,\n",
    "    lon = 7.734333,\n",
    "    start = \"2004-01-01\",\n",
    "    end = \"2023-12-31\",\n",
    "    band = \"Lai_500m\"\n",
    ")\n",
    "if(nrow(lai_data) == 0) {\n",
    "    stop(\"No LAI data downloaded from MODISTools\")\n",
    "} else {\n",
    "    print(sprintf(\"✓ Downloaded %d records of LAI data\", nrow(lai_data)))\n",
    "}\n",
    "lai_file <- file.path(\"../data/01_data_prep\", \"06b_lai_2004-2023.csv\")\n",
    "write.csv(lai_data, lai_file, row.names = FALSE)\n",
    "print(sprintf(\"✓ LAI data saved: %s\", lai_file))\n",
    "print(\"\\n=== LAI DATA PREVIEW ===\")\n",
    "print(head(lai_data, 10))"
   ]
  },
  {
   "cell_type": "code",
   "execution_count": 11,
   "id": "11e438c1",
   "metadata": {
    "vscode": {
     "languageId": "r"
    }
   },
   "outputs": [
    {
     "name": "stderr",
     "output_type": "stream",
     "text": [
      "\u001b[1mRows: \u001b[22m\u001b[34m918\u001b[39m \u001b[1mColumns: \u001b[22m\u001b[34m21\u001b[39m\n",
      "\u001b[36m--\u001b[39m \u001b[1mColumn specification\u001b[22m \u001b[36m--------------------------------------------------------\u001b[39m\n",
      "\u001b[1mDelimiter:\u001b[22m \",\"\n",
      "\u001b[31mchr\u001b[39m   (6): band, units, site, product, modis_date, tile\n",
      "\u001b[32mdbl\u001b[39m  (11): xllcorner, yllcorner, cellsize, nrows, ncols, scale, latitude, lo...\n",
      "\u001b[33mlgl\u001b[39m   (1): complete\n",
      "\u001b[34mdate\u001b[39m  (3): start, end, calendar_date\n",
      "\n",
      "\u001b[36mi\u001b[39m Use `spec()` to retrieve the full column specification for this data.\n",
      "\u001b[36mi\u001b[39m Specify the column types or set `show_col_types = FALSE` to quiet this message.\n"
     ]
    }
   ],
   "source": [
    "# read lai data\n",
    "library(readr)\n",
    "lai_data <- read_csv(\"../data/01_data_prep/06b_lai_2004-2023.csv\")\n",
    "# only keep calendar_date and value columns\n",
    "lai_data <- lai_data[, c(\"calendar_date\", \"value\")]\n",
    "# rename the columns\n",
    "colnames(lai_data) <- c(\"date\", \"lai\")\n",
    "# the data in lai_data is in 8 day interval, so we need to convert it to daily data\n",
    "library(dplyr)\n",
    "library(tidyr)\n",
    "# create a sequence of dates from 2004-01-01 to 2023-12-31\n",
    "date_seq <- seq(as.Date(\"2004-01-01\"), as.Date(\"2023-12-31\"), by = \"day\")\n",
    "# create a new data frame with the date sequence\n",
    "daily_lai <- data.frame(date = date_seq)\n",
    "# merge the daily_lai with lai_data\n",
    "daily_lai <- daily_lai %>%\n",
    "    left_join(lai_data, by = \"date\") %>%\n",
    "    # fill the missing values with the last observation carried forward\n",
    "    tidyr::fill(lai, .direction = \"down\") %>%\n",
    "    # fill the missing values with the next observation carried backward\n",
    "    tidyr::fill(lai, .direction = \"up\") %>%\n",
    "    # remove rows with NA values\n",
    "    filter(!is.na(lai))\n",
    "# save the daily lai data\n",
    "write.csv(daily_lai, \"../data/01_data_prep/06b1_lai_daily_2004-2023.csv\", row.names = FALSE)"
   ]
  }
 ],
 "metadata": {
  "kernelspec": {
   "display_name": "R",
   "language": "R",
   "name": "ir"
  },
  "language_info": {
   "codemirror_mode": "r",
   "file_extension": ".r",
   "mimetype": "text/x-r-source",
   "name": "R",
   "pygments_lexer": "r",
   "version": "4.4.3"
  }
 },
 "nbformat": 4,
 "nbformat_minor": 5
}
