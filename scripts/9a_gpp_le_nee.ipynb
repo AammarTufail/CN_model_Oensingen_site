{
 "cells": [
  {
   "cell_type": "code",
   "execution_count": 5,
   "id": "b8537d57",
   "metadata": {
    "vscode": {
     "languageId": "r"
    }
   },
   "outputs": [
    {
     "data": {
      "text/html": [
       "<table class=\"dataframe\">\n",
       "<caption>A data.frame: 6 x 6</caption>\n",
       "<thead>\n",
       "\t<tr><th></th><th scope=col>TIMESTAMP</th><th scope=col>GPP_NT_VUT_REF</th><th scope=col>LE_F_MDS</th><th scope=col>LE_F_MDS_QC</th><th scope=col>NEE_VUT_REF</th><th scope=col>NEE_VUT_REF_QC</th></tr>\n",
       "\t<tr><th></th><th scope=col>&lt;date&gt;</th><th scope=col>&lt;dbl&gt;</th><th scope=col>&lt;dbl&gt;</th><th scope=col>&lt;int&gt;</th><th scope=col>&lt;dbl&gt;</th><th scope=col>&lt;dbl&gt;</th></tr>\n",
       "</thead>\n",
       "<tbody>\n",
       "\t<tr><th scope=row>1</th><td>2004-01-01</td><td> 0.2187610</td><td>7.44814</td><td>-9999</td><td>0.760671</td><td>0.2500000</td></tr>\n",
       "\t<tr><th scope=row>2</th><td>2004-01-02</td><td> 0.1229460</td><td>6.97631</td><td>-9999</td><td>0.787889</td><td>0.3333330</td></tr>\n",
       "\t<tr><th scope=row>3</th><td>2004-01-03</td><td>-0.0692721</td><td>6.39344</td><td>-9999</td><td>0.768699</td><td>0.9583330</td></tr>\n",
       "\t<tr><th scope=row>4</th><td>2004-01-04</td><td>-0.2037980</td><td>3.19733</td><td>-9999</td><td>0.764470</td><td>0.2083330</td></tr>\n",
       "\t<tr><th scope=row>5</th><td>2004-01-05</td><td> 0.0421242</td><td>1.08588</td><td>-9999</td><td>0.753756</td><td>0.0416667</td></tr>\n",
       "\t<tr><th scope=row>6</th><td>2004-01-06</td><td>-0.5205010</td><td>1.45106</td><td>-9999</td><td>1.321320</td><td>0.0208333</td></tr>\n",
       "</tbody>\n",
       "</table>\n"
      ],
      "text/latex": [
       "A data.frame: 6 x 6\n",
       "\\begin{tabular}{r|llllll}\n",
       "  & TIMESTAMP & GPP\\_NT\\_VUT\\_REF & LE\\_F\\_MDS & LE\\_F\\_MDS\\_QC & NEE\\_VUT\\_REF & NEE\\_VUT\\_REF\\_QC\\\\\n",
       "  & <date> & <dbl> & <dbl> & <int> & <dbl> & <dbl>\\\\\n",
       "\\hline\n",
       "\t1 & 2004-01-01 &  0.2187610 & 7.44814 & -9999 & 0.760671 & 0.2500000\\\\\n",
       "\t2 & 2004-01-02 &  0.1229460 & 6.97631 & -9999 & 0.787889 & 0.3333330\\\\\n",
       "\t3 & 2004-01-03 & -0.0692721 & 6.39344 & -9999 & 0.768699 & 0.9583330\\\\\n",
       "\t4 & 2004-01-04 & -0.2037980 & 3.19733 & -9999 & 0.764470 & 0.2083330\\\\\n",
       "\t5 & 2004-01-05 &  0.0421242 & 1.08588 & -9999 & 0.753756 & 0.0416667\\\\\n",
       "\t6 & 2004-01-06 & -0.5205010 & 1.45106 & -9999 & 1.321320 & 0.0208333\\\\\n",
       "\\end{tabular}\n"
      ],
      "text/markdown": [
       "\n",
       "A data.frame: 6 x 6\n",
       "\n",
       "| <!--/--> | TIMESTAMP &lt;date&gt; | GPP_NT_VUT_REF &lt;dbl&gt; | LE_F_MDS &lt;dbl&gt; | LE_F_MDS_QC &lt;int&gt; | NEE_VUT_REF &lt;dbl&gt; | NEE_VUT_REF_QC &lt;dbl&gt; |\n",
       "|---|---|---|---|---|---|---|\n",
       "| 1 | 2004-01-01 |  0.2187610 | 7.44814 | -9999 | 0.760671 | 0.2500000 |\n",
       "| 2 | 2004-01-02 |  0.1229460 | 6.97631 | -9999 | 0.787889 | 0.3333330 |\n",
       "| 3 | 2004-01-03 | -0.0692721 | 6.39344 | -9999 | 0.768699 | 0.9583330 |\n",
       "| 4 | 2004-01-04 | -0.2037980 | 3.19733 | -9999 | 0.764470 | 0.2083330 |\n",
       "| 5 | 2004-01-05 |  0.0421242 | 1.08588 | -9999 | 0.753756 | 0.0416667 |\n",
       "| 6 | 2004-01-06 | -0.5205010 | 1.45106 | -9999 | 1.321320 | 0.0208333 |\n",
       "\n"
      ],
      "text/plain": [
       "  TIMESTAMP  GPP_NT_VUT_REF LE_F_MDS LE_F_MDS_QC NEE_VUT_REF NEE_VUT_REF_QC\n",
       "1 2004-01-01  0.2187610     7.44814  -9999       0.760671    0.2500000     \n",
       "2 2004-01-02  0.1229460     6.97631  -9999       0.787889    0.3333330     \n",
       "3 2004-01-03 -0.0692721     6.39344  -9999       0.768699    0.9583330     \n",
       "4 2004-01-04 -0.2037980     3.19733  -9999       0.764470    0.2083330     \n",
       "5 2004-01-05  0.0421242     1.08588  -9999       0.753756    0.0416667     \n",
       "6 2004-01-06 -0.5205010     1.45106  -9999       1.321320    0.0208333     "
      ]
     },
     "metadata": {},
     "output_type": "display_data"
    },
    {
     "data": {
      "text/html": [
       "<table class=\"dataframe\">\n",
       "<caption>A data.frame: 6 x 6</caption>\n",
       "<thead>\n",
       "\t<tr><th></th><th scope=col>date</th><th scope=col>gpp</th><th scope=col>le</th><th scope=col>le_qc</th><th scope=col>nee</th><th scope=col>nee_qc</th></tr>\n",
       "\t<tr><th></th><th scope=col>&lt;date&gt;</th><th scope=col>&lt;dbl&gt;</th><th scope=col>&lt;dbl&gt;</th><th scope=col>&lt;int&gt;</th><th scope=col>&lt;dbl&gt;</th><th scope=col>&lt;dbl&gt;</th></tr>\n",
       "</thead>\n",
       "<tbody>\n",
       "\t<tr><th scope=row>1</th><td>2004-01-01</td><td> 0.2187610</td><td>7.44814</td><td>-9999</td><td>0.760671</td><td>0.2500000</td></tr>\n",
       "\t<tr><th scope=row>2</th><td>2004-01-02</td><td> 0.1229460</td><td>6.97631</td><td>-9999</td><td>0.787889</td><td>0.3333330</td></tr>\n",
       "\t<tr><th scope=row>3</th><td>2004-01-03</td><td>-0.0692721</td><td>6.39344</td><td>-9999</td><td>0.768699</td><td>0.9583330</td></tr>\n",
       "\t<tr><th scope=row>4</th><td>2004-01-04</td><td>-0.2037980</td><td>3.19733</td><td>-9999</td><td>0.764470</td><td>0.2083330</td></tr>\n",
       "\t<tr><th scope=row>5</th><td>2004-01-05</td><td> 0.0421242</td><td>1.08588</td><td>-9999</td><td>0.753756</td><td>0.0416667</td></tr>\n",
       "\t<tr><th scope=row>6</th><td>2004-01-06</td><td>-0.5205010</td><td>1.45106</td><td>-9999</td><td>1.321320</td><td>0.0208333</td></tr>\n",
       "</tbody>\n",
       "</table>\n"
      ],
      "text/latex": [
       "A data.frame: 6 x 6\n",
       "\\begin{tabular}{r|llllll}\n",
       "  & date & gpp & le & le\\_qc & nee & nee\\_qc\\\\\n",
       "  & <date> & <dbl> & <dbl> & <int> & <dbl> & <dbl>\\\\\n",
       "\\hline\n",
       "\t1 & 2004-01-01 &  0.2187610 & 7.44814 & -9999 & 0.760671 & 0.2500000\\\\\n",
       "\t2 & 2004-01-02 &  0.1229460 & 6.97631 & -9999 & 0.787889 & 0.3333330\\\\\n",
       "\t3 & 2004-01-03 & -0.0692721 & 6.39344 & -9999 & 0.768699 & 0.9583330\\\\\n",
       "\t4 & 2004-01-04 & -0.2037980 & 3.19733 & -9999 & 0.764470 & 0.2083330\\\\\n",
       "\t5 & 2004-01-05 &  0.0421242 & 1.08588 & -9999 & 0.753756 & 0.0416667\\\\\n",
       "\t6 & 2004-01-06 & -0.5205010 & 1.45106 & -9999 & 1.321320 & 0.0208333\\\\\n",
       "\\end{tabular}\n"
      ],
      "text/markdown": [
       "\n",
       "A data.frame: 6 x 6\n",
       "\n",
       "| <!--/--> | date &lt;date&gt; | gpp &lt;dbl&gt; | le &lt;dbl&gt; | le_qc &lt;int&gt; | nee &lt;dbl&gt; | nee_qc &lt;dbl&gt; |\n",
       "|---|---|---|---|---|---|---|\n",
       "| 1 | 2004-01-01 |  0.2187610 | 7.44814 | -9999 | 0.760671 | 0.2500000 |\n",
       "| 2 | 2004-01-02 |  0.1229460 | 6.97631 | -9999 | 0.787889 | 0.3333330 |\n",
       "| 3 | 2004-01-03 | -0.0692721 | 6.39344 | -9999 | 0.768699 | 0.9583330 |\n",
       "| 4 | 2004-01-04 | -0.2037980 | 3.19733 | -9999 | 0.764470 | 0.2083330 |\n",
       "| 5 | 2004-01-05 |  0.0421242 | 1.08588 | -9999 | 0.753756 | 0.0416667 |\n",
       "| 6 | 2004-01-06 | -0.5205010 | 1.45106 | -9999 | 1.321320 | 0.0208333 |\n",
       "\n"
      ],
      "text/plain": [
       "  date       gpp        le      le_qc nee      nee_qc   \n",
       "1 2004-01-01  0.2187610 7.44814 -9999 0.760671 0.2500000\n",
       "2 2004-01-02  0.1229460 6.97631 -9999 0.787889 0.3333330\n",
       "3 2004-01-03 -0.0692721 6.39344 -9999 0.768699 0.9583330\n",
       "4 2004-01-04 -0.2037980 3.19733 -9999 0.764470 0.2083330\n",
       "5 2004-01-05  0.0421242 1.08588 -9999 0.753756 0.0416667\n",
       "6 2004-01-06 -0.5205010 1.45106 -9999 1.321320 0.0208333"
      ]
     },
     "metadata": {},
     "output_type": "display_data"
    }
   ],
   "source": [
    "# This script reads daily precipitation data, processes it,\n",
    "# and writes the result to a CSV file.\n",
    "\n",
    "# ---- Package Installation and Loading ----\n",
    "# Ensure required packages are installed and loaded\n",
    "required_packages <- c(\"dplyr\", \"lubridate\")\n",
    "installed_packages <- rownames(installed.packages())\n",
    "for (pkg in required_packages) {\n",
    "    if (!pkg %in% installed_packages) {\n",
    "        install.packages(pkg, dependencies = TRUE)\n",
    "    }\n",
    "    library(pkg, character.only = TRUE)\n",
    "}\n",
    "\n",
    "# ---- Data Reading ----\n",
    "# Read the daily measurement file (CSV)\n",
    "data <- read.csv(\"../data/FLX_CH-Oe2_FLUXNET2015_FULLSET_2004-2023_1-3/FLX_CH-Oe2_FLUXNET2015_FULLSET_DD_2004-2023_1-3.csv\")\n",
    "\n",
    "\n",
    "# filter gpp, le and nee data\n",
    "gpp_data <- data %>%\n",
    "    select(TIMESTAMP, GPP_NT_VUT_REF, \n",
    "    # GPP_NT_VUT_REF_QC, \n",
    "    LE_F_MDS, LE_F_MDS_QC, NEE_VUT_REF, NEE_VUT_REF_QC)\n",
    "# convert TIMESTAMP to Date type yyyy-mm-dd from YYYYMMDD format\n",
    "gpp_data$TIMESTAMP <- as.Date(as.character(gpp_data$TIMESTAMP), format = \"%Y%m%d\")\n",
    "head(gpp_data)\n",
    "# rename columns for clarity\n",
    "colnames(gpp_data) <- c(\"date\", \"gpp\", \n",
    "                        # \"gpp_qc\", \n",
    "                        \"le\", \"le_qc\", \"nee\", \"nee_qc\")\n",
    "\n",
    "head(gpp_data)  # Preview the first few rows of the GPP data\n",
    "\n",
    "# save to csv file\n",
    "write.csv(gpp_data, \"../data/01_data_prep/08a_gpp.csv\", row.names = FALSE)"
   ]
  }
 ],
 "metadata": {
  "kernelspec": {
   "display_name": "R",
   "language": "R",
   "name": "ir"
  },
  "language_info": {
   "codemirror_mode": "r",
   "file_extension": ".r",
   "mimetype": "text/x-r-source",
   "name": "R",
   "pygments_lexer": "r",
   "version": "4.4.3"
  }
 },
 "nbformat": 4,
 "nbformat_minor": 5
}
