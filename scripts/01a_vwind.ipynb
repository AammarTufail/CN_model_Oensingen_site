{
 "cells": [
  {
   "cell_type": "markdown",
   "id": "8dc4d286",
   "metadata": {},
   "source": [
    "# vwind\n",
    "wind velocity."
   ]
  },
  {
   "cell_type": "code",
   "execution_count": 1,
   "id": "cc995b78",
   "metadata": {
    "vscode": {
     "languageId": "r"
    }
   },
   "outputs": [
    {
     "name": "stderr",
     "output_type": "stream",
     "text": [
      "\n",
      "Attache Paket: 'dplyr'\n",
      "\n",
      "\n",
      "Die folgenden Objekte sind maskiert von 'package:stats':\n",
      "\n",
      "    filter, lag\n",
      "\n",
      "\n",
      "Die folgenden Objekte sind maskiert von 'package:base':\n",
      "\n",
      "    intersect, setdiff, setequal, union\n",
      "\n",
      "\n",
      "\n",
      "Attache Paket: 'lubridate'\n",
      "\n",
      "\n",
      "Die folgenden Objekte sind maskiert von 'package:base':\n",
      "\n",
      "    date, intersect, setdiff, union\n",
      "\n",
      "\n"
     ]
    },
    {
     "data": {
      "text/html": [
       "<table class=\"dataframe\">\n",
       "<caption>A data.frame: 6 x 2</caption>\n",
       "<thead>\n",
       "\t<tr><th></th><th scope=col>TIMESTAMP</th><th scope=col>WS_F</th></tr>\n",
       "\t<tr><th></th><th scope=col>&lt;int&gt;</th><th scope=col>&lt;dbl&gt;</th></tr>\n",
       "</thead>\n",
       "<tbody>\n",
       "\t<tr><th scope=row>1</th><td>20040101</td><td>1.520</td></tr>\n",
       "\t<tr><th scope=row>2</th><td>20040102</td><td>2.022</td></tr>\n",
       "\t<tr><th scope=row>3</th><td>20040103</td><td>2.716</td></tr>\n",
       "\t<tr><th scope=row>4</th><td>20040104</td><td>1.089</td></tr>\n",
       "\t<tr><th scope=row>5</th><td>20040105</td><td>0.675</td></tr>\n",
       "\t<tr><th scope=row>6</th><td>20040106</td><td>0.701</td></tr>\n",
       "</tbody>\n",
       "</table>\n"
      ],
      "text/latex": [
       "A data.frame: 6 x 2\n",
       "\\begin{tabular}{r|ll}\n",
       "  & TIMESTAMP & WS\\_F\\\\\n",
       "  & <int> & <dbl>\\\\\n",
       "\\hline\n",
       "\t1 & 20040101 & 1.520\\\\\n",
       "\t2 & 20040102 & 2.022\\\\\n",
       "\t3 & 20040103 & 2.716\\\\\n",
       "\t4 & 20040104 & 1.089\\\\\n",
       "\t5 & 20040105 & 0.675\\\\\n",
       "\t6 & 20040106 & 0.701\\\\\n",
       "\\end{tabular}\n"
      ],
      "text/markdown": [
       "\n",
       "A data.frame: 6 x 2\n",
       "\n",
       "| <!--/--> | TIMESTAMP &lt;int&gt; | WS_F &lt;dbl&gt; |\n",
       "|---|---|---|\n",
       "| 1 | 20040101 | 1.520 |\n",
       "| 2 | 20040102 | 2.022 |\n",
       "| 3 | 20040103 | 2.716 |\n",
       "| 4 | 20040104 | 1.089 |\n",
       "| 5 | 20040105 | 0.675 |\n",
       "| 6 | 20040106 | 0.701 |\n",
       "\n"
      ],
      "text/plain": [
       "  TIMESTAMP WS_F \n",
       "1 20040101  1.520\n",
       "2 20040102  2.022\n",
       "3 20040103  2.716\n",
       "4 20040104  1.089\n",
       "5 20040105  0.675\n",
       "6 20040106  0.701"
      ]
     },
     "metadata": {},
     "output_type": "display_data"
    },
    {
     "data": {
      "text/html": [
       "<table class=\"dataframe\">\n",
       "<caption>A data.frame: 6 x 2</caption>\n",
       "<thead>\n",
       "\t<tr><th></th><th scope=col>date</th><th scope=col>wind_velocity_ms</th></tr>\n",
       "\t<tr><th></th><th scope=col>&lt;date&gt;</th><th scope=col>&lt;dbl&gt;</th></tr>\n",
       "</thead>\n",
       "<tbody>\n",
       "\t<tr><th scope=row>1</th><td>2004-01-01</td><td>1.520</td></tr>\n",
       "\t<tr><th scope=row>2</th><td>2004-01-02</td><td>2.022</td></tr>\n",
       "\t<tr><th scope=row>3</th><td>2004-01-03</td><td>2.716</td></tr>\n",
       "\t<tr><th scope=row>4</th><td>2004-01-04</td><td>1.089</td></tr>\n",
       "\t<tr><th scope=row>5</th><td>2004-01-05</td><td>0.675</td></tr>\n",
       "\t<tr><th scope=row>6</th><td>2004-01-06</td><td>0.701</td></tr>\n",
       "</tbody>\n",
       "</table>\n"
      ],
      "text/latex": [
       "A data.frame: 6 x 2\n",
       "\\begin{tabular}{r|ll}\n",
       "  & date & wind\\_velocity\\_ms\\\\\n",
       "  & <date> & <dbl>\\\\\n",
       "\\hline\n",
       "\t1 & 2004-01-01 & 1.520\\\\\n",
       "\t2 & 2004-01-02 & 2.022\\\\\n",
       "\t3 & 2004-01-03 & 2.716\\\\\n",
       "\t4 & 2004-01-04 & 1.089\\\\\n",
       "\t5 & 2004-01-05 & 0.675\\\\\n",
       "\t6 & 2004-01-06 & 0.701\\\\\n",
       "\\end{tabular}\n"
      ],
      "text/markdown": [
       "\n",
       "A data.frame: 6 x 2\n",
       "\n",
       "| <!--/--> | date &lt;date&gt; | wind_velocity_ms &lt;dbl&gt; |\n",
       "|---|---|---|\n",
       "| 1 | 2004-01-01 | 1.520 |\n",
       "| 2 | 2004-01-02 | 2.022 |\n",
       "| 3 | 2004-01-03 | 2.716 |\n",
       "| 4 | 2004-01-04 | 1.089 |\n",
       "| 5 | 2004-01-05 | 0.675 |\n",
       "| 6 | 2004-01-06 | 0.701 |\n",
       "\n"
      ],
      "text/plain": [
       "  date       wind_velocity_ms\n",
       "1 2004-01-01 1.520           \n",
       "2 2004-01-02 2.022           \n",
       "3 2004-01-03 2.716           \n",
       "4 2004-01-04 1.089           \n",
       "5 2004-01-05 0.675           \n",
       "6 2004-01-06 0.701           "
      ]
     },
     "metadata": {},
     "output_type": "display_data"
    }
   ],
   "source": [
    "# This script reads daily wind velocity data, processes it,\n",
    "# and writes the result to a CSV file.\n",
    "\n",
    "# ---- Package Installation and Loading ----\n",
    "# Ensure required packages are installed and loaded\n",
    "required_packages <- c(\"dplyr\", \"lubridate\")\n",
    "installed_packages <- rownames(installed.packages())\n",
    "for (pkg in required_packages) {\n",
    "    if (!pkg %in% installed_packages) {\n",
    "        install.packages(pkg, dependencies = TRUE)\n",
    "    }\n",
    "    library(pkg, character.only = TRUE)\n",
    "}\n",
    "\n",
    "# ---- Data Reading ----\n",
    "# Read the daily measurement file (CSV)\n",
    "wind_data <- read.csv(\"../data/FLX_CH-Oe2_FLUXNET2015_FULLSET_2004-2023_1-3/FLX_CH-Oe2_FLUXNET2015_FULLSET_DD_2004-2023_1-3.csv\")\n",
    "\n",
    "# filter data for WS_F variable (wind speed)\n",
    "wind_data <- wind_data %>%\n",
    "    select(TIMESTAMP, WS_F)\n",
    "head(wind_data)\n",
    "# convert TIMESTAMP to Date type yyyy-mm-dd from YYYYMMDD format\n",
    "wind_data$TIMESTAMP <- as.Date(as.character(wind_data$TIMESTAMP), format = \"%Y%m%d\")\n",
    "# rename columns for clarity\n",
    "colnames(wind_data) <- c(\"date\", \"wind_velocity_ms\")\n",
    "head(wind_data)\n",
    "# save to csv file\n",
    "write.csv(wind_data, \"../data/01_data_prep/01a_vwind.csv\", row.names = FALSE)"
   ]
  }
 ],
 "metadata": {
  "kernelspec": {
   "display_name": "R",
   "language": "R",
   "name": "ir"
  },
  "language_info": {
   "codemirror_mode": "r",
   "file_extension": ".r",
   "mimetype": "text/x-r-source",
   "name": "R",
   "pygments_lexer": "r",
   "version": "4.4.3"
  }
 },
 "nbformat": 4,
 "nbformat_minor": 5
}
