{
 "cells": [
  {
   "cell_type": "markdown",
   "id": "0d8dff0d",
   "metadata": {},
   "source": [
    "# Rain\n",
    "P=precipitation mm"
   ]
  },
  {
   "cell_type": "code",
   "execution_count": null,
   "id": "7a4a1282",
   "metadata": {
    "vscode": {
     "languageId": "r"
    }
   },
   "outputs": [
    {
     "data": {
      "text/html": [
       "<table class=\"dataframe\">\n",
       "<caption>A data.frame: 6 x 3</caption>\n",
       "<thead>\n",
       "\t<tr><th></th><th scope=col>TIMESTAMP</th><th scope=col>P_F</th><th scope=col>rain</th></tr>\n",
       "\t<tr><th></th><th scope=col>&lt;int&gt;</th><th scope=col>&lt;dbl&gt;</th><th scope=col>&lt;dbl&gt;</th></tr>\n",
       "</thead>\n",
       "<tbody>\n",
       "\t<tr><th scope=row>1</th><td>20040101</td><td>1.6</td><td>1.851852e-05</td></tr>\n",
       "\t<tr><th scope=row>2</th><td>20040102</td><td>0.5</td><td>5.787037e-06</td></tr>\n",
       "\t<tr><th scope=row>3</th><td>20040103</td><td>0.0</td><td>0.000000e+00</td></tr>\n",
       "\t<tr><th scope=row>4</th><td>20040104</td><td>0.0</td><td>0.000000e+00</td></tr>\n",
       "\t<tr><th scope=row>5</th><td>20040105</td><td>0.0</td><td>0.000000e+00</td></tr>\n",
       "\t<tr><th scope=row>6</th><td>20040106</td><td>0.0</td><td>0.000000e+00</td></tr>\n",
       "</tbody>\n",
       "</table>\n"
      ],
      "text/latex": [
       "A data.frame: 6 x 3\n",
       "\\begin{tabular}{r|lll}\n",
       "  & TIMESTAMP & P\\_F & rain\\\\\n",
       "  & <int> & <dbl> & <dbl>\\\\\n",
       "\\hline\n",
       "\t1 & 20040101 & 1.6 & 1.851852e-05\\\\\n",
       "\t2 & 20040102 & 0.5 & 5.787037e-06\\\\\n",
       "\t3 & 20040103 & 0.0 & 0.000000e+00\\\\\n",
       "\t4 & 20040104 & 0.0 & 0.000000e+00\\\\\n",
       "\t5 & 20040105 & 0.0 & 0.000000e+00\\\\\n",
       "\t6 & 20040106 & 0.0 & 0.000000e+00\\\\\n",
       "\\end{tabular}\n"
      ],
      "text/markdown": [
       "\n",
       "A data.frame: 6 x 3\n",
       "\n",
       "| <!--/--> | TIMESTAMP &lt;int&gt; | P_F &lt;dbl&gt; | rain &lt;dbl&gt; |\n",
       "|---|---|---|---|\n",
       "| 1 | 20040101 | 1.6 | 1.851852e-05 |\n",
       "| 2 | 20040102 | 0.5 | 5.787037e-06 |\n",
       "| 3 | 20040103 | 0.0 | 0.000000e+00 |\n",
       "| 4 | 20040104 | 0.0 | 0.000000e+00 |\n",
       "| 5 | 20040105 | 0.0 | 0.000000e+00 |\n",
       "| 6 | 20040106 | 0.0 | 0.000000e+00 |\n",
       "\n"
      ],
      "text/plain": [
       "  TIMESTAMP P_F rain        \n",
       "1 20040101  1.6 1.851852e-05\n",
       "2 20040102  0.5 5.787037e-06\n",
       "3 20040103  0.0 0.000000e+00\n",
       "4 20040104  0.0 0.000000e+00\n",
       "5 20040105  0.0 0.000000e+00\n",
       "6 20040106  0.0 0.000000e+00"
      ]
     },
     "metadata": {},
     "output_type": "display_data"
    },
    {
     "data": {
      "text/html": [
       "<table class=\"dataframe\">\n",
       "<caption>A data.frame: 6 x 3</caption>\n",
       "<thead>\n",
       "\t<tr><th></th><th scope=col>date</th><th scope=col>rain_mm</th><th scope=col>rain</th></tr>\n",
       "\t<tr><th></th><th scope=col>&lt;date&gt;</th><th scope=col>&lt;dbl&gt;</th><th scope=col>&lt;dbl&gt;</th></tr>\n",
       "</thead>\n",
       "<tbody>\n",
       "\t<tr><th scope=row>1</th><td>2004-01-01</td><td>1.6</td><td>1.851852e-05</td></tr>\n",
       "\t<tr><th scope=row>2</th><td>2004-01-02</td><td>0.5</td><td>5.787037e-06</td></tr>\n",
       "\t<tr><th scope=row>3</th><td>2004-01-03</td><td>0.0</td><td>0.000000e+00</td></tr>\n",
       "\t<tr><th scope=row>4</th><td>2004-01-04</td><td>0.0</td><td>0.000000e+00</td></tr>\n",
       "\t<tr><th scope=row>5</th><td>2004-01-05</td><td>0.0</td><td>0.000000e+00</td></tr>\n",
       "\t<tr><th scope=row>6</th><td>2004-01-06</td><td>0.0</td><td>0.000000e+00</td></tr>\n",
       "</tbody>\n",
       "</table>\n"
      ],
      "text/latex": [
       "A data.frame: 6 x 3\n",
       "\\begin{tabular}{r|lll}\n",
       "  & date & rain\\_mm & rain\\\\\n",
       "  & <date> & <dbl> & <dbl>\\\\\n",
       "\\hline\n",
       "\t1 & 2004-01-01 & 1.6 & 1.851852e-05\\\\\n",
       "\t2 & 2004-01-02 & 0.5 & 5.787037e-06\\\\\n",
       "\t3 & 2004-01-03 & 0.0 & 0.000000e+00\\\\\n",
       "\t4 & 2004-01-04 & 0.0 & 0.000000e+00\\\\\n",
       "\t5 & 2004-01-05 & 0.0 & 0.000000e+00\\\\\n",
       "\t6 & 2004-01-06 & 0.0 & 0.000000e+00\\\\\n",
       "\\end{tabular}\n"
      ],
      "text/markdown": [
       "\n",
       "A data.frame: 6 x 3\n",
       "\n",
       "| <!--/--> | date &lt;date&gt; | rain_mm &lt;dbl&gt; | rain &lt;dbl&gt; |\n",
       "|---|---|---|---|\n",
       "| 1 | 2004-01-01 | 1.6 | 1.851852e-05 |\n",
       "| 2 | 2004-01-02 | 0.5 | 5.787037e-06 |\n",
       "| 3 | 2004-01-03 | 0.0 | 0.000000e+00 |\n",
       "| 4 | 2004-01-04 | 0.0 | 0.000000e+00 |\n",
       "| 5 | 2004-01-05 | 0.0 | 0.000000e+00 |\n",
       "| 6 | 2004-01-06 | 0.0 | 0.000000e+00 |\n",
       "\n"
      ],
      "text/plain": [
       "  date       rain_mm rain        \n",
       "1 2004-01-01 1.6     1.851852e-05\n",
       "2 2004-01-02 0.5     5.787037e-06\n",
       "3 2004-01-03 0.0     0.000000e+00\n",
       "4 2004-01-04 0.0     0.000000e+00\n",
       "5 2004-01-05 0.0     0.000000e+00\n",
       "6 2004-01-06 0.0     0.000000e+00"
      ]
     },
     "metadata": {},
     "output_type": "display_data"
    }
   ],
   "source": [
    "# This script reads daily precipitation data, processes it,\n",
    "# and writes the result to a CSV file.\n",
    "\n",
    "# ---- Package Installation and Loading ----\n",
    "# Ensure required packages are installed and loaded\n",
    "required_packages <- c(\"dplyr\", \"lubridate\")\n",
    "installed_packages <- rownames(installed.packages())\n",
    "for (pkg in required_packages) {\n",
    "    if (!pkg %in% installed_packages) {\n",
    "        install.packages(pkg, dependencies = TRUE)\n",
    "    }\n",
    "    library(pkg, character.only = TRUE)\n",
    "}\n",
    "\n",
    "# ---- Data Reading ----\n",
    "# Read the daily measurement file (CSV)\n",
    "rain_data <- read.csv(\"../data/FLX_CH-Oe2_FLUXNET2015_FULLSET_2004-2023_1-3/FLX_CH-Oe2_FLUXNET2015_FULLSET_DD_2004-2023_1-3.csv\")\n",
    "\n",
    "# filter data for P_F variable (precipitation)\n",
    "rain_data <- rain_data %>%\n",
    "    select(TIMESTAMP, P_F) %>%\n",
    "    # precipitation as water, mean rate over time step (day, 24 hours)\n",
    "    mutate(rain = P_F / (60 * 60 * 24))\n",
    "    \n",
    "head(rain_data)\n",
    "# convert TIMESTAMP to Date type yyyy-mm-dd from YYYYMMDD format\n",
    "rain_data$TIMESTAMP <- as.Date(as.character(rain_data$TIMESTAMP), format = \"%Y%m%d\")\n",
    "# rename columns for clarity\n",
    "colnames(rain_data) <- c(\"date\", \"rain_mm\", \"rain\")\n",
    "head(rain_data)\n",
    "# save to csv file\n",
    "write.csv(rain_data, \"../data/01_data_prep/08_rain.csv\", row.names = FALSE)"
   ]
  }
 ],
 "metadata": {
  "kernelspec": {
   "display_name": "R",
   "language": "R",
   "name": "ir"
  },
  "language_info": {
   "codemirror_mode": "r",
   "file_extension": ".r",
   "mimetype": "text/x-r-source",
   "name": "R",
   "pygments_lexer": "r",
   "version": "4.4.3"
  }
 },
 "nbformat": 4,
 "nbformat_minor": 5
}
