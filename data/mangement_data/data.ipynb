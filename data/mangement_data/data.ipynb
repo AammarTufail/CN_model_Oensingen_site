{
 "cells": [
  {
   "cell_type": "code",
   "execution_count": 6,
   "id": "276a6a54",
   "metadata": {},
   "outputs": [],
   "source": [
    "import pandas as pd\n",
    "\n",
    "# Read the CSV (no header)\n",
    "df = pd.read_csv('04_20choe2_ninput.csv', header=None, names=['date', 'dno3', 'dnh4'])\n",
    "\n",
    "# Convert date column to datetime, skipping the header row\n",
    "df = df.iloc[1:].copy()  # Skip first row which contains headers\n",
    "df['date'] = pd.to_datetime(df['date'])\n",
    "df['dno3'] = pd.to_numeric(df['dno3'])\n",
    "df['dnh4'] = pd.to_numeric(df['dnh4'])\n",
    "\n",
    "# Create full date range\n",
    "full_range = pd.date_range('2021-01-01', '2023-12-31', freq='D')\n",
    "\n",
    "# Handle duplicate dates by taking the mean of duplicate entries\n",
    "df = df.groupby('date').mean()\n",
    "\n",
    "# Set index to date for easy reindexing\n",
    "df = df.set_index('date') if 'date' in df.columns else df\n",
    "\n",
    "# Reindex and fill missing with default values\n",
    "df = df.reindex(full_range)\n",
    "df['dno3'] = df['dno3'].fillna(0.0)\n",
    "df['dnh4'] = df['dnh4'].fillna(4.855691541025568e-07)\n",
    "\n",
    "# Reset index and rename\n",
    "df = df.reset_index().rename(columns={'index': 'date'})\n",
    "\n",
    "# Save back to CSV (no header, no index)\n",
    "df.to_csv('output.csv', header=True, index=False)"
   ]
  }
 ],
 "metadata": {
  "kernelspec": {
   "display_name": "python_ml",
   "language": "python",
   "name": "python3"
  },
  "language_info": {
   "codemirror_mode": {
    "name": "ipython",
    "version": 3
   },
   "file_extension": ".py",
   "mimetype": "text/x-python",
   "name": "python",
   "nbconvert_exporter": "python",
   "pygments_lexer": "ipython3",
   "version": "3.10.16"
  }
 },
 "nbformat": 4,
 "nbformat_minor": 5
}
